{
 "cells": [
  {
   "cell_type": "markdown",
   "metadata": {
    "scrolled": false,
    "tags": [],
    "slideshow": {
     "slide_type": "slide"
    },
    "id": "8D2B161D922A41B08587591AB7434B67",
    "runtime": {
     "status": "default",
     "execution_status": null,
     "is_visible": false
    },
    "notebookId": "6524b1e01ca35e635cc0d344"
   },
   "source": [
    "## 实验：信贷风险管理的Vintage分析  \n",
    "\n",
    "### 实验目标：熟悉基础风控指标，掌握Vintage分析方法  \n",
    "\n",
    "### 实验要求：补全代码中#TODO部分（共6处），画出Vintage曲线图"
   ],
   "id": "379c08d4a9f2e7ec"
  },
  {
   "cell_type": "markdown",
   "metadata": {
    "id": "B8F48DCB94284E04AF676708286BACA4",
    "notebookId": "6524b1e01ca35e635cc0d344",
    "runtime": {
     "status": "default",
     "execution_status": null,
     "is_visible": false
    },
    "scrolled": false,
    "tags": [],
    "slideshow": {
     "slide_type": "slide"
    }
   },
   "source": [
    "## 零、信贷风控规则的回顾  \n",
    "\n",
    "信贷风控的本质是剔除坏客户，保留好客户。因此，类似于自来水厂过滤杂质得到纯净水，其从结果上体现就是以损失一定的流量作为代价，来换取通过流量的纯净性。  \n",
    "\n",
    "如图1所示，信贷风控是上游的阀门，常见的指标就是通过率和逾期率。  \n",
    "* **通过率**表示阀门拧得有多紧  \n",
    "* **逾期率**表示通过流量有多纯净  \n",
    "![Image Name](https://cdn.kesci.com/upload/s21ruycxb8.jpeg)  \n",
    "图 1 - 风控规则作用前后的示意图"
   ],
   "id": "e3d88c413a866cec"
  },
  {
   "cell_type": "markdown",
   "metadata": {
    "id": "6B6DD7257AAB40ED9A275E4933ACF2FF",
    "notebookId": "6524b1e01ca35e635cc0d344",
    "runtime": {
     "status": "default",
     "execution_status": null,
     "is_visible": false
    },
    "scrolled": false,
    "tags": [],
    "slideshow": {
     "slide_type": "slide"
    }
   },
   "source": [
    "### 信贷系统的特点  \n",
    "\n",
    "信贷系统在运行中具有几个特征，如下表所示。正因为信贷系统的高滞后性，在信贷风控系统中，才对决策的稳定性提出了高要求。虽然通过率是立竿见影的，但风险是严重滞后的。每一次策略调整，都有较长的风险表现周期，如果频繁调整则很难分析清楚影响。因此，信贷系统的风险控制确实是一个难题。  \n",
    "\n",
    "| 特征 | 解释 |  \n",
    "| -------- | -------- |  \n",
    "| 高滞后性| 分期还款产品第一期还款日是放款后30天，才能观察到资产的首逾风险。这就存在30天的滞后。以此类推，越是关注长期风险，滞后期越长。因此，短期限信贷产品风险相对于长期限更容易控制，其风险反馈更快。 |  \n",
    "| 多干扰项| 金融监管政策（业务、数据）、外部市场环境、用户客群等因素一直在发生扰动。例如：P2P行业清退、联合贷款政策、数据安全法、24定价限制等等。 |  \n",
    "| 难测量性 |数据监管政策、采集原因等导致很多测量误差。例如，任何多头数据商都无法覆盖所有的金融机构，导致很多决策都只是依赖于当前可测量的数据下进行，可能并不能完全反映客户的真实情况。在小微贷款中，数据缺失现象更为严重。 |  \n",
    "| 可解释性 |国外信贷监管要求决策要可透明，对拒贷规则必须要有明确的原因。这就限制了一些黑盒的机器学习、深度学习模型的使用，而会尽可能使用LR评分卡模型，便于从Reason Code上归因。 |  \n"
   ],
   "id": "6bfb4e30c2a58bad"
  },
  {
   "cell_type": "markdown",
   "metadata": {
    "id": "E874A480BD884C69B69D7D9172EB4FF5",
    "notebookId": "6524b1e01ca35e635cc0d344",
    "runtime": {
     "status": "default",
     "execution_status": null,
     "is_visible": false
    },
    "scrolled": false,
    "tags": [],
    "slideshow": {
     "slide_type": "slide"
    }
   },
   "source": [
    "### 还款监控是监控“水质”情况的重要手段，用到Vintage分析资产质量  \n",
    "\n",
    "阀门的松紧并没有好坏之分，很多时候和企业战略有关：  \n",
    "* 资方限制，资方提供的额度有限，导致上游流量不足  \n",
    "* 市场扩张，为了获取更多的市场份额，需要让更多的流量通过  \n",
    "* 坏账管理，为了减少贷后的坏账损失，需要减少劣质流量的通过  \n",
    "\n",
    "但是通过流量的质量一定是越高越好，影响质量的主要原因有：  \n",
    "* 过滤系统，风控算法越出色，能更精准的识别“坏客户”  \n",
    "* 上游水质，上游的市场投放规则获取的客群决定了源头的水质"
   ],
   "id": "d8b4450063c09b70"
  },
  {
   "cell_type": "markdown",
   "metadata": {
    "id": "B312DA9CE3524F62BD861020B97969E6",
    "notebookId": "6524b1e01ca35e635cc0d344",
    "runtime": {
     "status": "default",
     "execution_status": null,
     "is_visible": false
    },
    "scrolled": false,
    "tags": [],
    "slideshow": {
     "slide_type": "slide"
    }
   },
   "source": [
    "### 参考文章  \n",
    "https://zhuanlan.zhihu.com/p/149978781  \n",
    "https://zhuanlan.zhihu.com/p/81027037  \n",
    "https://zhuanlan.zhihu.com/p/163206686  "
   ],
   "id": "7c37da378defd191"
  },
  {
   "cell_type": "markdown",
   "metadata": {
    "scrolled": false,
    "tags": [],
    "slideshow": {
     "slide_type": "slide"
    },
    "id": "B413FA96379F42158DDFD7594EF3DA15",
    "runtime": {
     "status": "default",
     "execution_status": null,
     "is_visible": false
    },
    "notebookId": "6524b1e01ca35e635cc0d344"
   },
   "source": [
    "## 一、基础风控指标  \n",
    "\n",
    "### 1. 帐龄（Month on Book，MOB）  \n",
    "\n",
    "指资产放款月份。类似于婴孩一出生就有了年龄，一旦申请贷款订单被放款，便拥有了账龄和生命周期。  \n",
    "\n",
    "MOB0：放款日至当月月底  \n",
    "MOB1：放款后第二个完整的月份  \n",
    "MOB2：放款后第三个完整的月份  \n",
    "MOB的最大值取决于信贷产品期限。如果是12期产品，那么该资产的生命周期是12期，MOB最大到MOB12。  \n",
    "\n",
    "例如，2022年11月13日放款的订单，2022年11月是MOB0，2022年12月是MOB1，以此类推。  \n",
    "\n",
    "### 2. 逾期天数（Days Past Due，DPD）  \n",
    "\n",
    "逾期天数 = 实际还款日 - 应还款日。  \n",
    "\n",
    "DPDN+表示逾期天数 >= N天，如DPD30+表示逾期天数 >=30天的资产  \n",
    "\n",
    "例如，若还款日是每月8号，那么9号就是逾期第一天。如果客户在10号还款，那么逾期2天。  \n",
    "\n",
    "### 3. 逾期期数（M）  \n",
    "\n",
    "指实际还款日与应还款日之间的逾期天数，并按区间划分后的逾期状态。M取自Month on Book的第一个单词。  \n",
    "（注：不同机构所定义的区间划分可能存在差异）  \n",
    "\n",
    "M0：当前未逾期（或用C表示，取自Current）  \n",
    "M1： 逾期1-30日  \n",
    "M2：逾期31-60日  \n",
    "M3：逾期61-90日  \n",
    "M4：逾期91-120日  \n",
    "M5：逾期121-150日  \n",
    "M6：逾期151-180日  \n",
    "M7：逾期180日以上。此时也被称为呆账（Bad Debts），会予以注销账户（write-off）  \n"
   ],
   "id": "cb74b689455d934c"
  },
  {
   "cell_type": "markdown",
   "metadata": {
    "scrolled": false,
    "tags": [],
    "slideshow": {
     "slide_type": "slide"
    },
    "id": "48B7FD0BA9DB4035AC394260DB4EE91F",
    "runtime": {
     "status": "default",
     "execution_status": null,
     "is_visible": false
    },
    "notebookId": "6524b1e01ca35e635cc0d344"
   },
   "source": [
    "## 二、什么是 Vintage 分析  \n",
    "Vintage一词最初来源于葡萄酒业 。由于每年采摘的葡萄会受到日照、气温、降水等因素的影响，最终酿造的葡萄酒品质会存在差异。在窖藏一定年份后，葡萄酒的品质将趋于稳定，也就是品质成熟，这段年份数被称为成熟期（maturity）。  \n",
    "\n",
    "简便起见，我们以酒精浓度作为衡量葡萄酒品质的标准，约定：浓度越高，品质越好。首先，记录入窖年份作为该批次葡萄酒的标签，这也被称为Vintage或者Cohort。之后，将每年定期抽样测量酒精浓度，保存记录数据，如图1所示。  \n",
    "\n",
    "经过几年的数据积累，我们就可以绘制出酒精浓度随时间变化的Vintage曲线。俗话说，酒越酿越醇，Vintage曲线通常是单调递增的，  \n",
    "\n",
    "\n",
    "![Image Name](https://cdn.kesci.com/upload/s1zxxhjo3q.jpg)  \n",
    "图 2 - 葡萄酒的Vintage曲线"
   ],
   "id": "e9c4b9910a9b536"
  },
  {
   "cell_type": "markdown",
   "metadata": {
    "id": "E856518484A9428EBF50EAD8AD6C4CC2",
    "notebookId": "6524b1e01ca35e635cc0d344",
    "runtime": {
     "status": "default",
     "execution_status": null,
     "is_visible": false
    },
    "scrolled": false,
    "tags": [],
    "slideshow": {
     "slide_type": "slide"
    }
   },
   "source": [
    "我们可以利用Vintage曲线做什么呢？如图3所示，主要用途包括：  \n",
    "\n",
    "**分析变化规律**：评估不同年份的葡萄酒的品质随着窖藏时间推移的变化规律。某些年份的葡萄酒浓度在入窖第1年就能达到较高的水平，但上升缓慢；有些起点低，但上升快 。  \n",
    "**确定最终品质**：Vintage曲线最终稳定值，表明了这批葡萄酒的最终酒精浓度 。  \n",
    "**确定成熟期**：由图2可知，在入窖第6年后，酒精浓度稳定不变，可以确定成熟期是6年，我们最早在第6年就可以开桶品尝 。  \n",
    "**分析影响因素**：根据Vintage曲线特征，我们可以分析某个年份的葡萄所受到的环境影响因素，从而改善生产工艺。比如，由于某一年的光照不充分，糖分积累少，酒精浓度可能最终就比较低。  \n",
    "\n",
    "\n",
    "![Image Name](https://cdn.kesci.com/upload/s1zy2pyuat.jpg)  \n",
    "图 3 - 葡萄酒的Vintage分析"
   ],
   "id": "690524c1fd6b39fe"
  },
  {
   "cell_type": "markdown",
   "metadata": {
    "id": "9A72DF0D22BB4356985D2F935FD4DC06",
    "notebookId": "6524b1e01ca35e635cc0d344",
    "runtime": {
     "status": "default",
     "execution_status": null,
     "is_visible": false
    },
    "scrolled": false,
    "tags": [],
    "slideshow": {
     "slide_type": "slide"
    }
   },
   "source": [
    "在信贷领域中，我们也可以用Vintage曲线分析资产（portfolio）质量的成熟过程变化规律。为更容易理解，在此列举了Vintage分析过程中两个领域的对应关系，如图4所示。  \n",
    "\n",
    "\n",
    "![Image Name](https://cdn.kesci.com/upload/s1zy4lrlws.jpg)  \n",
    "图 4 - 葡萄酒和信贷行业的Vintage对比"
   ],
   "id": "512b57ba09808ff4"
  },
  {
   "cell_type": "markdown",
   "metadata": {
    "id": "B1D880B29CBB43B4AEB2E2A8D75FBC99",
    "notebookId": "6524b1e01ca35e635cc0d344",
    "runtime": {
     "status": "default",
     "execution_status": null,
     "is_visible": false
    },
    "scrolled": false,
    "tags": [],
    "slideshow": {
     "slide_type": "slide"
    }
   },
   "source": [
    "遵循同样的分析思路，如图5所示，按**账龄（MOB）**长短对齐后，我们可以分析同一产品不同时期放款的资产质量。  \n",
    "\n",
    "**确定资产质量**：一般以逾期率来定义资产质量，也就是**曲线平缓后对应的逾期率**。  \n",
    "**分析变化规律**：资产质量（例如逾期率指标）的变化情况，如果前几期逾期率上升很快，那么说明短期风险没有捕捉住，欺诈风险较高；反之，如果曲线一直在上升，说明信用风险识别能力不佳。  \n",
    "**确定账户成熟期**：用来判断客户展现好坏的时间因素，从而帮助定义表现期。  \n",
    "**分析影响因素**：风控策略收紧或放松、客群变化、市场环境、政策法规等都会影响资产质量。分析影响因素，可以用来指导风控策略的调整。"
   ],
   "id": "5ab511c788de9749"
  },
  {
   "cell_type": "markdown",
   "metadata": {
    "id": "65E36C8AF2854949A73C0077B2B53375",
    "notebookId": "6524b1e01ca35e635cc0d344",
    "runtime": {
     "status": "default",
     "execution_status": null,
     "is_visible": false
    },
    "scrolled": false,
    "tags": [],
    "slideshow": {
     "slide_type": "slide"
    }
   },
   "source": [
    "### 观察期和表现期  \n",
    "\n",
    "**观察点（Observation Point）**：并非是一个具体的时间点，而是一个时间区间，表示的是客户申请贷款的时间。在该时间段申请的客户可能会是我们用来建模的样本 。（提示：为什么用“可能”这个描述，因为还需剔除一些强规则命中的异常样本，这部分样本将不会加入建模）  \n",
    "\n",
    "**观察期（Observation Window）**：用以构造特征X的时间窗口。相对于观察点而言，是历史时间。观察期的选择依赖于用户数据的厚薄程度。通常数据越厚，可提取的信息也就越全面、可靠。  \n",
    "\n",
    "**表现期（Performance Window）**：定义好坏标签Y的时间窗口。相对于观察点而言，是未来时间。由于风险需要有一定时间窗才能表现出来，因此信贷风险具有滞后性。表现期的长短可以通过Vintage分析和滚动率分析来确定。  \n",
    "\n",
    "如果以逾期率来定义资产质量，那么逾期风险（目标变量Y）是如何定义的？如何确定表现期是M3，还是M6？ 这也是本实验要回答的问题。  \n",
    "\n",
    "**首先，我们来分析为什么要确定账户的表现期？**  \n",
    "\n",
    "因为表现期越长，信用风险暴露将越彻底，但也意味着观察期离当前越远，用以提取样本特征的历史数据将越陈旧，建模样本和未来样本的差异也越大。反之，表现期越短，风险还未暴露完全，但好处是能用到更近的样本。  \n",
    "\n",
    "例如，对于一个12期分期还款的信贷产品，理论上当用户在12期结束，并还清所有的钱后，我们才能定义为绝对的好客户；反之，我们只能说到目前为止是一个好客户，但并不能知道未来几期用户会不会逾期不还钱。  \n",
    "\n",
    "因此，我们需要确定一个合适的表现期能覆盖足够多的坏客户即可。"
   ],
   "id": "5ad29b023682edda"
  },
  {
   "cell_type": "markdown",
   "metadata": {
    "id": "C4852E4529824FFA973B844F561438A4",
    "notebookId": "6524b1e01ca35e635cc0d344",
    "runtime": {
     "status": "default",
     "execution_status": null,
     "is_visible": false
    },
    "scrolled": false,
    "tags": [],
    "slideshow": {
     "slide_type": "slide"
    }
   },
   "source": [
    "### 账户成熟期  \n",
    "\n",
    "![Image Name](https://cdn.kesci.com/upload/s20dd0g7a6.jpg)  \n",
    "图 5 - 某12期信贷产品2018年的Vintage曲线  \n",
    "\n",
    "根据图5的信贷产品Vintage曲线，我们可以得到哪些信息呢？  \n",
    "\n",
    "**账龄**最长为12个月，代表产品期限为12期。随着12期结束，账户的生命周期走到尽头。  \n",
    "**账龄**MOB1、MOB2、MOB3的**逾期率**都为0，说明**逾期指标**为M4+（逾期超过90天）风险。  \n",
    "由放贷月份从2018年1月～12月的账户的最终**逾期率**都在降低，说明资产质量在不断提升，可能是因为风控水平在不断提升。  \n",
    "2018年5月相对于2018年1～4月的**逾期率**大幅度下降，说明该阶段风控策略提升明显。  \n",
    "不同月份放款的M4+在经过9个MOB后开始趋于稳定，说明**账户成熟期**是9个月。"
   ],
   "id": "555feab07bec01d7"
  },
  {
   "cell_type": "markdown",
   "metadata": {
    "id": "B5358A7BF540440294C37BDF1E56743E",
    "notebookId": "6524b1e01ca35e635cc0d344",
    "runtime": {
     "status": "default",
     "execution_status": null,
     "is_visible": false
    },
    "scrolled": false,
    "tags": [],
    "slideshow": {
     "slide_type": "slide"
    }
   },
   "source": [
    "绘制Vintage曲线时，不得不提到纵坐标中逾期率的定义。通常有两种计算口径：  \n",
    "\n",
    "第一种，**订单口径**，**逾期率 = 逾期订单数 / 总放贷订单数**  \n",
    "第二种，**金额口径**，**逾期率 = 逾期剩余本金 / 总放贷本金**  \n",
    "\n",
    "目前互联网金融各家机构的口径定义存在差异，因此仅仅根据各家发布的Vintage曲线，有时并不能客观分析资产质量和风控水平。  \n",
    "\n",
    "**本实验数据属于第一种，基于金融机构的信用卡账单数的计算口径。**"
   ],
   "id": "a42649322d91b771"
  },
  {
   "cell_type": "markdown",
   "metadata": {
    "id": "D12AEDB157F34C338BAE3AD9C9C04D20",
    "notebookId": "6524b1e01ca35e635cc0d344",
    "runtime": {
     "status": "default",
     "execution_status": null,
     "is_visible": false
    },
    "scrolled": false,
    "tags": [],
    "slideshow": {
     "slide_type": "slide"
    }
   },
   "source": [
    "## 三、项目实训"
   ],
   "id": "3980042a84d1e8c0"
  },
  {
   "cell_type": "markdown",
   "metadata": {
    "id": "9BAAF1FAE894447CB1D6519CADDF07F0",
    "notebookId": "6524b1e01ca35e635cc0d344",
    "runtime": {
     "status": "default",
     "execution_status": null,
     "is_visible": false
    },
    "scrolled": false,
    "tags": [],
    "slideshow": {
     "slide_type": "slide"
    }
   },
   "source": [
    "### 数据字典  \n",
    "\n",
    "数据来源：Credit Card Approval Prediction  \n",
    "https://www.kaggle.com/datasets/rikdifos/credit-card-approval-prediction"
   ],
   "id": "4c5394fa60f47627"
  },
  {
   "cell_type": "code",
   "metadata": {
    "collapsed": false,
    "scrolled": false,
    "tags": [],
    "slideshow": {
     "slide_type": "slide"
    },
    "id": "4F83F747EDC8423EA811570DD90FA3E5",
    "notebookId": "6524b1e01ca35e635cc0d344",
    "trusted": true,
    "ExecuteTime": {
     "end_time": "2023-10-12T13:29:08.588372900Z",
     "start_time": "2023-10-12T13:29:08.343848500Z"
    }
   },
   "source": [
    "# 信用卡账单记录表的属性名称\n",
    "credit_record_dict = {\n",
    " 'ID': '客户ID', \n",
    " 'MONTHS_BALANCE': '记录月份',  # 已抽取数据月份（观察点）为起点，向前倒退，0为当月，-1为前一个月，依次类推\n",
    " 'STATUS': '历史逾期状态'  # 0:1-29 天逾期 1:30-59 天逾期 2:60-89 天逾期 3:90-119 天逾期 4:120-149 天逾期 \n",
    "                         # 5:150天以上逾期或坏账、核销 C: 当月已还清 X: 当月无借款\n",
    "}"
   ],
   "outputs": [],
   "execution_count": 123,
   "id": "ec49903dabfeee1a"
  },
  {
   "cell_type": "markdown",
   "metadata": {
    "id": "B85FA1C964414CD5AE34AE6A9558BE08",
    "notebookId": "6524b1e01ca35e635cc0d344",
    "runtime": {
     "status": "default",
     "execution_status": null,
     "is_visible": false
    },
    "scrolled": false,
    "tags": [],
    "slideshow": {
     "slide_type": "slide"
    }
   },
   "source": [
    "### 1. 数据读取"
   ],
   "id": "611964d6fe702af3"
  },
  {
   "cell_type": "code",
   "metadata": {
    "collapsed": false,
    "scrolled": false,
    "tags": [],
    "slideshow": {
     "slide_type": "slide"
    },
    "id": "40926F3607B54AC59380FDAA9A80203A",
    "notebookId": "6524b1e01ca35e635cc0d344",
    "trusted": true,
    "ExecuteTime": {
     "end_time": "2023-10-12T13:29:08.633190300Z",
     "start_time": "2023-10-12T13:29:08.350895400Z"
    }
   },
   "source": [
    "import os\n",
    "import numpy as np\n",
    "import pandas as pd\n",
    "import matplotlib.pyplot as plt"
   ],
   "outputs": [],
   "execution_count": 124,
   "id": "252bf72ba186acce"
  },
  {
   "cell_type": "code",
   "metadata": {
    "collapsed": false,
    "scrolled": false,
    "tags": [],
    "slideshow": {
     "slide_type": "slide"
    },
    "id": "F85A2113F53349879627E88F639D3188",
    "notebookId": "6524b1e01ca35e635cc0d344",
    "trusted": true,
    "ExecuteTime": {
     "end_time": "2023-10-12T13:29:09.155944100Z",
     "start_time": "2023-10-12T13:29:08.355218900Z"
    }
   },
   "source": [
    "# 数据所在路径(如果有问题请检查或更新为自己的数据存储路径)\n",
    "dataset_path = 'credit_record.csv'\n",
    "# 信贷记录表（客户信用卡账单的历史逾期记录）\n",
    "credit_record_df = pd.read_csv('credit_record.csv')\n",
    "credit_record_df.shape[0]"
   ],
   "outputs": [
    {
     "data": {
      "text/plain": "1048575"
     },
     "execution_count": 125,
     "metadata": {},
     "output_type": "execute_result"
    }
   ],
   "execution_count": 125,
   "id": "de7f5c40de1c9cb8"
  },
  {
   "cell_type": "code",
   "metadata": {
    "collapsed": false,
    "scrolled": false,
    "tags": [],
    "slideshow": {
     "slide_type": "slide"
    },
    "id": "4329D5147C9E49BEA809D0F55D9B58AD",
    "notebookId": "6524b1e01ca35e635cc0d344",
    "trusted": true,
    "ExecuteTime": {
     "end_time": "2023-10-12T13:29:09.156941400Z",
     "start_time": "2023-10-12T13:29:08.552560100Z"
    }
   },
   "source": [
    "credit_record_df.head(10)"
   ],
   "outputs": [
    {
     "data": {
      "text/plain": "        ID  MONTHS_BALANCE STATUS\n0  5001711               0      X\n1  5001711              -1      0\n2  5001711              -2      0\n3  5001711              -3      0\n4  5001712               0      C\n5  5001712              -1      C\n6  5001712              -2      C\n7  5001712              -3      C\n8  5001712              -4      C\n9  5001712              -5      C",
      "text/html": "<div>\n<style scoped>\n    .dataframe tbody tr th:only-of-type {\n        vertical-align: middle;\n    }\n\n    .dataframe tbody tr th {\n        vertical-align: top;\n    }\n\n    .dataframe thead th {\n        text-align: right;\n    }\n</style>\n<table border=\"1\" class=\"dataframe\">\n  <thead>\n    <tr style=\"text-align: right;\">\n      <th></th>\n      <th>ID</th>\n      <th>MONTHS_BALANCE</th>\n      <th>STATUS</th>\n    </tr>\n  </thead>\n  <tbody>\n    <tr>\n      <th>0</th>\n      <td>5001711</td>\n      <td>0</td>\n      <td>X</td>\n    </tr>\n    <tr>\n      <th>1</th>\n      <td>5001711</td>\n      <td>-1</td>\n      <td>0</td>\n    </tr>\n    <tr>\n      <th>2</th>\n      <td>5001711</td>\n      <td>-2</td>\n      <td>0</td>\n    </tr>\n    <tr>\n      <th>3</th>\n      <td>5001711</td>\n      <td>-3</td>\n      <td>0</td>\n    </tr>\n    <tr>\n      <th>4</th>\n      <td>5001712</td>\n      <td>0</td>\n      <td>C</td>\n    </tr>\n    <tr>\n      <th>5</th>\n      <td>5001712</td>\n      <td>-1</td>\n      <td>C</td>\n    </tr>\n    <tr>\n      <th>6</th>\n      <td>5001712</td>\n      <td>-2</td>\n      <td>C</td>\n    </tr>\n    <tr>\n      <th>7</th>\n      <td>5001712</td>\n      <td>-3</td>\n      <td>C</td>\n    </tr>\n    <tr>\n      <th>8</th>\n      <td>5001712</td>\n      <td>-4</td>\n      <td>C</td>\n    </tr>\n    <tr>\n      <th>9</th>\n      <td>5001712</td>\n      <td>-5</td>\n      <td>C</td>\n    </tr>\n  </tbody>\n</table>\n</div>"
     },
     "execution_count": 126,
     "metadata": {},
     "output_type": "execute_result"
    }
   ],
   "execution_count": 126,
   "id": "538ea9465461833d"
  },
  {
   "cell_type": "code",
   "metadata": {
    "id": "007859A99D7E44F5BFCAC72AF8595C3F",
    "notebookId": "6524b1e01ca35e635cc0d344",
    "collapsed": false,
    "scrolled": false,
    "tags": [],
    "slideshow": {
     "slide_type": "slide"
    },
    "trusted": true,
    "ExecuteTime": {
     "end_time": "2023-10-12T13:29:09.159932900Z",
     "start_time": "2023-10-12T13:29:08.563440Z"
    }
   },
   "source": [
    "# 借款状态的数据分布统计\n",
    "# 0:1-29 天逾期，M1\n",
    "# 1:30-59 天逾期，M2\n",
    "# 2:60-89 天逾期，M3\n",
    "# 3:90-119 天逾期，M4 \n",
    "# 4:120-149 天逾期，M5 \n",
    "# 5:150天以上逾期或坏账、核销，M6 \n",
    "# C: 当月已还清，M0 \n",
    "# X: 当月无借款\n",
    "credit_record_df['STATUS'].value_counts()"
   ],
   "outputs": [
    {
     "data": {
      "text/plain": "STATUS\nC    442031\n0    383120\nX    209230\n1     11090\n5      1693\n2       868\n3       320\n4       223\nName: count, dtype: int64"
     },
     "execution_count": 127,
     "metadata": {},
     "output_type": "execute_result"
    }
   ],
   "execution_count": 127,
   "id": "4a849026b1dd697"
  },
  {
   "cell_type": "raw",
   "id": "5705595d-2ed6-4c96-90bd-3131007eecea",
   "metadata": {
    "collapsed": false,
    "scrolled": false,
    "tags": [],
    "slideshow": {
     "slide_type": "slide"
    },
    "id": "571485512B6547BB959ABE6DEC781EDE",
    "runtime": {
     "status": "default",
     "execution_status": null,
     "is_visible": false
    },
    "notebookId": "6524b1e01ca35e635cc0d344"
   },
   "source": [
    "credit_record_df = credit_record_df.rename(columns=credit_record_dict)\n",
    "application_record_df = application_record_df.rename(columns=application_record_dict)"
   ],
   "outputs": [],
   "execution_count": null,
   "prompt": null
  },
  {
   "cell_type": "markdown",
   "metadata": {
    "scrolled": false,
    "tags": [],
    "slideshow": {
     "slide_type": "slide"
    },
    "id": "372F36A3FEB24F0C97488057818CB8D3",
    "runtime": {
     "status": "default",
     "execution_status": null,
     "is_visible": false
    },
    "notebookId": "6524b1e01ca35e635cc0d344"
   },
   "source": [
    "### 2. 数据检查  \n",
    "#### 检查表中各字段有无错误数据(不符合输入要求)"
   ],
   "id": "1f8ec70e5df7dd89"
  },
  {
   "cell_type": "code",
   "metadata": {
    "tags": [],
    "collapsed": false,
    "scrolled": false,
    "slideshow": {
     "slide_type": "slide"
    },
    "id": "A9F5CC825EEA44D1932BD2D87A9E097B",
    "notebookId": "6524b1e01ca35e635cc0d344",
    "trusted": true,
    "ExecuteTime": {
     "end_time": "2023-10-12T13:29:09.160930200Z",
     "start_time": "2023-10-12T13:29:08.598250800Z"
    }
   },
   "source": [
    "for i in credit_record_df.columns:\n",
    "    print(i, credit_record_df[i].unique())"
   ],
   "outputs": [
    {
     "name": "stdout",
     "output_type": "stream",
     "text": [
      "ID [5001711 5001712 5001713 ... 5150484 5150485 5150487]\n",
      "MONTHS_BALANCE [  0  -1  -2  -3  -4  -5  -6  -7  -8  -9 -10 -11 -12 -13 -14 -15 -16 -17\n",
      " -18 -19 -20 -21 -22 -23 -24 -25 -26 -27 -28 -29 -30 -31 -32 -33 -34 -35\n",
      " -36 -37 -38 -39 -40 -41 -42 -43 -44 -45 -46 -47 -48 -49 -50 -51 -52 -53\n",
      " -54 -55 -56 -57 -58 -59 -60]\n",
      "STATUS ['X' '0' 'C' '1' '2' '3' '4' '5']\n"
     ]
    }
   ],
   "execution_count": 128,
   "id": "97bee5b3b530797b"
  },
  {
   "cell_type": "markdown",
   "metadata": {
    "tags": [],
    "scrolled": false,
    "slideshow": {
     "slide_type": "slide"
    },
    "id": "C3B212A1E7BF42EDAC0FB113AD5C22FD",
    "runtime": {
     "status": "default",
     "execution_status": null,
     "is_visible": false
    },
    "notebookId": "6524b1e01ca35e635cc0d344"
   },
   "source": [
    "##### 检查表中的客户数量"
   ],
   "id": "f61c02bcc9d043a7"
  },
  {
   "cell_type": "code",
   "metadata": {
    "collapsed": false,
    "scrolled": false,
    "tags": [],
    "slideshow": {
     "slide_type": "slide"
    },
    "id": "D1D445B1D3CA42C59402AAF20DD5758C",
    "notebookId": "6524b1e01ca35e635cc0d344",
    "trusted": true,
    "ExecuteTime": {
     "end_time": "2023-10-12T13:29:09.160930200Z",
     "start_time": "2023-10-12T13:29:08.653370500Z"
    }
   },
   "source": [
    "credit_record_df['ID'].nunique()"
   ],
   "outputs": [
    {
     "data": {
      "text/plain": "45985"
     },
     "execution_count": 129,
     "metadata": {},
     "output_type": "execute_result"
    }
   ],
   "execution_count": 129,
   "id": "5422e9adffeadd13"
  },
  {
   "cell_type": "markdown",
   "metadata": {
    "id": "08E36E19D6FA45FE81E93F004C6716EC",
    "notebookId": "6524b1e01ca35e635cc0d344",
    "runtime": {
     "status": "default",
     "execution_status": null,
     "is_visible": false
    },
    "scrolled": false,
    "tags": [],
    "slideshow": {
     "slide_type": "slide"
    }
   },
   "source": [
    "#### 分组聚合"
   ],
   "id": "37dffec66f996533"
  },
  {
   "cell_type": "code",
   "metadata": {
    "collapsed": false,
    "scrolled": false,
    "tags": [],
    "slideshow": {
     "slide_type": "slide"
    },
    "id": "242719D45A2C4B7AB2DD9ABCDF7C2025",
    "notebookId": "6524b1e01ca35e635cc0d344",
    "trusted": true,
    "ExecuteTime": {
     "end_time": "2023-10-12T13:33:26.566680200Z",
     "start_time": "2023-10-12T13:33:26.552721700Z"
    }
   },
   "source": [
    "# 按客户分组\n",
    "credit_grouped_df = credit_record_df.groupby('ID')\n",
    "credit_grouped_df"
   ],
   "outputs": [
    {
     "data": {
      "text/plain": "<pandas.core.groupby.generic.DataFrameGroupBy object at 0x0000024A9F36CDD0>"
     },
     "execution_count": 166,
     "metadata": {},
     "output_type": "execute_result"
    }
   ],
   "execution_count": 166,
   "id": "f1f3befbf8804280"
  },
  {
   "cell_type": "markdown",
   "metadata": {
    "id": "D847F801EBC2450889CD4E422D36B29C",
    "notebookId": "6524b1e01ca35e635cc0d344",
    "runtime": {
     "status": "default",
     "execution_status": null,
     "is_visible": false
    },
    "scrolled": false,
    "tags": [],
    "slideshow": {
     "slide_type": "slide"
    }
   },
   "source": [
    "#### ToDo #1"
   ],
   "id": "f0bd38e8398c1175"
  },
  {
   "cell_type": "code",
   "metadata": {
    "collapsed": false,
    "scrolled": false,
    "tags": [],
    "slideshow": {
     "slide_type": "slide"
    },
    "id": "118A5B6B53544F05AA9BA2F9976DA2DA",
    "notebookId": "6524b1e01ca35e635cc0d344",
    "trusted": true,
    "ExecuteTime": {
     "end_time": "2023-10-12T13:37:50.350812500Z",
     "start_time": "2023-10-12T13:37:50.320268200Z"
    }
   },
   "source": [
    "# 获取客户信用卡账单的最大、最小月数，从而进一步数据探索\n",
    "credit_pivot_df = pd.DataFrame()\n",
    "# TODO\n",
    "# 提示：基于credit_grouped_df的操作\n",
    "credit_pivot_df['MIN_MONTH'] =credit_grouped_df.MONTHS_BALANCE.min()\n",
    "credit_pivot_df['MAX_MONTH'] =credit_grouped_df.MONTHS_BALANCE.max()\n",
    "# 通过上面获得的属性计算观察期\n",
    "credit_pivot_df['PERIODS'] = credit_pivot_df['MAX_MONTH'] - credit_pivot_df['MIN_MONTH'] + 1"
   ],
   "outputs": [],
   "execution_count": 169,
   "id": "82e4ed858e2ed071"
  },
  {
   "cell_type": "code",
   "metadata": {
    "collapsed": false,
    "scrolled": false,
    "tags": [],
    "slideshow": {
     "slide_type": "slide"
    },
    "id": "245EC4E10A4540F0BFF619B1BE5AC138",
    "notebookId": "6524b1e01ca35e635cc0d344",
    "trusted": true,
    "ExecuteTime": {
     "end_time": "2023-10-12T13:37:56.747170400Z",
     "start_time": "2023-10-12T13:37:56.729206900Z"
    }
   },
   "source": [
    "credit_pivot_df = credit_pivot_df.reset_index()\n",
    "credit_pivot_df.tail(10)"
   ],
   "outputs": [
    {
     "data": {
      "text/plain": "            ID  MIN_MONTH  MAX_MONTH  PERIODS\n45975  5150477        -20          0       21\n45976  5150478        -13          0       14\n45977  5150479         -8          0        9\n45978  5150480        -49        -24       26\n45979  5150481        -42          0       43\n45980  5150482        -28        -11       18\n45981  5150483        -17          0       18\n45982  5150484        -12          0       13\n45983  5150485         -1          0        2\n45984  5150487        -29          0       30",
      "text/html": "<div>\n<style scoped>\n    .dataframe tbody tr th:only-of-type {\n        vertical-align: middle;\n    }\n\n    .dataframe tbody tr th {\n        vertical-align: top;\n    }\n\n    .dataframe thead th {\n        text-align: right;\n    }\n</style>\n<table border=\"1\" class=\"dataframe\">\n  <thead>\n    <tr style=\"text-align: right;\">\n      <th></th>\n      <th>ID</th>\n      <th>MIN_MONTH</th>\n      <th>MAX_MONTH</th>\n      <th>PERIODS</th>\n    </tr>\n  </thead>\n  <tbody>\n    <tr>\n      <th>45975</th>\n      <td>5150477</td>\n      <td>-20</td>\n      <td>0</td>\n      <td>21</td>\n    </tr>\n    <tr>\n      <th>45976</th>\n      <td>5150478</td>\n      <td>-13</td>\n      <td>0</td>\n      <td>14</td>\n    </tr>\n    <tr>\n      <th>45977</th>\n      <td>5150479</td>\n      <td>-8</td>\n      <td>0</td>\n      <td>9</td>\n    </tr>\n    <tr>\n      <th>45978</th>\n      <td>5150480</td>\n      <td>-49</td>\n      <td>-24</td>\n      <td>26</td>\n    </tr>\n    <tr>\n      <th>45979</th>\n      <td>5150481</td>\n      <td>-42</td>\n      <td>0</td>\n      <td>43</td>\n    </tr>\n    <tr>\n      <th>45980</th>\n      <td>5150482</td>\n      <td>-28</td>\n      <td>-11</td>\n      <td>18</td>\n    </tr>\n    <tr>\n      <th>45981</th>\n      <td>5150483</td>\n      <td>-17</td>\n      <td>0</td>\n      <td>18</td>\n    </tr>\n    <tr>\n      <th>45982</th>\n      <td>5150484</td>\n      <td>-12</td>\n      <td>0</td>\n      <td>13</td>\n    </tr>\n    <tr>\n      <th>45983</th>\n      <td>5150485</td>\n      <td>-1</td>\n      <td>0</td>\n      <td>2</td>\n    </tr>\n    <tr>\n      <th>45984</th>\n      <td>5150487</td>\n      <td>-29</td>\n      <td>0</td>\n      <td>30</td>\n    </tr>\n  </tbody>\n</table>\n</div>"
     },
     "execution_count": 170,
     "metadata": {},
     "output_type": "execute_result"
    }
   ],
   "execution_count": 170,
   "id": "fe4abc9305b1ca04"
  },
  {
   "cell_type": "markdown",
   "metadata": {
    "id": "DBBDC4E2C27C47209911B192EEDCD001",
    "notebookId": "6524b1e01ca35e635cc0d344",
    "runtime": {
     "status": "default",
     "execution_status": null,
     "is_visible": false
    },
    "scrolled": false,
    "tags": [],
    "slideshow": {
     "slide_type": "slide"
    }
   },
   "source": [
    "#### 数据合并"
   ],
   "id": "1c397d6024bd8578"
  },
  {
   "cell_type": "code",
   "metadata": {
    "collapsed": false,
    "scrolled": false,
    "tags": [],
    "slideshow": {
     "slide_type": "slide"
    },
    "id": "3D5A03D911514910B810A0BDCDF1B22F",
    "notebookId": "6524b1e01ca35e635cc0d344",
    "trusted": true,
    "ExecuteTime": {
     "end_time": "2023-10-12T13:29:09.172901400Z",
     "start_time": "2023-10-12T13:29:08.727111800Z"
    }
   },
   "source": [
    "# 给原始数据添加上我们计算出来的3列\n",
    "# 可以关注一下两表的左连接用法，尤其是参数\n",
    "credit_join_df = pd.merge(credit_record_df, credit_pivot_df, on = 'ID', how = 'left')\n",
    "credit_join_df.head(10)"
   ],
   "outputs": [
    {
     "data": {
      "text/plain": "        ID  MONTHS_BALANCE STATUS  MIN_MONTH  MAX_MONTH  PERIODS\n0  5001711               0      X         -3          0        4\n1  5001711              -1      0         -3          0        4\n2  5001711              -2      0         -3          0        4\n3  5001711              -3      0         -3          0        4\n4  5001712               0      C        -18          0       19\n5  5001712              -1      C        -18          0       19\n6  5001712              -2      C        -18          0       19\n7  5001712              -3      C        -18          0       19\n8  5001712              -4      C        -18          0       19\n9  5001712              -5      C        -18          0       19",
      "text/html": "<div>\n<style scoped>\n    .dataframe tbody tr th:only-of-type {\n        vertical-align: middle;\n    }\n\n    .dataframe tbody tr th {\n        vertical-align: top;\n    }\n\n    .dataframe thead th {\n        text-align: right;\n    }\n</style>\n<table border=\"1\" class=\"dataframe\">\n  <thead>\n    <tr style=\"text-align: right;\">\n      <th></th>\n      <th>ID</th>\n      <th>MONTHS_BALANCE</th>\n      <th>STATUS</th>\n      <th>MIN_MONTH</th>\n      <th>MAX_MONTH</th>\n      <th>PERIODS</th>\n    </tr>\n  </thead>\n  <tbody>\n    <tr>\n      <th>0</th>\n      <td>5001711</td>\n      <td>0</td>\n      <td>X</td>\n      <td>-3</td>\n      <td>0</td>\n      <td>4</td>\n    </tr>\n    <tr>\n      <th>1</th>\n      <td>5001711</td>\n      <td>-1</td>\n      <td>0</td>\n      <td>-3</td>\n      <td>0</td>\n      <td>4</td>\n    </tr>\n    <tr>\n      <th>2</th>\n      <td>5001711</td>\n      <td>-2</td>\n      <td>0</td>\n      <td>-3</td>\n      <td>0</td>\n      <td>4</td>\n    </tr>\n    <tr>\n      <th>3</th>\n      <td>5001711</td>\n      <td>-3</td>\n      <td>0</td>\n      <td>-3</td>\n      <td>0</td>\n      <td>4</td>\n    </tr>\n    <tr>\n      <th>4</th>\n      <td>5001712</td>\n      <td>0</td>\n      <td>C</td>\n      <td>-18</td>\n      <td>0</td>\n      <td>19</td>\n    </tr>\n    <tr>\n      <th>5</th>\n      <td>5001712</td>\n      <td>-1</td>\n      <td>C</td>\n      <td>-18</td>\n      <td>0</td>\n      <td>19</td>\n    </tr>\n    <tr>\n      <th>6</th>\n      <td>5001712</td>\n      <td>-2</td>\n      <td>C</td>\n      <td>-18</td>\n      <td>0</td>\n      <td>19</td>\n    </tr>\n    <tr>\n      <th>7</th>\n      <td>5001712</td>\n      <td>-3</td>\n      <td>C</td>\n      <td>-18</td>\n      <td>0</td>\n      <td>19</td>\n    </tr>\n    <tr>\n      <th>8</th>\n      <td>5001712</td>\n      <td>-4</td>\n      <td>C</td>\n      <td>-18</td>\n      <td>0</td>\n      <td>19</td>\n    </tr>\n    <tr>\n      <th>9</th>\n      <td>5001712</td>\n      <td>-5</td>\n      <td>C</td>\n      <td>-18</td>\n      <td>0</td>\n      <td>19</td>\n    </tr>\n  </tbody>\n</table>\n</div>"
     },
     "execution_count": 133,
     "metadata": {},
     "output_type": "execute_result"
    }
   ],
   "execution_count": 133,
   "id": "cfa901451e3684fe"
  },
  {
   "cell_type": "code",
   "metadata": {
    "id": "154B03AADCB0422681429EC123293263",
    "notebookId": "6524b1e01ca35e635cc0d344",
    "collapsed": false,
    "scrolled": false,
    "tags": [],
    "slideshow": {
     "slide_type": "slide"
    },
    "trusted": true,
    "ExecuteTime": {
     "end_time": "2023-10-12T13:29:09.173911700Z",
     "start_time": "2023-10-12T13:29:08.843699600Z"
    }
   },
   "source": [
    "# 检查客户第一次发生违约（DPD1+）的情况\n",
    "# 学习isin的用法，后面TODO用得到\n",
    "_df = credit_join_df[credit_join_df[\"STATUS\"].isin([\"0\",\"1\",\"2\",\"3\",\"4\",\"5\"])]\n",
    "_df.groupby(\"ID\").agg({'MONTHS_BALANCE': 'min', 'MIN_MONTH': 'first', 'STATUS': 'first'})"
   ],
   "outputs": [
    {
     "data": {
      "text/plain": "         MONTHS_BALANCE  MIN_MONTH STATUS\nID                                       \n5001711              -3         -3      0\n5001712             -18        -18      0\n5001717             -21        -21      0\n5001718             -37        -38      0\n5001719             -42        -42      0\n...                 ...        ...    ...\n5150477             -19        -20      0\n5150480             -49        -49      0\n5150482             -28        -28      0\n5150484             -12        -12      0\n5150485              -1         -1      0\n\n[40032 rows x 3 columns]",
      "text/html": "<div>\n<style scoped>\n    .dataframe tbody tr th:only-of-type {\n        vertical-align: middle;\n    }\n\n    .dataframe tbody tr th {\n        vertical-align: top;\n    }\n\n    .dataframe thead th {\n        text-align: right;\n    }\n</style>\n<table border=\"1\" class=\"dataframe\">\n  <thead>\n    <tr style=\"text-align: right;\">\n      <th></th>\n      <th>MONTHS_BALANCE</th>\n      <th>MIN_MONTH</th>\n      <th>STATUS</th>\n    </tr>\n    <tr>\n      <th>ID</th>\n      <th></th>\n      <th></th>\n      <th></th>\n    </tr>\n  </thead>\n  <tbody>\n    <tr>\n      <th>5001711</th>\n      <td>-3</td>\n      <td>-3</td>\n      <td>0</td>\n    </tr>\n    <tr>\n      <th>5001712</th>\n      <td>-18</td>\n      <td>-18</td>\n      <td>0</td>\n    </tr>\n    <tr>\n      <th>5001717</th>\n      <td>-21</td>\n      <td>-21</td>\n      <td>0</td>\n    </tr>\n    <tr>\n      <th>5001718</th>\n      <td>-37</td>\n      <td>-38</td>\n      <td>0</td>\n    </tr>\n    <tr>\n      <th>5001719</th>\n      <td>-42</td>\n      <td>-42</td>\n      <td>0</td>\n    </tr>\n    <tr>\n      <th>...</th>\n      <td>...</td>\n      <td>...</td>\n      <td>...</td>\n    </tr>\n    <tr>\n      <th>5150477</th>\n      <td>-19</td>\n      <td>-20</td>\n      <td>0</td>\n    </tr>\n    <tr>\n      <th>5150480</th>\n      <td>-49</td>\n      <td>-49</td>\n      <td>0</td>\n    </tr>\n    <tr>\n      <th>5150482</th>\n      <td>-28</td>\n      <td>-28</td>\n      <td>0</td>\n    </tr>\n    <tr>\n      <th>5150484</th>\n      <td>-12</td>\n      <td>-12</td>\n      <td>0</td>\n    </tr>\n    <tr>\n      <th>5150485</th>\n      <td>-1</td>\n      <td>-1</td>\n      <td>0</td>\n    </tr>\n  </tbody>\n</table>\n<p>40032 rows × 3 columns</p>\n</div>"
     },
     "execution_count": 134,
     "metadata": {},
     "output_type": "execute_result"
    }
   ],
   "execution_count": 134,
   "id": "b9ba7d9b953c951a"
  },
  {
   "cell_type": "code",
   "metadata": {
    "id": "59EE61D027F243A69D2EB30A6800042F",
    "notebookId": "6524b1e01ca35e635cc0d344",
    "collapsed": false,
    "scrolled": false,
    "tags": [],
    "slideshow": {
     "slide_type": "slide"
    },
    "trusted": true,
    "ExecuteTime": {
     "end_time": "2023-10-12T13:29:09.173911700Z",
     "start_time": "2023-10-12T13:29:08.942196100Z"
    }
   },
   "source": [
    "# 计算客户的首逾率\n",
    "fpd = _df[_df[\"MONTHS_BALANCE\"] == _df[\"MIN_MONTH\"]].shape[0] / credit_record_df['ID'].nunique()\n",
    "fpd"
   ],
   "outputs": [
    {
     "data": {
      "text/plain": "0.5831466782646515"
     },
     "execution_count": 135,
     "metadata": {},
     "output_type": "execute_result"
    }
   ],
   "execution_count": 135,
   "id": "f807c2bdafa53e64"
  },
  {
   "cell_type": "code",
   "metadata": {
    "id": "0E295BE751364FCDB13BCE7FA4F57539",
    "notebookId": "6524b1e01ca35e635cc0d344",
    "collapsed": false,
    "scrolled": false,
    "tags": [],
    "slideshow": {
     "slide_type": "slide"
    },
    "trusted": true,
    "ExecuteTime": {
     "end_time": "2023-10-12T13:29:09.174894300Z",
     "start_time": "2023-10-12T13:29:08.965870600Z"
    }
   },
   "source": [
    "# 检查数据中存在的逾期异常情况\n",
    "# 学习int类型转换的方式，后面TODO用得到\n",
    "_df = _df[(_df[\"MONTHS_BALANCE\"] - _df[\"MIN_MONTH\"]) < _df[\"STATUS\"].astype(\"int\")]\n",
    "_df"
   ],
   "outputs": [
    {
     "data": {
      "text/plain": "              ID  MONTHS_BALANCE STATUS  MIN_MONTH  MAX_MONTH  PERIODS\n34912    5003267             -51      3        -53          0       54\n34913    5003267             -52      2        -53          0       54\n34914    5003267             -53      1        -53          0       54\n40696    5003525             -51      1        -51          0       52\n193193   5017202             -55      1        -55          0       56\n204292   5017663             -10      1        -10          0       11\n223462   5021303             -10      5        -14          0       15\n223463   5021303             -11      5        -14          0       15\n257838   5023392             -49      1        -49        -31       19\n257896   5023398             -27      1        -27         -9       19\n257937   5023401             -10      1        -10          0       11\n269197   5024071             -38      5        -38          0       39\n271882   5024213             -39      5        -43        -35        9\n271883   5024213             -40      5        -43        -35        9\n271884   5024213             -41      5        -43        -35        9\n271885   5024213             -42      5        -43        -35        9\n277590   5024548             -34      1        -34        -12       23\n313307   5029311             -11      2        -12          0       13\n368227   5041835             -52      1        -52         -1       52\n372057   5042064             -49      5        -53        -35       19\n372058   5042064             -50      5        -53        -35       19\n372059   5042064             -51      5        -53        -35       19\n372060   5042064             -52      5        -53        -35       19\n460177   5054524             -53      5        -57          0       58\n460187   5054525              -5      5         -9          0       10\n463687   5054741              -1      1         -1          0        2\n465848   5056082             -50      2        -51          0       52\n465893   5056083             -43      2        -44          0       45\n490121   5060511             -59      1        -59          0       60\n616842   5079236               0      1          0          0        1\n803153   5115604             -14      5        -18        -14        5\n803154   5115604             -15      5        -18        -14        5\n803210   5115606             -16      5        -20        -16        5\n803211   5115606             -17      5        -20        -16        5\n803264   5115608             -16      5        -20        -16        5\n803265   5115608             -17      5        -20        -16        5\n803315   5115610               0      5         -4          0        5\n803316   5115610              -1      5         -4          0        5\n803320   5115611               0      5         -4          0        5\n803321   5115611              -1      5         -4          0        5\n998568   5143342             -30      5        -32          0       33\n1005684  5145817             -38      5        -39          0       40\n1029749  5149188             -27      5        -31        -19       13\n1029750  5149188             -28      5        -31        -19       13\n1029751  5149188             -29      5        -31        -19       13\n1029818  5149190              -7      5        -11          0       12\n1029819  5149190              -8      5        -11          0       12\n1029820  5149190              -9      5        -11          0       12\n1029842  5149192             -51      5        -55        -43       13\n1029843  5149192             -52      5        -55        -43       13\n1029844  5149192             -53      5        -55        -43       13\n1039798  5149754              -1      1         -1          0        2",
      "text/html": "<div>\n<style scoped>\n    .dataframe tbody tr th:only-of-type {\n        vertical-align: middle;\n    }\n\n    .dataframe tbody tr th {\n        vertical-align: top;\n    }\n\n    .dataframe thead th {\n        text-align: right;\n    }\n</style>\n<table border=\"1\" class=\"dataframe\">\n  <thead>\n    <tr style=\"text-align: right;\">\n      <th></th>\n      <th>ID</th>\n      <th>MONTHS_BALANCE</th>\n      <th>STATUS</th>\n      <th>MIN_MONTH</th>\n      <th>MAX_MONTH</th>\n      <th>PERIODS</th>\n    </tr>\n  </thead>\n  <tbody>\n    <tr>\n      <th>34912</th>\n      <td>5003267</td>\n      <td>-51</td>\n      <td>3</td>\n      <td>-53</td>\n      <td>0</td>\n      <td>54</td>\n    </tr>\n    <tr>\n      <th>34913</th>\n      <td>5003267</td>\n      <td>-52</td>\n      <td>2</td>\n      <td>-53</td>\n      <td>0</td>\n      <td>54</td>\n    </tr>\n    <tr>\n      <th>34914</th>\n      <td>5003267</td>\n      <td>-53</td>\n      <td>1</td>\n      <td>-53</td>\n      <td>0</td>\n      <td>54</td>\n    </tr>\n    <tr>\n      <th>40696</th>\n      <td>5003525</td>\n      <td>-51</td>\n      <td>1</td>\n      <td>-51</td>\n      <td>0</td>\n      <td>52</td>\n    </tr>\n    <tr>\n      <th>193193</th>\n      <td>5017202</td>\n      <td>-55</td>\n      <td>1</td>\n      <td>-55</td>\n      <td>0</td>\n      <td>56</td>\n    </tr>\n    <tr>\n      <th>204292</th>\n      <td>5017663</td>\n      <td>-10</td>\n      <td>1</td>\n      <td>-10</td>\n      <td>0</td>\n      <td>11</td>\n    </tr>\n    <tr>\n      <th>223462</th>\n      <td>5021303</td>\n      <td>-10</td>\n      <td>5</td>\n      <td>-14</td>\n      <td>0</td>\n      <td>15</td>\n    </tr>\n    <tr>\n      <th>223463</th>\n      <td>5021303</td>\n      <td>-11</td>\n      <td>5</td>\n      <td>-14</td>\n      <td>0</td>\n      <td>15</td>\n    </tr>\n    <tr>\n      <th>257838</th>\n      <td>5023392</td>\n      <td>-49</td>\n      <td>1</td>\n      <td>-49</td>\n      <td>-31</td>\n      <td>19</td>\n    </tr>\n    <tr>\n      <th>257896</th>\n      <td>5023398</td>\n      <td>-27</td>\n      <td>1</td>\n      <td>-27</td>\n      <td>-9</td>\n      <td>19</td>\n    </tr>\n    <tr>\n      <th>257937</th>\n      <td>5023401</td>\n      <td>-10</td>\n      <td>1</td>\n      <td>-10</td>\n      <td>0</td>\n      <td>11</td>\n    </tr>\n    <tr>\n      <th>269197</th>\n      <td>5024071</td>\n      <td>-38</td>\n      <td>5</td>\n      <td>-38</td>\n      <td>0</td>\n      <td>39</td>\n    </tr>\n    <tr>\n      <th>271882</th>\n      <td>5024213</td>\n      <td>-39</td>\n      <td>5</td>\n      <td>-43</td>\n      <td>-35</td>\n      <td>9</td>\n    </tr>\n    <tr>\n      <th>271883</th>\n      <td>5024213</td>\n      <td>-40</td>\n      <td>5</td>\n      <td>-43</td>\n      <td>-35</td>\n      <td>9</td>\n    </tr>\n    <tr>\n      <th>271884</th>\n      <td>5024213</td>\n      <td>-41</td>\n      <td>5</td>\n      <td>-43</td>\n      <td>-35</td>\n      <td>9</td>\n    </tr>\n    <tr>\n      <th>271885</th>\n      <td>5024213</td>\n      <td>-42</td>\n      <td>5</td>\n      <td>-43</td>\n      <td>-35</td>\n      <td>9</td>\n    </tr>\n    <tr>\n      <th>277590</th>\n      <td>5024548</td>\n      <td>-34</td>\n      <td>1</td>\n      <td>-34</td>\n      <td>-12</td>\n      <td>23</td>\n    </tr>\n    <tr>\n      <th>313307</th>\n      <td>5029311</td>\n      <td>-11</td>\n      <td>2</td>\n      <td>-12</td>\n      <td>0</td>\n      <td>13</td>\n    </tr>\n    <tr>\n      <th>368227</th>\n      <td>5041835</td>\n      <td>-52</td>\n      <td>1</td>\n      <td>-52</td>\n      <td>-1</td>\n      <td>52</td>\n    </tr>\n    <tr>\n      <th>372057</th>\n      <td>5042064</td>\n      <td>-49</td>\n      <td>5</td>\n      <td>-53</td>\n      <td>-35</td>\n      <td>19</td>\n    </tr>\n    <tr>\n      <th>372058</th>\n      <td>5042064</td>\n      <td>-50</td>\n      <td>5</td>\n      <td>-53</td>\n      <td>-35</td>\n      <td>19</td>\n    </tr>\n    <tr>\n      <th>372059</th>\n      <td>5042064</td>\n      <td>-51</td>\n      <td>5</td>\n      <td>-53</td>\n      <td>-35</td>\n      <td>19</td>\n    </tr>\n    <tr>\n      <th>372060</th>\n      <td>5042064</td>\n      <td>-52</td>\n      <td>5</td>\n      <td>-53</td>\n      <td>-35</td>\n      <td>19</td>\n    </tr>\n    <tr>\n      <th>460177</th>\n      <td>5054524</td>\n      <td>-53</td>\n      <td>5</td>\n      <td>-57</td>\n      <td>0</td>\n      <td>58</td>\n    </tr>\n    <tr>\n      <th>460187</th>\n      <td>5054525</td>\n      <td>-5</td>\n      <td>5</td>\n      <td>-9</td>\n      <td>0</td>\n      <td>10</td>\n    </tr>\n    <tr>\n      <th>463687</th>\n      <td>5054741</td>\n      <td>-1</td>\n      <td>1</td>\n      <td>-1</td>\n      <td>0</td>\n      <td>2</td>\n    </tr>\n    <tr>\n      <th>465848</th>\n      <td>5056082</td>\n      <td>-50</td>\n      <td>2</td>\n      <td>-51</td>\n      <td>0</td>\n      <td>52</td>\n    </tr>\n    <tr>\n      <th>465893</th>\n      <td>5056083</td>\n      <td>-43</td>\n      <td>2</td>\n      <td>-44</td>\n      <td>0</td>\n      <td>45</td>\n    </tr>\n    <tr>\n      <th>490121</th>\n      <td>5060511</td>\n      <td>-59</td>\n      <td>1</td>\n      <td>-59</td>\n      <td>0</td>\n      <td>60</td>\n    </tr>\n    <tr>\n      <th>616842</th>\n      <td>5079236</td>\n      <td>0</td>\n      <td>1</td>\n      <td>0</td>\n      <td>0</td>\n      <td>1</td>\n    </tr>\n    <tr>\n      <th>803153</th>\n      <td>5115604</td>\n      <td>-14</td>\n      <td>5</td>\n      <td>-18</td>\n      <td>-14</td>\n      <td>5</td>\n    </tr>\n    <tr>\n      <th>803154</th>\n      <td>5115604</td>\n      <td>-15</td>\n      <td>5</td>\n      <td>-18</td>\n      <td>-14</td>\n      <td>5</td>\n    </tr>\n    <tr>\n      <th>803210</th>\n      <td>5115606</td>\n      <td>-16</td>\n      <td>5</td>\n      <td>-20</td>\n      <td>-16</td>\n      <td>5</td>\n    </tr>\n    <tr>\n      <th>803211</th>\n      <td>5115606</td>\n      <td>-17</td>\n      <td>5</td>\n      <td>-20</td>\n      <td>-16</td>\n      <td>5</td>\n    </tr>\n    <tr>\n      <th>803264</th>\n      <td>5115608</td>\n      <td>-16</td>\n      <td>5</td>\n      <td>-20</td>\n      <td>-16</td>\n      <td>5</td>\n    </tr>\n    <tr>\n      <th>803265</th>\n      <td>5115608</td>\n      <td>-17</td>\n      <td>5</td>\n      <td>-20</td>\n      <td>-16</td>\n      <td>5</td>\n    </tr>\n    <tr>\n      <th>803315</th>\n      <td>5115610</td>\n      <td>0</td>\n      <td>5</td>\n      <td>-4</td>\n      <td>0</td>\n      <td>5</td>\n    </tr>\n    <tr>\n      <th>803316</th>\n      <td>5115610</td>\n      <td>-1</td>\n      <td>5</td>\n      <td>-4</td>\n      <td>0</td>\n      <td>5</td>\n    </tr>\n    <tr>\n      <th>803320</th>\n      <td>5115611</td>\n      <td>0</td>\n      <td>5</td>\n      <td>-4</td>\n      <td>0</td>\n      <td>5</td>\n    </tr>\n    <tr>\n      <th>803321</th>\n      <td>5115611</td>\n      <td>-1</td>\n      <td>5</td>\n      <td>-4</td>\n      <td>0</td>\n      <td>5</td>\n    </tr>\n    <tr>\n      <th>998568</th>\n      <td>5143342</td>\n      <td>-30</td>\n      <td>5</td>\n      <td>-32</td>\n      <td>0</td>\n      <td>33</td>\n    </tr>\n    <tr>\n      <th>1005684</th>\n      <td>5145817</td>\n      <td>-38</td>\n      <td>5</td>\n      <td>-39</td>\n      <td>0</td>\n      <td>40</td>\n    </tr>\n    <tr>\n      <th>1029749</th>\n      <td>5149188</td>\n      <td>-27</td>\n      <td>5</td>\n      <td>-31</td>\n      <td>-19</td>\n      <td>13</td>\n    </tr>\n    <tr>\n      <th>1029750</th>\n      <td>5149188</td>\n      <td>-28</td>\n      <td>5</td>\n      <td>-31</td>\n      <td>-19</td>\n      <td>13</td>\n    </tr>\n    <tr>\n      <th>1029751</th>\n      <td>5149188</td>\n      <td>-29</td>\n      <td>5</td>\n      <td>-31</td>\n      <td>-19</td>\n      <td>13</td>\n    </tr>\n    <tr>\n      <th>1029818</th>\n      <td>5149190</td>\n      <td>-7</td>\n      <td>5</td>\n      <td>-11</td>\n      <td>0</td>\n      <td>12</td>\n    </tr>\n    <tr>\n      <th>1029819</th>\n      <td>5149190</td>\n      <td>-8</td>\n      <td>5</td>\n      <td>-11</td>\n      <td>0</td>\n      <td>12</td>\n    </tr>\n    <tr>\n      <th>1029820</th>\n      <td>5149190</td>\n      <td>-9</td>\n      <td>5</td>\n      <td>-11</td>\n      <td>0</td>\n      <td>12</td>\n    </tr>\n    <tr>\n      <th>1029842</th>\n      <td>5149192</td>\n      <td>-51</td>\n      <td>5</td>\n      <td>-55</td>\n      <td>-43</td>\n      <td>13</td>\n    </tr>\n    <tr>\n      <th>1029843</th>\n      <td>5149192</td>\n      <td>-52</td>\n      <td>5</td>\n      <td>-55</td>\n      <td>-43</td>\n      <td>13</td>\n    </tr>\n    <tr>\n      <th>1029844</th>\n      <td>5149192</td>\n      <td>-53</td>\n      <td>5</td>\n      <td>-55</td>\n      <td>-43</td>\n      <td>13</td>\n    </tr>\n    <tr>\n      <th>1039798</th>\n      <td>5149754</td>\n      <td>-1</td>\n      <td>1</td>\n      <td>-1</td>\n      <td>0</td>\n      <td>2</td>\n    </tr>\n  </tbody>\n</table>\n</div>"
     },
     "execution_count": 136,
     "metadata": {},
     "output_type": "execute_result"
    }
   ],
   "execution_count": 136,
   "id": "10637b740f2943c"
  },
  {
   "cell_type": "code",
   "metadata": {
    "id": "D329E06BE7954119953E101B4D2A24AF",
    "notebookId": "6524b1e01ca35e635cc0d344",
    "collapsed": false,
    "scrolled": false,
    "tags": [],
    "slideshow": {
     "slide_type": "slide"
    },
    "trusted": true,
    "ExecuteTime": {
     "end_time": "2023-10-12T13:29:09.174894300Z",
     "start_time": "2023-10-12T13:29:09.005233400Z"
    }
   },
   "source": [
    "# 计算逾期异常的客户占比\n",
    "_df[\"ID\"].nunique() / credit_record_df['ID'].nunique()"
   ],
   "outputs": [
    {
     "data": {
      "text/plain": "0.0006958790910079373"
     },
     "execution_count": 137,
     "metadata": {},
     "output_type": "execute_result"
    }
   ],
   "execution_count": 137,
   "id": "2b0d9e4c22d7721e"
  },
  {
   "cell_type": "markdown",
   "metadata": {
    "id": "7FF020C6DA0049E5A78A92C8C15327B6",
    "notebookId": "6524b1e01ca35e635cc0d344",
    "runtime": {
     "status": "default",
     "execution_status": null,
     "is_visible": false
    },
    "scrolled": false,
    "tags": [],
    "slideshow": {
     "slide_type": "slide"
    }
   },
   "source": [
    "#### 思考：  \n",
    "1. 从数据探索中可以发现，FPD首期逾期率较高，说明什么？  \n",
    "2. 数据异常说明什么？如何处理？"
   ],
   "id": "6df3b0aac8cb6df2"
  },
  {
   "cell_type": "code",
   "metadata": {
    "id": "04363CC9B3784DF49800CCD3B625F065",
    "notebookId": "6524b1e01ca35e635cc0d344",
    "collapsed": false,
    "scrolled": false,
    "tags": [],
    "slideshow": {
     "slide_type": "slide"
    },
    "trusted": true,
    "ExecuteTime": {
     "end_time": "2023-10-12T13:29:09.174894300Z",
     "start_time": "2023-10-12T13:29:09.024971500Z"
    }
   },
   "source": [
    "# 剔除异常数据\n",
    "credit_join_df = credit_join_df[~credit_join_df[\"ID\"].isin(_df[\"ID\"].unique())]\n",
    "credit_join_df.shape"
   ],
   "outputs": [
    {
     "data": {
      "text/plain": "(1047817, 6)"
     },
     "execution_count": 138,
     "metadata": {},
     "output_type": "execute_result"
    }
   ],
   "execution_count": 138,
   "id": "909e64bf01674fb4"
  },
  {
   "cell_type": "markdown",
   "metadata": {
    "tags": [],
    "scrolled": false,
    "slideshow": {
     "slide_type": "slide"
    },
    "id": "AAD81AA03B924EA79D79C05DD2929E21",
    "runtime": {
     "status": "default",
     "execution_status": null,
     "is_visible": false
    },
    "notebookId": "6524b1e01ca35e635cc0d344"
   },
   "source": [
    "### 3. 构造MOB"
   ],
   "id": "e4c1a68dc66eac39"
  },
  {
   "cell_type": "markdown",
   "metadata": {
    "scrolled": false,
    "tags": [],
    "slideshow": {
     "slide_type": "slide"
    },
    "id": "791F04B5FF0B4677A68F910172E30991",
    "runtime": {
     "status": "default",
     "execution_status": null,
     "is_visible": false
    },
    "notebookId": "6524b1e01ca35e635cc0d344"
   },
   "source": [
    "#### 观察窗口期过滤"
   ],
   "id": "bef093af05032360"
  },
  {
   "cell_type": "code",
   "metadata": {
    "collapsed": false,
    "scrolled": false,
    "tags": [],
    "slideshow": {
     "slide_type": "slide"
    },
    "id": "70D5CBBEE35548999E1A24D731B04E32",
    "notebookId": "6524b1e01ca35e635cc0d344",
    "trusted": true,
    "ExecuteTime": {
     "end_time": "2023-10-12T13:29:09.412029400Z",
     "start_time": "2023-10-12T13:29:09.074161700Z"
    }
   },
   "source": [
    "# 各周期数据的占比\n",
    "period_stat_se = credit_join_df['PERIODS'].value_counts(normalize=True).sort_index()\n",
    "\n",
    "plt.plot(period_stat_se)\n",
    "plt.xlabel('Periods')\n",
    "plt.ylabel('Ratio')\n",
    "\n",
    "plt.show()"
   ],
   "outputs": [
    {
     "data": {
      "text/plain": "<Figure size 640x480 with 1 Axes>",
      "image/png": "[encoded data removed]"
     },
     "metadata": {},
     "output_type": "display_data"
    }
   ],
   "execution_count": 139,
   "id": "7f7e908511de8f4b"
  },
  {
   "cell_type": "code",
   "metadata": {
    "collapsed": false,
    "scrolled": false,
    "tags": [],
    "slideshow": {
     "slide_type": "slide"
    },
    "id": "BD8582819ECE4AEE9969D77AF4F83E7E",
    "notebookId": "6524b1e01ca35e635cc0d344",
    "trusted": true,
    "ExecuteTime": {
     "end_time": "2023-10-12T13:29:09.477874300Z",
     "start_time": "2023-10-12T13:29:09.191582700Z"
    }
   },
   "source": [
    "# 按客户分组的各周期数据占比\n",
    "period_stat_se = credit_pivot_df['PERIODS'].value_counts(normalize=True).sort_index()\n",
    "\n",
    "plt.plot(period_stat_se)\n",
    "plt.xlabel('Periods')\n",
    "plt.ylabel('Ratio')\n",
    "\n",
    "plt.show()"
   ],
   "outputs": [
    {
     "data": {
      "text/plain": "<Figure size 640x480 with 1 Axes>",
      "image/png": "[encoded data removed]"
     },
     "metadata": {},
     "output_type": "display_data"
    }
   ],
   "execution_count": 140,
   "id": "3305f13cbcc66f06"
  },
  {
   "cell_type": "code",
   "metadata": {
    "collapsed": false,
    "scrolled": false,
    "tags": [],
    "slideshow": {
     "slide_type": "slide"
    },
    "id": "48171CC89E4C42B88D0C45A471059B7B",
    "notebookId": "6524b1e01ca35e635cc0d344",
    "trusted": true,
    "ExecuteTime": {
     "end_time": "2023-10-12T13:29:09.478871700Z",
     "start_time": "2023-10-12T13:29:09.301578700Z"
    }
   },
   "source": [
    "period_stat_se.head(11).sum()"
   ],
   "outputs": [
    {
     "data": {
      "text/plain": "0.29816244427530714"
     },
     "execution_count": 141,
     "metadata": {},
     "output_type": "execute_result"
    }
   ],
   "execution_count": 141,
   "id": "7496ad6771bf5948"
  },
  {
   "cell_type": "markdown",
   "metadata": {
    "id": "45042A57069A4D199ABF47F5F1CA1BE6",
    "notebookId": "6524b1e01ca35e635cc0d344",
    "runtime": {
     "status": "default",
     "execution_status": null,
     "is_visible": false
    },
    "scrolled": false,
    "tags": [],
    "slideshow": {
     "slide_type": "slide"
    }
   },
   "source": [
    "#### TODO #2"
   ],
   "id": "8907bf3df2232271"
  },
  {
   "cell_type": "code",
   "metadata": {
    "collapsed": false,
    "scrolled": false,
    "tags": [],
    "slideshow": {
     "slide_type": "slide"
    },
    "id": "C8DD28691BFC41BDA367304BCA59A0C1",
    "notebookId": "6524b1e01ca35e635cc0d344",
    "trusted": true,
    "ExecuteTime": {
     "end_time": "2023-10-12T13:29:09.579445900Z",
     "start_time": "2023-10-12T13:29:09.307130600Z"
    }
   },
   "source": [
    "# 观察窗口期太小的客户不参与分析\n",
    "# 观察期的选择依赖于用户数据的厚薄程度。通常数据越厚，可提取的信息也就越全面、可靠\n",
    "# 参考“风控特征—时间滑窗统计特征体系”（https://zhuanlan.zhihu.com/p/85440355）\n",
    "# TODO\n",
    "# 选择厚数据用户，筛选掉观察窗口小于等于10个月的用户数据\n",
    "# 提示：直接提取出credit_join_df中周期大于10的即可\n",
    "credit_filter_df = credit_join_df[credit_join_df['PERIODS']>10]\n",
    "credit_filter_df.shape[0]"
   ],
   "outputs": [
    {
     "data": {
      "text/plain": "973441"
     },
     "execution_count": 142,
     "metadata": {},
     "output_type": "execute_result"
    }
   ],
   "execution_count": 142,
   "id": "74b2b31bbc5ef86e"
  },
  {
   "cell_type": "code",
   "metadata": {
    "id": "03AA9A97EEA94364A4366C1771D65D98",
    "notebookId": "6524b1e01ca35e635cc0d344",
    "collapsed": false,
    "scrolled": false,
    "tags": [],
    "slideshow": {
     "slide_type": "slide"
    },
    "trusted": true,
    "ExecuteTime": {
     "end_time": "2023-10-12T13:29:09.610946200Z",
     "start_time": "2023-10-12T13:29:09.346412Z"
    }
   },
   "source": [
    "credit_filter_df['ID'].nunique()"
   ],
   "outputs": [
    {
     "data": {
      "text/plain": "33599"
     },
     "execution_count": 143,
     "metadata": {},
     "output_type": "execute_result"
    }
   ],
   "execution_count": 143,
   "id": "f0d6ee935d463a78"
  },
  {
   "cell_type": "code",
   "metadata": {
    "id": "18B2E04F4D854ACBAE9160DD98D77D97",
    "notebookId": "6524b1e01ca35e635cc0d344",
    "collapsed": false,
    "scrolled": false,
    "tags": [],
    "slideshow": {
     "slide_type": "slide"
    },
    "trusted": true,
    "ExecuteTime": {
     "end_time": "2023-10-12T13:29:09.625905700Z",
     "start_time": "2023-10-12T13:29:09.362413800Z"
    }
   },
   "source": [
    "credit_filter_df['STATUS'].value_counts()"
   ],
   "outputs": [
    {
     "data": {
      "text/plain": "STATUS\nC    433513\n0    335434\nX    191676\n1      9927\n5      1577\n2       803\n3       301\n4       210\nName: count, dtype: int64"
     },
     "execution_count": 144,
     "metadata": {},
     "output_type": "execute_result"
    }
   ],
   "execution_count": 144,
   "id": "b59e0d6d7fcad46d"
  },
  {
   "cell_type": "markdown",
   "metadata": {
    "scrolled": false,
    "tags": [],
    "slideshow": {
     "slide_type": "slide"
    },
    "id": "FF20A4DD5C2A4BA8ABED2BFF6A570B22",
    "runtime": {
     "status": "default",
     "execution_status": null,
     "is_visible": false
    },
    "notebookId": "6524b1e01ca35e635cc0d344"
   },
   "source": [
    "#### 逾期调整  \n",
    "只将逾期超过60天的算作逾期"
   ],
   "id": "61cbf74fc4487f3"
  },
  {
   "cell_type": "markdown",
   "metadata": {
    "id": "3DEC192A93CE44669C9B760DC3879A51",
    "notebookId": "6524b1e01ca35e635cc0d344",
    "runtime": {
     "status": "default",
     "execution_status": null,
     "is_visible": false
    },
    "scrolled": false,
    "tags": [],
    "slideshow": {
     "slide_type": "slide"
    }
   },
   "source": [
    "#### TODO #3"
   ],
   "id": "27cdb570ba13807c"
  },
  {
   "cell_type": "code",
   "metadata": {
    "collapsed": false,
    "scrolled": false,
    "tags": [],
    "slideshow": {
     "slide_type": "slide"
    },
    "id": "F4F99CE709FF47E9946AB3945258880A",
    "notebookId": "6524b1e01ca35e635cc0d344",
    "trusted": true,
    "ExecuteTime": {
     "end_time": "2023-10-12T13:29:09.811372200Z",
     "start_time": "2023-10-12T13:29:09.397069900Z"
    }
   },
   "source": [
    "# TODO\n",
    "# 新增OVERDUE属性，判断逾期是否超过60天（要求：1代表超过60天，0代表不超过60天）\n",
    "# 提示：可以根据STATUS属性进行操作（可以考虑用isin函数，结果需要转化为int值）\n",
    "credit_filter_df['OVERDUE'] =credit_filter_df.STATUS.isin(['2','3','4','5']).astype(\"int\")"
   ],
   "outputs": [
    {
     "name": "stderr",
     "output_type": "stream",
     "text": [
      "C:\\Users\\Redamancy\\AppData\\Local\\Temp\\ipykernel_20632\\116049454.py:4: SettingWithCopyWarning: \n",
      "A value is trying to be set on a copy of a slice from a DataFrame.\n",
      "Try using .loc[row_indexer,col_indexer] = value instead\n",
      "\n",
      "See the caveats in the documentation: https://pandas.pydata.org/pandas-docs/stable/user_guide/indexing.html#returning-a-view-versus-a-copy\n",
      "  credit_filter_df['OVERDUE'] =credit_filter_df.STATUS.isin(['2','3','4','5']).astype(\"int\")\n"
     ]
    }
   ],
   "execution_count": 145,
   "id": "8e3a95faa2d88b15"
  },
  {
   "cell_type": "code",
   "metadata": {
    "collapsed": false,
    "scrolled": false,
    "tags": [],
    "slideshow": {
     "slide_type": "slide"
    },
    "id": "622F3B3D9D8346DD9A210DC061206947",
    "notebookId": "6524b1e01ca35e635cc0d344",
    "trusted": true,
    "ExecuteTime": {
     "end_time": "2023-10-12T13:29:09.833341Z",
     "start_time": "2023-10-12T13:29:09.424186600Z"
    }
   },
   "source": [
    "credit_filter_df['OVERDUE'].value_counts()"
   ],
   "outputs": [
    {
     "data": {
      "text/plain": "OVERDUE\n0    970550\n1      2891\nName: count, dtype: int64"
     },
     "execution_count": 146,
     "metadata": {},
     "output_type": "execute_result"
    }
   ],
   "execution_count": 146,
   "id": "a880d79eeb64aaf4"
  },
  {
   "cell_type": "code",
   "metadata": {
    "collapsed": false,
    "scrolled": false,
    "tags": [],
    "slideshow": {
     "slide_type": "slide"
    },
    "id": "3B63802A821445A180ACD2B2E58A9512",
    "notebookId": "6524b1e01ca35e635cc0d344",
    "trusted": true,
    "ExecuteTime": {
     "end_time": "2023-10-12T13:29:09.833848400Z",
     "start_time": "2023-10-12T13:29:09.435596Z"
    }
   },
   "source": [
    "# 有历史逾期超过60天的客户数\n",
    "credit_filter_df.loc[credit_filter_df['OVERDUE']==1, 'ID'].nunique()"
   ],
   "outputs": [
    {
     "data": {
      "text/plain": "598"
     },
     "execution_count": 147,
     "metadata": {},
     "output_type": "execute_result"
    }
   ],
   "execution_count": 147,
   "id": "4b3a7495bac35011"
  },
  {
   "cell_type": "code",
   "metadata": {
    "collapsed": false,
    "scrolled": false,
    "tags": [],
    "slideshow": {
     "slide_type": "slide"
    },
    "id": "F23E471999B74533A9B746A0C197A0FF",
    "notebookId": "6524b1e01ca35e635cc0d344",
    "trusted": true,
    "ExecuteTime": {
     "end_time": "2023-10-12T13:29:09.839831900Z",
     "start_time": "2023-10-12T13:29:09.442308600Z"
    }
   },
   "source": [
    "# 查看某一个客户的历史逾期情况\n",
    "credit_filter_df[credit_filter_df['ID']==5002126].sort_values(by='MONTHS_BALANCE', ascending=True)"
   ],
   "outputs": [
    {
     "data": {
      "text/plain": "           ID  MONTHS_BALANCE STATUS  MIN_MONTH  MAX_MONTH  PERIODS  OVERDUE\n8920  5002126             -55      0        -55          0       56        0\n8919  5002126             -54      0        -55          0       56        0\n8918  5002126             -53      X        -55          0       56        0\n8917  5002126             -52      X        -55          0       56        0\n8916  5002126             -51      1        -55          0       56        0\n8915  5002126             -50      2        -55          0       56        1\n8914  5002126             -49      2        -55          0       56        1\n8913  5002126             -48      3        -55          0       56        1\n8912  5002126             -47      3        -55          0       56        1\n8911  5002126             -46      2        -55          0       56        1\n8910  5002126             -45      C        -55          0       56        0\n8909  5002126             -44      C        -55          0       56        0\n8908  5002126             -43      C        -55          0       56        0\n8907  5002126             -42      C        -55          0       56        0\n8906  5002126             -41      C        -55          0       56        0\n8905  5002126             -40      C        -55          0       56        0\n8904  5002126             -39      C        -55          0       56        0\n8903  5002126             -38      C        -55          0       56        0\n8902  5002126             -37      C        -55          0       56        0\n8901  5002126             -36      C        -55          0       56        0\n8900  5002126             -35      C        -55          0       56        0\n8899  5002126             -34      C        -55          0       56        0\n8898  5002126             -33      C        -55          0       56        0\n8897  5002126             -32      C        -55          0       56        0\n8896  5002126             -31      C        -55          0       56        0\n8895  5002126             -30      C        -55          0       56        0\n8894  5002126             -29      C        -55          0       56        0\n8893  5002126             -28      C        -55          0       56        0\n8892  5002126             -27      C        -55          0       56        0\n8891  5002126             -26      C        -55          0       56        0\n8890  5002126             -25      C        -55          0       56        0\n8889  5002126             -24      C        -55          0       56        0\n8888  5002126             -23      C        -55          0       56        0\n8887  5002126             -22      C        -55          0       56        0\n8886  5002126             -21      C        -55          0       56        0\n8885  5002126             -20      C        -55          0       56        0\n8884  5002126             -19      C        -55          0       56        0\n8883  5002126             -18      C        -55          0       56        0\n8882  5002126             -17      C        -55          0       56        0\n8881  5002126             -16      C        -55          0       56        0\n8880  5002126             -15      C        -55          0       56        0\n8879  5002126             -14      C        -55          0       56        0\n8878  5002126             -13      C        -55          0       56        0\n8877  5002126             -12      C        -55          0       56        0\n8876  5002126             -11      C        -55          0       56        0\n8875  5002126             -10      C        -55          0       56        0\n8874  5002126              -9      C        -55          0       56        0\n8873  5002126              -8      C        -55          0       56        0\n8872  5002126              -7      C        -55          0       56        0\n8871  5002126              -6      C        -55          0       56        0\n8870  5002126              -5      C        -55          0       56        0\n8869  5002126              -4      C        -55          0       56        0\n8868  5002126              -3      C        -55          0       56        0\n8867  5002126              -2      C        -55          0       56        0\n8866  5002126              -1      C        -55          0       56        0\n8865  5002126               0      C        -55          0       56        0",
      "text/html": "<div>\n<style scoped>\n    .dataframe tbody tr th:only-of-type {\n        vertical-align: middle;\n    }\n\n    .dataframe tbody tr th {\n        vertical-align: top;\n    }\n\n    .dataframe thead th {\n        text-align: right;\n    }\n</style>\n<table border=\"1\" class=\"dataframe\">\n  <thead>\n    <tr style=\"text-align: right;\">\n      <th></th>\n      <th>ID</th>\n      <th>MONTHS_BALANCE</th>\n      <th>STATUS</th>\n      <th>MIN_MONTH</th>\n      <th>MAX_MONTH</th>\n      <th>PERIODS</th>\n      <th>OVERDUE</th>\n    </tr>\n  </thead>\n  <tbody>\n    <tr>\n      <th>8920</th>\n      <td>5002126</td>\n      <td>-55</td>\n      <td>0</td>\n      <td>-55</td>\n      <td>0</td>\n      <td>56</td>\n      <td>0</td>\n    </tr>\n    <tr>\n      <th>8919</th>\n      <td>5002126</td>\n      <td>-54</td>\n      <td>0</td>\n      <td>-55</td>\n      <td>0</td>\n      <td>56</td>\n      <td>0</td>\n    </tr>\n    <tr>\n      <th>8918</th>\n      <td>5002126</td>\n      <td>-53</td>\n      <td>X</td>\n      <td>-55</td>\n      <td>0</td>\n      <td>56</td>\n      <td>0</td>\n    </tr>\n    <tr>\n      <th>8917</th>\n      <td>5002126</td>\n      <td>-52</td>\n      <td>X</td>\n      <td>-55</td>\n      <td>0</td>\n      <td>56</td>\n      <td>0</td>\n    </tr>\n    <tr>\n      <th>8916</th>\n      <td>5002126</td>\n      <td>-51</td>\n      <td>1</td>\n      <td>-55</td>\n      <td>0</td>\n      <td>56</td>\n      <td>0</td>\n    </tr>\n    <tr>\n      <th>8915</th>\n      <td>5002126</td>\n      <td>-50</td>\n      <td>2</td>\n      <td>-55</td>\n      <td>0</td>\n      <td>56</td>\n      <td>1</td>\n    </tr>\n    <tr>\n      <th>8914</th>\n      <td>5002126</td>\n      <td>-49</td>\n      <td>2</td>\n      <td>-55</td>\n      <td>0</td>\n      <td>56</td>\n      <td>1</td>\n    </tr>\n    <tr>\n      <th>8913</th>\n      <td>5002126</td>\n      <td>-48</td>\n      <td>3</td>\n      <td>-55</td>\n      <td>0</td>\n      <td>56</td>\n      <td>1</td>\n    </tr>\n    <tr>\n      <th>8912</th>\n      <td>5002126</td>\n      <td>-47</td>\n      <td>3</td>\n      <td>-55</td>\n      <td>0</td>\n      <td>56</td>\n      <td>1</td>\n    </tr>\n    <tr>\n      <th>8911</th>\n      <td>5002126</td>\n      <td>-46</td>\n      <td>2</td>\n      <td>-55</td>\n      <td>0</td>\n      <td>56</td>\n      <td>1</td>\n    </tr>\n    <tr>\n      <th>8910</th>\n      <td>5002126</td>\n      <td>-45</td>\n      <td>C</td>\n      <td>-55</td>\n      <td>0</td>\n      <td>56</td>\n      <td>0</td>\n    </tr>\n    <tr>\n      <th>8909</th>\n      <td>5002126</td>\n      <td>-44</td>\n      <td>C</td>\n      <td>-55</td>\n      <td>0</td>\n      <td>56</td>\n      <td>0</td>\n    </tr>\n    <tr>\n      <th>8908</th>\n      <td>5002126</td>\n      <td>-43</td>\n      <td>C</td>\n      <td>-55</td>\n      <td>0</td>\n      <td>56</td>\n      <td>0</td>\n    </tr>\n    <tr>\n      <th>8907</th>\n      <td>5002126</td>\n      <td>-42</td>\n      <td>C</td>\n      <td>-55</td>\n      <td>0</td>\n      <td>56</td>\n      <td>0</td>\n    </tr>\n    <tr>\n      <th>8906</th>\n      <td>5002126</td>\n      <td>-41</td>\n      <td>C</td>\n      <td>-55</td>\n      <td>0</td>\n      <td>56</td>\n      <td>0</td>\n    </tr>\n    <tr>\n      <th>8905</th>\n      <td>5002126</td>\n      <td>-40</td>\n      <td>C</td>\n      <td>-55</td>\n      <td>0</td>\n      <td>56</td>\n      <td>0</td>\n    </tr>\n    <tr>\n      <th>8904</th>\n      <td>5002126</td>\n      <td>-39</td>\n      <td>C</td>\n      <td>-55</td>\n      <td>0</td>\n      <td>56</td>\n      <td>0</td>\n    </tr>\n    <tr>\n      <th>8903</th>\n      <td>5002126</td>\n      <td>-38</td>\n      <td>C</td>\n      <td>-55</td>\n      <td>0</td>\n      <td>56</td>\n      <td>0</td>\n    </tr>\n    <tr>\n      <th>8902</th>\n      <td>5002126</td>\n      <td>-37</td>\n      <td>C</td>\n      <td>-55</td>\n      <td>0</td>\n      <td>56</td>\n      <td>0</td>\n    </tr>\n    <tr>\n      <th>8901</th>\n      <td>5002126</td>\n      <td>-36</td>\n      <td>C</td>\n      <td>-55</td>\n      <td>0</td>\n      <td>56</td>\n      <td>0</td>\n    </tr>\n    <tr>\n      <th>8900</th>\n      <td>5002126</td>\n      <td>-35</td>\n      <td>C</td>\n      <td>-55</td>\n      <td>0</td>\n      <td>56</td>\n      <td>0</td>\n    </tr>\n    <tr>\n      <th>8899</th>\n      <td>5002126</td>\n      <td>-34</td>\n      <td>C</td>\n      <td>-55</td>\n      <td>0</td>\n      <td>56</td>\n      <td>0</td>\n    </tr>\n    <tr>\n      <th>8898</th>\n      <td>5002126</td>\n      <td>-33</td>\n      <td>C</td>\n      <td>-55</td>\n      <td>0</td>\n      <td>56</td>\n      <td>0</td>\n    </tr>\n    <tr>\n      <th>8897</th>\n      <td>5002126</td>\n      <td>-32</td>\n      <td>C</td>\n      <td>-55</td>\n      <td>0</td>\n      <td>56</td>\n      <td>0</td>\n    </tr>\n    <tr>\n      <th>8896</th>\n      <td>5002126</td>\n      <td>-31</td>\n      <td>C</td>\n      <td>-55</td>\n      <td>0</td>\n      <td>56</td>\n      <td>0</td>\n    </tr>\n    <tr>\n      <th>8895</th>\n      <td>5002126</td>\n      <td>-30</td>\n      <td>C</td>\n      <td>-55</td>\n      <td>0</td>\n      <td>56</td>\n      <td>0</td>\n    </tr>\n    <tr>\n      <th>8894</th>\n      <td>5002126</td>\n      <td>-29</td>\n      <td>C</td>\n      <td>-55</td>\n      <td>0</td>\n      <td>56</td>\n      <td>0</td>\n    </tr>\n    <tr>\n      <th>8893</th>\n      <td>5002126</td>\n      <td>-28</td>\n      <td>C</td>\n      <td>-55</td>\n      <td>0</td>\n      <td>56</td>\n      <td>0</td>\n    </tr>\n    <tr>\n      <th>8892</th>\n      <td>5002126</td>\n      <td>-27</td>\n      <td>C</td>\n      <td>-55</td>\n      <td>0</td>\n      <td>56</td>\n      <td>0</td>\n    </tr>\n    <tr>\n      <th>8891</th>\n      <td>5002126</td>\n      <td>-26</td>\n      <td>C</td>\n      <td>-55</td>\n      <td>0</td>\n      <td>56</td>\n      <td>0</td>\n    </tr>\n    <tr>\n      <th>8890</th>\n      <td>5002126</td>\n      <td>-25</td>\n      <td>C</td>\n      <td>-55</td>\n      <td>0</td>\n      <td>56</td>\n      <td>0</td>\n    </tr>\n    <tr>\n      <th>8889</th>\n      <td>5002126</td>\n      <td>-24</td>\n      <td>C</td>\n      <td>-55</td>\n      <td>0</td>\n      <td>56</td>\n      <td>0</td>\n    </tr>\n    <tr>\n      <th>8888</th>\n      <td>5002126</td>\n      <td>-23</td>\n      <td>C</td>\n      <td>-55</td>\n      <td>0</td>\n      <td>56</td>\n      <td>0</td>\n    </tr>\n    <tr>\n      <th>8887</th>\n      <td>5002126</td>\n      <td>-22</td>\n      <td>C</td>\n      <td>-55</td>\n      <td>0</td>\n      <td>56</td>\n      <td>0</td>\n    </tr>\n    <tr>\n      <th>8886</th>\n      <td>5002126</td>\n      <td>-21</td>\n      <td>C</td>\n      <td>-55</td>\n      <td>0</td>\n      <td>56</td>\n      <td>0</td>\n    </tr>\n    <tr>\n      <th>8885</th>\n      <td>5002126</td>\n      <td>-20</td>\n      <td>C</td>\n      <td>-55</td>\n      <td>0</td>\n      <td>56</td>\n      <td>0</td>\n    </tr>\n    <tr>\n      <th>8884</th>\n      <td>5002126</td>\n      <td>-19</td>\n      <td>C</td>\n      <td>-55</td>\n      <td>0</td>\n      <td>56</td>\n      <td>0</td>\n    </tr>\n    <tr>\n      <th>8883</th>\n      <td>5002126</td>\n      <td>-18</td>\n      <td>C</td>\n      <td>-55</td>\n      <td>0</td>\n      <td>56</td>\n      <td>0</td>\n    </tr>\n    <tr>\n      <th>8882</th>\n      <td>5002126</td>\n      <td>-17</td>\n      <td>C</td>\n      <td>-55</td>\n      <td>0</td>\n      <td>56</td>\n      <td>0</td>\n    </tr>\n    <tr>\n      <th>8881</th>\n      <td>5002126</td>\n      <td>-16</td>\n      <td>C</td>\n      <td>-55</td>\n      <td>0</td>\n      <td>56</td>\n      <td>0</td>\n    </tr>\n    <tr>\n      <th>8880</th>\n      <td>5002126</td>\n      <td>-15</td>\n      <td>C</td>\n      <td>-55</td>\n      <td>0</td>\n      <td>56</td>\n      <td>0</td>\n    </tr>\n    <tr>\n      <th>8879</th>\n      <td>5002126</td>\n      <td>-14</td>\n      <td>C</td>\n      <td>-55</td>\n      <td>0</td>\n      <td>56</td>\n      <td>0</td>\n    </tr>\n    <tr>\n      <th>8878</th>\n      <td>5002126</td>\n      <td>-13</td>\n      <td>C</td>\n      <td>-55</td>\n      <td>0</td>\n      <td>56</td>\n      <td>0</td>\n    </tr>\n    <tr>\n      <th>8877</th>\n      <td>5002126</td>\n      <td>-12</td>\n      <td>C</td>\n      <td>-55</td>\n      <td>0</td>\n      <td>56</td>\n      <td>0</td>\n    </tr>\n    <tr>\n      <th>8876</th>\n      <td>5002126</td>\n      <td>-11</td>\n      <td>C</td>\n      <td>-55</td>\n      <td>0</td>\n      <td>56</td>\n      <td>0</td>\n    </tr>\n    <tr>\n      <th>8875</th>\n      <td>5002126</td>\n      <td>-10</td>\n      <td>C</td>\n      <td>-55</td>\n      <td>0</td>\n      <td>56</td>\n      <td>0</td>\n    </tr>\n    <tr>\n      <th>8874</th>\n      <td>5002126</td>\n      <td>-9</td>\n      <td>C</td>\n      <td>-55</td>\n      <td>0</td>\n      <td>56</td>\n      <td>0</td>\n    </tr>\n    <tr>\n      <th>8873</th>\n      <td>5002126</td>\n      <td>-8</td>\n      <td>C</td>\n      <td>-55</td>\n      <td>0</td>\n      <td>56</td>\n      <td>0</td>\n    </tr>\n    <tr>\n      <th>8872</th>\n      <td>5002126</td>\n      <td>-7</td>\n      <td>C</td>\n      <td>-55</td>\n      <td>0</td>\n      <td>56</td>\n      <td>0</td>\n    </tr>\n    <tr>\n      <th>8871</th>\n      <td>5002126</td>\n      <td>-6</td>\n      <td>C</td>\n      <td>-55</td>\n      <td>0</td>\n      <td>56</td>\n      <td>0</td>\n    </tr>\n    <tr>\n      <th>8870</th>\n      <td>5002126</td>\n      <td>-5</td>\n      <td>C</td>\n      <td>-55</td>\n      <td>0</td>\n      <td>56</td>\n      <td>0</td>\n    </tr>\n    <tr>\n      <th>8869</th>\n      <td>5002126</td>\n      <td>-4</td>\n      <td>C</td>\n      <td>-55</td>\n      <td>0</td>\n      <td>56</td>\n      <td>0</td>\n    </tr>\n    <tr>\n      <th>8868</th>\n      <td>5002126</td>\n      <td>-3</td>\n      <td>C</td>\n      <td>-55</td>\n      <td>0</td>\n      <td>56</td>\n      <td>0</td>\n    </tr>\n    <tr>\n      <th>8867</th>\n      <td>5002126</td>\n      <td>-2</td>\n      <td>C</td>\n      <td>-55</td>\n      <td>0</td>\n      <td>56</td>\n      <td>0</td>\n    </tr>\n    <tr>\n      <th>8866</th>\n      <td>5002126</td>\n      <td>-1</td>\n      <td>C</td>\n      <td>-55</td>\n      <td>0</td>\n      <td>56</td>\n      <td>0</td>\n    </tr>\n    <tr>\n      <th>8865</th>\n      <td>5002126</td>\n      <td>0</td>\n      <td>C</td>\n      <td>-55</td>\n      <td>0</td>\n      <td>56</td>\n      <td>0</td>\n    </tr>\n  </tbody>\n</table>\n</div>"
     },
     "execution_count": 148,
     "metadata": {},
     "output_type": "execute_result"
    }
   ],
   "execution_count": 148,
   "id": "eb6413dd15284b34"
  },
  {
   "cell_type": "markdown",
   "metadata": {
    "id": "18AF4E72A9264BD2ACD792643BEAF683",
    "notebookId": "6524b1e01ca35e635cc0d344",
    "runtime": {
     "status": "default",
     "execution_status": null,
     "is_visible": false
    },
    "scrolled": false,
    "tags": [],
    "slideshow": {
     "slide_type": "slide"
    }
   },
   "source": [
    "#### 思考：  \n",
    "上面这个客户在MOB5～9时发生逾期M3+，在进行Vintage分析时，对于这个客户在MOB10～55是否逾期应该如何考虑？"
   ],
   "id": "6374513b010d1d29"
  },
  {
   "cell_type": "markdown",
   "metadata": {
    "scrolled": false,
    "tags": [],
    "slideshow": {
     "slide_type": "slide"
    },
    "id": "4D60FC8ACEAE45DD8114C3145AB9DAC6",
    "runtime": {
     "status": "default",
     "execution_status": null,
     "is_visible": false
    },
    "notebookId": "6524b1e01ca35e635cc0d344"
   },
   "source": [
    "#### MOB构造  "
   ],
   "id": "b2a9f9ff3e31ace0"
  },
  {
   "cell_type": "code",
   "metadata": {
    "collapsed": false,
    "scrolled": false,
    "tags": [],
    "slideshow": {
     "slide_type": "slide"
    },
    "id": "1E92EBDF87FA423BA070A0C6BC95CC27",
    "notebookId": "6524b1e01ca35e635cc0d344",
    "trusted": true,
    "ExecuteTime": {
     "end_time": "2023-10-12T13:29:09.952423800Z",
     "start_time": "2023-10-12T13:29:09.455932300Z"
    }
   },
   "source": [
    "# 计算每个账单的帐龄（通过数据探索，了解到首期账单逾期率较高，应属MOB1，而非MOB0）\n",
    "credit_filter_df['MOB'] = credit_filter_df['MONTHS_BALANCE'] - credit_filter_df['MIN_MONTH'] + 1\n",
    "credit_filter_df = credit_filter_df.sort_values(by = ['ID','MOB'])"
   ],
   "outputs": [
    {
     "name": "stderr",
     "output_type": "stream",
     "text": [
      "C:\\Users\\Redamancy\\AppData\\Local\\Temp\\ipykernel_20632\\1875475085.py:2: SettingWithCopyWarning: \n",
      "A value is trying to be set on a copy of a slice from a DataFrame.\n",
      "Try using .loc[row_indexer,col_indexer] = value instead\n",
      "\n",
      "See the caveats in the documentation: https://pandas.pydata.org/pandas-docs/stable/user_guide/indexing.html#returning-a-view-versus-a-copy\n",
      "  credit_filter_df['MOB'] = credit_filter_df['MONTHS_BALANCE'] - credit_filter_df['MIN_MONTH'] + 1\n"
     ]
    }
   ],
   "execution_count": 149,
   "id": "e6a2aecb51a63620"
  },
  {
   "cell_type": "code",
   "metadata": {
    "collapsed": false,
    "scrolled": false,
    "tags": [],
    "slideshow": {
     "slide_type": "slide"
    },
    "id": "42AD1C6CCBA84831881C075A367117CF",
    "notebookId": "6524b1e01ca35e635cc0d344",
    "trusted": true,
    "ExecuteTime": {
     "end_time": "2023-10-12T13:29:09.952423800Z",
     "start_time": "2023-10-12T13:29:09.659491200Z"
    }
   },
   "source": [
    "credit_filter_df.head(10)"
   ],
   "outputs": [
    {
     "data": {
      "text/plain": "         ID  MONTHS_BALANCE STATUS  MIN_MONTH  MAX_MONTH  PERIODS  OVERDUE  \\\n22  5001712             -18      0        -18          0       19        0   \n21  5001712             -17      0        -18          0       19        0   \n20  5001712             -16      0        -18          0       19        0   \n19  5001712             -15      0        -18          0       19        0   \n18  5001712             -14      0        -18          0       19        0   \n17  5001712             -13      0        -18          0       19        0   \n16  5001712             -12      0        -18          0       19        0   \n15  5001712             -11      0        -18          0       19        0   \n14  5001712             -10      0        -18          0       19        0   \n13  5001712              -9      0        -18          0       19        0   \n\n    MOB  \n22    1  \n21    2  \n20    3  \n19    4  \n18    5  \n17    6  \n16    7  \n15    8  \n14    9  \n13   10  ",
      "text/html": "<div>\n<style scoped>\n    .dataframe tbody tr th:only-of-type {\n        vertical-align: middle;\n    }\n\n    .dataframe tbody tr th {\n        vertical-align: top;\n    }\n\n    .dataframe thead th {\n        text-align: right;\n    }\n</style>\n<table border=\"1\" class=\"dataframe\">\n  <thead>\n    <tr style=\"text-align: right;\">\n      <th></th>\n      <th>ID</th>\n      <th>MONTHS_BALANCE</th>\n      <th>STATUS</th>\n      <th>MIN_MONTH</th>\n      <th>MAX_MONTH</th>\n      <th>PERIODS</th>\n      <th>OVERDUE</th>\n      <th>MOB</th>\n    </tr>\n  </thead>\n  <tbody>\n    <tr>\n      <th>22</th>\n      <td>5001712</td>\n      <td>-18</td>\n      <td>0</td>\n      <td>-18</td>\n      <td>0</td>\n      <td>19</td>\n      <td>0</td>\n      <td>1</td>\n    </tr>\n    <tr>\n      <th>21</th>\n      <td>5001712</td>\n      <td>-17</td>\n      <td>0</td>\n      <td>-18</td>\n      <td>0</td>\n      <td>19</td>\n      <td>0</td>\n      <td>2</td>\n    </tr>\n    <tr>\n      <th>20</th>\n      <td>5001712</td>\n      <td>-16</td>\n      <td>0</td>\n      <td>-18</td>\n      <td>0</td>\n      <td>19</td>\n      <td>0</td>\n      <td>3</td>\n    </tr>\n    <tr>\n      <th>19</th>\n      <td>5001712</td>\n      <td>-15</td>\n      <td>0</td>\n      <td>-18</td>\n      <td>0</td>\n      <td>19</td>\n      <td>0</td>\n      <td>4</td>\n    </tr>\n    <tr>\n      <th>18</th>\n      <td>5001712</td>\n      <td>-14</td>\n      <td>0</td>\n      <td>-18</td>\n      <td>0</td>\n      <td>19</td>\n      <td>0</td>\n      <td>5</td>\n    </tr>\n    <tr>\n      <th>17</th>\n      <td>5001712</td>\n      <td>-13</td>\n      <td>0</td>\n      <td>-18</td>\n      <td>0</td>\n      <td>19</td>\n      <td>0</td>\n      <td>6</td>\n    </tr>\n    <tr>\n      <th>16</th>\n      <td>5001712</td>\n      <td>-12</td>\n      <td>0</td>\n      <td>-18</td>\n      <td>0</td>\n      <td>19</td>\n      <td>0</td>\n      <td>7</td>\n    </tr>\n    <tr>\n      <th>15</th>\n      <td>5001712</td>\n      <td>-11</td>\n      <td>0</td>\n      <td>-18</td>\n      <td>0</td>\n      <td>19</td>\n      <td>0</td>\n      <td>8</td>\n    </tr>\n    <tr>\n      <th>14</th>\n      <td>5001712</td>\n      <td>-10</td>\n      <td>0</td>\n      <td>-18</td>\n      <td>0</td>\n      <td>19</td>\n      <td>0</td>\n      <td>9</td>\n    </tr>\n    <tr>\n      <th>13</th>\n      <td>5001712</td>\n      <td>-9</td>\n      <td>0</td>\n      <td>-18</td>\n      <td>0</td>\n      <td>19</td>\n      <td>0</td>\n      <td>10</td>\n    </tr>\n  </tbody>\n</table>\n</div>"
     },
     "execution_count": 150,
     "metadata": {},
     "output_type": "execute_result"
    }
   ],
   "execution_count": 150,
   "id": "397229a57f697067"
  },
  {
   "cell_type": "code",
   "metadata": {
    "id": "7507934110DE4B4FABA0CEBE3EB61900",
    "notebookId": "6524b1e01ca35e635cc0d344",
    "collapsed": false,
    "scrolled": false,
    "tags": [],
    "slideshow": {
     "slide_type": "slide"
    },
    "trusted": true,
    "ExecuteTime": {
     "end_time": "2023-10-12T13:29:09.952423800Z",
     "start_time": "2023-10-12T13:29:09.668446100Z"
    }
   },
   "source": [
    "credit_filter_df.shape"
   ],
   "outputs": [
    {
     "data": {
      "text/plain": "(973441, 8)"
     },
     "execution_count": 151,
     "metadata": {},
     "output_type": "execute_result"
    }
   ],
   "execution_count": 151,
   "id": "57c818d3de81e99"
  },
  {
   "cell_type": "markdown",
   "metadata": {
    "scrolled": false,
    "tags": [],
    "slideshow": {
     "slide_type": "slide"
    },
    "id": "D582D33523C549C0B1940E75AA0C807C",
    "runtime": {
     "status": "default",
     "execution_status": null,
     "is_visible": false
    },
    "notebookId": "6524b1e01ca35e635cc0d344"
   },
   "source": [
    "### 4. 构造vintage"
   ],
   "id": "e4983ddd42a2be8f"
  },
  {
   "cell_type": "markdown",
   "metadata": {
    "scrolled": false,
    "tags": [],
    "slideshow": {
     "slide_type": "slide"
    },
    "id": "44198998941B4E03B8F7C91C7B0AFB6B",
    "runtime": {
     "status": "default",
     "execution_status": null,
     "is_visible": false
    },
    "notebookId": "6524b1e01ca35e635cc0d344"
   },
   "source": [
    "#### 逾期和总数"
   ],
   "id": "7a3fd62eb860d1af"
  },
  {
   "cell_type": "code",
   "metadata": {
    "collapsed": false,
    "scrolled": false,
    "tags": [],
    "slideshow": {
     "slide_type": "slide"
    },
    "id": "E674F668A709468CA9702BE64B4AD899",
    "notebookId": "6524b1e01ca35e635cc0d344",
    "trusted": true,
    "ExecuteTime": {
     "end_time": "2023-10-12T13:29:09.953421100Z",
     "start_time": "2023-10-12T13:29:09.675151Z"
    }
   },
   "source": [
    "# 统计每个月的信贷订单数量，应该看的是MIN_MONTH，这里要去重，所以用之前按用户ID分组的pivot表\n",
    "# 可以观察学习agg用法\n",
    "denominator_df = credit_pivot_df.groupby(['MIN_MONTH']).agg({'ID': ['count']}) \n",
    "denominator_df.reset_index(inplace = True)\n",
    "denominator_df.columns = ['MIN_MONTH', 'LENDING_COUNT']\n",
    "denominator_df"
   ],
   "outputs": [
    {
     "data": {
      "text/plain": "    MIN_MONTH  LENDING_COUNT\n0         -60            415\n1         -59            406\n2         -58            440\n3         -57            400\n4         -56            470\n..        ...            ...\n56         -4            874\n57         -3            919\n58         -2            771\n59         -1            686\n60          0            370\n\n[61 rows x 2 columns]",
      "text/html": "<div>\n<style scoped>\n    .dataframe tbody tr th:only-of-type {\n        vertical-align: middle;\n    }\n\n    .dataframe tbody tr th {\n        vertical-align: top;\n    }\n\n    .dataframe thead th {\n        text-align: right;\n    }\n</style>\n<table border=\"1\" class=\"dataframe\">\n  <thead>\n    <tr style=\"text-align: right;\">\n      <th></th>\n      <th>MIN_MONTH</th>\n      <th>LENDING_COUNT</th>\n    </tr>\n  </thead>\n  <tbody>\n    <tr>\n      <th>0</th>\n      <td>-60</td>\n      <td>415</td>\n    </tr>\n    <tr>\n      <th>1</th>\n      <td>-59</td>\n      <td>406</td>\n    </tr>\n    <tr>\n      <th>2</th>\n      <td>-58</td>\n      <td>440</td>\n    </tr>\n    <tr>\n      <th>3</th>\n      <td>-57</td>\n      <td>400</td>\n    </tr>\n    <tr>\n      <th>4</th>\n      <td>-56</td>\n      <td>470</td>\n    </tr>\n    <tr>\n      <th>...</th>\n      <td>...</td>\n      <td>...</td>\n    </tr>\n    <tr>\n      <th>56</th>\n      <td>-4</td>\n      <td>874</td>\n    </tr>\n    <tr>\n      <th>57</th>\n      <td>-3</td>\n      <td>919</td>\n    </tr>\n    <tr>\n      <th>58</th>\n      <td>-2</td>\n      <td>771</td>\n    </tr>\n    <tr>\n      <th>59</th>\n      <td>-1</td>\n      <td>686</td>\n    </tr>\n    <tr>\n      <th>60</th>\n      <td>0</td>\n      <td>370</td>\n    </tr>\n  </tbody>\n</table>\n<p>61 rows × 2 columns</p>\n</div>"
     },
     "execution_count": 152,
     "metadata": {},
     "output_type": "execute_result"
    }
   ],
   "execution_count": 152,
   "id": "a05bf9abb57dce4c"
  },
  {
   "cell_type": "code",
   "metadata": {
    "collapsed": false,
    "scrolled": false,
    "tags": [],
    "slideshow": {
     "slide_type": "slide"
    },
    "id": "4AD40243EE8247E698DA267BB99A037C",
    "notebookId": "6524b1e01ca35e635cc0d344",
    "trusted": true,
    "ExecuteTime": {
     "end_time": "2023-10-12T13:29:09.954418600Z",
     "start_time": "2023-10-12T13:29:09.684782300Z"
    }
   },
   "source": [
    "# 统计 每个月 x 每个MOB 的信贷订单数量\n",
    "vintage_df = credit_filter_df.groupby(['MIN_MONTH','MOB']).agg({'ID': ['count']}) \n",
    "vintage_df = vintage_df.reset_index()\n",
    "vintage_df.columns = ['MIN_MONTH','MOB','OVERDUE_RATIO'] \n",
    "vintage_df['OVERDUE_RATIO'] = np.nan\n",
    "vintage_df.head(10)"
   ],
   "outputs": [
    {
     "data": {
      "text/plain": "   MIN_MONTH  MOB  OVERDUE_RATIO\n0        -60    1            NaN\n1        -60    2            NaN\n2        -60    3            NaN\n3        -60    4            NaN\n4        -60    5            NaN\n5        -60    6            NaN\n6        -60    7            NaN\n7        -60    8            NaN\n8        -60    9            NaN\n9        -60   10            NaN",
      "text/html": "<div>\n<style scoped>\n    .dataframe tbody tr th:only-of-type {\n        vertical-align: middle;\n    }\n\n    .dataframe tbody tr th {\n        vertical-align: top;\n    }\n\n    .dataframe thead th {\n        text-align: right;\n    }\n</style>\n<table border=\"1\" class=\"dataframe\">\n  <thead>\n    <tr style=\"text-align: right;\">\n      <th></th>\n      <th>MIN_MONTH</th>\n      <th>MOB</th>\n      <th>OVERDUE_RATIO</th>\n    </tr>\n  </thead>\n  <tbody>\n    <tr>\n      <th>0</th>\n      <td>-60</td>\n      <td>1</td>\n      <td>NaN</td>\n    </tr>\n    <tr>\n      <th>1</th>\n      <td>-60</td>\n      <td>2</td>\n      <td>NaN</td>\n    </tr>\n    <tr>\n      <th>2</th>\n      <td>-60</td>\n      <td>3</td>\n      <td>NaN</td>\n    </tr>\n    <tr>\n      <th>3</th>\n      <td>-60</td>\n      <td>4</td>\n      <td>NaN</td>\n    </tr>\n    <tr>\n      <th>4</th>\n      <td>-60</td>\n      <td>5</td>\n      <td>NaN</td>\n    </tr>\n    <tr>\n      <th>5</th>\n      <td>-60</td>\n      <td>6</td>\n      <td>NaN</td>\n    </tr>\n    <tr>\n      <th>6</th>\n      <td>-60</td>\n      <td>7</td>\n      <td>NaN</td>\n    </tr>\n    <tr>\n      <th>7</th>\n      <td>-60</td>\n      <td>8</td>\n      <td>NaN</td>\n    </tr>\n    <tr>\n      <th>8</th>\n      <td>-60</td>\n      <td>9</td>\n      <td>NaN</td>\n    </tr>\n    <tr>\n      <th>9</th>\n      <td>-60</td>\n      <td>10</td>\n      <td>NaN</td>\n    </tr>\n  </tbody>\n</table>\n</div>"
     },
     "execution_count": 153,
     "metadata": {},
     "output_type": "execute_result"
    }
   ],
   "execution_count": 153,
   "id": "2d8765dedb26b5e"
  },
  {
   "cell_type": "code",
   "metadata": {
    "id": "3BFB4901E89C405684FAADA476ECF761",
    "notebookId": "6524b1e01ca35e635cc0d344",
    "collapsed": false,
    "scrolled": false,
    "tags": [],
    "slideshow": {
     "slide_type": "slide"
    },
    "trusted": true,
    "ExecuteTime": {
     "end_time": "2023-10-12T13:29:09.955424500Z",
     "start_time": "2023-10-12T13:29:09.751723800Z"
    }
   },
   "source": [
    "# 补上缺失的MOB0数据行\n",
    "lst = vintage_df[\"MIN_MONTH\"].unique()\n",
    "for i in lst:\n",
    "    vintage_df = vintage_df._append({'MIN_MONTH': i, 'MOB': 0, 'OVERDUE_RATIO': np.nan}, ignore_index=True)\n",
    "vintage_df = vintage_df.sort_values(by=['MIN_MONTH', 'MOB'])\n",
    "vintage_df = vintage_df.reset_index(drop=True)\n",
    "vintage_df"
   ],
   "outputs": [
    {
     "data": {
      "text/plain": "      MIN_MONTH   MOB  OVERDUE_RATIO\n0         -60.0   0.0            NaN\n1         -60.0   1.0            NaN\n2         -60.0   2.0            NaN\n3         -60.0   3.0            NaN\n4         -60.0   4.0            NaN\n...         ...   ...            ...\n1882      -10.0   7.0            NaN\n1883      -10.0   8.0            NaN\n1884      -10.0   9.0            NaN\n1885      -10.0  10.0            NaN\n1886      -10.0  11.0            NaN\n\n[1887 rows x 3 columns]",
      "text/html": "<div>\n<style scoped>\n    .dataframe tbody tr th:only-of-type {\n        vertical-align: middle;\n    }\n\n    .dataframe tbody tr th {\n        vertical-align: top;\n    }\n\n    .dataframe thead th {\n        text-align: right;\n    }\n</style>\n<table border=\"1\" class=\"dataframe\">\n  <thead>\n    <tr style=\"text-align: right;\">\n      <th></th>\n      <th>MIN_MONTH</th>\n      <th>MOB</th>\n      <th>OVERDUE_RATIO</th>\n    </tr>\n  </thead>\n  <tbody>\n    <tr>\n      <th>0</th>\n      <td>-60.0</td>\n      <td>0.0</td>\n      <td>NaN</td>\n    </tr>\n    <tr>\n      <th>1</th>\n      <td>-60.0</td>\n      <td>1.0</td>\n      <td>NaN</td>\n    </tr>\n    <tr>\n      <th>2</th>\n      <td>-60.0</td>\n      <td>2.0</td>\n      <td>NaN</td>\n    </tr>\n    <tr>\n      <th>3</th>\n      <td>-60.0</td>\n      <td>3.0</td>\n      <td>NaN</td>\n    </tr>\n    <tr>\n      <th>4</th>\n      <td>-60.0</td>\n      <td>4.0</td>\n      <td>NaN</td>\n    </tr>\n    <tr>\n      <th>...</th>\n      <td>...</td>\n      <td>...</td>\n      <td>...</td>\n    </tr>\n    <tr>\n      <th>1882</th>\n      <td>-10.0</td>\n      <td>7.0</td>\n      <td>NaN</td>\n    </tr>\n    <tr>\n      <th>1883</th>\n      <td>-10.0</td>\n      <td>8.0</td>\n      <td>NaN</td>\n    </tr>\n    <tr>\n      <th>1884</th>\n      <td>-10.0</td>\n      <td>9.0</td>\n      <td>NaN</td>\n    </tr>\n    <tr>\n      <th>1885</th>\n      <td>-10.0</td>\n      <td>10.0</td>\n      <td>NaN</td>\n    </tr>\n    <tr>\n      <th>1886</th>\n      <td>-10.0</td>\n      <td>11.0</td>\n      <td>NaN</td>\n    </tr>\n  </tbody>\n</table>\n<p>1887 rows × 3 columns</p>\n</div>"
     },
     "execution_count": 154,
     "metadata": {},
     "output_type": "execute_result"
    }
   ],
   "execution_count": 154,
   "id": "ddd1fb3e31b9ef9b"
  },
  {
   "cell_type": "markdown",
   "metadata": {
    "id": "2292DB910D2E45D2BCD8AE11F2A8C231",
    "notebookId": "6524b1e01ca35e635cc0d344",
    "runtime": {
     "status": "default",
     "execution_status": null,
     "is_visible": false
    },
    "scrolled": false,
    "tags": [],
    "slideshow": {
     "slide_type": "slide"
    }
   },
   "source": [
    "#### TODO #4"
   ],
   "id": "dda78464f723a7b9"
  },
  {
   "cell_type": "code",
   "metadata": {
    "collapsed": false,
    "scrolled": false,
    "tags": [],
    "slideshow": {
     "slide_type": "slide"
    },
    "id": "80F56C75535D4F72B7F06EB0C45C58FE",
    "notebookId": "6524b1e01ca35e635cc0d344",
    "trusted": true,
    "ExecuteTime": {
     "end_time": "2023-10-12T13:29:09.978931700Z",
     "start_time": "2023-10-12T13:29:09.799405900Z"
    }
   },
   "source": [
    "# 合并，给每个MOB增加一列对应月份的信贷订单数量\n",
    "# TODO\n",
    "# 根据MIN_MONTH属性合并vintage_df, denominator_df（建议使用vintage_df的key）\n",
    "# 提示： pd.merge函数\n",
    "vintage_df = pd.merge(vintage_df,denominator_df,how=\"left\",on=\"MIN_MONTH\")\n",
    "\n",
    "vintage_df = vintage_df.set_index(['MIN_MONTH', 'MOB'])\n",
    "vintage_df"
   ],
   "outputs": [
    {
     "data": {
      "text/plain": "                OVERDUE_RATIO  LENDING_COUNT\nMIN_MONTH MOB                               \n-60.0     0.0             NaN            415\n          1.0             NaN            415\n          2.0             NaN            415\n          3.0             NaN            415\n          4.0             NaN            415\n...                       ...            ...\n-10.0     7.0             NaN           1027\n          8.0             NaN           1027\n          9.0             NaN           1027\n          10.0            NaN           1027\n          11.0            NaN           1027\n\n[1887 rows x 2 columns]",
      "text/html": "<div>\n<style scoped>\n    .dataframe tbody tr th:only-of-type {\n        vertical-align: middle;\n    }\n\n    .dataframe tbody tr th {\n        vertical-align: top;\n    }\n\n    .dataframe thead th {\n        text-align: right;\n    }\n</style>\n<table border=\"1\" class=\"dataframe\">\n  <thead>\n    <tr style=\"text-align: right;\">\n      <th></th>\n      <th></th>\n      <th>OVERDUE_RATIO</th>\n      <th>LENDING_COUNT</th>\n    </tr>\n    <tr>\n      <th>MIN_MONTH</th>\n      <th>MOB</th>\n      <th></th>\n      <th></th>\n    </tr>\n  </thead>\n  <tbody>\n    <tr>\n      <th rowspan=\"5\" valign=\"top\">-60.0</th>\n      <th>0.0</th>\n      <td>NaN</td>\n      <td>415</td>\n    </tr>\n    <tr>\n      <th>1.0</th>\n      <td>NaN</td>\n      <td>415</td>\n    </tr>\n    <tr>\n      <th>2.0</th>\n      <td>NaN</td>\n      <td>415</td>\n    </tr>\n    <tr>\n      <th>3.0</th>\n      <td>NaN</td>\n      <td>415</td>\n    </tr>\n    <tr>\n      <th>4.0</th>\n      <td>NaN</td>\n      <td>415</td>\n    </tr>\n    <tr>\n      <th>...</th>\n      <th>...</th>\n      <td>...</td>\n      <td>...</td>\n    </tr>\n    <tr>\n      <th rowspan=\"5\" valign=\"top\">-10.0</th>\n      <th>7.0</th>\n      <td>NaN</td>\n      <td>1027</td>\n    </tr>\n    <tr>\n      <th>8.0</th>\n      <td>NaN</td>\n      <td>1027</td>\n    </tr>\n    <tr>\n      <th>9.0</th>\n      <td>NaN</td>\n      <td>1027</td>\n    </tr>\n    <tr>\n      <th>10.0</th>\n      <td>NaN</td>\n      <td>1027</td>\n    </tr>\n    <tr>\n      <th>11.0</th>\n      <td>NaN</td>\n      <td>1027</td>\n    </tr>\n  </tbody>\n</table>\n<p>1887 rows × 2 columns</p>\n</div>"
     },
     "execution_count": 155,
     "metadata": {},
     "output_type": "execute_result"
    }
   ],
   "execution_count": 155,
   "id": "4ddc1cc4f0e426a8"
  },
  {
   "cell_type": "markdown",
   "metadata": {
    "scrolled": false,
    "tags": [],
    "slideshow": {
     "slide_type": "slide"
    },
    "id": "2DEC11E252BE479499B8CC107199AFEA",
    "runtime": {
     "status": "default",
     "execution_status": null,
     "is_visible": false
    },
    "notebookId": "6524b1e01ca35e635cc0d344"
   },
   "source": [
    "#### 去重后累加  \n",
    "这里可以思考一下，为什么需要这么做？"
   ],
   "id": "1b9fe7882d04375b"
  },
  {
   "cell_type": "code",
   "metadata": {
    "collapsed": false,
    "scrolled": false,
    "tags": [],
    "slideshow": {
     "slide_type": "slide"
    },
    "id": "AB217303387F48CAB48D894E7648AEF5",
    "notebookId": "6524b1e01ca35e635cc0d344",
    "trusted": true,
    "ExecuteTime": {
     "end_time": "2023-10-12T13:29:09.979929Z",
     "start_time": "2023-10-12T13:29:09.816537300Z"
    }
   },
   "source": [
    "# 一个人的逾期账单可以有多笔，只需保留首次逾期的记录，为什么？\n",
    "overdue_credit_df = credit_filter_df[credit_filter_df['OVERDUE'] == 1]"
   ],
   "outputs": [],
   "execution_count": 156,
   "id": "702287fb3e0af35a"
  },
  {
   "cell_type": "code",
   "metadata": {
    "collapsed": false,
    "scrolled": false,
    "tags": [],
    "slideshow": {
     "slide_type": "slide"
    },
    "id": "3933A702A1AF47F397DAEAC8E2968E81",
    "notebookId": "6524b1e01ca35e635cc0d344",
    "trusted": true,
    "ExecuteTime": {
     "end_time": "2023-10-12T13:29:10.124160200Z",
     "start_time": "2023-10-12T13:29:09.824264100Z"
    }
   },
   "source": [
    "# drop_duplicates拥有去重功能，可以学习一下\n",
    "overdue_credit_df = overdue_credit_df.sort_values(by=['ID', 'MOB']).drop_duplicates(subset=['ID'], keep='first')\n",
    "overdue_group_df = overdue_credit_df.groupby(['MIN_MONTH', 'MOB']).count()['ID']\n",
    "overdue_group_df"
   ],
   "outputs": [
    {
     "data": {
      "text/plain": "MIN_MONTH  MOB\n-60        6      1\n           8      2\n           10     1\n           12     1\n           13     1\n                 ..\n-10        7      2\n           8      3\n           9      2\n           10     2\n           11     1\nName: ID, Length: 437, dtype: int64"
     },
     "execution_count": 157,
     "metadata": {},
     "output_type": "execute_result"
    }
   ],
   "execution_count": 157,
   "id": "478c6b24770d2d4c"
  },
  {
   "cell_type": "code",
   "metadata": {
    "collapsed": false,
    "scrolled": false,
    "tags": [],
    "slideshow": {
     "slide_type": "slide"
    },
    "id": "7A51007CB66D44FD8247E3441BA8924B",
    "notebookId": "6524b1e01ca35e635cc0d344",
    "trusted": true,
    "ExecuteTime": {
     "end_time": "2023-10-12T13:29:10.130141700Z",
     "start_time": "2023-10-12T13:29:09.835841300Z"
    }
   },
   "source": [
    "# 因为逾期率是一个累加的概念，比如10个月前的放款，看其在第10月的违约率，是要累计前几个月的违约个数的\n",
    "# 会发现由于数据量少，在unstack的时候缺失了几个mob期，这个在cumsum也补不回来，如32 41 43等，需要手动添加\n",
    "\n",
    "# unstack 从行到列取消堆叠\n",
    "# 可以查询unstack和stack用法，下一个todo会用到，理解为主\n",
    "unstack_overdue_df = overdue_group_df.unstack('MIN_MONTH').fillna(0)\n",
    "unstack_overdue_df"
   ],
   "outputs": [
    {
     "data": {
      "text/plain": "MIN_MONTH  -60  -59  -58  -57  -56  -55  -54  -53  -52  -51  ...  -19  -18  \\\nMOB                                                          ...             \n3          0.0  0.0  0.0  0.0  2.0  1.0  0.0  0.0  4.0  0.0  ...  3.0  1.0   \n4          0.0  1.0  0.0  0.0  0.0  2.0  1.0  0.0  1.0  1.0  ...  0.0  1.0   \n5          0.0  0.0  0.0  0.0  2.0  3.0  1.0  1.0  0.0  0.0  ...  0.0  0.0   \n6          1.0  0.0  0.0  0.0  1.0  2.0  0.0  0.0  0.0  3.0  ...  2.0  0.0   \n7          0.0  1.0  0.0  0.0  0.0  3.0  1.0  2.0  2.0  1.0  ...  2.0  1.0   \n8          2.0  0.0  2.0  2.0  3.0  0.0  3.0  1.0  0.0  2.0  ...  1.0  0.0   \n9          0.0  0.0  1.0  0.0  0.0  0.0  0.0  0.0  1.0  0.0  ...  1.0  1.0   \n10         1.0  2.0  0.0  0.0  2.0  1.0  2.0  1.0  1.0  1.0  ...  0.0  0.0   \n11         0.0  0.0  2.0  0.0  0.0  0.0  1.0  1.0  0.0  0.0  ...  1.0  1.0   \n12         1.0  3.0  1.0  0.0  2.0  0.0  0.0  0.0  0.0  2.0  ...  1.0  1.0   \n13         1.0  0.0  0.0  1.0  2.0  1.0  2.0  0.0  1.0  0.0  ...  0.0  2.0   \n14         1.0  0.0  0.0  3.0  2.0  3.0  2.0  0.0  0.0  0.0  ...  0.0  1.0   \n15         0.0  0.0  0.0  0.0  0.0  1.0  0.0  0.0  0.0  0.0  ...  0.0  1.0   \n16         0.0  0.0  0.0  0.0  0.0  1.0  1.0  0.0  1.0  0.0  ...  1.0  0.0   \n17         0.0  0.0  0.0  0.0  0.0  1.0  0.0  0.0  0.0  0.0  ...  0.0  0.0   \n18         0.0  0.0  1.0  0.0  0.0  0.0  1.0  0.0  1.0  0.0  ...  1.0  0.0   \n19         0.0  1.0  1.0  0.0  0.0  0.0  0.0  1.0  0.0  0.0  ...  0.0  0.0   \n20         0.0  1.0  0.0  0.0  0.0  0.0  0.0  0.0  0.0  0.0  ...  0.0  0.0   \n21         0.0  0.0  0.0  0.0  0.0  0.0  0.0  0.0  0.0  0.0  ...  0.0  0.0   \n22         1.0  1.0  2.0  0.0  0.0  0.0  0.0  0.0  0.0  0.0  ...  0.0  0.0   \n23         0.0  0.0  0.0  0.0  0.0  0.0  0.0  0.0  0.0  0.0  ...  0.0  0.0   \n24         0.0  0.0  0.0  0.0  0.0  0.0  0.0  0.0  0.0  0.0  ...  0.0  0.0   \n25         0.0  0.0  0.0  1.0  0.0  0.0  0.0  0.0  0.0  0.0  ...  0.0  0.0   \n26         1.0  1.0  0.0  0.0  0.0  0.0  0.0  0.0  0.0  0.0  ...  0.0  0.0   \n27         0.0  0.0  0.0  0.0  0.0  1.0  0.0  2.0  0.0  0.0  ...  0.0  0.0   \n28         0.0  0.0  0.0  0.0  0.0  0.0  0.0  0.0  0.0  0.0  ...  0.0  0.0   \n29         0.0  0.0  0.0  0.0  0.0  0.0  0.0  0.0  0.0  0.0  ...  0.0  0.0   \n30         1.0  0.0  0.0  0.0  0.0  0.0  0.0  0.0  0.0  0.0  ...  0.0  0.0   \n31         1.0  0.0  0.0  0.0  0.0  0.0  0.0  0.0  0.0  1.0  ...  0.0  0.0   \n33         0.0  0.0  0.0  0.0  0.0  0.0  0.0  0.0  0.0  0.0  ...  0.0  0.0   \n34         0.0  0.0  0.0  0.0  0.0  1.0  0.0  0.0  0.0  0.0  ...  0.0  0.0   \n35         0.0  0.0  1.0  0.0  0.0  0.0  0.0  2.0  0.0  0.0  ...  0.0  0.0   \n36         0.0  0.0  0.0  1.0  0.0  0.0  0.0  0.0  0.0  0.0  ...  0.0  0.0   \n38         0.0  0.0  0.0  0.0  0.0  0.0  0.0  0.0  1.0  0.0  ...  0.0  0.0   \n39         0.0  0.0  0.0  0.0  0.0  0.0  0.0  0.0  0.0  0.0  ...  0.0  0.0   \n40         0.0  0.0  0.0  0.0  0.0  1.0  0.0  0.0  0.0  0.0  ...  0.0  0.0   \n42         0.0  0.0  0.0  1.0  0.0  0.0  0.0  0.0  0.0  0.0  ...  0.0  0.0   \n44         0.0  0.0  0.0  0.0  0.0  0.0  0.0  0.0  0.0  0.0  ...  0.0  0.0   \n48         0.0  0.0  0.0  0.0  0.0  0.0  0.0  1.0  0.0  0.0  ...  0.0  0.0   \n49         0.0  0.0  0.0  0.0  0.0  0.0  0.0  1.0  0.0  0.0  ...  0.0  0.0   \n51         1.0  0.0  0.0  0.0  0.0  0.0  0.0  0.0  0.0  0.0  ...  0.0  0.0   \n52         0.0  0.0  0.0  0.0  1.0  0.0  0.0  0.0  0.0  0.0  ...  0.0  0.0   \n55         0.0  1.0  0.0  0.0  0.0  0.0  0.0  0.0  0.0  0.0  ...  0.0  0.0   \n56         0.0  0.0  0.0  0.0  1.0  0.0  0.0  0.0  0.0  0.0  ...  0.0  0.0   \n59         1.0  0.0  0.0  0.0  0.0  0.0  0.0  0.0  0.0  0.0  ...  0.0  0.0   \n\nMIN_MONTH  -17  -16  -15  -14  -13  -12  -11  -10  \nMOB                                                \n3          0.0  0.0  1.0  0.0  0.0  1.0  2.0  1.0  \n4          1.0  0.0  1.0  1.0  2.0  1.0  0.0  1.0  \n5          1.0  0.0  1.0  0.0  2.0  0.0  1.0  0.0  \n6          1.0  1.0  1.0  3.0  0.0  0.0  2.0  1.0  \n7          0.0  0.0  1.0  0.0  0.0  1.0  1.0  2.0  \n8          1.0  1.0  3.0  0.0  1.0  4.0  0.0  3.0  \n9          1.0  2.0  0.0  2.0  0.0  0.0  2.0  2.0  \n10         0.0  1.0  1.0  0.0  1.0  0.0  3.0  2.0  \n11         0.0  1.0  1.0  0.0  2.0  0.0  1.0  1.0  \n12         1.0  4.0  0.0  2.0  1.0  0.0  0.0  0.0  \n13         0.0  0.0  0.0  0.0  0.0  0.0  0.0  0.0  \n14         0.0  1.0  0.0  0.0  1.0  0.0  0.0  0.0  \n15         0.0  0.0  0.0  1.0  0.0  0.0  0.0  0.0  \n16         0.0  0.0  0.0  0.0  0.0  0.0  0.0  0.0  \n17         0.0  0.0  0.0  0.0  0.0  0.0  0.0  0.0  \n18         0.0  0.0  0.0  0.0  0.0  0.0  0.0  0.0  \n19         0.0  0.0  0.0  0.0  0.0  0.0  0.0  0.0  \n20         0.0  0.0  0.0  0.0  0.0  0.0  0.0  0.0  \n21         0.0  0.0  0.0  0.0  0.0  0.0  0.0  0.0  \n22         0.0  0.0  0.0  0.0  0.0  0.0  0.0  0.0  \n23         0.0  0.0  0.0  0.0  0.0  0.0  0.0  0.0  \n24         0.0  0.0  0.0  0.0  0.0  0.0  0.0  0.0  \n25         0.0  0.0  0.0  0.0  0.0  0.0  0.0  0.0  \n26         0.0  0.0  0.0  0.0  0.0  0.0  0.0  0.0  \n27         0.0  0.0  0.0  0.0  0.0  0.0  0.0  0.0  \n28         0.0  0.0  0.0  0.0  0.0  0.0  0.0  0.0  \n29         0.0  0.0  0.0  0.0  0.0  0.0  0.0  0.0  \n30         0.0  0.0  0.0  0.0  0.0  0.0  0.0  0.0  \n31         0.0  0.0  0.0  0.0  0.0  0.0  0.0  0.0  \n33         0.0  0.0  0.0  0.0  0.0  0.0  0.0  0.0  \n34         0.0  0.0  0.0  0.0  0.0  0.0  0.0  0.0  \n35         0.0  0.0  0.0  0.0  0.0  0.0  0.0  0.0  \n36         0.0  0.0  0.0  0.0  0.0  0.0  0.0  0.0  \n38         0.0  0.0  0.0  0.0  0.0  0.0  0.0  0.0  \n39         0.0  0.0  0.0  0.0  0.0  0.0  0.0  0.0  \n40         0.0  0.0  0.0  0.0  0.0  0.0  0.0  0.0  \n42         0.0  0.0  0.0  0.0  0.0  0.0  0.0  0.0  \n44         0.0  0.0  0.0  0.0  0.0  0.0  0.0  0.0  \n48         0.0  0.0  0.0  0.0  0.0  0.0  0.0  0.0  \n49         0.0  0.0  0.0  0.0  0.0  0.0  0.0  0.0  \n51         0.0  0.0  0.0  0.0  0.0  0.0  0.0  0.0  \n52         0.0  0.0  0.0  0.0  0.0  0.0  0.0  0.0  \n55         0.0  0.0  0.0  0.0  0.0  0.0  0.0  0.0  \n56         0.0  0.0  0.0  0.0  0.0  0.0  0.0  0.0  \n59         0.0  0.0  0.0  0.0  0.0  0.0  0.0  0.0  \n\n[45 rows x 51 columns]",
      "text/html": "<div>\n<style scoped>\n    .dataframe tbody tr th:only-of-type {\n        vertical-align: middle;\n    }\n\n    .dataframe tbody tr th {\n        vertical-align: top;\n    }\n\n    .dataframe thead th {\n        text-align: right;\n    }\n</style>\n<table border=\"1\" class=\"dataframe\">\n  <thead>\n    <tr style=\"text-align: right;\">\n      <th>MIN_MONTH</th>\n      <th>-60</th>\n      <th>-59</th>\n      <th>-58</th>\n      <th>-57</th>\n      <th>-56</th>\n      <th>-55</th>\n      <th>-54</th>\n      <th>-53</th>\n      <th>-52</th>\n      <th>-51</th>\n      <th>...</th>\n      <th>-19</th>\n      <th>-18</th>\n      <th>-17</th>\n      <th>-16</th>\n      <th>-15</th>\n      <th>-14</th>\n      <th>-13</th>\n      <th>-12</th>\n      <th>-11</th>\n      <th>-10</th>\n    </tr>\n    <tr>\n      <th>MOB</th>\n      <th></th>\n      <th></th>\n      <th></th>\n      <th></th>\n      <th></th>\n      <th></th>\n      <th></th>\n      <th></th>\n      <th></th>\n      <th></th>\n      <th></th>\n      <th></th>\n      <th></th>\n      <th></th>\n      <th></th>\n      <th></th>\n      <th></th>\n      <th></th>\n      <th></th>\n      <th></th>\n      <th></th>\n    </tr>\n  </thead>\n  <tbody>\n    <tr>\n      <th>3</th>\n      <td>0.0</td>\n      <td>0.0</td>\n      <td>0.0</td>\n      <td>0.0</td>\n      <td>2.0</td>\n      <td>1.0</td>\n      <td>0.0</td>\n      <td>0.0</td>\n      <td>4.0</td>\n      <td>0.0</td>\n      <td>...</td>\n      <td>3.0</td>\n      <td>1.0</td>\n      <td>0.0</td>\n      <td>0.0</td>\n      <td>1.0</td>\n      <td>0.0</td>\n      <td>0.0</td>\n      <td>1.0</td>\n      <td>2.0</td>\n      <td>1.0</td>\n    </tr>\n    <tr>\n      <th>4</th>\n      <td>0.0</td>\n      <td>1.0</td>\n      <td>0.0</td>\n      <td>0.0</td>\n      <td>0.0</td>\n      <td>2.0</td>\n      <td>1.0</td>\n      <td>0.0</td>\n      <td>1.0</td>\n      <td>1.0</td>\n      <td>...</td>\n      <td>0.0</td>\n      <td>1.0</td>\n      <td>1.0</td>\n      <td>0.0</td>\n      <td>1.0</td>\n      <td>1.0</td>\n      <td>2.0</td>\n      <td>1.0</td>\n      <td>0.0</td>\n      <td>1.0</td>\n    </tr>\n    <tr>\n      <th>5</th>\n      <td>0.0</td>\n      <td>0.0</td>\n      <td>0.0</td>\n      <td>0.0</td>\n      <td>2.0</td>\n      <td>3.0</td>\n      <td>1.0</td>\n      <td>1.0</td>\n      <td>0.0</td>\n      <td>0.0</td>\n      <td>...</td>\n      <td>0.0</td>\n      <td>0.0</td>\n      <td>1.0</td>\n      <td>0.0</td>\n      <td>1.0</td>\n      <td>0.0</td>\n      <td>2.0</td>\n      <td>0.0</td>\n      <td>1.0</td>\n      <td>0.0</td>\n    </tr>\n    <tr>\n      <th>6</th>\n      <td>1.0</td>\n      <td>0.0</td>\n      <td>0.0</td>\n      <td>0.0</td>\n      <td>1.0</td>\n      <td>2.0</td>\n      <td>0.0</td>\n      <td>0.0</td>\n      <td>0.0</td>\n      <td>3.0</td>\n      <td>...</td>\n      <td>2.0</td>\n      <td>0.0</td>\n      <td>1.0</td>\n      <td>1.0</td>\n      <td>1.0</td>\n      <td>3.0</td>\n      <td>0.0</td>\n      <td>0.0</td>\n      <td>2.0</td>\n      <td>1.0</td>\n    </tr>\n    <tr>\n      <th>7</th>\n      <td>0.0</td>\n      <td>1.0</td>\n      <td>0.0</td>\n      <td>0.0</td>\n      <td>0.0</td>\n      <td>3.0</td>\n      <td>1.0</td>\n      <td>2.0</td>\n      <td>2.0</td>\n      <td>1.0</td>\n      <td>...</td>\n      <td>2.0</td>\n      <td>1.0</td>\n      <td>0.0</td>\n      <td>0.0</td>\n      <td>1.0</td>\n      <td>0.0</td>\n      <td>0.0</td>\n      <td>1.0</td>\n      <td>1.0</td>\n      <td>2.0</td>\n    </tr>\n    <tr>\n      <th>8</th>\n      <td>2.0</td>\n      <td>0.0</td>\n      <td>2.0</td>\n      <td>2.0</td>\n      <td>3.0</td>\n      <td>0.0</td>\n      <td>3.0</td>\n      <td>1.0</td>\n      <td>0.0</td>\n      <td>2.0</td>\n      <td>...</td>\n      <td>1.0</td>\n      <td>0.0</td>\n      <td>1.0</td>\n      <td>1.0</td>\n      <td>3.0</td>\n      <td>0.0</td>\n      <td>1.0</td>\n      <td>4.0</td>\n      <td>0.0</td>\n      <td>3.0</td>\n    </tr>\n    <tr>\n      <th>9</th>\n      <td>0.0</td>\n      <td>0.0</td>\n      <td>1.0</td>\n      <td>0.0</td>\n      <td>0.0</td>\n      <td>0.0</td>\n      <td>0.0</td>\n      <td>0.0</td>\n      <td>1.0</td>\n      <td>0.0</td>\n      <td>...</td>\n      <td>1.0</td>\n      <td>1.0</td>\n      <td>1.0</td>\n      <td>2.0</td>\n      <td>0.0</td>\n      <td>2.0</td>\n      <td>0.0</td>\n      <td>0.0</td>\n      <td>2.0</td>\n      <td>2.0</td>\n    </tr>\n    <tr>\n      <th>10</th>\n      <td>1.0</td>\n      <td>2.0</td>\n      <td>0.0</td>\n      <td>0.0</td>\n      <td>2.0</td>\n      <td>1.0</td>\n      <td>2.0</td>\n      <td>1.0</td>\n      <td>1.0</td>\n      <td>1.0</td>\n      <td>...</td>\n      <td>0.0</td>\n      <td>0.0</td>\n      <td>0.0</td>\n      <td>1.0</td>\n      <td>1.0</td>\n      <td>0.0</td>\n      <td>1.0</td>\n      <td>0.0</td>\n      <td>3.0</td>\n      <td>2.0</td>\n    </tr>\n    <tr>\n      <th>11</th>\n      <td>0.0</td>\n      <td>0.0</td>\n      <td>2.0</td>\n      <td>0.0</td>\n      <td>0.0</td>\n      <td>0.0</td>\n      <td>1.0</td>\n      <td>1.0</td>\n      <td>0.0</td>\n      <td>0.0</td>\n      <td>...</td>\n      <td>1.0</td>\n      <td>1.0</td>\n      <td>0.0</td>\n      <td>1.0</td>\n      <td>1.0</td>\n      <td>0.0</td>\n      <td>2.0</td>\n      <td>0.0</td>\n      <td>1.0</td>\n      <td>1.0</td>\n    </tr>\n    <tr>\n      <th>12</th>\n      <td>1.0</td>\n      <td>3.0</td>\n      <td>1.0</td>\n      <td>0.0</td>\n      <td>2.0</td>\n      <td>0.0</td>\n      <td>0.0</td>\n      <td>0.0</td>\n      <td>0.0</td>\n      <td>2.0</td>\n      <td>...</td>\n      <td>1.0</td>\n      <td>1.0</td>\n      <td>1.0</td>\n      <td>4.0</td>\n      <td>0.0</td>\n      <td>2.0</td>\n      <td>1.0</td>\n      <td>0.0</td>\n      <td>0.0</td>\n      <td>0.0</td>\n    </tr>\n    <tr>\n      <th>13</th>\n      <td>1.0</td>\n      <td>0.0</td>\n      <td>0.0</td>\n      <td>1.0</td>\n      <td>2.0</td>\n      <td>1.0</td>\n      <td>2.0</td>\n      <td>0.0</td>\n      <td>1.0</td>\n      <td>0.0</td>\n      <td>...</td>\n      <td>0.0</td>\n      <td>2.0</td>\n      <td>0.0</td>\n      <td>0.0</td>\n      <td>0.0</td>\n      <td>0.0</td>\n      <td>0.0</td>\n      <td>0.0</td>\n      <td>0.0</td>\n      <td>0.0</td>\n    </tr>\n    <tr>\n      <th>14</th>\n      <td>1.0</td>\n      <td>0.0</td>\n      <td>0.0</td>\n      <td>3.0</td>\n      <td>2.0</td>\n      <td>3.0</td>\n      <td>2.0</td>\n      <td>0.0</td>\n      <td>0.0</td>\n      <td>0.0</td>\n      <td>...</td>\n      <td>0.0</td>\n      <td>1.0</td>\n      <td>0.0</td>\n      <td>1.0</td>\n      <td>0.0</td>\n      <td>0.0</td>\n      <td>1.0</td>\n      <td>0.0</td>\n      <td>0.0</td>\n      <td>0.0</td>\n    </tr>\n    <tr>\n      <th>15</th>\n      <td>0.0</td>\n      <td>0.0</td>\n      <td>0.0</td>\n      <td>0.0</td>\n      <td>0.0</td>\n      <td>1.0</td>\n      <td>0.0</td>\n      <td>0.0</td>\n      <td>0.0</td>\n      <td>0.0</td>\n      <td>...</td>\n      <td>0.0</td>\n      <td>1.0</td>\n      <td>0.0</td>\n      <td>0.0</td>\n      <td>0.0</td>\n      <td>1.0</td>\n      <td>0.0</td>\n      <td>0.0</td>\n      <td>0.0</td>\n      <td>0.0</td>\n    </tr>\n    <tr>\n      <th>16</th>\n      <td>0.0</td>\n      <td>0.0</td>\n      <td>0.0</td>\n      <td>0.0</td>\n      <td>0.0</td>\n      <td>1.0</td>\n      <td>1.0</td>\n      <td>0.0</td>\n      <td>1.0</td>\n      <td>0.0</td>\n      <td>...</td>\n      <td>1.0</td>\n      <td>0.0</td>\n      <td>0.0</td>\n      <td>0.0</td>\n      <td>0.0</td>\n      <td>0.0</td>\n      <td>0.0</td>\n      <td>0.0</td>\n      <td>0.0</td>\n      <td>0.0</td>\n    </tr>\n    <tr>\n      <th>17</th>\n      <td>0.0</td>\n      <td>0.0</td>\n      <td>0.0</td>\n      <td>0.0</td>\n      <td>0.0</td>\n      <td>1.0</td>\n      <td>0.0</td>\n      <td>0.0</td>\n      <td>0.0</td>\n      <td>0.0</td>\n      <td>...</td>\n      <td>0.0</td>\n      <td>0.0</td>\n      <td>0.0</td>\n      <td>0.0</td>\n      <td>0.0</td>\n      <td>0.0</td>\n      <td>0.0</td>\n      <td>0.0</td>\n      <td>0.0</td>\n      <td>0.0</td>\n    </tr>\n    <tr>\n      <th>18</th>\n      <td>0.0</td>\n      <td>0.0</td>\n      <td>1.0</td>\n      <td>0.0</td>\n      <td>0.0</td>\n      <td>0.0</td>\n      <td>1.0</td>\n      <td>0.0</td>\n      <td>1.0</td>\n      <td>0.0</td>\n      <td>...</td>\n      <td>1.0</td>\n      <td>0.0</td>\n      <td>0.0</td>\n      <td>0.0</td>\n      <td>0.0</td>\n      <td>0.0</td>\n      <td>0.0</td>\n      <td>0.0</td>\n      <td>0.0</td>\n      <td>0.0</td>\n    </tr>\n    <tr>\n      <th>19</th>\n      <td>0.0</td>\n      <td>1.0</td>\n      <td>1.0</td>\n      <td>0.0</td>\n      <td>0.0</td>\n      <td>0.0</td>\n      <td>0.0</td>\n      <td>1.0</td>\n      <td>0.0</td>\n      <td>0.0</td>\n      <td>...</td>\n      <td>0.0</td>\n      <td>0.0</td>\n      <td>0.0</td>\n      <td>0.0</td>\n      <td>0.0</td>\n      <td>0.0</td>\n      <td>0.0</td>\n      <td>0.0</td>\n      <td>0.0</td>\n      <td>0.0</td>\n    </tr>\n    <tr>\n      <th>20</th>\n      <td>0.0</td>\n      <td>1.0</td>\n      <td>0.0</td>\n      <td>0.0</td>\n      <td>0.0</td>\n      <td>0.0</td>\n      <td>0.0</td>\n      <td>0.0</td>\n      <td>0.0</td>\n      <td>0.0</td>\n      <td>...</td>\n      <td>0.0</td>\n      <td>0.0</td>\n      <td>0.0</td>\n      <td>0.0</td>\n      <td>0.0</td>\n      <td>0.0</td>\n      <td>0.0</td>\n      <td>0.0</td>\n      <td>0.0</td>\n      <td>0.0</td>\n    </tr>\n    <tr>\n      <th>21</th>\n      <td>0.0</td>\n      <td>0.0</td>\n      <td>0.0</td>\n      <td>0.0</td>\n      <td>0.0</td>\n      <td>0.0</td>\n      <td>0.0</td>\n      <td>0.0</td>\n      <td>0.0</td>\n      <td>0.0</td>\n      <td>...</td>\n      <td>0.0</td>\n      <td>0.0</td>\n      <td>0.0</td>\n      <td>0.0</td>\n      <td>0.0</td>\n      <td>0.0</td>\n      <td>0.0</td>\n      <td>0.0</td>\n      <td>0.0</td>\n      <td>0.0</td>\n    </tr>\n    <tr>\n      <th>22</th>\n      <td>1.0</td>\n      <td>1.0</td>\n      <td>2.0</td>\n      <td>0.0</td>\n      <td>0.0</td>\n      <td>0.0</td>\n      <td>0.0</td>\n      <td>0.0</td>\n      <td>0.0</td>\n      <td>0.0</td>\n      <td>...</td>\n      <td>0.0</td>\n      <td>0.0</td>\n      <td>0.0</td>\n      <td>0.0</td>\n      <td>0.0</td>\n      <td>0.0</td>\n      <td>0.0</td>\n      <td>0.0</td>\n      <td>0.0</td>\n      <td>0.0</td>\n    </tr>\n    <tr>\n      <th>23</th>\n      <td>0.0</td>\n      <td>0.0</td>\n      <td>0.0</td>\n      <td>0.0</td>\n      <td>0.0</td>\n      <td>0.0</td>\n      <td>0.0</td>\n      <td>0.0</td>\n      <td>0.0</td>\n      <td>0.0</td>\n      <td>...</td>\n      <td>0.0</td>\n      <td>0.0</td>\n      <td>0.0</td>\n      <td>0.0</td>\n      <td>0.0</td>\n      <td>0.0</td>\n      <td>0.0</td>\n      <td>0.0</td>\n      <td>0.0</td>\n      <td>0.0</td>\n    </tr>\n    <tr>\n      <th>24</th>\n      <td>0.0</td>\n      <td>0.0</td>\n      <td>0.0</td>\n      <td>0.0</td>\n      <td>0.0</td>\n      <td>0.0</td>\n      <td>0.0</td>\n      <td>0.0</td>\n      <td>0.0</td>\n      <td>0.0</td>\n      <td>...</td>\n      <td>0.0</td>\n      <td>0.0</td>\n      <td>0.0</td>\n      <td>0.0</td>\n      <td>0.0</td>\n      <td>0.0</td>\n      <td>0.0</td>\n      <td>0.0</td>\n      <td>0.0</td>\n      <td>0.0</td>\n    </tr>\n    <tr>\n      <th>25</th>\n      <td>0.0</td>\n      <td>0.0</td>\n      <td>0.0</td>\n      <td>1.0</td>\n      <td>0.0</td>\n      <td>0.0</td>\n      <td>0.0</td>\n      <td>0.0</td>\n      <td>0.0</td>\n      <td>0.0</td>\n      <td>...</td>\n      <td>0.0</td>\n      <td>0.0</td>\n      <td>0.0</td>\n      <td>0.0</td>\n      <td>0.0</td>\n      <td>0.0</td>\n      <td>0.0</td>\n      <td>0.0</td>\n      <td>0.0</td>\n      <td>0.0</td>\n    </tr>\n    <tr>\n      <th>26</th>\n      <td>1.0</td>\n      <td>1.0</td>\n      <td>0.0</td>\n      <td>0.0</td>\n      <td>0.0</td>\n      <td>0.0</td>\n      <td>0.0</td>\n      <td>0.0</td>\n      <td>0.0</td>\n      <td>0.0</td>\n      <td>...</td>\n      <td>0.0</td>\n      <td>0.0</td>\n      <td>0.0</td>\n      <td>0.0</td>\n      <td>0.0</td>\n      <td>0.0</td>\n      <td>0.0</td>\n      <td>0.0</td>\n      <td>0.0</td>\n      <td>0.0</td>\n    </tr>\n    <tr>\n      <th>27</th>\n      <td>0.0</td>\n      <td>0.0</td>\n      <td>0.0</td>\n      <td>0.0</td>\n      <td>0.0</td>\n      <td>1.0</td>\n      <td>0.0</td>\n      <td>2.0</td>\n      <td>0.0</td>\n      <td>0.0</td>\n      <td>...</td>\n      <td>0.0</td>\n      <td>0.0</td>\n      <td>0.0</td>\n      <td>0.0</td>\n      <td>0.0</td>\n      <td>0.0</td>\n      <td>0.0</td>\n      <td>0.0</td>\n      <td>0.0</td>\n      <td>0.0</td>\n    </tr>\n    <tr>\n      <th>28</th>\n      <td>0.0</td>\n      <td>0.0</td>\n      <td>0.0</td>\n      <td>0.0</td>\n      <td>0.0</td>\n      <td>0.0</td>\n      <td>0.0</td>\n      <td>0.0</td>\n      <td>0.0</td>\n      <td>0.0</td>\n      <td>...</td>\n      <td>0.0</td>\n      <td>0.0</td>\n      <td>0.0</td>\n      <td>0.0</td>\n      <td>0.0</td>\n      <td>0.0</td>\n      <td>0.0</td>\n      <td>0.0</td>\n      <td>0.0</td>\n      <td>0.0</td>\n    </tr>\n    <tr>\n      <th>29</th>\n      <td>0.0</td>\n      <td>0.0</td>\n      <td>0.0</td>\n      <td>0.0</td>\n      <td>0.0</td>\n      <td>0.0</td>\n      <td>0.0</td>\n      <td>0.0</td>\n      <td>0.0</td>\n      <td>0.0</td>\n      <td>...</td>\n      <td>0.0</td>\n      <td>0.0</td>\n      <td>0.0</td>\n      <td>0.0</td>\n      <td>0.0</td>\n      <td>0.0</td>\n      <td>0.0</td>\n      <td>0.0</td>\n      <td>0.0</td>\n      <td>0.0</td>\n    </tr>\n    <tr>\n      <th>30</th>\n      <td>1.0</td>\n      <td>0.0</td>\n      <td>0.0</td>\n      <td>0.0</td>\n      <td>0.0</td>\n      <td>0.0</td>\n      <td>0.0</td>\n      <td>0.0</td>\n      <td>0.0</td>\n      <td>0.0</td>\n      <td>...</td>\n      <td>0.0</td>\n      <td>0.0</td>\n      <td>0.0</td>\n      <td>0.0</td>\n      <td>0.0</td>\n      <td>0.0</td>\n      <td>0.0</td>\n      <td>0.0</td>\n      <td>0.0</td>\n      <td>0.0</td>\n    </tr>\n    <tr>\n      <th>31</th>\n      <td>1.0</td>\n      <td>0.0</td>\n      <td>0.0</td>\n      <td>0.0</td>\n      <td>0.0</td>\n      <td>0.0</td>\n      <td>0.0</td>\n      <td>0.0</td>\n      <td>0.0</td>\n      <td>1.0</td>\n      <td>...</td>\n      <td>0.0</td>\n      <td>0.0</td>\n      <td>0.0</td>\n      <td>0.0</td>\n      <td>0.0</td>\n      <td>0.0</td>\n      <td>0.0</td>\n      <td>0.0</td>\n      <td>0.0</td>\n      <td>0.0</td>\n    </tr>\n    <tr>\n      <th>33</th>\n      <td>0.0</td>\n      <td>0.0</td>\n      <td>0.0</td>\n      <td>0.0</td>\n      <td>0.0</td>\n      <td>0.0</td>\n      <td>0.0</td>\n      <td>0.0</td>\n      <td>0.0</td>\n      <td>0.0</td>\n      <td>...</td>\n      <td>0.0</td>\n      <td>0.0</td>\n      <td>0.0</td>\n      <td>0.0</td>\n      <td>0.0</td>\n      <td>0.0</td>\n      <td>0.0</td>\n      <td>0.0</td>\n      <td>0.0</td>\n      <td>0.0</td>\n    </tr>\n    <tr>\n      <th>34</th>\n      <td>0.0</td>\n      <td>0.0</td>\n      <td>0.0</td>\n      <td>0.0</td>\n      <td>0.0</td>\n      <td>1.0</td>\n      <td>0.0</td>\n      <td>0.0</td>\n      <td>0.0</td>\n      <td>0.0</td>\n      <td>...</td>\n      <td>0.0</td>\n      <td>0.0</td>\n      <td>0.0</td>\n      <td>0.0</td>\n      <td>0.0</td>\n      <td>0.0</td>\n      <td>0.0</td>\n      <td>0.0</td>\n      <td>0.0</td>\n      <td>0.0</td>\n    </tr>\n    <tr>\n      <th>35</th>\n      <td>0.0</td>\n      <td>0.0</td>\n      <td>1.0</td>\n      <td>0.0</td>\n      <td>0.0</td>\n      <td>0.0</td>\n      <td>0.0</td>\n      <td>2.0</td>\n      <td>0.0</td>\n      <td>0.0</td>\n      <td>...</td>\n      <td>0.0</td>\n      <td>0.0</td>\n      <td>0.0</td>\n      <td>0.0</td>\n      <td>0.0</td>\n      <td>0.0</td>\n      <td>0.0</td>\n      <td>0.0</td>\n      <td>0.0</td>\n      <td>0.0</td>\n    </tr>\n    <tr>\n      <th>36</th>\n      <td>0.0</td>\n      <td>0.0</td>\n      <td>0.0</td>\n      <td>1.0</td>\n      <td>0.0</td>\n      <td>0.0</td>\n      <td>0.0</td>\n      <td>0.0</td>\n      <td>0.0</td>\n      <td>0.0</td>\n      <td>...</td>\n      <td>0.0</td>\n      <td>0.0</td>\n      <td>0.0</td>\n      <td>0.0</td>\n      <td>0.0</td>\n      <td>0.0</td>\n      <td>0.0</td>\n      <td>0.0</td>\n      <td>0.0</td>\n      <td>0.0</td>\n    </tr>\n    <tr>\n      <th>38</th>\n      <td>0.0</td>\n      <td>0.0</td>\n      <td>0.0</td>\n      <td>0.0</td>\n      <td>0.0</td>\n      <td>0.0</td>\n      <td>0.0</td>\n      <td>0.0</td>\n      <td>1.0</td>\n      <td>0.0</td>\n      <td>...</td>\n      <td>0.0</td>\n      <td>0.0</td>\n      <td>0.0</td>\n      <td>0.0</td>\n      <td>0.0</td>\n      <td>0.0</td>\n      <td>0.0</td>\n      <td>0.0</td>\n      <td>0.0</td>\n      <td>0.0</td>\n    </tr>\n    <tr>\n      <th>39</th>\n      <td>0.0</td>\n      <td>0.0</td>\n      <td>0.0</td>\n      <td>0.0</td>\n      <td>0.0</td>\n      <td>0.0</td>\n      <td>0.0</td>\n      <td>0.0</td>\n      <td>0.0</td>\n      <td>0.0</td>\n      <td>...</td>\n      <td>0.0</td>\n      <td>0.0</td>\n      <td>0.0</td>\n      <td>0.0</td>\n      <td>0.0</td>\n      <td>0.0</td>\n      <td>0.0</td>\n      <td>0.0</td>\n      <td>0.0</td>\n      <td>0.0</td>\n    </tr>\n    <tr>\n      <th>40</th>\n      <td>0.0</td>\n      <td>0.0</td>\n      <td>0.0</td>\n      <td>0.0</td>\n      <td>0.0</td>\n      <td>1.0</td>\n      <td>0.0</td>\n      <td>0.0</td>\n      <td>0.0</td>\n      <td>0.0</td>\n      <td>...</td>\n      <td>0.0</td>\n      <td>0.0</td>\n      <td>0.0</td>\n      <td>0.0</td>\n      <td>0.0</td>\n      <td>0.0</td>\n      <td>0.0</td>\n      <td>0.0</td>\n      <td>0.0</td>\n      <td>0.0</td>\n    </tr>\n    <tr>\n      <th>42</th>\n      <td>0.0</td>\n      <td>0.0</td>\n      <td>0.0</td>\n      <td>1.0</td>\n      <td>0.0</td>\n      <td>0.0</td>\n      <td>0.0</td>\n      <td>0.0</td>\n      <td>0.0</td>\n      <td>0.0</td>\n      <td>...</td>\n      <td>0.0</td>\n      <td>0.0</td>\n      <td>0.0</td>\n      <td>0.0</td>\n      <td>0.0</td>\n      <td>0.0</td>\n      <td>0.0</td>\n      <td>0.0</td>\n      <td>0.0</td>\n      <td>0.0</td>\n    </tr>\n    <tr>\n      <th>44</th>\n      <td>0.0</td>\n      <td>0.0</td>\n      <td>0.0</td>\n      <td>0.0</td>\n      <td>0.0</td>\n      <td>0.0</td>\n      <td>0.0</td>\n      <td>0.0</td>\n      <td>0.0</td>\n      <td>0.0</td>\n      <td>...</td>\n      <td>0.0</td>\n      <td>0.0</td>\n      <td>0.0</td>\n      <td>0.0</td>\n      <td>0.0</td>\n      <td>0.0</td>\n      <td>0.0</td>\n      <td>0.0</td>\n      <td>0.0</td>\n      <td>0.0</td>\n    </tr>\n    <tr>\n      <th>48</th>\n      <td>0.0</td>\n      <td>0.0</td>\n      <td>0.0</td>\n      <td>0.0</td>\n      <td>0.0</td>\n      <td>0.0</td>\n      <td>0.0</td>\n      <td>1.0</td>\n      <td>0.0</td>\n      <td>0.0</td>\n      <td>...</td>\n      <td>0.0</td>\n      <td>0.0</td>\n      <td>0.0</td>\n      <td>0.0</td>\n      <td>0.0</td>\n      <td>0.0</td>\n      <td>0.0</td>\n      <td>0.0</td>\n      <td>0.0</td>\n      <td>0.0</td>\n    </tr>\n    <tr>\n      <th>49</th>\n      <td>0.0</td>\n      <td>0.0</td>\n      <td>0.0</td>\n      <td>0.0</td>\n      <td>0.0</td>\n      <td>0.0</td>\n      <td>0.0</td>\n      <td>1.0</td>\n      <td>0.0</td>\n      <td>0.0</td>\n      <td>...</td>\n      <td>0.0</td>\n      <td>0.0</td>\n      <td>0.0</td>\n      <td>0.0</td>\n      <td>0.0</td>\n      <td>0.0</td>\n      <td>0.0</td>\n      <td>0.0</td>\n      <td>0.0</td>\n      <td>0.0</td>\n    </tr>\n    <tr>\n      <th>51</th>\n      <td>1.0</td>\n      <td>0.0</td>\n      <td>0.0</td>\n      <td>0.0</td>\n      <td>0.0</td>\n      <td>0.0</td>\n      <td>0.0</td>\n      <td>0.0</td>\n      <td>0.0</td>\n      <td>0.0</td>\n      <td>...</td>\n      <td>0.0</td>\n      <td>0.0</td>\n      <td>0.0</td>\n      <td>0.0</td>\n      <td>0.0</td>\n      <td>0.0</td>\n      <td>0.0</td>\n      <td>0.0</td>\n      <td>0.0</td>\n      <td>0.0</td>\n    </tr>\n    <tr>\n      <th>52</th>\n      <td>0.0</td>\n      <td>0.0</td>\n      <td>0.0</td>\n      <td>0.0</td>\n      <td>1.0</td>\n      <td>0.0</td>\n      <td>0.0</td>\n      <td>0.0</td>\n      <td>0.0</td>\n      <td>0.0</td>\n      <td>...</td>\n      <td>0.0</td>\n      <td>0.0</td>\n      <td>0.0</td>\n      <td>0.0</td>\n      <td>0.0</td>\n      <td>0.0</td>\n      <td>0.0</td>\n      <td>0.0</td>\n      <td>0.0</td>\n      <td>0.0</td>\n    </tr>\n    <tr>\n      <th>55</th>\n      <td>0.0</td>\n      <td>1.0</td>\n      <td>0.0</td>\n      <td>0.0</td>\n      <td>0.0</td>\n      <td>0.0</td>\n      <td>0.0</td>\n      <td>0.0</td>\n      <td>0.0</td>\n      <td>0.0</td>\n      <td>...</td>\n      <td>0.0</td>\n      <td>0.0</td>\n      <td>0.0</td>\n      <td>0.0</td>\n      <td>0.0</td>\n      <td>0.0</td>\n      <td>0.0</td>\n      <td>0.0</td>\n      <td>0.0</td>\n      <td>0.0</td>\n    </tr>\n    <tr>\n      <th>56</th>\n      <td>0.0</td>\n      <td>0.0</td>\n      <td>0.0</td>\n      <td>0.0</td>\n      <td>1.0</td>\n      <td>0.0</td>\n      <td>0.0</td>\n      <td>0.0</td>\n      <td>0.0</td>\n      <td>0.0</td>\n      <td>...</td>\n      <td>0.0</td>\n      <td>0.0</td>\n      <td>0.0</td>\n      <td>0.0</td>\n      <td>0.0</td>\n      <td>0.0</td>\n      <td>0.0</td>\n      <td>0.0</td>\n      <td>0.0</td>\n      <td>0.0</td>\n    </tr>\n    <tr>\n      <th>59</th>\n      <td>1.0</td>\n      <td>0.0</td>\n      <td>0.0</td>\n      <td>0.0</td>\n      <td>0.0</td>\n      <td>0.0</td>\n      <td>0.0</td>\n      <td>0.0</td>\n      <td>0.0</td>\n      <td>0.0</td>\n      <td>...</td>\n      <td>0.0</td>\n      <td>0.0</td>\n      <td>0.0</td>\n      <td>0.0</td>\n      <td>0.0</td>\n      <td>0.0</td>\n      <td>0.0</td>\n      <td>0.0</td>\n      <td>0.0</td>\n      <td>0.0</td>\n    </tr>\n  </tbody>\n</table>\n<p>45 rows × 51 columns</p>\n</div>"
     },
     "execution_count": 158,
     "metadata": {},
     "output_type": "execute_result"
    }
   ],
   "execution_count": 158,
   "id": "f300bec3201e683c"
  },
  {
   "cell_type": "code",
   "metadata": {
    "collapsed": false,
    "scrolled": false,
    "tags": [],
    "slideshow": {
     "slide_type": "slide"
    },
    "id": "C2C37A01758247938D8299E4854EFB14",
    "notebookId": "6524b1e01ca35e635cc0d344",
    "trusted": true,
    "ExecuteTime": {
     "end_time": "2023-10-12T13:29:10.140115400Z",
     "start_time": "2023-10-12T13:29:09.893921500Z"
    }
   },
   "source": [
    "# 补上缺失的MOB期数据行\n",
    "for i in range(62):\n",
    "    if i not in unstack_overdue_df.index:\n",
    "        unstack_overdue_df.loc[i, :] = 0.0"
   ],
   "outputs": [],
   "execution_count": 159,
   "id": "13bc8e59f48ae9fe"
  },
  {
   "cell_type": "markdown",
   "metadata": {
    "id": "511F3A7E602E460885D6A34622040F87",
    "notebookId": "6524b1e01ca35e635cc0d344",
    "runtime": {
     "status": "default",
     "execution_status": null,
     "is_visible": false
    },
    "scrolled": false,
    "tags": [],
    "slideshow": {
     "slide_type": "slide"
    }
   },
   "source": [
    "#### TODO #5"
   ],
   "id": "d653947190243c9b"
  },
  {
   "cell_type": "code",
   "metadata": {
    "collapsed": false,
    "scrolled": false,
    "tags": [],
    "slideshow": {
     "slide_type": "slide"
    },
    "id": "9A071749C4D941E58BB81AF5D412DA76",
    "notebookId": "6524b1e01ca35e635cc0d344",
    "trusted": true,
    "ExecuteTime": {
     "end_time": "2023-10-12T13:29:10.141132500Z",
     "start_time": "2023-10-12T13:29:09.904265900Z"
    }
   },
   "source": [
    "unstack_overdue_df = unstack_overdue_df.sort_index()\n",
    "# TODO\n",
    "# 对unstack_overdue_df进行累计求和（查询资料cumsum函数）\n",
    "cumsum_overdue_df = unstack_overdue_df.cumsum()\n",
    "\n",
    "cumsum_overdue_df = cumsum_overdue_df.stack()\n",
    "# 交换列顺序，可以了解一下\n",
    "cumsum_overdue_df = cumsum_overdue_df.swaplevel()\n",
    "cumsum_overdue_df"
   ],
   "outputs": [
    {
     "data": {
      "text/plain": "MIN_MONTH  MOB\n-60        0       0.0\n-59        0       0.0\n-58        0       0.0\n-57        0       0.0\n-56        0       0.0\n                  ... \n-14        61      9.0\n-13        61     10.0\n-12        61      7.0\n-11        61     12.0\n-10        61     13.0\nLength: 3162, dtype: float64"
     },
     "execution_count": 160,
     "metadata": {},
     "output_type": "execute_result"
    }
   ],
   "execution_count": 160,
   "id": "c5ebcdc83a196b5f"
  },
  {
   "cell_type": "markdown",
   "metadata": {
    "id": "CEF6A4F44B764BC9A9E04296259A5859",
    "notebookId": "6524b1e01ca35e635cc0d344",
    "runtime": {
     "status": "default",
     "execution_status": null,
     "is_visible": false
    },
    "scrolled": false,
    "tags": [],
    "slideshow": {
     "slide_type": "slide"
    }
   },
   "source": [
    "#### TODO #6"
   ],
   "id": "bd2bd28ef7e12fe1"
  },
  {
   "cell_type": "code",
   "metadata": {
    "collapsed": false,
    "scrolled": false,
    "tags": [],
    "slideshow": {
     "slide_type": "slide"
    },
    "id": "0316A6DAC5E0420790CA60C366B4A194",
    "notebookId": "6524b1e01ca35e635cc0d344",
    "trusted": true,
    "ExecuteTime": {
     "end_time": "2023-10-12T13:29:10.141132500Z",
     "start_time": "2023-10-12T13:29:09.914014300Z"
    }
   },
   "source": [
    "# TODO\n",
    "# vintage计算，分子/分母（思考一下逾期率是什么属性除以什么属性，两个属性均为上述计算得出）\n",
    "# 提示：cumsum_overdue_df和vintage_df表\n",
    "# 逾期订单数/总订单数\n",
    "vintage_df['OVERDUE_RATIO'] = cumsum_overdue_df/vintage_df.LENDING_COUNT"
   ],
   "outputs": [],
   "execution_count": 161,
   "id": "7b33c43aff5f5176"
  },
  {
   "cell_type": "code",
   "metadata": {
    "collapsed": false,
    "scrolled": false,
    "tags": [],
    "slideshow": {
     "slide_type": "slide"
    },
    "id": "3FC6DEDDF70A4AF18DBE538DE55B042F",
    "notebookId": "6524b1e01ca35e635cc0d344",
    "trusted": true,
    "ExecuteTime": {
     "end_time": "2023-10-12T13:29:10.141132500Z",
     "start_time": "2023-10-12T13:29:09.921353Z"
    }
   },
   "source": [
    "vintage_df.reset_index()"
   ],
   "outputs": [
    {
     "data": {
      "text/plain": "      MIN_MONTH   MOB  OVERDUE_RATIO  LENDING_COUNT\n0         -60.0   0.0       0.000000            415\n1         -60.0   1.0       0.000000            415\n2         -60.0   2.0       0.000000            415\n3         -60.0   3.0       0.000000            415\n4         -60.0   4.0       0.000000            415\n...         ...   ...            ...            ...\n1882      -10.0   7.0       0.004869           1027\n1883      -10.0   8.0       0.007790           1027\n1884      -10.0   9.0       0.009737           1027\n1885      -10.0  10.0       0.011685           1027\n1886      -10.0  11.0       0.012658           1027\n\n[1887 rows x 4 columns]",
      "text/html": "<div>\n<style scoped>\n    .dataframe tbody tr th:only-of-type {\n        vertical-align: middle;\n    }\n\n    .dataframe tbody tr th {\n        vertical-align: top;\n    }\n\n    .dataframe thead th {\n        text-align: right;\n    }\n</style>\n<table border=\"1\" class=\"dataframe\">\n  <thead>\n    <tr style=\"text-align: right;\">\n      <th></th>\n      <th>MIN_MONTH</th>\n      <th>MOB</th>\n      <th>OVERDUE_RATIO</th>\n      <th>LENDING_COUNT</th>\n    </tr>\n  </thead>\n  <tbody>\n    <tr>\n      <th>0</th>\n      <td>-60.0</td>\n      <td>0.0</td>\n      <td>0.000000</td>\n      <td>415</td>\n    </tr>\n    <tr>\n      <th>1</th>\n      <td>-60.0</td>\n      <td>1.0</td>\n      <td>0.000000</td>\n      <td>415</td>\n    </tr>\n    <tr>\n      <th>2</th>\n      <td>-60.0</td>\n      <td>2.0</td>\n      <td>0.000000</td>\n      <td>415</td>\n    </tr>\n    <tr>\n      <th>3</th>\n      <td>-60.0</td>\n      <td>3.0</td>\n      <td>0.000000</td>\n      <td>415</td>\n    </tr>\n    <tr>\n      <th>4</th>\n      <td>-60.0</td>\n      <td>4.0</td>\n      <td>0.000000</td>\n      <td>415</td>\n    </tr>\n    <tr>\n      <th>...</th>\n      <td>...</td>\n      <td>...</td>\n      <td>...</td>\n      <td>...</td>\n    </tr>\n    <tr>\n      <th>1882</th>\n      <td>-10.0</td>\n      <td>7.0</td>\n      <td>0.004869</td>\n      <td>1027</td>\n    </tr>\n    <tr>\n      <th>1883</th>\n      <td>-10.0</td>\n      <td>8.0</td>\n      <td>0.007790</td>\n      <td>1027</td>\n    </tr>\n    <tr>\n      <th>1884</th>\n      <td>-10.0</td>\n      <td>9.0</td>\n      <td>0.009737</td>\n      <td>1027</td>\n    </tr>\n    <tr>\n      <th>1885</th>\n      <td>-10.0</td>\n      <td>10.0</td>\n      <td>0.011685</td>\n      <td>1027</td>\n    </tr>\n    <tr>\n      <th>1886</th>\n      <td>-10.0</td>\n      <td>11.0</td>\n      <td>0.012658</td>\n      <td>1027</td>\n    </tr>\n  </tbody>\n</table>\n<p>1887 rows × 4 columns</p>\n</div>"
     },
     "execution_count": 162,
     "metadata": {},
     "output_type": "execute_result"
    }
   ],
   "execution_count": 162,
   "id": "7f50c1ac913dc7db"
  },
  {
   "cell_type": "markdown",
   "metadata": {
    "scrolled": false,
    "tags": [],
    "slideshow": {
     "slide_type": "slide"
    },
    "id": "F54F94BA57F745E29199A2A8A7A1142D",
    "runtime": {
     "status": "default",
     "execution_status": null,
     "is_visible": false
    },
    "notebookId": "6524b1e01ca35e635cc0d344"
   },
   "source": [
    "#### 透视表"
   ],
   "id": "28b82a014d792e7a"
  },
  {
   "cell_type": "code",
   "metadata": {
    "collapsed": false,
    "scrolled": false,
    "tags": [],
    "slideshow": {
     "slide_type": "slide"
    },
    "id": "3A285F3EF6984462928DF2424B96323A",
    "notebookId": "6524b1e01ca35e635cc0d344",
    "trusted": true,
    "ExecuteTime": {
     "end_time": "2023-10-12T13:29:10.170482300Z",
     "start_time": "2023-10-12T13:29:09.932476800Z"
    }
   },
   "source": [
    "vintage_wide_df = vintage_df.reset_index().pivot(index = 'MIN_MONTH',\n",
    "                             columns = 'MOB',\n",
    "                             values = 'OVERDUE_RATIO')\n",
    "vintage_wide_df"
   ],
   "outputs": [
    {
     "data": {
      "text/plain": "MOB        0.0   1.0   2.0       3.0       4.0       5.0       6.0       7.0   \\\nMIN_MONTH                                                                       \n-60.0       0.0   0.0   0.0  0.000000  0.000000  0.000000  0.002410  0.002410   \n-59.0       0.0   0.0   0.0  0.000000  0.002463  0.002463  0.002463  0.004926   \n-58.0       0.0   0.0   0.0  0.000000  0.000000  0.000000  0.000000  0.000000   \n-57.0       0.0   0.0   0.0  0.000000  0.000000  0.000000  0.000000  0.000000   \n-56.0       0.0   0.0   0.0  0.004255  0.004255  0.008511  0.010638  0.010638   \n-55.0       0.0   0.0   0.0  0.002058  0.006173  0.012346  0.016461  0.022634   \n-54.0       0.0   0.0   0.0  0.000000  0.002137  0.004274  0.004274  0.006410   \n-53.0       0.0   0.0   0.0  0.000000  0.000000  0.002028  0.002028  0.006085   \n-52.0       0.0   0.0   0.0  0.007233  0.009042  0.009042  0.009042  0.012658   \n-51.0       0.0   0.0   0.0  0.000000  0.001718  0.001718  0.006873  0.008591   \n-50.0       0.0   0.0   0.0  0.001842  0.003683  0.007366  0.007366  0.007366   \n-49.0       0.0   0.0   0.0  0.000000  0.000000  0.005425  0.005425  0.005425   \n-48.0       0.0   0.0   0.0  0.000000  0.001721  0.005164  0.006885  0.008606   \n-47.0       0.0   0.0   0.0  0.000000  0.003273  0.004910  0.004910  0.013093   \n-46.0       0.0   0.0   0.0  0.000000  0.001739  0.003478  0.005217  0.006957   \n-45.0       0.0   0.0   0.0  0.000000  0.001653  0.004959  0.006612  0.006612   \n-44.0       0.0   0.0   0.0  0.001692  0.003384  0.003384  0.005076  0.006768   \n-43.0       0.0   0.0   0.0  0.000000  0.000000  0.000000  0.000000  0.000000   \n-42.0       0.0   0.0   0.0  0.001425  0.004274  0.007123  0.007123  0.009972   \n-41.0       0.0   0.0   0.0  0.000000  0.001435  0.008608  0.008608  0.010043   \n-40.0       0.0   0.0   0.0  0.002714  0.002714  0.006784  0.008141  0.009498   \n-39.0       0.0   0.0   0.0  0.000000  0.000000  0.000000  0.002407  0.002407   \n-38.0       0.0   0.0   0.0  0.000000  0.000000  0.001340  0.001340  0.001340   \n-37.0       0.0   0.0   0.0  0.000000  0.000000  0.001389  0.001389  0.002778   \n-36.0       0.0   0.0   0.0  0.000000  0.001443  0.002886  0.005772  0.005772   \n-35.0       0.0   0.0   0.0  0.000000  0.001312  0.001312  0.001312  0.001312   \n-34.0       0.0   0.0   0.0  0.000000  0.000000  0.000000  0.001344  0.002688   \n-33.0       0.0   0.0   0.0  0.001377  0.001377  0.001377  0.001377  0.001377   \n-32.0       0.0   0.0   0.0  0.000000  0.000000  0.001344  0.001344  0.002688   \n-31.0       0.0   0.0   0.0  0.000000  0.000000  0.000000  0.002674  0.004011   \n-30.0       0.0   0.0   0.0  0.000000  0.001244  0.001244  0.002488  0.002488   \n-29.0       0.0   0.0   0.0  0.000000  0.001282  0.002564  0.005128  0.005128   \n-28.0       0.0   0.0   0.0  0.001241  0.001241  0.001241  0.002481  0.003722   \n-27.0       0.0   0.0   0.0  0.000000  0.001196  0.002392  0.003589  0.003589   \n-26.0       0.0   0.0   0.0  0.000000  0.002660  0.003989  0.005319  0.005319   \n-25.0       0.0   0.0   0.0  0.001159  0.002317  0.004635  0.006952  0.006952   \n-24.0       0.0   0.0   0.0  0.000000  0.000000  0.000000  0.001119  0.002237   \n-23.0       0.0   0.0   0.0  0.000000  0.002225  0.004449  0.005562  0.005562   \n-22.0       0.0   0.0   0.0  0.001156  0.002312  0.002312  0.004624  0.004624   \n-21.0       0.0   0.0   0.0  0.000000  0.003497  0.004662  0.004662  0.006993   \n-20.0       0.0   0.0   0.0  0.001088  0.001088  0.002176  0.002176  0.003264   \n-19.0       0.0   0.0   0.0  0.003425  0.003425  0.003425  0.005708  0.007991   \n-18.0       0.0   0.0   0.0  0.001098  0.002195  0.002195  0.002195  0.003293   \n-17.0       0.0   0.0   0.0  0.000000  0.000982  0.001965  0.002947  0.002947   \n-16.0       0.0   0.0   0.0  0.000000  0.000000  0.000000  0.001044  0.001044   \n-15.0       0.0   0.0   0.0  0.001071  0.002141  0.003212  0.004283  0.005353   \n-14.0       0.0   0.0   0.0  0.000000  0.001068  0.001068  0.004274  0.004274   \n-13.0       0.0   0.0   0.0  0.000000  0.002041  0.004082  0.004082  0.004082   \n-12.0       0.0   0.0   0.0  0.001015  0.002030  0.002030  0.002030  0.003046   \n-11.0       0.0   0.0   0.0  0.001927  0.001927  0.002890  0.004817  0.005780   \n-10.0       0.0   0.0   0.0  0.000974  0.001947  0.001947  0.002921  0.004869   \n\nMOB            8.0       9.0   ...      52.0      53.0      54.0      55.0  \\\nMIN_MONTH                      ...                                           \n-60.0      0.007229  0.007229  ...  0.028916  0.028916  0.028916  0.028916   \n-59.0      0.004926  0.004926  ...  0.027094  0.027094  0.027094  0.029557   \n-58.0      0.004545  0.006818  ...  0.025000  0.025000  0.025000  0.025000   \n-57.0      0.005000  0.005000  ...  0.022500  0.022500  0.022500  0.022500   \n-56.0      0.017021  0.017021  ...  0.036170  0.036170  0.036170  0.036170   \n-55.0      0.022634  0.022634  ...  0.045267  0.045267  0.045267  0.045267   \n-54.0      0.012821  0.012821  ...  0.032051  0.032051  0.032051  0.032051   \n-53.0      0.008114  0.008114  ...  0.026369  0.026369  0.026369       NaN   \n-52.0      0.012658  0.014467  ...  0.023508  0.023508       NaN       NaN   \n-51.0      0.012027  0.012027  ...  0.018900       NaN       NaN       NaN   \n-50.0      0.007366  0.007366  ...       NaN       NaN       NaN       NaN   \n-49.0      0.007233  0.007233  ...       NaN       NaN       NaN       NaN   \n-48.0      0.010327  0.012048  ...       NaN       NaN       NaN       NaN   \n-47.0      0.013093  0.013093  ...       NaN       NaN       NaN       NaN   \n-46.0      0.012174  0.012174  ...       NaN       NaN       NaN       NaN   \n-45.0      0.009917  0.009917  ...       NaN       NaN       NaN       NaN   \n-44.0      0.010152  0.010152  ...       NaN       NaN       NaN       NaN   \n-43.0      0.001541  0.001541  ...       NaN       NaN       NaN       NaN   \n-42.0      0.009972  0.012821  ...       NaN       NaN       NaN       NaN   \n-41.0      0.011478  0.012912  ...       NaN       NaN       NaN       NaN   \n-40.0      0.009498  0.009498  ...       NaN       NaN       NaN       NaN   \n-39.0      0.003610  0.004813  ...       NaN       NaN       NaN       NaN   \n-38.0      0.002681  0.004021  ...       NaN       NaN       NaN       NaN   \n-37.0      0.008333  0.008333  ...       NaN       NaN       NaN       NaN   \n-36.0      0.007215  0.010101  ...       NaN       NaN       NaN       NaN   \n-35.0      0.002625  0.005249  ...       NaN       NaN       NaN       NaN   \n-34.0      0.006720  0.006720  ...       NaN       NaN       NaN       NaN   \n-33.0      0.004132  0.004132  ...       NaN       NaN       NaN       NaN   \n-32.0      0.002688  0.005376  ...       NaN       NaN       NaN       NaN   \n-31.0      0.004011  0.004011  ...       NaN       NaN       NaN       NaN   \n-30.0      0.006219  0.006219  ...       NaN       NaN       NaN       NaN   \n-29.0      0.006410  0.007692  ...       NaN       NaN       NaN       NaN   \n-28.0      0.004963  0.006203  ...       NaN       NaN       NaN       NaN   \n-27.0      0.004785  0.005981  ...       NaN       NaN       NaN       NaN   \n-26.0      0.006649  0.006649  ...       NaN       NaN       NaN       NaN   \n-25.0      0.010429  0.010429  ...       NaN       NaN       NaN       NaN   \n-24.0      0.003356  0.003356  ...       NaN       NaN       NaN       NaN   \n-23.0      0.005562  0.006674  ...       NaN       NaN       NaN       NaN   \n-22.0      0.005780  0.006936  ...       NaN       NaN       NaN       NaN   \n-21.0      0.009324  0.010490  ...       NaN       NaN       NaN       NaN   \n-20.0      0.003264  0.003264  ...       NaN       NaN       NaN       NaN   \n-19.0      0.009132  0.010274  ...       NaN       NaN       NaN       NaN   \n-18.0      0.003293  0.004391  ...       NaN       NaN       NaN       NaN   \n-17.0      0.003929  0.004912  ...       NaN       NaN       NaN       NaN   \n-16.0      0.002088  0.004175  ...       NaN       NaN       NaN       NaN   \n-15.0      0.008565  0.008565  ...       NaN       NaN       NaN       NaN   \n-14.0      0.004274  0.006410  ...       NaN       NaN       NaN       NaN   \n-13.0      0.005102  0.005102  ...       NaN       NaN       NaN       NaN   \n-12.0      0.007107  0.007107  ...       NaN       NaN       NaN       NaN   \n-11.0      0.005780  0.007707  ...       NaN       NaN       NaN       NaN   \n-10.0      0.007790  0.009737  ...       NaN       NaN       NaN       NaN   \n\nMOB            56.0      57.0      58.0      59.0      60.0      61.0  \nMIN_MONTH                                                              \n-60.0      0.028916  0.028916  0.028916  0.031325  0.031325  0.031325  \n-59.0      0.029557  0.029557  0.029557  0.029557  0.029557       NaN  \n-58.0      0.025000  0.025000  0.025000  0.025000       NaN       NaN  \n-57.0      0.022500  0.022500  0.022500       NaN       NaN       NaN  \n-56.0      0.038298  0.038298       NaN       NaN       NaN       NaN  \n-55.0      0.045267       NaN       NaN       NaN       NaN       NaN  \n-54.0           NaN       NaN       NaN       NaN       NaN       NaN  \n-53.0           NaN       NaN       NaN       NaN       NaN       NaN  \n-52.0           NaN       NaN       NaN       NaN       NaN       NaN  \n-51.0           NaN       NaN       NaN       NaN       NaN       NaN  \n-50.0           NaN       NaN       NaN       NaN       NaN       NaN  \n-49.0           NaN       NaN       NaN       NaN       NaN       NaN  \n-48.0           NaN       NaN       NaN       NaN       NaN       NaN  \n-47.0           NaN       NaN       NaN       NaN       NaN       NaN  \n-46.0           NaN       NaN       NaN       NaN       NaN       NaN  \n-45.0           NaN       NaN       NaN       NaN       NaN       NaN  \n-44.0           NaN       NaN       NaN       NaN       NaN       NaN  \n-43.0           NaN       NaN       NaN       NaN       NaN       NaN  \n-42.0           NaN       NaN       NaN       NaN       NaN       NaN  \n-41.0           NaN       NaN       NaN       NaN       NaN       NaN  \n-40.0           NaN       NaN       NaN       NaN       NaN       NaN  \n-39.0           NaN       NaN       NaN       NaN       NaN       NaN  \n-38.0           NaN       NaN       NaN       NaN       NaN       NaN  \n-37.0           NaN       NaN       NaN       NaN       NaN       NaN  \n-36.0           NaN       NaN       NaN       NaN       NaN       NaN  \n-35.0           NaN       NaN       NaN       NaN       NaN       NaN  \n-34.0           NaN       NaN       NaN       NaN       NaN       NaN  \n-33.0           NaN       NaN       NaN       NaN       NaN       NaN  \n-32.0           NaN       NaN       NaN       NaN       NaN       NaN  \n-31.0           NaN       NaN       NaN       NaN       NaN       NaN  \n-30.0           NaN       NaN       NaN       NaN       NaN       NaN  \n-29.0           NaN       NaN       NaN       NaN       NaN       NaN  \n-28.0           NaN       NaN       NaN       NaN       NaN       NaN  \n-27.0           NaN       NaN       NaN       NaN       NaN       NaN  \n-26.0           NaN       NaN       NaN       NaN       NaN       NaN  \n-25.0           NaN       NaN       NaN       NaN       NaN       NaN  \n-24.0           NaN       NaN       NaN       NaN       NaN       NaN  \n-23.0           NaN       NaN       NaN       NaN       NaN       NaN  \n-22.0           NaN       NaN       NaN       NaN       NaN       NaN  \n-21.0           NaN       NaN       NaN       NaN       NaN       NaN  \n-20.0           NaN       NaN       NaN       NaN       NaN       NaN  \n-19.0           NaN       NaN       NaN       NaN       NaN       NaN  \n-18.0           NaN       NaN       NaN       NaN       NaN       NaN  \n-17.0           NaN       NaN       NaN       NaN       NaN       NaN  \n-16.0           NaN       NaN       NaN       NaN       NaN       NaN  \n-15.0           NaN       NaN       NaN       NaN       NaN       NaN  \n-14.0           NaN       NaN       NaN       NaN       NaN       NaN  \n-13.0           NaN       NaN       NaN       NaN       NaN       NaN  \n-12.0           NaN       NaN       NaN       NaN       NaN       NaN  \n-11.0           NaN       NaN       NaN       NaN       NaN       NaN  \n-10.0           NaN       NaN       NaN       NaN       NaN       NaN  \n\n[51 rows x 62 columns]",
      "text/html": "<div>\n<style scoped>\n    .dataframe tbody tr th:only-of-type {\n        vertical-align: middle;\n    }\n\n    .dataframe tbody tr th {\n        vertical-align: top;\n    }\n\n    .dataframe thead th {\n        text-align: right;\n    }\n</style>\n<table border=\"1\" class=\"dataframe\">\n  <thead>\n    <tr style=\"text-align: right;\">\n      <th>MOB</th>\n      <th>0.0</th>\n      <th>1.0</th>\n      <th>2.0</th>\n      <th>3.0</th>\n      <th>4.0</th>\n      <th>5.0</th>\n      <th>6.0</th>\n      <th>7.0</th>\n      <th>8.0</th>\n      <th>9.0</th>\n      <th>...</th>\n      <th>52.0</th>\n      <th>53.0</th>\n      <th>54.0</th>\n      <th>55.0</th>\n      <th>56.0</th>\n      <th>57.0</th>\n      <th>58.0</th>\n      <th>59.0</th>\n      <th>60.0</th>\n      <th>61.0</th>\n    </tr>\n    <tr>\n      <th>MIN_MONTH</th>\n      <th></th>\n      <th></th>\n      <th></th>\n      <th></th>\n      <th></th>\n      <th></th>\n      <th></th>\n      <th></th>\n      <th></th>\n      <th></th>\n      <th></th>\n      <th></th>\n      <th></th>\n      <th></th>\n      <th></th>\n      <th></th>\n      <th></th>\n      <th></th>\n      <th></th>\n      <th></th>\n      <th></th>\n    </tr>\n  </thead>\n  <tbody>\n    <tr>\n      <th>-60.0</th>\n      <td>0.0</td>\n      <td>0.0</td>\n      <td>0.0</td>\n      <td>0.000000</td>\n      <td>0.000000</td>\n      <td>0.000000</td>\n      <td>0.002410</td>\n      <td>0.002410</td>\n      <td>0.007229</td>\n      <td>0.007229</td>\n      <td>...</td>\n      <td>0.028916</td>\n      <td>0.028916</td>\n      <td>0.028916</td>\n      <td>0.028916</td>\n      <td>0.028916</td>\n      <td>0.028916</td>\n      <td>0.028916</td>\n      <td>0.031325</td>\n      <td>0.031325</td>\n      <td>0.031325</td>\n    </tr>\n    <tr>\n      <th>-59.0</th>\n      <td>0.0</td>\n      <td>0.0</td>\n      <td>0.0</td>\n      <td>0.000000</td>\n      <td>0.002463</td>\n      <td>0.002463</td>\n      <td>0.002463</td>\n      <td>0.004926</td>\n      <td>0.004926</td>\n      <td>0.004926</td>\n      <td>...</td>\n      <td>0.027094</td>\n      <td>0.027094</td>\n      <td>0.027094</td>\n      <td>0.029557</td>\n      <td>0.029557</td>\n      <td>0.029557</td>\n      <td>0.029557</td>\n      <td>0.029557</td>\n      <td>0.029557</td>\n      <td>NaN</td>\n    </tr>\n    <tr>\n      <th>-58.0</th>\n      <td>0.0</td>\n      <td>0.0</td>\n      <td>0.0</td>\n      <td>0.000000</td>\n      <td>0.000000</td>\n      <td>0.000000</td>\n      <td>0.000000</td>\n      <td>0.000000</td>\n      <td>0.004545</td>\n      <td>0.006818</td>\n      <td>...</td>\n      <td>0.025000</td>\n      <td>0.025000</td>\n      <td>0.025000</td>\n      <td>0.025000</td>\n      <td>0.025000</td>\n      <td>0.025000</td>\n      <td>0.025000</td>\n      <td>0.025000</td>\n      <td>NaN</td>\n      <td>NaN</td>\n    </tr>\n    <tr>\n      <th>-57.0</th>\n      <td>0.0</td>\n      <td>0.0</td>\n      <td>0.0</td>\n      <td>0.000000</td>\n      <td>0.000000</td>\n      <td>0.000000</td>\n      <td>0.000000</td>\n      <td>0.000000</td>\n      <td>0.005000</td>\n      <td>0.005000</td>\n      <td>...</td>\n      <td>0.022500</td>\n      <td>0.022500</td>\n      <td>0.022500</td>\n      <td>0.022500</td>\n      <td>0.022500</td>\n      <td>0.022500</td>\n      <td>0.022500</td>\n      <td>NaN</td>\n      <td>NaN</td>\n      <td>NaN</td>\n    </tr>\n    <tr>\n      <th>-56.0</th>\n      <td>0.0</td>\n      <td>0.0</td>\n      <td>0.0</td>\n      <td>0.004255</td>\n      <td>0.004255</td>\n      <td>0.008511</td>\n      <td>0.010638</td>\n      <td>0.010638</td>\n      <td>0.017021</td>\n      <td>0.017021</td>\n      <td>...</td>\n      <td>0.036170</td>\n      <td>0.036170</td>\n      <td>0.036170</td>\n      <td>0.036170</td>\n      <td>0.038298</td>\n      <td>0.038298</td>\n      <td>NaN</td>\n      <td>NaN</td>\n      <td>NaN</td>\n      <td>NaN</td>\n    </tr>\n    <tr>\n      <th>-55.0</th>\n      <td>0.0</td>\n      <td>0.0</td>\n      <td>0.0</td>\n      <td>0.002058</td>\n      <td>0.006173</td>\n      <td>0.012346</td>\n      <td>0.016461</td>\n      <td>0.022634</td>\n      <td>0.022634</td>\n      <td>0.022634</td>\n      <td>...</td>\n      <td>0.045267</td>\n      <td>0.045267</td>\n      <td>0.045267</td>\n      <td>0.045267</td>\n      <td>0.045267</td>\n      <td>NaN</td>\n      <td>NaN</td>\n      <td>NaN</td>\n      <td>NaN</td>\n      <td>NaN</td>\n    </tr>\n    <tr>\n      <th>-54.0</th>\n      <td>0.0</td>\n      <td>0.0</td>\n      <td>0.0</td>\n      <td>0.000000</td>\n      <td>0.002137</td>\n      <td>0.004274</td>\n      <td>0.004274</td>\n      <td>0.006410</td>\n      <td>0.012821</td>\n      <td>0.012821</td>\n      <td>...</td>\n      <td>0.032051</td>\n      <td>0.032051</td>\n      <td>0.032051</td>\n      <td>0.032051</td>\n      <td>NaN</td>\n      <td>NaN</td>\n      <td>NaN</td>\n      <td>NaN</td>\n      <td>NaN</td>\n      <td>NaN</td>\n    </tr>\n    <tr>\n      <th>-53.0</th>\n      <td>0.0</td>\n      <td>0.0</td>\n      <td>0.0</td>\n      <td>0.000000</td>\n      <td>0.000000</td>\n      <td>0.002028</td>\n      <td>0.002028</td>\n      <td>0.006085</td>\n      <td>0.008114</td>\n      <td>0.008114</td>\n      <td>...</td>\n      <td>0.026369</td>\n      <td>0.026369</td>\n      <td>0.026369</td>\n      <td>NaN</td>\n      <td>NaN</td>\n      <td>NaN</td>\n      <td>NaN</td>\n      <td>NaN</td>\n      <td>NaN</td>\n      <td>NaN</td>\n    </tr>\n    <tr>\n      <th>-52.0</th>\n      <td>0.0</td>\n      <td>0.0</td>\n      <td>0.0</td>\n      <td>0.007233</td>\n      <td>0.009042</td>\n      <td>0.009042</td>\n      <td>0.009042</td>\n      <td>0.012658</td>\n      <td>0.012658</td>\n      <td>0.014467</td>\n      <td>...</td>\n      <td>0.023508</td>\n      <td>0.023508</td>\n      <td>NaN</td>\n      <td>NaN</td>\n      <td>NaN</td>\n      <td>NaN</td>\n      <td>NaN</td>\n      <td>NaN</td>\n      <td>NaN</td>\n      <td>NaN</td>\n    </tr>\n    <tr>\n      <th>-51.0</th>\n      <td>0.0</td>\n      <td>0.0</td>\n      <td>0.0</td>\n      <td>0.000000</td>\n      <td>0.001718</td>\n      <td>0.001718</td>\n      <td>0.006873</td>\n      <td>0.008591</td>\n      <td>0.012027</td>\n      <td>0.012027</td>\n      <td>...</td>\n      <td>0.018900</td>\n      <td>NaN</td>\n      <td>NaN</td>\n      <td>NaN</td>\n      <td>NaN</td>\n      <td>NaN</td>\n      <td>NaN</td>\n      <td>NaN</td>\n      <td>NaN</td>\n      <td>NaN</td>\n    </tr>\n    <tr>\n      <th>-50.0</th>\n      <td>0.0</td>\n      <td>0.0</td>\n      <td>0.0</td>\n      <td>0.001842</td>\n      <td>0.003683</td>\n      <td>0.007366</td>\n      <td>0.007366</td>\n      <td>0.007366</td>\n      <td>0.007366</td>\n      <td>0.007366</td>\n      <td>...</td>\n      <td>NaN</td>\n      <td>NaN</td>\n      <td>NaN</td>\n      <td>NaN</td>\n      <td>NaN</td>\n      <td>NaN</td>\n      <td>NaN</td>\n      <td>NaN</td>\n      <td>NaN</td>\n      <td>NaN</td>\n    </tr>\n    <tr>\n      <th>-49.0</th>\n      <td>0.0</td>\n      <td>0.0</td>\n      <td>0.0</td>\n      <td>0.000000</td>\n      <td>0.000000</td>\n      <td>0.005425</td>\n      <td>0.005425</td>\n      <td>0.005425</td>\n      <td>0.007233</td>\n      <td>0.007233</td>\n      <td>...</td>\n      <td>NaN</td>\n      <td>NaN</td>\n      <td>NaN</td>\n      <td>NaN</td>\n      <td>NaN</td>\n      <td>NaN</td>\n      <td>NaN</td>\n      <td>NaN</td>\n      <td>NaN</td>\n      <td>NaN</td>\n    </tr>\n    <tr>\n      <th>-48.0</th>\n      <td>0.0</td>\n      <td>0.0</td>\n      <td>0.0</td>\n      <td>0.000000</td>\n      <td>0.001721</td>\n      <td>0.005164</td>\n      <td>0.006885</td>\n      <td>0.008606</td>\n      <td>0.010327</td>\n      <td>0.012048</td>\n      <td>...</td>\n      <td>NaN</td>\n      <td>NaN</td>\n      <td>NaN</td>\n      <td>NaN</td>\n      <td>NaN</td>\n      <td>NaN</td>\n      <td>NaN</td>\n      <td>NaN</td>\n      <td>NaN</td>\n      <td>NaN</td>\n    </tr>\n    <tr>\n      <th>-47.0</th>\n      <td>0.0</td>\n      <td>0.0</td>\n      <td>0.0</td>\n      <td>0.000000</td>\n      <td>0.003273</td>\n      <td>0.004910</td>\n      <td>0.004910</td>\n      <td>0.013093</td>\n      <td>0.013093</td>\n      <td>0.013093</td>\n      <td>...</td>\n      <td>NaN</td>\n      <td>NaN</td>\n      <td>NaN</td>\n      <td>NaN</td>\n      <td>NaN</td>\n      <td>NaN</td>\n      <td>NaN</td>\n      <td>NaN</td>\n      <td>NaN</td>\n      <td>NaN</td>\n    </tr>\n    <tr>\n      <th>-46.0</th>\n      <td>0.0</td>\n      <td>0.0</td>\n      <td>0.0</td>\n      <td>0.000000</td>\n      <td>0.001739</td>\n      <td>0.003478</td>\n      <td>0.005217</td>\n      <td>0.006957</td>\n      <td>0.012174</td>\n      <td>0.012174</td>\n      <td>...</td>\n      <td>NaN</td>\n      <td>NaN</td>\n      <td>NaN</td>\n      <td>NaN</td>\n      <td>NaN</td>\n      <td>NaN</td>\n      <td>NaN</td>\n      <td>NaN</td>\n      <td>NaN</td>\n      <td>NaN</td>\n    </tr>\n    <tr>\n      <th>-45.0</th>\n      <td>0.0</td>\n      <td>0.0</td>\n      <td>0.0</td>\n      <td>0.000000</td>\n      <td>0.001653</td>\n      <td>0.004959</td>\n      <td>0.006612</td>\n      <td>0.006612</td>\n      <td>0.009917</td>\n      <td>0.009917</td>\n      <td>...</td>\n      <td>NaN</td>\n      <td>NaN</td>\n      <td>NaN</td>\n      <td>NaN</td>\n      <td>NaN</td>\n      <td>NaN</td>\n      <td>NaN</td>\n      <td>NaN</td>\n      <td>NaN</td>\n      <td>NaN</td>\n    </tr>\n    <tr>\n      <th>-44.0</th>\n      <td>0.0</td>\n      <td>0.0</td>\n      <td>0.0</td>\n      <td>0.001692</td>\n      <td>0.003384</td>\n      <td>0.003384</td>\n      <td>0.005076</td>\n      <td>0.006768</td>\n      <td>0.010152</td>\n      <td>0.010152</td>\n      <td>...</td>\n      <td>NaN</td>\n      <td>NaN</td>\n      <td>NaN</td>\n      <td>NaN</td>\n      <td>NaN</td>\n      <td>NaN</td>\n      <td>NaN</td>\n      <td>NaN</td>\n      <td>NaN</td>\n      <td>NaN</td>\n    </tr>\n    <tr>\n      <th>-43.0</th>\n      <td>0.0</td>\n      <td>0.0</td>\n      <td>0.0</td>\n      <td>0.000000</td>\n      <td>0.000000</td>\n      <td>0.000000</td>\n      <td>0.000000</td>\n      <td>0.000000</td>\n      <td>0.001541</td>\n      <td>0.001541</td>\n      <td>...</td>\n      <td>NaN</td>\n      <td>NaN</td>\n      <td>NaN</td>\n      <td>NaN</td>\n      <td>NaN</td>\n      <td>NaN</td>\n      <td>NaN</td>\n      <td>NaN</td>\n      <td>NaN</td>\n      <td>NaN</td>\n    </tr>\n    <tr>\n      <th>-42.0</th>\n      <td>0.0</td>\n      <td>0.0</td>\n      <td>0.0</td>\n      <td>0.001425</td>\n      <td>0.004274</td>\n      <td>0.007123</td>\n      <td>0.007123</td>\n      <td>0.009972</td>\n      <td>0.009972</td>\n      <td>0.012821</td>\n      <td>...</td>\n      <td>NaN</td>\n      <td>NaN</td>\n      <td>NaN</td>\n      <td>NaN</td>\n      <td>NaN</td>\n      <td>NaN</td>\n      <td>NaN</td>\n      <td>NaN</td>\n      <td>NaN</td>\n      <td>NaN</td>\n    </tr>\n    <tr>\n      <th>-41.0</th>\n      <td>0.0</td>\n      <td>0.0</td>\n      <td>0.0</td>\n      <td>0.000000</td>\n      <td>0.001435</td>\n      <td>0.008608</td>\n      <td>0.008608</td>\n      <td>0.010043</td>\n      <td>0.011478</td>\n      <td>0.012912</td>\n      <td>...</td>\n      <td>NaN</td>\n      <td>NaN</td>\n      <td>NaN</td>\n      <td>NaN</td>\n      <td>NaN</td>\n      <td>NaN</td>\n      <td>NaN</td>\n      <td>NaN</td>\n      <td>NaN</td>\n      <td>NaN</td>\n    </tr>\n    <tr>\n      <th>-40.0</th>\n      <td>0.0</td>\n      <td>0.0</td>\n      <td>0.0</td>\n      <td>0.002714</td>\n      <td>0.002714</td>\n      <td>0.006784</td>\n      <td>0.008141</td>\n      <td>0.009498</td>\n      <td>0.009498</td>\n      <td>0.009498</td>\n      <td>...</td>\n      <td>NaN</td>\n      <td>NaN</td>\n      <td>NaN</td>\n      <td>NaN</td>\n      <td>NaN</td>\n      <td>NaN</td>\n      <td>NaN</td>\n      <td>NaN</td>\n      <td>NaN</td>\n      <td>NaN</td>\n    </tr>\n    <tr>\n      <th>-39.0</th>\n      <td>0.0</td>\n      <td>0.0</td>\n      <td>0.0</td>\n      <td>0.000000</td>\n      <td>0.000000</td>\n      <td>0.000000</td>\n      <td>0.002407</td>\n      <td>0.002407</td>\n      <td>0.003610</td>\n      <td>0.004813</td>\n      <td>...</td>\n      <td>NaN</td>\n      <td>NaN</td>\n      <td>NaN</td>\n      <td>NaN</td>\n      <td>NaN</td>\n      <td>NaN</td>\n      <td>NaN</td>\n      <td>NaN</td>\n      <td>NaN</td>\n      <td>NaN</td>\n    </tr>\n    <tr>\n      <th>-38.0</th>\n      <td>0.0</td>\n      <td>0.0</td>\n      <td>0.0</td>\n      <td>0.000000</td>\n      <td>0.000000</td>\n      <td>0.001340</td>\n      <td>0.001340</td>\n      <td>0.001340</td>\n      <td>0.002681</td>\n      <td>0.004021</td>\n      <td>...</td>\n      <td>NaN</td>\n      <td>NaN</td>\n      <td>NaN</td>\n      <td>NaN</td>\n      <td>NaN</td>\n      <td>NaN</td>\n      <td>NaN</td>\n      <td>NaN</td>\n      <td>NaN</td>\n      <td>NaN</td>\n    </tr>\n    <tr>\n      <th>-37.0</th>\n      <td>0.0</td>\n      <td>0.0</td>\n      <td>0.0</td>\n      <td>0.000000</td>\n      <td>0.000000</td>\n      <td>0.001389</td>\n      <td>0.001389</td>\n      <td>0.002778</td>\n      <td>0.008333</td>\n      <td>0.008333</td>\n      <td>...</td>\n      <td>NaN</td>\n      <td>NaN</td>\n      <td>NaN</td>\n      <td>NaN</td>\n      <td>NaN</td>\n      <td>NaN</td>\n      <td>NaN</td>\n      <td>NaN</td>\n      <td>NaN</td>\n      <td>NaN</td>\n    </tr>\n    <tr>\n      <th>-36.0</th>\n      <td>0.0</td>\n      <td>0.0</td>\n      <td>0.0</td>\n      <td>0.000000</td>\n      <td>0.001443</td>\n      <td>0.002886</td>\n      <td>0.005772</td>\n      <td>0.005772</td>\n      <td>0.007215</td>\n      <td>0.010101</td>\n      <td>...</td>\n      <td>NaN</td>\n      <td>NaN</td>\n      <td>NaN</td>\n      <td>NaN</td>\n      <td>NaN</td>\n      <td>NaN</td>\n      <td>NaN</td>\n      <td>NaN</td>\n      <td>NaN</td>\n      <td>NaN</td>\n    </tr>\n    <tr>\n      <th>-35.0</th>\n      <td>0.0</td>\n      <td>0.0</td>\n      <td>0.0</td>\n      <td>0.000000</td>\n      <td>0.001312</td>\n      <td>0.001312</td>\n      <td>0.001312</td>\n      <td>0.001312</td>\n      <td>0.002625</td>\n      <td>0.005249</td>\n      <td>...</td>\n      <td>NaN</td>\n      <td>NaN</td>\n      <td>NaN</td>\n      <td>NaN</td>\n      <td>NaN</td>\n      <td>NaN</td>\n      <td>NaN</td>\n      <td>NaN</td>\n      <td>NaN</td>\n      <td>NaN</td>\n    </tr>\n    <tr>\n      <th>-34.0</th>\n      <td>0.0</td>\n      <td>0.0</td>\n      <td>0.0</td>\n      <td>0.000000</td>\n      <td>0.000000</td>\n      <td>0.000000</td>\n      <td>0.001344</td>\n      <td>0.002688</td>\n      <td>0.006720</td>\n      <td>0.006720</td>\n      <td>...</td>\n      <td>NaN</td>\n      <td>NaN</td>\n      <td>NaN</td>\n      <td>NaN</td>\n      <td>NaN</td>\n      <td>NaN</td>\n      <td>NaN</td>\n      <td>NaN</td>\n      <td>NaN</td>\n      <td>NaN</td>\n    </tr>\n    <tr>\n      <th>-33.0</th>\n      <td>0.0</td>\n      <td>0.0</td>\n      <td>0.0</td>\n      <td>0.001377</td>\n      <td>0.001377</td>\n      <td>0.001377</td>\n      <td>0.001377</td>\n      <td>0.001377</td>\n      <td>0.004132</td>\n      <td>0.004132</td>\n      <td>...</td>\n      <td>NaN</td>\n      <td>NaN</td>\n      <td>NaN</td>\n      <td>NaN</td>\n      <td>NaN</td>\n      <td>NaN</td>\n      <td>NaN</td>\n      <td>NaN</td>\n      <td>NaN</td>\n      <td>NaN</td>\n    </tr>\n    <tr>\n      <th>-32.0</th>\n      <td>0.0</td>\n      <td>0.0</td>\n      <td>0.0</td>\n      <td>0.000000</td>\n      <td>0.000000</td>\n      <td>0.001344</td>\n      <td>0.001344</td>\n      <td>0.002688</td>\n      <td>0.002688</td>\n      <td>0.005376</td>\n      <td>...</td>\n      <td>NaN</td>\n      <td>NaN</td>\n      <td>NaN</td>\n      <td>NaN</td>\n      <td>NaN</td>\n      <td>NaN</td>\n      <td>NaN</td>\n      <td>NaN</td>\n      <td>NaN</td>\n      <td>NaN</td>\n    </tr>\n    <tr>\n      <th>-31.0</th>\n      <td>0.0</td>\n      <td>0.0</td>\n      <td>0.0</td>\n      <td>0.000000</td>\n      <td>0.000000</td>\n      <td>0.000000</td>\n      <td>0.002674</td>\n      <td>0.004011</td>\n      <td>0.004011</td>\n      <td>0.004011</td>\n      <td>...</td>\n      <td>NaN</td>\n      <td>NaN</td>\n      <td>NaN</td>\n      <td>NaN</td>\n      <td>NaN</td>\n      <td>NaN</td>\n      <td>NaN</td>\n      <td>NaN</td>\n      <td>NaN</td>\n      <td>NaN</td>\n    </tr>\n    <tr>\n      <th>-30.0</th>\n      <td>0.0</td>\n      <td>0.0</td>\n      <td>0.0</td>\n      <td>0.000000</td>\n      <td>0.001244</td>\n      <td>0.001244</td>\n      <td>0.002488</td>\n      <td>0.002488</td>\n      <td>0.006219</td>\n      <td>0.006219</td>\n      <td>...</td>\n      <td>NaN</td>\n      <td>NaN</td>\n      <td>NaN</td>\n      <td>NaN</td>\n      <td>NaN</td>\n      <td>NaN</td>\n      <td>NaN</td>\n      <td>NaN</td>\n      <td>NaN</td>\n      <td>NaN</td>\n    </tr>\n    <tr>\n      <th>-29.0</th>\n      <td>0.0</td>\n      <td>0.0</td>\n      <td>0.0</td>\n      <td>0.000000</td>\n      <td>0.001282</td>\n      <td>0.002564</td>\n      <td>0.005128</td>\n      <td>0.005128</td>\n      <td>0.006410</td>\n      <td>0.007692</td>\n      <td>...</td>\n      <td>NaN</td>\n      <td>NaN</td>\n      <td>NaN</td>\n      <td>NaN</td>\n      <td>NaN</td>\n      <td>NaN</td>\n      <td>NaN</td>\n      <td>NaN</td>\n      <td>NaN</td>\n      <td>NaN</td>\n    </tr>\n    <tr>\n      <th>-28.0</th>\n      <td>0.0</td>\n      <td>0.0</td>\n      <td>0.0</td>\n      <td>0.001241</td>\n      <td>0.001241</td>\n      <td>0.001241</td>\n      <td>0.002481</td>\n      <td>0.003722</td>\n      <td>0.004963</td>\n      <td>0.006203</td>\n      <td>...</td>\n      <td>NaN</td>\n      <td>NaN</td>\n      <td>NaN</td>\n      <td>NaN</td>\n      <td>NaN</td>\n      <td>NaN</td>\n      <td>NaN</td>\n      <td>NaN</td>\n      <td>NaN</td>\n      <td>NaN</td>\n    </tr>\n    <tr>\n      <th>-27.0</th>\n      <td>0.0</td>\n      <td>0.0</td>\n      <td>0.0</td>\n      <td>0.000000</td>\n      <td>0.001196</td>\n      <td>0.002392</td>\n      <td>0.003589</td>\n      <td>0.003589</td>\n      <td>0.004785</td>\n      <td>0.005981</td>\n      <td>...</td>\n      <td>NaN</td>\n      <td>NaN</td>\n      <td>NaN</td>\n      <td>NaN</td>\n      <td>NaN</td>\n      <td>NaN</td>\n      <td>NaN</td>\n      <td>NaN</td>\n      <td>NaN</td>\n      <td>NaN</td>\n    </tr>\n    <tr>\n      <th>-26.0</th>\n      <td>0.0</td>\n      <td>0.0</td>\n      <td>0.0</td>\n      <td>0.000000</td>\n      <td>0.002660</td>\n      <td>0.003989</td>\n      <td>0.005319</td>\n      <td>0.005319</td>\n      <td>0.006649</td>\n      <td>0.006649</td>\n      <td>...</td>\n      <td>NaN</td>\n      <td>NaN</td>\n      <td>NaN</td>\n      <td>NaN</td>\n      <td>NaN</td>\n      <td>NaN</td>\n      <td>NaN</td>\n      <td>NaN</td>\n      <td>NaN</td>\n      <td>NaN</td>\n    </tr>\n    <tr>\n      <th>-25.0</th>\n      <td>0.0</td>\n      <td>0.0</td>\n      <td>0.0</td>\n      <td>0.001159</td>\n      <td>0.002317</td>\n      <td>0.004635</td>\n      <td>0.006952</td>\n      <td>0.006952</td>\n      <td>0.010429</td>\n      <td>0.010429</td>\n      <td>...</td>\n      <td>NaN</td>\n      <td>NaN</td>\n      <td>NaN</td>\n      <td>NaN</td>\n      <td>NaN</td>\n      <td>NaN</td>\n      <td>NaN</td>\n      <td>NaN</td>\n      <td>NaN</td>\n      <td>NaN</td>\n    </tr>\n    <tr>\n      <th>-24.0</th>\n      <td>0.0</td>\n      <td>0.0</td>\n      <td>0.0</td>\n      <td>0.000000</td>\n      <td>0.000000</td>\n      <td>0.000000</td>\n      <td>0.001119</td>\n      <td>0.002237</td>\n      <td>0.003356</td>\n      <td>0.003356</td>\n      <td>...</td>\n      <td>NaN</td>\n      <td>NaN</td>\n      <td>NaN</td>\n      <td>NaN</td>\n      <td>NaN</td>\n      <td>NaN</td>\n      <td>NaN</td>\n      <td>NaN</td>\n      <td>NaN</td>\n      <td>NaN</td>\n    </tr>\n    <tr>\n      <th>-23.0</th>\n      <td>0.0</td>\n      <td>0.0</td>\n      <td>0.0</td>\n      <td>0.000000</td>\n      <td>0.002225</td>\n      <td>0.004449</td>\n      <td>0.005562</td>\n      <td>0.005562</td>\n      <td>0.005562</td>\n      <td>0.006674</td>\n      <td>...</td>\n      <td>NaN</td>\n      <td>NaN</td>\n      <td>NaN</td>\n      <td>NaN</td>\n      <td>NaN</td>\n      <td>NaN</td>\n      <td>NaN</td>\n      <td>NaN</td>\n      <td>NaN</td>\n      <td>NaN</td>\n    </tr>\n    <tr>\n      <th>-22.0</th>\n      <td>0.0</td>\n      <td>0.0</td>\n      <td>0.0</td>\n      <td>0.001156</td>\n      <td>0.002312</td>\n      <td>0.002312</td>\n      <td>0.004624</td>\n      <td>0.004624</td>\n      <td>0.005780</td>\n      <td>0.006936</td>\n      <td>...</td>\n      <td>NaN</td>\n      <td>NaN</td>\n      <td>NaN</td>\n      <td>NaN</td>\n      <td>NaN</td>\n      <td>NaN</td>\n      <td>NaN</td>\n      <td>NaN</td>\n      <td>NaN</td>\n      <td>NaN</td>\n    </tr>\n    <tr>\n      <th>-21.0</th>\n      <td>0.0</td>\n      <td>0.0</td>\n      <td>0.0</td>\n      <td>0.000000</td>\n      <td>0.003497</td>\n      <td>0.004662</td>\n      <td>0.004662</td>\n      <td>0.006993</td>\n      <td>0.009324</td>\n      <td>0.010490</td>\n      <td>...</td>\n      <td>NaN</td>\n      <td>NaN</td>\n      <td>NaN</td>\n      <td>NaN</td>\n      <td>NaN</td>\n      <td>NaN</td>\n      <td>NaN</td>\n      <td>NaN</td>\n      <td>NaN</td>\n      <td>NaN</td>\n    </tr>\n    <tr>\n      <th>-20.0</th>\n      <td>0.0</td>\n      <td>0.0</td>\n      <td>0.0</td>\n      <td>0.001088</td>\n      <td>0.001088</td>\n      <td>0.002176</td>\n      <td>0.002176</td>\n      <td>0.003264</td>\n      <td>0.003264</td>\n      <td>0.003264</td>\n      <td>...</td>\n      <td>NaN</td>\n      <td>NaN</td>\n      <td>NaN</td>\n      <td>NaN</td>\n      <td>NaN</td>\n      <td>NaN</td>\n      <td>NaN</td>\n      <td>NaN</td>\n      <td>NaN</td>\n      <td>NaN</td>\n    </tr>\n    <tr>\n      <th>-19.0</th>\n      <td>0.0</td>\n      <td>0.0</td>\n      <td>0.0</td>\n      <td>0.003425</td>\n      <td>0.003425</td>\n      <td>0.003425</td>\n      <td>0.005708</td>\n      <td>0.007991</td>\n      <td>0.009132</td>\n      <td>0.010274</td>\n      <td>...</td>\n      <td>NaN</td>\n      <td>NaN</td>\n      <td>NaN</td>\n      <td>NaN</td>\n      <td>NaN</td>\n      <td>NaN</td>\n      <td>NaN</td>\n      <td>NaN</td>\n      <td>NaN</td>\n      <td>NaN</td>\n    </tr>\n    <tr>\n      <th>-18.0</th>\n      <td>0.0</td>\n      <td>0.0</td>\n      <td>0.0</td>\n      <td>0.001098</td>\n      <td>0.002195</td>\n      <td>0.002195</td>\n      <td>0.002195</td>\n      <td>0.003293</td>\n      <td>0.003293</td>\n      <td>0.004391</td>\n      <td>...</td>\n      <td>NaN</td>\n      <td>NaN</td>\n      <td>NaN</td>\n      <td>NaN</td>\n      <td>NaN</td>\n      <td>NaN</td>\n      <td>NaN</td>\n      <td>NaN</td>\n      <td>NaN</td>\n      <td>NaN</td>\n    </tr>\n    <tr>\n      <th>-17.0</th>\n      <td>0.0</td>\n      <td>0.0</td>\n      <td>0.0</td>\n      <td>0.000000</td>\n      <td>0.000982</td>\n      <td>0.001965</td>\n      <td>0.002947</td>\n      <td>0.002947</td>\n      <td>0.003929</td>\n      <td>0.004912</td>\n      <td>...</td>\n      <td>NaN</td>\n      <td>NaN</td>\n      <td>NaN</td>\n      <td>NaN</td>\n      <td>NaN</td>\n      <td>NaN</td>\n      <td>NaN</td>\n      <td>NaN</td>\n      <td>NaN</td>\n      <td>NaN</td>\n    </tr>\n    <tr>\n      <th>-16.0</th>\n      <td>0.0</td>\n      <td>0.0</td>\n      <td>0.0</td>\n      <td>0.000000</td>\n      <td>0.000000</td>\n      <td>0.000000</td>\n      <td>0.001044</td>\n      <td>0.001044</td>\n      <td>0.002088</td>\n      <td>0.004175</td>\n      <td>...</td>\n      <td>NaN</td>\n      <td>NaN</td>\n      <td>NaN</td>\n      <td>NaN</td>\n      <td>NaN</td>\n      <td>NaN</td>\n      <td>NaN</td>\n      <td>NaN</td>\n      <td>NaN</td>\n      <td>NaN</td>\n    </tr>\n    <tr>\n      <th>-15.0</th>\n      <td>0.0</td>\n      <td>0.0</td>\n      <td>0.0</td>\n      <td>0.001071</td>\n      <td>0.002141</td>\n      <td>0.003212</td>\n      <td>0.004283</td>\n      <td>0.005353</td>\n      <td>0.008565</td>\n      <td>0.008565</td>\n      <td>...</td>\n      <td>NaN</td>\n      <td>NaN</td>\n      <td>NaN</td>\n      <td>NaN</td>\n      <td>NaN</td>\n      <td>NaN</td>\n      <td>NaN</td>\n      <td>NaN</td>\n      <td>NaN</td>\n      <td>NaN</td>\n    </tr>\n    <tr>\n      <th>-14.0</th>\n      <td>0.0</td>\n      <td>0.0</td>\n      <td>0.0</td>\n      <td>0.000000</td>\n      <td>0.001068</td>\n      <td>0.001068</td>\n      <td>0.004274</td>\n      <td>0.004274</td>\n      <td>0.004274</td>\n      <td>0.006410</td>\n      <td>...</td>\n      <td>NaN</td>\n      <td>NaN</td>\n      <td>NaN</td>\n      <td>NaN</td>\n      <td>NaN</td>\n      <td>NaN</td>\n      <td>NaN</td>\n      <td>NaN</td>\n      <td>NaN</td>\n      <td>NaN</td>\n    </tr>\n    <tr>\n      <th>-13.0</th>\n      <td>0.0</td>\n      <td>0.0</td>\n      <td>0.0</td>\n      <td>0.000000</td>\n      <td>0.002041</td>\n      <td>0.004082</td>\n      <td>0.004082</td>\n      <td>0.004082</td>\n      <td>0.005102</td>\n      <td>0.005102</td>\n      <td>...</td>\n      <td>NaN</td>\n      <td>NaN</td>\n      <td>NaN</td>\n      <td>NaN</td>\n      <td>NaN</td>\n      <td>NaN</td>\n      <td>NaN</td>\n      <td>NaN</td>\n      <td>NaN</td>\n      <td>NaN</td>\n    </tr>\n    <tr>\n      <th>-12.0</th>\n      <td>0.0</td>\n      <td>0.0</td>\n      <td>0.0</td>\n      <td>0.001015</td>\n      <td>0.002030</td>\n      <td>0.002030</td>\n      <td>0.002030</td>\n      <td>0.003046</td>\n      <td>0.007107</td>\n      <td>0.007107</td>\n      <td>...</td>\n      <td>NaN</td>\n      <td>NaN</td>\n      <td>NaN</td>\n      <td>NaN</td>\n      <td>NaN</td>\n      <td>NaN</td>\n      <td>NaN</td>\n      <td>NaN</td>\n      <td>NaN</td>\n      <td>NaN</td>\n    </tr>\n    <tr>\n      <th>-11.0</th>\n      <td>0.0</td>\n      <td>0.0</td>\n      <td>0.0</td>\n      <td>0.001927</td>\n      <td>0.001927</td>\n      <td>0.002890</td>\n      <td>0.004817</td>\n      <td>0.005780</td>\n      <td>0.005780</td>\n      <td>0.007707</td>\n      <td>...</td>\n      <td>NaN</td>\n      <td>NaN</td>\n      <td>NaN</td>\n      <td>NaN</td>\n      <td>NaN</td>\n      <td>NaN</td>\n      <td>NaN</td>\n      <td>NaN</td>\n      <td>NaN</td>\n      <td>NaN</td>\n    </tr>\n    <tr>\n      <th>-10.0</th>\n      <td>0.0</td>\n      <td>0.0</td>\n      <td>0.0</td>\n      <td>0.000974</td>\n      <td>0.001947</td>\n      <td>0.001947</td>\n      <td>0.002921</td>\n      <td>0.004869</td>\n      <td>0.007790</td>\n      <td>0.009737</td>\n      <td>...</td>\n      <td>NaN</td>\n      <td>NaN</td>\n      <td>NaN</td>\n      <td>NaN</td>\n      <td>NaN</td>\n      <td>NaN</td>\n      <td>NaN</td>\n      <td>NaN</td>\n      <td>NaN</td>\n      <td>NaN</td>\n    </tr>\n  </tbody>\n</table>\n<p>51 rows × 62 columns</p>\n</div>"
     },
     "execution_count": 163,
     "metadata": {},
     "output_type": "execute_result"
    }
   ],
   "execution_count": 163,
   "id": "5ea480711b3246f5"
  },
  {
   "cell_type": "markdown",
   "metadata": {
    "scrolled": false,
    "tags": [],
    "slideshow": {
     "slide_type": "slide"
    },
    "id": "84A2E88DBC7644E39088737ABA83D60A",
    "runtime": {
     "status": "default",
     "execution_status": null,
     "is_visible": false
    },
    "notebookId": "6524b1e01ca35e635cc0d344"
   },
   "source": [
    "### 5. 画图展示"
   ],
   "id": "c7dda14e8237e9ba"
  },
  {
   "cell_type": "code",
   "metadata": {
    "collapsed": false,
    "scrolled": false,
    "tags": [],
    "slideshow": {
     "slide_type": "slide"
    },
    "id": "CEC2F5A245E24EA482307604F741472D",
    "notebookId": "6524b1e01ca35e635cc0d344",
    "trusted": true,
    "ExecuteTime": {
     "end_time": "2023-10-12T13:29:10.404770200Z",
     "start_time": "2023-10-12T13:29:09.976936900Z"
    }
   },
   "source": [
    "# plot vintage line chart\n",
    "plt.rcParams['figure.facecolor'] = 'white'\n",
    "vintage_wide_df.T.plot(legend = False, grid = True, title = 'Cumulative % of Bad Customers (> 60 Days Past Due)')\n",
    "plt.xlabel('Months on Books')\n",
    "plt.ylabel('Cumulative % > 60 Days Past Due')\n",
    "plt.show()\n"
   ],
   "outputs": [
    {
     "data": {
      "text/plain": "<Figure size 640x480 with 1 Axes>",
      "image/png": "[encoded data removed]"
     },
     "metadata": {},
     "output_type": "display_data"
    }
   ],
   "execution_count": 164,
   "id": "6a4a0f73897411f2"
  }
 ],
 "metadata": {
  "kernelspec": {
   "language": "python",
   "display_name": "Python 3",
   "name": "python3"
  },
  "language_info": {
   "codemirror_mode": {
    "name": "ipython",
    "version": 3
   },
   "name": "python",
   "mimetype": "text/x-python",
   "nbconvert_exporter": "python",
   "file_extension": ".py",
   "version": "3.5.2",
   "pygments_lexer": "ipython3"
  }
 },
 "nbformat": 4,
 "nbformat_minor": 5
}
