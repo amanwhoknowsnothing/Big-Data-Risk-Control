{
 "cells": [
  {
   "cell_type": "markdown",
   "metadata": {
    "id": "E7C73E2A36454CA28B51284C248A4977",
    "notebookId": "653389728e5eda4b7f8bb184",
    "runtime": {
     "status": "default",
     "execution_status": null,
     "is_visible": false
    },
    "scrolled": false,
    "tags": [],
    "slideshow": {
     "slide_type": "slide"
    }
   },
   "source": [
    "# 实验：模型效果评估  \n",
    "\n",
    "### 实验目标：掌握ROC和KS曲线的绘制，以及AUC、KS指标在模型评估场景中的应用"
   ]
  },
  {
   "cell_type": "markdown",
   "metadata": {
    "id": "B9DA8CEB74A3448EA1F35E2986A8AD0C",
    "tags": [],
    "slideshow": {
     "slide_type": "slide"
    },
    "trusted": true,
    "mdEditEnable": false,
    "scrolled": false,
    "runtime": {
     "status": "default",
     "execution_status": null,
     "is_visible": false
    },
    "notebookId": "653389728e5eda4b7f8bb184"
   },
   "source": [
    "## 1. ROC曲线绘制  \n",
    "如果把假警报率理解为代价的话，那么命中率就是收益，所以也可以说在阈值相同的情况下，希望假警报率（代价）尽可能小，命中率（收益）尽可能高，该思想反映在图形上就是ROC曲线尽可能地陡峭。曲线越靠近左上角，说明在相同的阈值条件下，命中率越高，假警报率越低，模型越完善。  \n",
    "\n",
    "![Image Name](https://cdn.kesci.com/upload/image/rd4boyim29.png?imageView2/0/w/960/h/960)  \n"
   ]
  },
  {
   "cell_type": "code",
   "metadata": {
    "id": "F0CB75075DEE4F3ABBBF5B3CCA978025",
    "tags": [],
    "slideshow": {
     "slide_type": "slide"
    },
    "trusted": true,
    "collapsed": false,
    "scrolled": false,
    "notebookId": "653389728e5eda4b7f8bb184",
    "ExecuteTime": {
     "end_time": "2023-10-26T12:18:22.121776300Z",
     "start_time": "2023-10-26T12:18:21.569157200Z"
    }
   },
   "source": [
    "# 股票客户流失预警模型\n",
    "import warnings\n",
    "warnings.filterwarnings('ignore')\n",
    "\n",
    "# 1.读取数据\n",
    "import pandas as pd\n",
    "df = pd.read_excel('股票客户流失.xlsx')\n",
    "\n",
    "# 2.划分特征变量和目标变量\n",
    "X = df.iloc[:,0:5]\n",
    "y = df.iloc[:,-1]\n",
    "\n",
    "# 3.划分训练集和测试集\n",
    "from sklearn.model_selection import train_test_split\n",
    "X_train, X_test, y_train, y_test = train_test_split(X, y, test_size=0.2, random_state=1)\n",
    "\n",
    "# 4.模型搭建 - 逻辑回归\n",
    "from sklearn.linear_model import LogisticRegression\n",
    "model = LogisticRegression()\n",
    "model.fit(X_train,y_train )\n",
    "\n",
    "# 5.模型使用1 - 预测数据结果\n",
    "y_pred = model.predict(X_test)\n",
    "print(y_pred[0:100])  # 打印预测内容的前100个看看\n",
    "\n",
    "# 查看全部的预测准确度\n",
    "from sklearn.metrics import accuracy_score\n",
    "score = accuracy_score(y_test,y_pred )\n",
    "print(score)  # 打印整体的预测准确度\n",
    "\n",
    "# 6.模型使用2 - 预测概率\n",
    "y_pred_proba = model.predict_proba(X_test)  \n",
    "print(y_pred_proba[0:5])  # 打印前5个客户的分类概率"
   ],
   "outputs": [
    {
     "name": "stdout",
     "output_type": "stream",
     "text": [
      "[0 0 0 0 0 0 0 1 0 0 0 0 1 0 0 0 0 0 0 0 0 0 0 0 0 0 0 0 0 0 0 0 0 0 0 0 0\n",
      " 0 0 0 0 0 1 1 1 0 0 1 0 1 0 0 0 0 1 0 0 0 0 0 0 0 1 1 0 0 0 1 0 0 0 0 0 0\n",
      " 0 0 0 0 0 0 0 1 0 0 0 0 0 0 0 0 1 1 0 0 0 1 0 0 0 1]\n",
      "0.7977288857345636\n",
      "[[0.82041491 0.17958509]\n",
      " [0.84029613 0.15970387]\n",
      " [0.79819342 0.20180658]\n",
      " [0.62989192 0.37010808]\n",
      " [0.61636611 0.38363389]]\n"
     ]
    }
   ],
   "execution_count": 22
  },
  {
   "cell_type": "code",
   "metadata": {
    "id": "D50AD4B59C9F46B59819F4E66AE1E3B6",
    "tags": [],
    "slideshow": {
     "slide_type": "slide"
    },
    "trusted": true,
    "collapsed": false,
    "scrolled": false,
    "notebookId": "653389728e5eda4b7f8bb184",
    "ExecuteTime": {
     "end_time": "2023-10-26T12:18:32.095873100Z",
     "start_time": "2023-10-26T12:18:32.081194400Z"
    }
   },
   "source": [
    "#混淆矩阵的Python代码实现\n",
    "from sklearn.metrics import confusion_matrix\n",
    "m = confusion_matrix(y_test,y_pred )  # 传入预测值和真实值\n",
    "print(m)"
   ],
   "outputs": [
    {
     "name": "stdout",
     "output_type": "stream",
     "text": [
      "[[968  93]\n",
      " [192 156]]\n"
     ]
    }
   ],
   "execution_count": 23
  },
  {
   "cell_type": "markdown",
   "metadata": {
    "id": "5384A8C8F4494BEDA9DD66DB83FE2DF5",
    "notebookId": "653389728e5eda4b7f8bb184",
    "tags": [],
    "slideshow": {
     "slide_type": "slide"
    },
    "trusted": true,
    "mdEditEnable": false,
    "scrolled": false,
    "runtime": {
     "status": "default",
     "execution_status": null,
     "is_visible": false
    }
   },
   "source": [
    "m的打印结果是一个2行2列的二维数组，其中第1行为实际分类为0的数量，第2行为实际分类为1的数量；第1列为预测分类为0的数量，第2列为预测分类为1的数量。可以通过如下代码为表格添加行列索引。"
   ]
  },
  {
   "cell_type": "code",
   "metadata": {
    "id": "F937BCD3B9BC4489947B55C7457D5511",
    "tags": [],
    "slideshow": {
     "slide_type": "slide"
    },
    "trusted": true,
    "collapsed": false,
    "scrolled": false,
    "notebookId": "653389728e5eda4b7f8bb184",
    "ExecuteTime": {
     "end_time": "2023-10-26T12:10:46.326243400Z",
     "start_time": "2023-10-26T12:10:46.306355800Z"
    }
   },
   "source": [
    "import pandas as pd\n",
    "\n",
    "a = pd.DataFrame(m, index=['0（实际不流失）', '1（实际流失）'], columns=['0（预测不流失）', '1（预测流失）'])\n",
    "a"
   ],
   "outputs": [
    {
     "data": {
      "text/plain": "          0（预测不流失）  1（预测流失）\n0（实际不流失）       968       93\n1（实际流失）        192      156",
      "text/html": "<div>\n<style scoped>\n    .dataframe tbody tr th:only-of-type {\n        vertical-align: middle;\n    }\n\n    .dataframe tbody tr th {\n        vertical-align: top;\n    }\n\n    .dataframe thead th {\n        text-align: right;\n    }\n</style>\n<table border=\"1\" class=\"dataframe\">\n  <thead>\n    <tr style=\"text-align: right;\">\n      <th></th>\n      <th>0（预测不流失）</th>\n      <th>1（预测流失）</th>\n    </tr>\n  </thead>\n  <tbody>\n    <tr>\n      <th>0（实际不流失）</th>\n      <td>968</td>\n      <td>93</td>\n    </tr>\n    <tr>\n      <th>1（实际流失）</th>\n      <td>192</td>\n      <td>156</td>\n    </tr>\n  </tbody>\n</table>\n</div>"
     },
     "execution_count": 13,
     "metadata": {},
     "output_type": "execute_result"
    }
   ],
   "execution_count": 13
  },
  {
   "cell_type": "code",
   "metadata": {
    "id": "AE32D6080759497D96EF50BAFC3B2036",
    "tags": [],
    "slideshow": {
     "slide_type": "slide"
    },
    "trusted": true,
    "collapsed": false,
    "scrolled": false,
    "notebookId": "653389728e5eda4b7f8bb184",
    "ExecuteTime": {
     "end_time": "2023-10-26T12:14:00.888010800Z",
     "start_time": "2023-10-26T12:14:00.872519800Z"
    }
   },
   "source": [
    "#计算命中率\n",
    "from sklearn.metrics import classification_report\n",
    "\n",
    "print(classification_report(y_test, y_pred))"
   ],
   "outputs": [
    {
     "name": "stdout",
     "output_type": "stream",
     "text": [
      "              precision    recall  f1-score   support\n",
      "\n",
      "           0       0.83      0.91      0.87      1061\n",
      "           1       0.63      0.45      0.52       348\n",
      "\n",
      "    accuracy                           0.80      1409\n",
      "   macro avg       0.73      0.68      0.70      1409\n",
      "weighted avg       0.78      0.80      0.79      1409\n"
     ]
    }
   ],
   "execution_count": 14
  },
  {
   "cell_type": "markdown",
   "metadata": {
    "id": "FD9EA550CE57450C83DED29415A28B1D",
    "notebookId": "653389728e5eda4b7f8bb184",
    "tags": [],
    "slideshow": {
     "slide_type": "slide"
    },
    "trusted": true,
    "mdEditEnable": false,
    "scrolled": false,
    "runtime": {
     "status": "default",
     "execution_status": null,
     "is_visible": false
    }
   },
   "source": [
    "### 1.1 计算必要参数  \n",
    "计算ROC曲线需要的假警报率（fpr）、命中率（tpr）及阈值（thres）"
   ]
  },
  {
   "cell_type": "code",
   "metadata": {
    "id": "E236B293C1664EDB8E11F2645E690500",
    "tags": [],
    "slideshow": {
     "slide_type": "slide"
    },
    "trusted": true,
    "collapsed": false,
    "scrolled": false,
    "notebookId": "653389728e5eda4b7f8bb184",
    "ExecuteTime": {
     "end_time": "2023-10-26T12:19:26.526425Z",
     "start_time": "2023-10-26T12:19:26.511946Z"
    }
   },
   "source": [
    "# 计算ROC曲线需要的假警报率（fpr）、命中率（tpr）及阈值（thres）\n",
    "from sklearn.metrics import roc_curve\n",
    "\n",
    "fpr, tpr, thres = roc_curve(y_test,y_pred_proba[:,1] )"
   ],
   "outputs": [],
   "execution_count": 24
  },
  {
   "cell_type": "code",
   "metadata": {
    "id": "C8EC46CD43E746D8A6C2326D9F235574",
    "tags": [],
    "slideshow": {
     "slide_type": "slide"
    },
    "trusted": true,
    "collapsed": false,
    "scrolled": false,
    "notebookId": "653389728e5eda4b7f8bb184",
    "ExecuteTime": {
     "end_time": "2023-10-26T12:16:37.245102700Z",
     "start_time": "2023-10-26T12:16:37.232137700Z"
    }
   },
   "source": [
    "# 感兴趣的同学可以查看下roc_curve()函数返回的内容\n",
    "print(roc_curve(y_test, y_pred_proba[:,1]))\n",
    "type(roc_curve(y_test, y_pred_proba[:,1]))\n",
    "len(roc_curve(y_test, y_pred_proba[:,1]))"
   ],
   "outputs": [
    {
     "name": "stdout",
     "output_type": "stream",
     "text": [
      "(array([0.        , 0.        , 0.        , 0.00188501, 0.00188501,\n",
      "       0.00282752, 0.00282752, 0.00377003, 0.00377003, 0.00565504,\n",
      "       0.00565504, 0.00659755, 0.00659755, 0.00754006, 0.00754006,\n",
      "       0.00848256, 0.00848256, 0.01036758, 0.01036758, 0.01131008,\n",
      "       0.01131008, 0.01225259, 0.01225259, 0.0131951 , 0.0131951 ,\n",
      "       0.01508011, 0.01508011, 0.01602262, 0.01602262, 0.01696513,\n",
      "       0.01696513, 0.01885014, 0.01885014, 0.02073516, 0.02073516,\n",
      "       0.02356268, 0.02356268, 0.0273327 , 0.0273327 , 0.02827521,\n",
      "       0.02827521, 0.02921772, 0.02921772, 0.03016023, 0.03016023,\n",
      "       0.03110273, 0.03110273, 0.03204524, 0.03204524, 0.03298775,\n",
      "       0.03298775, 0.03393025, 0.03393025, 0.03487276, 0.03487276,\n",
      "       0.03581527, 0.03581527, 0.03675778, 0.03675778, 0.03770028,\n",
      "       0.03770028, 0.03864279, 0.03864279, 0.0395853 , 0.0395853 ,\n",
      "       0.04241282, 0.04241282, 0.04335533, 0.04335533, 0.04429783,\n",
      "       0.04429783, 0.04712535, 0.04712535, 0.04901037, 0.04901037,\n",
      "       0.04995287, 0.04995287, 0.05183789, 0.05183789, 0.05466541,\n",
      "       0.05466541, 0.05749293, 0.05749293, 0.06314797, 0.06314797,\n",
      "       0.06409048, 0.06409048, 0.06503299, 0.06503299, 0.066918  ,\n",
      "       0.066918  , 0.06786051, 0.06786051, 0.07068803, 0.07068803,\n",
      "       0.07163054, 0.07163054, 0.07257304, 0.07257304, 0.07917059,\n",
      "       0.0801131 , 0.08105561, 0.08105561, 0.08294062, 0.08294062,\n",
      "       0.08388313, 0.08388313, 0.08482564, 0.08482564, 0.08576814,\n",
      "       0.08576814, 0.08765316, 0.08765316, 0.08859566, 0.08859566,\n",
      "       0.09048068, 0.09048068, 0.0933082 , 0.0933082 , 0.09519321,\n",
      "       0.09519321, 0.09990575, 0.09990575, 0.10179076, 0.10179076,\n",
      "       0.10273327, 0.10273327, 0.10461828, 0.10461828, 0.10744581,\n",
      "       0.10744581, 0.10838831, 0.10838831, 0.11215834, 0.11215834,\n",
      "       0.11310085, 0.11310085, 0.11498586, 0.11498586, 0.11592837,\n",
      "       0.11592837, 0.11875589, 0.11875589, 0.12535344, 0.12535344,\n",
      "       0.12723845, 0.12723845, 0.13195099, 0.13195099, 0.13477851,\n",
      "       0.13477851, 0.13854854, 0.13854854, 0.13949105, 0.13949105,\n",
      "       0.14043355, 0.14043355, 0.14137606, 0.14137606, 0.14326107,\n",
      "       0.14326107, 0.1470311 , 0.1470311 , 0.14985862, 0.14985862,\n",
      "       0.15551367, 0.15551367, 0.15645617, 0.15645617, 0.1602262 ,\n",
      "       0.1602262 , 0.16682375, 0.16682375, 0.16965127, 0.16965127,\n",
      "       0.17059378, 0.17059378, 0.17530631, 0.17530631, 0.17719133,\n",
      "       0.17719133, 0.17907634, 0.17907634, 0.18190386, 0.18190386,\n",
      "       0.18567389, 0.18567389, 0.19132893, 0.19132893, 0.19509896,\n",
      "       0.19509896, 0.19698398, 0.19698398, 0.19886899, 0.19886899,\n",
      "       0.1998115 , 0.1998115 , 0.20358153, 0.20358153, 0.21771913,\n",
      "       0.21771913, 0.22148916, 0.22148916, 0.22525919, 0.22525919,\n",
      "       0.2271442 , 0.2271442 , 0.23468426, 0.23468426, 0.23751178,\n",
      "       0.23751178, 0.23845429, 0.23845429, 0.24222432, 0.24222432,\n",
      "       0.24316682, 0.24316682, 0.24787936, 0.24787936, 0.25070688,\n",
      "       0.25070688, 0.2535344 , 0.25447691, 0.25541942, 0.25541942,\n",
      "       0.26013195, 0.26013195, 0.27144204, 0.27144204, 0.28086711,\n",
      "       0.28086711, 0.29594722, 0.29594722, 0.29783223, 0.29783223,\n",
      "       0.30160226, 0.30160226, 0.30442978, 0.30442978, 0.30537229,\n",
      "       0.30537229, 0.30819981, 0.30819981, 0.31196984, 0.31196984,\n",
      "       0.31385485, 0.31385485, 0.32327992, 0.32327992, 0.32610745,\n",
      "       0.32610745, 0.34495759, 0.34495759, 0.34590009, 0.34590009,\n",
      "       0.34778511, 0.34778511, 0.35721018, 0.35721018, 0.36192271,\n",
      "       0.36192271, 0.36286522, 0.36286522, 0.36663525, 0.36663525,\n",
      "       0.37888784, 0.37888784, 0.3864279 , 0.3864279 , 0.39114043,\n",
      "       0.39114043, 0.39208294, 0.39208294, 0.40433553, 0.40433553,\n",
      "       0.40622055, 0.40622055, 0.4128181 , 0.4128181 , 0.42035815,\n",
      "       0.42035815, 0.42884072, 0.42884072, 0.42978322, 0.42978322,\n",
      "       0.43638077, 0.43638077, 0.43920829, 0.43920829, 0.44203582,\n",
      "       0.44203582, 0.45051838, 0.45051838, 0.45240339, 0.45240339,\n",
      "       0.46842601, 0.46842601, 0.47502356, 0.47502356, 0.49104618,\n",
      "       0.49104618, 0.4929312 , 0.4929312 , 0.49670123, 0.49670123,\n",
      "       0.50329877, 0.50329877, 0.50424128, 0.50424128, 0.5070688 ,\n",
      "       0.5070688 , 0.50989632, 0.50989632, 0.51366635, 0.51366635,\n",
      "       0.52309142, 0.52309142, 0.52497644, 0.52497644, 0.52874647,\n",
      "       0.52874647, 0.53817154, 0.53817154, 0.54194156, 0.54194156,\n",
      "       0.55890669, 0.55890669, 0.56361923, 0.56361923, 0.56550424,\n",
      "       0.56550424, 0.56927427, 0.56927427, 0.57115928, 0.57115928,\n",
      "       0.5730443 , 0.5730443 , 0.58058435, 0.58058435, 0.58152686,\n",
      "       0.58152686, 0.60131951, 0.60131951, 0.61828464, 0.61828464,\n",
      "       0.63242224, 0.63242224, 0.63901979, 0.63901979, 0.65786993,\n",
      "       0.65786993, 0.68426013, 0.68426013, 0.69180019, 0.69180019,\n",
      "       0.70499529, 0.70499529, 0.70593779, 0.70593779, 0.79170594,\n",
      "       0.79170594, 0.79924599, 0.79924599, 0.81715363, 0.81715363,\n",
      "       0.82092366, 0.82092366, 0.8397738 , 0.8397738 , 0.88407163,\n",
      "       0.88407163, 0.88784166, 0.88784166, 0.91894439, 0.91894439,\n",
      "       0.93213949, 0.93213949, 1.        ]), array([0.        , 0.00287356, 0.03448276, 0.03448276, 0.04022989,\n",
      "       0.04022989, 0.04597701, 0.04597701, 0.06609195, 0.06609195,\n",
      "       0.07758621, 0.07758621, 0.08908046, 0.08908046, 0.09195402,\n",
      "       0.09195402, 0.11206897, 0.11206897, 0.12643678, 0.12643678,\n",
      "       0.13505747, 0.13505747, 0.15804598, 0.15804598, 0.17241379,\n",
      "       0.17241379, 0.17816092, 0.17816092, 0.18390805, 0.18390805,\n",
      "       0.18678161, 0.18678161, 0.20689655, 0.20689655, 0.21264368,\n",
      "       0.21264368, 0.2183908 , 0.2183908 , 0.22701149, 0.22701149,\n",
      "       0.23275862, 0.23275862, 0.23850575, 0.23850575, 0.24425287,\n",
      "       0.24425287, 0.27586207, 0.27586207, 0.2816092 , 0.2816092 ,\n",
      "       0.29022989, 0.29022989, 0.29310345, 0.29310345, 0.29885057,\n",
      "       0.29885057, 0.30747126, 0.30747126, 0.31034483, 0.31034483,\n",
      "       0.31321839, 0.31321839, 0.31609195, 0.31609195, 0.32471264,\n",
      "       0.32471264, 0.32758621, 0.32758621, 0.33045977, 0.33045977,\n",
      "       0.33333333, 0.33333333, 0.33908046, 0.33908046, 0.34195402,\n",
      "       0.34195402, 0.34482759, 0.34482759, 0.35057471, 0.35057471,\n",
      "       0.3591954 , 0.3591954 , 0.36206897, 0.36206897, 0.37643678,\n",
      "       0.37643678, 0.37931034, 0.37931034, 0.38505747, 0.38505747,\n",
      "       0.38793103, 0.38793103, 0.3908046 , 0.3908046 , 0.39942529,\n",
      "       0.39942529, 0.40517241, 0.40517241, 0.40804598, 0.40804598,\n",
      "       0.41091954, 0.41091954, 0.41954023, 0.41954023, 0.42528736,\n",
      "       0.42528736, 0.42816092, 0.42816092, 0.43390805, 0.43390805,\n",
      "       0.44252874, 0.44252874, 0.45114943, 0.45114943, 0.45402299,\n",
      "       0.45402299, 0.46551724, 0.46551724, 0.4683908 , 0.4683908 ,\n",
      "       0.47413793, 0.47413793, 0.47701149, 0.47701149, 0.47988506,\n",
      "       0.47988506, 0.48563218, 0.48563218, 0.48850575, 0.48850575,\n",
      "       0.49137931, 0.49137931, 0.50862069, 0.50862069, 0.51436782,\n",
      "       0.51436782, 0.51724138, 0.51724138, 0.52298851, 0.52298851,\n",
      "       0.52586207, 0.52586207, 0.52873563, 0.52873563, 0.53448276,\n",
      "       0.53448276, 0.54597701, 0.54597701, 0.54885057, 0.54885057,\n",
      "       0.5545977 , 0.5545977 , 0.56321839, 0.56321839, 0.56896552,\n",
      "       0.56896552, 0.57471264, 0.57471264, 0.57758621, 0.57758621,\n",
      "       0.58045977, 0.58045977, 0.58333333, 0.58333333, 0.5862069 ,\n",
      "       0.5862069 , 0.59195402, 0.59195402, 0.59770115, 0.59770115,\n",
      "       0.60057471, 0.60057471, 0.60632184, 0.60632184, 0.6091954 ,\n",
      "       0.6091954 , 0.61206897, 0.61206897, 0.61494253, 0.61494253,\n",
      "       0.61781609, 0.61781609, 0.62643678, 0.62643678, 0.62931034,\n",
      "       0.62931034, 0.63505747, 0.63505747, 0.64655172, 0.64655172,\n",
      "       0.64942529, 0.64942529, 0.65517241, 0.65517241, 0.65804598,\n",
      "       0.65804598, 0.66666667, 0.66666667, 0.67528736, 0.67528736,\n",
      "       0.67816092, 0.67816092, 0.68678161, 0.68678161, 0.69252874,\n",
      "       0.69252874, 0.69827586, 0.69827586, 0.70114943, 0.70114943,\n",
      "       0.70689655, 0.70689655, 0.70977011, 0.70977011, 0.71264368,\n",
      "       0.71264368, 0.71551724, 0.71551724, 0.72126437, 0.72126437,\n",
      "       0.72413793, 0.72413793, 0.72701149, 0.72701149, 0.72988506,\n",
      "       0.72988506, 0.73275862, 0.73275862, 0.73563218, 0.73563218,\n",
      "       0.74137931, 0.74137931, 0.74425287, 0.74425287, 0.74712644,\n",
      "       0.74712644, 0.75      , 0.75      , 0.75574713, 0.75574713,\n",
      "       0.75862069, 0.75862069, 0.76436782, 0.76436782, 0.77011494,\n",
      "       0.77011494, 0.77298851, 0.77298851, 0.77586207, 0.77586207,\n",
      "       0.7816092 , 0.7816092 , 0.78448276, 0.78448276, 0.79310345,\n",
      "       0.79310345, 0.79597701, 0.79597701, 0.79885057, 0.79885057,\n",
      "       0.8045977 , 0.8045977 , 0.80747126, 0.80747126, 0.81896552,\n",
      "       0.81896552, 0.82183908, 0.82183908, 0.83045977, 0.83045977,\n",
      "       0.83333333, 0.83333333, 0.8362069 , 0.8362069 , 0.83908046,\n",
      "       0.83908046, 0.84195402, 0.84195402, 0.84482759, 0.84482759,\n",
      "       0.84770115, 0.84770115, 0.85057471, 0.85057471, 0.85344828,\n",
      "       0.85344828, 0.85632184, 0.85632184, 0.8591954 , 0.8591954 ,\n",
      "       0.86206897, 0.86206897, 0.86781609, 0.86781609, 0.87068966,\n",
      "       0.87068966, 0.87356322, 0.87356322, 0.88218391, 0.88218391,\n",
      "       0.88505747, 0.88505747, 0.88793103, 0.88793103, 0.8908046 ,\n",
      "       0.8908046 , 0.89367816, 0.89367816, 0.89655172, 0.89655172,\n",
      "       0.89942529, 0.89942529, 0.90229885, 0.90229885, 0.90517241,\n",
      "       0.90517241, 0.90804598, 0.90804598, 0.91091954, 0.91091954,\n",
      "       0.9137931 , 0.9137931 , 0.91954023, 0.91954023, 0.92241379,\n",
      "       0.92241379, 0.92528736, 0.92528736, 0.93103448, 0.93103448,\n",
      "       0.93390805, 0.93390805, 0.93678161, 0.93678161, 0.93965517,\n",
      "       0.93965517, 0.94252874, 0.94252874, 0.9454023 , 0.9454023 ,\n",
      "       0.94827586, 0.94827586, 0.95114943, 0.95114943, 0.95402299,\n",
      "       0.95402299, 0.95689655, 0.95689655, 0.95977011, 0.95977011,\n",
      "       0.96264368, 0.96264368, 0.96551724, 0.96551724, 0.9683908 ,\n",
      "       0.9683908 , 0.97126437, 0.97126437, 0.97413793, 0.97413793,\n",
      "       0.97701149, 0.97701149, 0.97988506, 0.97988506, 0.98275862,\n",
      "       0.98275862, 0.98563218, 0.98563218, 0.98850575, 0.98850575,\n",
      "       0.99137931, 0.99137931, 0.99425287, 0.99425287, 0.99712644,\n",
      "       0.99712644, 1.        , 1.        ]), array([       inf, 0.93036861, 0.86734206, 0.86418723, 0.85730309,\n",
      "       0.85649378, 0.84568164, 0.84543596, 0.82483126, 0.8201441 ,\n",
      "       0.81311169, 0.81164465, 0.79891705, 0.79828598, 0.79744205,\n",
      "       0.79673396, 0.79148484, 0.79018084, 0.78410715, 0.78325301,\n",
      "       0.78068026, 0.77975555, 0.77314361, 0.77149969, 0.76317728,\n",
      "       0.75771678, 0.75530964, 0.7467536 , 0.74633576, 0.74593898,\n",
      "       0.73787043, 0.73150142, 0.7155645 , 0.7132533 , 0.71147411,\n",
      "       0.71006504, 0.705358  , 0.70391142, 0.69934458, 0.6989776 ,\n",
      "       0.69636937, 0.69577815, 0.69040906, 0.68975946, 0.68396617,\n",
      "       0.68341116, 0.65824648, 0.65645995, 0.6543799 , 0.64886034,\n",
      "       0.64615326, 0.64511389, 0.64509061, 0.63984949, 0.63899737,\n",
      "       0.63606738, 0.63405227, 0.63368792, 0.63038056, 0.62929326,\n",
      "       0.62715999, 0.6256313 , 0.62344177, 0.61735308, 0.61333738,\n",
      "       0.60597822, 0.60516151, 0.60438333, 0.60412377, 0.59867567,\n",
      "       0.598105  , 0.59240035, 0.59157241, 0.58974186, 0.58832281,\n",
      "       0.58633914, 0.58335363, 0.57618962, 0.57279834, 0.56287395,\n",
      "       0.56209214, 0.55871588, 0.55851295, 0.55585014, 0.5524567 ,\n",
      "       0.5519966 , 0.55173012, 0.54869136, 0.54496052, 0.54303347,\n",
      "       0.5412379 , 0.54077989, 0.54068863, 0.53644826, 0.53378715,\n",
      "       0.53207846, 0.53126791, 0.5289874 , 0.52850005, 0.52609366,\n",
      "       0.52319534, 0.52295562, 0.51740022, 0.51454525, 0.5128666 ,\n",
      "       0.51240449, 0.51220439, 0.51129218, 0.50843466, 0.50739239,\n",
      "       0.50511755, 0.50351112, 0.49924286, 0.49774549, 0.49676048,\n",
      "       0.48983178, 0.48542537, 0.48237841, 0.48127251, 0.47991475,\n",
      "       0.4792829 , 0.47653343, 0.47493432, 0.46687942, 0.46466341,\n",
      "       0.46235473, 0.45876252, 0.45762865, 0.45728654, 0.45396147,\n",
      "       0.45327582, 0.45322971, 0.44540807, 0.44035387, 0.43909475,\n",
      "       0.43851404, 0.43850714, 0.4374161 , 0.4339261 , 0.43365281,\n",
      "       0.43253698, 0.42874795, 0.42838317, 0.4201639 , 0.41965098,\n",
      "       0.41906404, 0.41688636, 0.40384019, 0.40300232, 0.40114515,\n",
      "       0.40023483, 0.39694656, 0.39469319, 0.39339126, 0.39210513,\n",
      "       0.39051892, 0.38930922, 0.38920281, 0.38850045, 0.38653204,\n",
      "       0.38567056, 0.38363389, 0.38329059, 0.38001527, 0.37970083,\n",
      "       0.37548454, 0.37365995, 0.37361821, 0.37010808, 0.36452856,\n",
      "       0.3638944 , 0.35829263, 0.35772756, 0.35688172, 0.35595225,\n",
      "       0.35580895, 0.35507775, 0.34766921, 0.34751604, 0.34609368,\n",
      "       0.3459747 , 0.34360625, 0.34251243, 0.34066434, 0.34061995,\n",
      "       0.33865711, 0.33811938, 0.33243296, 0.32872028, 0.32495288,\n",
      "       0.32317745, 0.32231913, 0.32173408, 0.32145383, 0.32043845,\n",
      "       0.31981616, 0.31849466, 0.31635419, 0.31353551, 0.30506185,\n",
      "       0.3038763 , 0.30135394, 0.30036661, 0.29785788, 0.29672634,\n",
      "       0.29611863, 0.29468651, 0.29032967, 0.28985051, 0.28895018,\n",
      "       0.28851766, 0.28846186, 0.288309  , 0.2865539 , 0.28639019,\n",
      "       0.28630836, 0.28567951, 0.28415397, 0.28391369, 0.28204003,\n",
      "       0.28181318, 0.27923773, 0.27819659, 0.27780412, 0.27769018,\n",
      "       0.2757513 , 0.27388533, 0.26977967, 0.26928634, 0.26393067,\n",
      "       0.26370485, 0.25147294, 0.25074872, 0.24987825, 0.24946767,\n",
      "       0.24641104, 0.24575234, 0.24385571, 0.24260233, 0.24246899,\n",
      "       0.24191922, 0.23916651, 0.23650475, 0.23511477, 0.23304303,\n",
      "       0.23200776, 0.23175645, 0.22536036, 0.2249086 , 0.22402926,\n",
      "       0.2231088 , 0.21098824, 0.21093075, 0.21060639, 0.20817224,\n",
      "       0.20748694, 0.20685561, 0.2011897 , 0.19955868, 0.19821109,\n",
      "       0.19725543, 0.19692671, 0.19579434, 0.19358478, 0.19230412,\n",
      "       0.18756879, 0.18719062, 0.18341986, 0.18229825, 0.17998326,\n",
      "       0.17961746, 0.17958509, 0.17842096, 0.17468107, 0.1745642 ,\n",
      "       0.17392123, 0.17388887, 0.17093441, 0.17053651, 0.1692642 ,\n",
      "       0.16849918, 0.16624505, 0.16576882, 0.16534669, 0.16436001,\n",
      "       0.16244558, 0.16243364, 0.16174278, 0.16097982, 0.16037339,\n",
      "       0.16030797, 0.15847015, 0.15837338, 0.15814698, 0.15792851,\n",
      "       0.15344008, 0.15271964, 0.15197113, 0.15181629, 0.14787347,\n",
      "       0.14764305, 0.14717758, 0.14688051, 0.14592689, 0.1458334 ,\n",
      "       0.14457912, 0.1442514 , 0.1435661 , 0.14292077, 0.14234737,\n",
      "       0.1415144 , 0.13990107, 0.13965014, 0.13857806, 0.13823609,\n",
      "       0.13514532, 0.13506902, 0.13446298, 0.13433325, 0.13401364,\n",
      "       0.13349698, 0.12990337, 0.12984922, 0.12915526, 0.1290376 ,\n",
      "       0.1252095 , 0.12518542, 0.12447726, 0.12412921, 0.12334499,\n",
      "       0.12331518, 0.12213864, 0.1215982 , 0.12155747, 0.12122695,\n",
      "       0.12074162, 0.1206066 , 0.11868242, 0.11864146, 0.11862816,\n",
      "       0.11852828, 0.1120964 , 0.11146059, 0.10776697, 0.10720229,\n",
      "       0.10381543, 0.10340206, 0.1019967 , 0.10191254, 0.09851539,\n",
      "       0.09835161, 0.09051088, 0.09034801, 0.08813827, 0.0880036 ,\n",
      "       0.08520469, 0.08516473, 0.08506201, 0.08502719, 0.06815525,\n",
      "       0.06773585, 0.06617344, 0.06471183, 0.06018365, 0.05991696,\n",
      "       0.05892893, 0.05884379, 0.05352678, 0.05333942, 0.04322809,\n",
      "       0.04278959, 0.04171203, 0.04167299, 0.03494049, 0.03486069,\n",
      "       0.03208817, 0.03201568, 0.023578  ]))\n"
     ]
    },
    {
     "data": {
      "text/plain": "3"
     },
     "execution_count": 20,
     "metadata": {},
     "output_type": "execute_result"
    }
   ],
   "execution_count": 20
  },
  {
   "cell_type": "markdown",
   "metadata": {
    "id": "7C697DD9C8AC42DC93B493475608065A",
    "notebookId": "653389728e5eda4b7f8bb184",
    "tags": [],
    "slideshow": {
     "slide_type": "slide"
    },
    "trusted": true,
    "mdEditEnable": false,
    "scrolled": false,
    "runtime": {
     "status": "default",
     "execution_status": null,
     "is_visible": false
    }
   },
   "source": [
    "### 1.2 查看参数"
   ]
  },
  {
   "cell_type": "code",
   "metadata": {
    "scrolled": false,
    "id": "43656E56E5094DB2A251B47537DFAD3A",
    "tags": [],
    "slideshow": {
     "slide_type": "slide"
    },
    "trusted": true,
    "collapsed": false,
    "notebookId": "653389728e5eda4b7f8bb184",
    "ExecuteTime": {
     "end_time": "2023-10-26T12:16:33.112566500Z",
     "start_time": "2023-10-26T12:16:33.100356900Z"
    }
   },
   "source": [
    "# 查看假警报率（fpr）、命中率（tpr）及阈值（thres）\n",
    "a = pd.DataFrame()  # 创建一个空DataFrame \n",
    "a['阈值'] = list(thres)\n",
    "a['假警报率'] = list(fpr)\n",
    "a['命中率'] = list(tpr)\n",
    "a.head()"
   ],
   "outputs": [
    {
     "data": {
      "text/plain": "         阈值      假警报率       命中率\n0       inf  0.000000  0.000000\n1  0.930369  0.000000  0.002874\n2  0.867342  0.000000  0.034483\n3  0.864187  0.001885  0.034483\n4  0.857303  0.001885  0.040230",
      "text/html": "<div>\n<style scoped>\n    .dataframe tbody tr th:only-of-type {\n        vertical-align: middle;\n    }\n\n    .dataframe tbody tr th {\n        vertical-align: top;\n    }\n\n    .dataframe thead th {\n        text-align: right;\n    }\n</style>\n<table border=\"1\" class=\"dataframe\">\n  <thead>\n    <tr style=\"text-align: right;\">\n      <th></th>\n      <th>阈值</th>\n      <th>假警报率</th>\n      <th>命中率</th>\n    </tr>\n  </thead>\n  <tbody>\n    <tr>\n      <th>0</th>\n      <td>inf</td>\n      <td>0.000000</td>\n      <td>0.000000</td>\n    </tr>\n    <tr>\n      <th>1</th>\n      <td>0.930369</td>\n      <td>0.000000</td>\n      <td>0.002874</td>\n    </tr>\n    <tr>\n      <th>2</th>\n      <td>0.867342</td>\n      <td>0.000000</td>\n      <td>0.034483</td>\n    </tr>\n    <tr>\n      <th>3</th>\n      <td>0.864187</td>\n      <td>0.001885</td>\n      <td>0.034483</td>\n    </tr>\n    <tr>\n      <th>4</th>\n      <td>0.857303</td>\n      <td>0.001885</td>\n      <td>0.040230</td>\n    </tr>\n  </tbody>\n</table>\n</div>"
     },
     "execution_count": 19,
     "metadata": {},
     "output_type": "execute_result"
    }
   ],
   "execution_count": 19
  },
  {
   "cell_type": "markdown",
   "metadata": {
    "id": "473D049E4F3E4D3B966A7A2D526C3A56",
    "notebookId": "653389728e5eda4b7f8bb184",
    "tags": [],
    "slideshow": {
     "slide_type": "slide"
    },
    "trusted": true,
    "mdEditEnable": false,
    "scrolled": false,
    "runtime": {
     "status": "default",
     "execution_status": null,
     "is_visible": false
    }
   },
   "source": [
    "### 1.3 绘制ROC曲线"
   ]
  },
  {
   "cell_type": "code",
   "metadata": {
    "scrolled": false,
    "id": "2D9CCA30E14E48A2A416F5AFB82142D5",
    "tags": [],
    "slideshow": {
     "slide_type": "slide"
    },
    "trusted": true,
    "collapsed": false,
    "notebookId": "653389728e5eda4b7f8bb184",
    "ExecuteTime": {
     "end_time": "2023-10-26T12:20:30.323060400Z",
     "start_time": "2023-10-26T12:20:29.637273Z"
    }
   },
   "source": [
    "# 绘制ROC曲线\n",
    "import matplotlib.pyplot as plt\n",
    "\n",
    "plt.plot(fpr,tpr )  # 通过plot()函数绘制折线图\n",
    "plt.title('ROC曲线')  # 添加标题，中文显示可能会有问题\n",
    "plt.xlabel('FPR')  # 添加X轴标签\n",
    "plt.ylabel('TPR')  # 添加Y轴标\n",
    "plt.show()"
   ],
   "outputs": [
    {
     "data": {
      "text/plain": "<Figure size 640x480 with 1 Axes>",
      "image/png": "[encoded data removed]"
     },
     "metadata": {},
     "output_type": "display_data"
    }
   ],
   "execution_count": 25
  },
  {
   "cell_type": "markdown",
   "metadata": {
    "id": "905833D3677C46DD930DA659D18EE526",
    "notebookId": "653389728e5eda4b7f8bb184",
    "tags": [],
    "slideshow": {
     "slide_type": "slide"
    },
    "trusted": true,
    "mdEditEnable": false,
    "scrolled": false,
    "runtime": {
     "status": "default",
     "execution_status": null,
     "is_visible": false
    }
   },
   "source": [
    "### 1.4 计算AUC值  \n",
    "AUC（Area Under Curve）被定义为ROC曲线下与坐标轴围成的面积，显然这个面积的数值不会大于1。又由于ROC曲线一般都处于y=x这条直线的上方，所以AUC的取值范围在0.5和1之间。AUC越接近1.0，检测方法真实性越高;等于0.5时，则真实性最低，无应用价值。结果为0.81，可见模型预测效果还是不错。"
   ]
  },
  {
   "cell_type": "code",
   "metadata": {
    "id": "4D79505AB78F48E48C4194191EC0B317",
    "tags": [],
    "slideshow": {
     "slide_type": "slide"
    },
    "trusted": true,
    "collapsed": false,
    "scrolled": false,
    "notebookId": "653389728e5eda4b7f8bb184",
    "ExecuteTime": {
     "end_time": "2023-10-26T12:39:53.653494900Z",
     "start_time": "2023-10-26T12:39:53.641641700Z"
    }
   },
   "source": [
    "# 求出模型的AUC值\n",
    "from sklearn.metrics import roc_auc_score\n",
    "\n",
    "score = roc_auc_score(y_test,y_pred_proba[:,1])\n",
    "score"
   ],
   "outputs": [
    {
     "data": {
      "text/plain": "0.8103854528908967"
     },
     "execution_count": 27,
     "metadata": {},
     "output_type": "execute_result"
    }
   ],
   "execution_count": 27
  },
  {
   "cell_type": "markdown",
   "metadata": {
    "id": "A16FC56A17914E91A64518C5E7B7955B",
    "tags": [],
    "slideshow": {
     "slide_type": "slide"
    },
    "trusted": true,
    "mdEditEnable": false,
    "scrolled": false,
    "runtime": {
     "status": "default",
     "execution_status": null,
     "is_visible": false
    },
    "notebookId": "653389728e5eda4b7f8bb184"
   },
   "source": [
    "**补充知识点：对阈值取值的理解**"
   ]
  },
  {
   "cell_type": "code",
   "metadata": {
    "id": "7AF53A6C175D43779844F67AC9CAA5DE",
    "tags": [],
    "slideshow": {
     "slide_type": "slide"
    },
    "trusted": true,
    "collapsed": false,
    "scrolled": false,
    "notebookId": "653389728e5eda4b7f8bb184",
    "ExecuteTime": {
     "end_time": "2023-10-26T12:40:08.504388Z",
     "start_time": "2023-10-26T12:40:08.489689800Z"
    }
   },
   "source": [
    "max(y_pred_proba[:,1])"
   ],
   "outputs": [
    {
     "data": {
      "text/plain": "0.9303686064504135"
     },
     "execution_count": 28,
     "metadata": {},
     "output_type": "execute_result"
    }
   ],
   "execution_count": 28
  },
  {
   "cell_type": "code",
   "metadata": {
    "id": "A83612C0933E435CAD706CB9D33427CE",
    "tags": [],
    "slideshow": {
     "slide_type": "slide"
    },
    "trusted": true,
    "collapsed": false,
    "scrolled": false,
    "notebookId": "653389728e5eda4b7f8bb184",
    "ExecuteTime": {
     "end_time": "2023-10-26T12:41:41.249712900Z",
     "start_time": "2023-10-26T12:41:41.235605300Z"
    }
   },
   "source": [
    "a = pd.DataFrame(y_pred_proba, columns=['分类为0概率', '分类为1概率'])\n",
    "a = a.sort_values('分类为1概率', ascending=False)\n",
    "a.head(15)"
   ],
   "outputs": [
    {
     "data": {
      "text/plain": "        分类为0概率    分类为1概率\n326   0.069631  0.930369\n366   0.085373  0.914627\n662   0.092923  0.907077\n1154  0.105118  0.894882\n1036  0.105906  0.894094\n1093  0.111303  0.888697\n1164  0.115550  0.884450\n891   0.116594  0.883406\n437   0.123060  0.876940\n1153  0.127293  0.872707\n749   0.129633  0.870367\n49    0.132658  0.867342\n681   0.133410  0.866590\n1327  0.135813  0.864187\n264   0.136599  0.863401",
      "text/html": "<div>\n<style scoped>\n    .dataframe tbody tr th:only-of-type {\n        vertical-align: middle;\n    }\n\n    .dataframe tbody tr th {\n        vertical-align: top;\n    }\n\n    .dataframe thead th {\n        text-align: right;\n    }\n</style>\n<table border=\"1\" class=\"dataframe\">\n  <thead>\n    <tr style=\"text-align: right;\">\n      <th></th>\n      <th>分类为0概率</th>\n      <th>分类为1概率</th>\n    </tr>\n  </thead>\n  <tbody>\n    <tr>\n      <th>326</th>\n      <td>0.069631</td>\n      <td>0.930369</td>\n    </tr>\n    <tr>\n      <th>366</th>\n      <td>0.085373</td>\n      <td>0.914627</td>\n    </tr>\n    <tr>\n      <th>662</th>\n      <td>0.092923</td>\n      <td>0.907077</td>\n    </tr>\n    <tr>\n      <th>1154</th>\n      <td>0.105118</td>\n      <td>0.894882</td>\n    </tr>\n    <tr>\n      <th>1036</th>\n      <td>0.105906</td>\n      <td>0.894094</td>\n    </tr>\n    <tr>\n      <th>1093</th>\n      <td>0.111303</td>\n      <td>0.888697</td>\n    </tr>\n    <tr>\n      <th>1164</th>\n      <td>0.115550</td>\n      <td>0.884450</td>\n    </tr>\n    <tr>\n      <th>891</th>\n      <td>0.116594</td>\n      <td>0.883406</td>\n    </tr>\n    <tr>\n      <th>437</th>\n      <td>0.123060</td>\n      <td>0.876940</td>\n    </tr>\n    <tr>\n      <th>1153</th>\n      <td>0.127293</td>\n      <td>0.872707</td>\n    </tr>\n    <tr>\n      <th>749</th>\n      <td>0.129633</td>\n      <td>0.870367</td>\n    </tr>\n    <tr>\n      <th>49</th>\n      <td>0.132658</td>\n      <td>0.867342</td>\n    </tr>\n    <tr>\n      <th>681</th>\n      <td>0.133410</td>\n      <td>0.866590</td>\n    </tr>\n    <tr>\n      <th>1327</th>\n      <td>0.135813</td>\n      <td>0.864187</td>\n    </tr>\n    <tr>\n      <th>264</th>\n      <td>0.136599</td>\n      <td>0.863401</td>\n    </tr>\n  </tbody>\n</table>\n</div>"
     },
     "execution_count": 29,
     "metadata": {},
     "output_type": "execute_result"
    }
   ],
   "execution_count": 29
  },
  {
   "cell_type": "markdown",
   "metadata": {
    "id": "A89C6B0922E449B48DA230446DE1A49F",
    "tags": [],
    "slideshow": {
     "slide_type": "slide"
    },
    "trusted": true,
    "mdEditEnable": true,
    "scrolled": false,
    "runtime": {
     "status": "default",
     "execution_status": null,
     "is_visible": false
    },
    "notebookId": "653389728e5eda4b7f8bb184"
   },
   "source": [
    "## 2. KS曲线绘制  \n",
    "区别于ROC曲线将假警报率（FPR）作为横坐标，将命中率（TPR）作为纵坐标，KS曲线将阈值作为横坐标，将命中率（TPR）与假警报率（FPR）之差作为纵坐标，如下图所示。  \n",
    "\n",
    "![Image Name](https://cdn.kesci.com/upload/image/rd4btfhjbi.png?imageView2/0/w/960/h/960)  \n",
    "\n",
    "和ROC曲线一样，除了可视化的图形外，还需要一个可以量化的指标来衡量模型预测效果，与ROC曲线对应的是AUC值，而与KS曲线对应的则是KS值，KS值就是KS曲线的峰值。  \n",
    "一般情况下，我们希望模型有较大的KS值，因为较大的KS值说明模型有较强的区分能力。不同取值范围的KS值的含义如下：  \n",
    "\n",
    "KS值小于0.2，一般认为模型的区分能力较弱；  \n",
    "KS值在[0.2，0.3]区间内，模型具有一定区分能力；  \n",
    "KS值在[0.3，0.5]区间内，模型具有较强的区分能力。"
   ]
  },
  {
   "cell_type": "markdown",
   "metadata": {
    "id": "D5EFBE377F564BB498AE54CBBC882DCB",
    "notebookId": "653389728e5eda4b7f8bb184",
    "tags": [],
    "slideshow": {
     "slide_type": "slide"
    },
    "trusted": true,
    "mdEditEnable": false,
    "scrolled": false,
    "runtime": {
     "status": "default",
     "execution_status": null,
     "is_visible": false
    }
   },
   "source": [
    "### 2.1 计算必要参数"
   ]
  },
  {
   "cell_type": "code",
   "metadata": {
    "id": "B8574428343D4B32A97B2F5FF5B2EEB6",
    "tags": [],
    "slideshow": {
     "slide_type": "slide"
    },
    "trusted": true,
    "collapsed": false,
    "scrolled": false,
    "notebookId": "653389728e5eda4b7f8bb184",
    "ExecuteTime": {
     "end_time": "2023-10-26T12:47:54.797322600Z",
     "start_time": "2023-10-26T12:47:54.784198500Z"
    }
   },
   "source": [
    "from sklearn.metrics import roc_curve\n",
    "fpr, tpr, thres = roc_curve(y_test ,y_pred_proba[:,1] )"
   ],
   "outputs": [],
   "execution_count": 30
  },
  {
   "cell_type": "markdown",
   "metadata": {
    "id": "6163A108C08140059A48B5434D442713",
    "notebookId": "653389728e5eda4b7f8bb184",
    "tags": [],
    "slideshow": {
     "slide_type": "slide"
    },
    "trusted": true,
    "mdEditEnable": false,
    "scrolled": false,
    "runtime": {
     "status": "default",
     "execution_status": null,
     "is_visible": false
    }
   },
   "source": [
    "### 2.2 查看参数"
   ]
  },
  {
   "cell_type": "code",
   "metadata": {
    "id": "00A36B0DF04343F4A545F165C818BF1B",
    "tags": [],
    "slideshow": {
     "slide_type": "slide"
    },
    "trusted": true,
    "collapsed": false,
    "scrolled": false,
    "notebookId": "653389728e5eda4b7f8bb184",
    "ExecuteTime": {
     "end_time": "2023-10-26T12:48:01.065502100Z",
     "start_time": "2023-10-26T12:48:01.050173600Z"
    }
   },
   "source": [
    "a = pd.DataFrame()  # 创建一个空DataFrame \n",
    "a['阈值'] = list(thres)\n",
    "a['假警报率'] = list(fpr)\n",
    "a['命中率'] = list(tpr)\n",
    "a.head()"
   ],
   "outputs": [
    {
     "data": {
      "text/plain": "         阈值      假警报率       命中率\n0       inf  0.000000  0.000000\n1  0.930369  0.000000  0.002874\n2  0.867342  0.000000  0.034483\n3  0.864187  0.001885  0.034483\n4  0.857303  0.001885  0.040230",
      "text/html": "<div>\n<style scoped>\n    .dataframe tbody tr th:only-of-type {\n        vertical-align: middle;\n    }\n\n    .dataframe tbody tr th {\n        vertical-align: top;\n    }\n\n    .dataframe thead th {\n        text-align: right;\n    }\n</style>\n<table border=\"1\" class=\"dataframe\">\n  <thead>\n    <tr style=\"text-align: right;\">\n      <th></th>\n      <th>阈值</th>\n      <th>假警报率</th>\n      <th>命中率</th>\n    </tr>\n  </thead>\n  <tbody>\n    <tr>\n      <th>0</th>\n      <td>inf</td>\n      <td>0.000000</td>\n      <td>0.000000</td>\n    </tr>\n    <tr>\n      <th>1</th>\n      <td>0.930369</td>\n      <td>0.000000</td>\n      <td>0.002874</td>\n    </tr>\n    <tr>\n      <th>2</th>\n      <td>0.867342</td>\n      <td>0.000000</td>\n      <td>0.034483</td>\n    </tr>\n    <tr>\n      <th>3</th>\n      <td>0.864187</td>\n      <td>0.001885</td>\n      <td>0.034483</td>\n    </tr>\n    <tr>\n      <th>4</th>\n      <td>0.857303</td>\n      <td>0.001885</td>\n      <td>0.040230</td>\n    </tr>\n  </tbody>\n</table>\n</div>"
     },
     "execution_count": 31,
     "metadata": {},
     "output_type": "execute_result"
    }
   ],
   "execution_count": 31
  },
  {
   "cell_type": "markdown",
   "metadata": {
    "id": "796D5CC81A2E44E9BFBFB25EE5A51C96",
    "notebookId": "653389728e5eda4b7f8bb184",
    "tags": [],
    "slideshow": {
     "slide_type": "slide"
    },
    "trusted": true,
    "mdEditEnable": true,
    "scrolled": false,
    "runtime": {
     "status": "default",
     "execution_status": null,
     "is_visible": false
    }
   },
   "source": [
    "### 2.3 绘制KS曲线"
   ]
  },
  {
   "cell_type": "code",
   "metadata": {
    "id": "C033EEF24A86403BB53695DD3C7B8060",
    "tags": [],
    "slideshow": {
     "slide_type": "slide"
    },
    "trusted": true,
    "collapsed": false,
    "scrolled": false,
    "notebookId": "653389728e5eda4b7f8bb184",
    "ExecuteTime": {
     "end_time": "2023-10-26T12:57:53.667005700Z",
     "start_time": "2023-10-26T12:57:53.533668Z"
    }
   },
   "source": [
    "plt.plot(thres[1:],tpr[1:]) #tpr\n",
    "plt.plot(thres[1:],fpr[1:]) #fpr\n",
    "plt.plot(thres[1:],(tpr-fpr)[1:]) #tpr-fpr\n",
    "plt.xlabel('threshold')\n",
    "plt.legend(['tpr', 'fpr', 'tpr-fpr'])\n",
    "plt.gca().invert_xaxis() \n",
    "plt.show()"
   ],
   "outputs": [
    {
     "data": {
      "text/plain": "<Figure size 640x480 with 1 Axes>",
      "image/png": "[encoded data removed]"
     },
     "metadata": {},
     "output_type": "display_data"
    }
   ],
   "execution_count": 35
  },
  {
   "cell_type": "markdown",
   "metadata": {
    "id": "B8461E0EC4C7492288495B8EFF50ADD5",
    "notebookId": "653389728e5eda4b7f8bb184",
    "tags": [],
    "slideshow": {
     "slide_type": "slide"
    },
    "trusted": true,
    "mdEditEnable": false,
    "scrolled": false,
    "runtime": {
     "status": "default",
     "execution_status": null,
     "is_visible": false
    }
   },
   "source": [
    "### 2.4 计算KS值"
   ]
  },
  {
   "cell_type": "code",
   "metadata": {
    "scrolled": false,
    "id": "CABBDEB8C83A4A04BD690F8F443B76B7",
    "tags": [],
    "slideshow": {
     "slide_type": "slide"
    },
    "trusted": true,
    "collapsed": false,
    "notebookId": "653389728e5eda4b7f8bb184",
    "ExecuteTime": {
     "end_time": "2023-10-26T12:58:49.326548800Z",
     "start_time": "2023-10-26T12:58:49.310368Z"
    }
   },
   "source": [
    "max(tpr - fpr)"
   ],
   "outputs": [
    {
     "data": {
      "text/plain": "0.4744656418256471"
     },
     "execution_count": 36,
     "metadata": {},
     "output_type": "execute_result"
    }
   ],
   "execution_count": 36
  },
  {
   "cell_type": "code",
   "metadata": {
    "id": "B0BC8D38DEBC4FBEA3811D9FCC32CFD5",
    "tags": [],
    "slideshow": {
     "slide_type": "slide"
    },
    "trusted": true,
    "collapsed": false,
    "scrolled": false,
    "notebookId": "653389728e5eda4b7f8bb184",
    "ExecuteTime": {
     "end_time": "2023-10-26T12:59:00.434751900Z",
     "start_time": "2023-10-26T12:59:00.420411300Z"
    }
   },
   "source": [
    "# KS值对应的阈值\n",
    "a['TPR-FPR'] = a['命中率'] - a['假警报率']\n",
    "a.head()"
   ],
   "outputs": [
    {
     "data": {
      "text/plain": "         阈值      假警报率       命中率   TPR-FPR\n0       inf  0.000000  0.000000  0.000000\n1  0.930369  0.000000  0.002874  0.002874\n2  0.867342  0.000000  0.034483  0.034483\n3  0.864187  0.001885  0.034483  0.032598\n4  0.857303  0.001885  0.040230  0.038345",
      "text/html": "<div>\n<style scoped>\n    .dataframe tbody tr th:only-of-type {\n        vertical-align: middle;\n    }\n\n    .dataframe tbody tr th {\n        vertical-align: top;\n    }\n\n    .dataframe thead th {\n        text-align: right;\n    }\n</style>\n<table border=\"1\" class=\"dataframe\">\n  <thead>\n    <tr style=\"text-align: right;\">\n      <th></th>\n      <th>阈值</th>\n      <th>假警报率</th>\n      <th>命中率</th>\n      <th>TPR-FPR</th>\n    </tr>\n  </thead>\n  <tbody>\n    <tr>\n      <th>0</th>\n      <td>inf</td>\n      <td>0.000000</td>\n      <td>0.000000</td>\n      <td>0.000000</td>\n    </tr>\n    <tr>\n      <th>1</th>\n      <td>0.930369</td>\n      <td>0.000000</td>\n      <td>0.002874</td>\n      <td>0.002874</td>\n    </tr>\n    <tr>\n      <th>2</th>\n      <td>0.867342</td>\n      <td>0.000000</td>\n      <td>0.034483</td>\n      <td>0.034483</td>\n    </tr>\n    <tr>\n      <th>3</th>\n      <td>0.864187</td>\n      <td>0.001885</td>\n      <td>0.034483</td>\n      <td>0.032598</td>\n    </tr>\n    <tr>\n      <th>4</th>\n      <td>0.857303</td>\n      <td>0.001885</td>\n      <td>0.040230</td>\n      <td>0.038345</td>\n    </tr>\n  </tbody>\n</table>\n</div>"
     },
     "execution_count": 37,
     "metadata": {},
     "output_type": "execute_result"
    }
   ],
   "execution_count": 37
  },
  {
   "cell_type": "code",
   "metadata": {
    "id": "C4AF37CB3742419F83AE213C37490149",
    "tags": [],
    "slideshow": {
     "slide_type": "slide"
    },
    "trusted": true,
    "collapsed": false,
    "scrolled": false,
    "notebookId": "653389728e5eda4b7f8bb184",
    "ExecuteTime": {
     "end_time": "2023-10-26T12:59:03.880153500Z",
     "start_time": "2023-10-26T12:59:03.864593Z"
    }
   },
   "source": [
    "# 另外一种获取KS值的方式\n",
    "max(a['TPR-FPR'])"
   ],
   "outputs": [
    {
     "data": {
      "text/plain": "0.4744656418256471"
     },
     "execution_count": 38,
     "metadata": {},
     "output_type": "execute_result"
    }
   ],
   "execution_count": 38
  },
  {
   "cell_type": "code",
   "metadata": {
    "id": "6F07842F343440188F93D7C20F382878",
    "tags": [],
    "slideshow": {
     "slide_type": "slide"
    },
    "trusted": true,
    "collapsed": false,
    "scrolled": false,
    "notebookId": "653389728e5eda4b7f8bb184",
    "ExecuteTime": {
     "end_time": "2023-10-26T12:59:06.734049400Z",
     "start_time": "2023-10-26T12:59:06.720098300Z"
    }
   },
   "source": [
    "# 获取KS值对应的阈值等信息\n",
    "a[a['TPR-FPR'] == max(a['TPR-FPR'])]"
   ],
   "outputs": [
    {
     "data": {
      "text/plain": "          阈值      假警报率       命中率   TPR-FPR\n224  0.27769  0.255419  0.729885  0.474466",
      "text/html": "<div>\n<style scoped>\n    .dataframe tbody tr th:only-of-type {\n        vertical-align: middle;\n    }\n\n    .dataframe tbody tr th {\n        vertical-align: top;\n    }\n\n    .dataframe thead th {\n        text-align: right;\n    }\n</style>\n<table border=\"1\" class=\"dataframe\">\n  <thead>\n    <tr style=\"text-align: right;\">\n      <th></th>\n      <th>阈值</th>\n      <th>假警报率</th>\n      <th>命中率</th>\n      <th>TPR-FPR</th>\n    </tr>\n  </thead>\n  <tbody>\n    <tr>\n      <th>224</th>\n      <td>0.27769</td>\n      <td>0.255419</td>\n      <td>0.729885</td>\n      <td>0.474466</td>\n    </tr>\n  </tbody>\n</table>\n</div>"
     },
     "execution_count": 39,
     "metadata": {},
     "output_type": "execute_result"
    }
   ],
   "execution_count": 39
  }
 ],
 "metadata": {
  "kernelspec": {
   "language": "python",
   "display_name": "Python 3",
   "name": "python3"
  },
  "language_info": {
   "codemirror_mode": {
    "name": "ipython",
    "version": 3
   },
   "name": "python",
   "mimetype": "text/x-python",
   "nbconvert_exporter": "python",
   "file_extension": ".py",
   "version": "3.5.2",
   "pygments_lexer": "ipython3"
  }
 },
 "nbformat": 4,
 "nbformat_minor": 2
}
