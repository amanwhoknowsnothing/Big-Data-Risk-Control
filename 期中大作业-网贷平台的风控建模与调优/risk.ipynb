{
 "cells": [
  {
   "cell_type": "markdown",
   "source": [
    "**项目介绍**\n",
    "**背景介绍**\n",
    "信用贷（原蚂蚁借呗）是支付宝平台提供的小额信用贷款服务。互联网小额信用贷款平台（简称网贷平台）根据风险控制和准入标准对支付宝实名用户进行筛选，为筛选出的优质客户提供不同的借款额度。网贷平台的快速发展得益于互联网平台建立了自建的场景流量信用评分体系，形成了获客和贷款的闭环体验。\n",
    "\n",
    "项目来自于国内网络借贷行业的贷款风险数据，包括：\n",
    "1.信用违约标签（因变量）\n",
    "2.建模所需的基础与加⼯字段（自变量）\n",
    "3.相关用户的网络行为原始数据\n",
    "本着保护借款⼈隐私以及知识产权的目的，数据字段已经过脱敏处理。\n",
    "\n",
    "**数据简介**\n",
    "1.数据编码为GBK。\n",
    "2.数据包括3万条训练集和3万条测试集。\n",
    "3.所有训练集(含Training)，测试集(含Test)都包括3个csv文件。\n",
    "\n",
    "**数据信息**\n",
    "Master (信贷客户的申报信息和部分第三方数据，以及需要预测的目标标签target。每一行代表一笔借据，即一条成交借款样本，每个样本包含200多个字段)\n",
    "1.idx：每笔借款的unique key，可与另外2个文件里的idx相匹配\n",
    "2.UserInfo_*：借款人特征字段\n",
    "3.WeblogInfo_*：网络行为字段\n",
    "4.Education_Info*：学历学籍字段\n",
    "5.ThirdParty_Info_PeriodN_*：第三方数据时间段N字段\n",
    "6.SocialNetwork_*：社交网络字段\n",
    "7.LinstingInfo：借款成交时间\n",
    "8.Target：违约标签（1 = 贷款违约，0 = 正常还款）。测试集里不包含target字段。\n",
    "\n",
    "Log_Info（信贷客户在网贷平台上的登陆记录）\n",
    "1.ListingInfo：借款成交时间\n",
    "2.LogInfo1：操作代码\n",
    "3.LogInfo2：操作类别\n",
    "4.LogInfo3：登陆时间\n",
    "5.idx：每一笔借款的unique key\n",
    "\n",
    "Userupdate_Info（部分客户在网贷平台上的修改记录）\n",
    "1.ListingInfo1：借款成交时间\n",
    "2.UserupdateInfo1：修改内容\n",
    "3.UserupdateInfo2：修改时间\n",
    "4.idx：每⼀笔借款的unique key\n",
    "\n",
    "**案例总体思路**\n",
    "**数据清洗与预处理**\n",
    "对缺失值的多维度的处理\n",
    "对离群点的剔除方法\n",
    "对变量进行归一化处理（文本处理）\n",
    "\n",
    "**特征工程**\n",
    "地理位置信息\n",
    "成交时间\n",
    "类别编码\n",
    "组合特征\n",
    "\n",
    "**特征选择**\n",
    "特征相关性\n",
    "特征重要度排序\n",
    "\n",
    "**类别不平衡处理**\n",
    "代价敏感学习与过采样\n",
    "\n",
    "**模型设计与优化**\n",
    "逻辑回归\n",
    "XGBoost\n",
    "LightGBM\n",
    "模型融合\n",
    "\n",
    "**案例流程**\n",
    "\n",
    "**数据清洗**\n",
    "**缺失值的多维度处理；**\n",
    "对于每一列来说，统计每一列的数据缺失比例：\n",
    "对于每一行来说，也统计一下缺失值的个数并按缺失值大小从小到大排序，训练集和测试集是否表现出近乎一样的分布？如略有不同，是否这部分数据可以认为是离群点？\n",
    "还可以利用Xgboost在原始的训练集上训练得出每一个原始特征的重要程度列表，排序以后，取前n个重要的原始特征（根据原始特征的数量，可以调整抽取重要特征的个数），然后将有缺失值的样本拿出来进行统计分析。举例：如果其缺失的原始特征中有10个特征都是前20个重要特征，说明这个样本为异常值，可以剔除掉。\n",
    "\n",
    "**剔除常变量**\n",
    "原始数据中有190维数值型特征，计算出这些数值型特征的标准差，标准差几乎为零的特征说明在这一维度上的取值几乎为常数，故其没有区分度。可以设置一个阈值，剔除掉标准差小于某个阈值的特征项。\n",
    "\n",
    "**变量的归一化（文本处理）**\n",
    "字符大小写转换\n",
    "比如，Userupdate_Info表中的UserupdateInfo1字段，属性取值为英文字符，包含了大小写，如“_QQ”和“_qQ”，很明显是同一种取值，可以将所有字符统一转换为小写。\n",
    "\n",
    "空格符号处理\n",
    "比如，Master表中UserInfo_9字段的取值包含了空格字符，如“中国移动”和“中国移动 ”，它们是同一种取值，需要将空格符去除。\n",
    "\n",
    "城市名处理\n",
    "比如，UserInfo_8包含有“重庆”、“重庆市”等取值，它们实际上是同一个城市，需要把字符中的“市”全部去掉。去掉“市”之后，城市数由 600 多下降到 400 多。\n",
    "\n",
    "**特征工程**\n",
    "（省份）地理位置的处理方法举例\n",
    "UserInfo_7和UserInfo_19是省份信息，其余为城市信息。统计每个省份和城市的违约率。\n",
    "选择违约率超过某个阈值的省份或直辖市，例如四川，湖南，湖北，吉林，天津，山东等等，用这些省份或直辖市构造几个二值特征：“是否为四川省”，“是否为湖南省”........“是否为山东省”，取值为 0或1 。\n",
    "\n",
    "（市级）地理位置处理方法举例\n",
    "（1）按照城市等级合并\n",
    "由于市级城市数量过多，如果按照类别型特征直接处理，进行独热编码后，会得到很高维度的稀疏特征，这样训练的时候，每一维度的城市特征是学不到什么有用的权重的。故不可采取这种办法，除了上述按违约率较高的省份或直辖市单独成为一个维度，违约率过低的合并成一个维度以外，还可以将所有城市按照经济等级分层划分成不同的层次，这样既科学，也能很好的降低城市这一特征维度。具体操作如下，例如一线城市北京，上海，广州，深圳合并，赋值为1，同样的，二线城市合并为2，三线城市合并为3，以此类推。\n",
    "（2）经纬度特征的引入\n",
    "上述几种对地理位置信息的处理都是基于类别型的，我们还可以把类别型特征转化为数值型特征，通过引入经纬度来实现。比如，将地理位置特征变为经度和纬度两个特征，北京市可以用经度39.92，纬度116.46，两个特征替换。\n",
    "（3）构建地理位置的组合特征（地理位置差异特征）\n",
    "比如，UserInfo_2,UserInfo_4,UserInfo_7,UserInfo_8,UserInfo_20等都是城市地理信息，可以两两比较，构造diff_24(UserInfo_2，UserInfo_4)，当这两个特征值一样时，diff_12为1，否则为0。\n",
    "\n",
    "以上几种对地理位置的处理方法，可以根据效果选择最适合的方法。\n",
    "\n",
    "成交时间\n",
    "（1）将成交时间字段Listinginfo处理成数值型的特征，直接当成连续值来处理。\n",
    "（2）将成交时间离散化，按照一定的间隔（如以10天为一个区间），即将日期0-10离散为1，日期11-20离散为2，以此类推。\n",
    "\n",
    "其他特征\n",
    "UpadteInfo表特征\n",
    "根据这个表提供的信息，可以从中抽取用户修改信息次数，修改信息时间到成交时间的跨度，每种信息的修改次数等等特征，至于提取的哪个特征具有区别性可以做简单的统计分析，比如每种特征下违约率的分布是否由于不同的取值发生明显的变化。\n",
    "\n",
    "LogInfo表特征\n",
    "从登录信息表里可以提取用户的登录信息特征，比如登录天数，平均登录间隔，以及每一种操作代码次数等等特征。\n",
    "\n",
    "**特征选择**\n",
    "除了课上讲的一些特征相关性分析方法外，比较高效的一种方法是基于模型的特征排序方法。这种方法有一个好处：模型学习的过程和特征选择的过程是同时进行的，比如基于 xgboost 来做特征选择，xgboost模型训练完成后可以输出特征的重要性，据此可以保留 TopN个特征，从而也可以达到特征选择的目的。\n",
    "\n",
    "**类别不平衡问题**\n",
    "赛题数据的类别比例接近13:1，可以尝试采用两种解决类别不平衡问题的方法，代价敏感学习和过采样。分析本案例适用哪种方法。\n",
    "\n",
    "**建模与模型融合**\n",
    "Logistic regression + L1正则化\n",
    "randomforest\n",
    "Xgboost + bagging\n",
    "LightGBM\n",
    "多模型blending（模型融合）\n",
    "\n",
    "**方案实现**\n",
    "工具库引入与数据读取"
   ],
   "metadata": {
    "collapsed": false
   },
   "id": "10e374ea35d47ee9"
  },
  {
   "cell_type": "code",
   "execution_count": 26,
   "outputs": [],
   "source": [
    "import os\n",
    "import pandas as pd\n",
    "import numpy as np\n",
    "import matplotlib.pyplot as plt"
   ],
   "metadata": {
    "collapsed": false,
    "ExecuteTime": {
     "end_time": "2023-11-11T09:20:41.011521600Z",
     "start_time": "2023-11-11T09:20:40.852686200Z"
    }
   },
   "id": "initial_id"
  },
  {
   "cell_type": "code",
   "execution_count": 27,
   "outputs": [],
   "source": [
    "dataset_path = r'./data/train/'\n",
    "test_path = r'./data/test/'\n",
    "\n",
    "train_master = pd.read_csv(os.path.join(dataset_path, 'Master_Training_Set.csv'), encoding='gbk')\n",
    "train_userupdateinfo = pd.read_csv(os.path.join(dataset_path, 'Userupdate_Info_Training_Set.csv'), encoding='gbk')\n",
    "train_loginfo = pd.read_csv(os.path.join(dataset_path, 'LogInfo_Training_Set.csv'), encoding='gbk')\n",
    "train_master['source'] = 'train'\n",
    "train_userupdateinfo['source'] = 'train'\n",
    "train_loginfo['source'] = 'train'\n",
    "\n",
    "test_master = pd.read_csv(os.path.join(test_path, 'Master_Test_Set.csv'), encoding='gbk')\n",
    "test_userupdateinfo = pd.read_csv(os.path.join(test_path, 'Userupdate_Info_Test_Set.csv'), encoding='gbk')\n",
    "test_loginfo = pd.read_csv(os.path.join(test_path, 'LogInfo_Test_Set.csv'), encoding='gbk')\n",
    "test_master['source'] = 'test'\n",
    "test_userupdateinfo['source'] = 'test'\n",
    "test_loginfo['source'] = 'test'\n",
    "\n",
    "master =pd.concat([train_master, test_master], ignore_index=True)\n",
    "userupdateinfo = pd.concat([train_userupdateinfo,test_userupdateinfo], ignore_index=True)\n",
    "loginfo =pd.concat([train_loginfo,test_loginfo],ignore_index=True)"
   ],
   "metadata": {
    "collapsed": false,
    "ExecuteTime": {
     "end_time": "2023-11-11T09:20:43.120977500Z",
     "start_time": "2023-11-11T09:20:40.860720200Z"
    }
   },
   "id": "3ef8d846a70d34e"
  },
  {
   "cell_type": "markdown",
   "source": [
    "**数据一览**\n",
    "借款人信息"
   ],
   "metadata": {
    "collapsed": false
   },
   "id": "4219f8ed02165e75"
  },
  {
   "cell_type": "code",
   "execution_count": 28,
   "outputs": [
    {
     "name": "stdout",
     "output_type": "stream",
     "text": [
      "     Idx  UserInfo_1 UserInfo_2  UserInfo_3 UserInfo_4  WeblogInfo_1  \\\n",
      "0  10001         1.0         深圳         4.0         深圳           NaN   \n",
      "1  10002         1.0         温州         4.0         温州           NaN   \n",
      "2  10003         1.0         宜昌         3.0         宜昌           NaN   \n",
      "3  10006         4.0         南平         1.0         南平           NaN   \n",
      "4  10007         5.0         辽阳         1.0         辽阳           NaN   \n",
      "\n",
      "   WeblogInfo_2  WeblogInfo_3  WeblogInfo_4  WeblogInfo_5  ...  \\\n",
      "0           1.0           NaN           1.0           1.0  ...   \n",
      "1           0.0           NaN           1.0           1.0  ...   \n",
      "2           0.0           NaN           2.0           2.0  ...   \n",
      "3           NaN           NaN           NaN           NaN  ...   \n",
      "4           0.0           NaN           1.0           1.0  ...   \n",
      "\n",
      "   SocialNetwork_11  SocialNetwork_12  SocialNetwork_13  SocialNetwork_14  \\\n",
      "0                -1                 0                 0                 0   \n",
      "1                -1                 0                 0                 0   \n",
      "2                -1                -1                 1                 0   \n",
      "3                -1                -1                 0                 0   \n",
      "4                -1                -1                 0                 0   \n",
      "\n",
      "   SocialNetwork_15  SocialNetwork_16  SocialNetwork_17  target  ListingInfo  \\\n",
      "0                 0                 0                 1     0.0     2014/3/5   \n",
      "1                 0                 0                 2     0.0    2014/2/26   \n",
      "2                 0                 0                 0     0.0    2014/2/28   \n",
      "3                 0                 0                 0     0.0    2014/2/25   \n",
      "4                 0                 0                 0     0.0    2014/2/27   \n",
      "\n",
      "   source  \n",
      "0   train  \n",
      "1   train  \n",
      "2   train  \n",
      "3   train  \n",
      "4   train  \n",
      "\n",
      "[5 rows x 229 columns]\n",
      "<class 'pandas.core.frame.DataFrame'>\n",
      "RangeIndex: 60000 entries, 0 to 59999\n",
      "Columns: 229 entries, Idx to source\n",
      "dtypes: float64(39), int64(169), object(21)\n",
      "memory usage: 104.8+ MB\n",
      "None\n"
     ]
    },
    {
     "data": {
      "text/plain": "(60000, 229)"
     },
     "execution_count": 28,
     "metadata": {},
     "output_type": "execute_result"
    }
   ],
   "source": [
    "print(master.head())  ## 借款人的一些信息\n",
    "print(master.info())\n",
    "master.shape"
   ],
   "metadata": {
    "collapsed": false,
    "ExecuteTime": {
     "end_time": "2023-11-11T09:20:43.144763Z",
     "start_time": "2023-11-11T09:20:43.120977500Z"
    }
   },
   "id": "a2862717e8960df7"
  },
  {
   "cell_type": "markdown",
   "source": [
    "借款成交时间 , 修改内容 ,修改时间"
   ],
   "metadata": {
    "collapsed": false
   },
   "id": "1ee59a4cb4fc1e99"
  },
  {
   "cell_type": "code",
   "execution_count": 29,
   "outputs": [
    {
     "name": "stdout",
     "output_type": "stream",
     "text": [
      "      Idx ListingInfo1    UserupdateInfo1 UserupdateInfo2 source\n",
      "0   10001   2014/03/05       _EducationId      2014/02/20  train\n",
      "1   10001   2014/03/05         _HasBuyCar      2014/02/20  train\n",
      "2   10001   2014/03/05    _LastUpdateDate      2014/02/20  train\n",
      "3   10001   2014/03/05  _MarriageStatusId      2014/02/20  train\n",
      "4   10001   2014/03/05       _MobilePhone      2014/02/20  train\n",
      "5   10001   2014/03/05       _MobilePhone      2014/02/20  train\n",
      "6   10001   2014/03/05                _QQ      2014/02/20  train\n",
      "7   10001   2014/03/05  _ResidenceAddress      2014/02/20  train\n",
      "8   10001   2014/03/05    _ResidencePhone      2014/02/20  train\n",
      "9   10001   2014/03/05   _ResidenceTypeId      2014/02/20  train\n",
      "10  10001   2014/03/05    _ResidenceYears      2014/02/20  train\n",
      "11  10002   2014/02/26               _age      2013/06/21  train\n",
      "12  10002   2014/02/26       _educationId      2013/06/21  train\n",
      "13  10002   2014/02/26            _gender      2013/06/21  train\n",
      "14  10002   2014/02/26         _hasBuyCar      2013/06/21  train\n",
      "15  10002   2014/02/26          _idNumber      2013/06/21  train\n",
      "16  10002   2014/02/26    _lastUpdateDate      2013/06/21  train\n",
      "17  10002   2014/02/26    _lastUpdateDate      2013/07/08  train\n",
      "18  10002   2014/02/26    _lastUpdateDate      2013/07/08  train\n",
      "19  10002   2014/02/26    _lastUpdateDate      2013/07/08  train\n",
      "<class 'pandas.core.frame.DataFrame'>\n",
      "RangeIndex: 744179 entries, 0 to 744178\n",
      "Data columns (total 5 columns):\n",
      " #   Column           Non-Null Count   Dtype \n",
      "---  ------           --------------   ----- \n",
      " 0   Idx              744179 non-null  int64 \n",
      " 1   ListingInfo1     744179 non-null  object\n",
      " 2   UserupdateInfo1  744179 non-null  object\n",
      " 3   UserupdateInfo2  744179 non-null  object\n",
      " 4   source           744179 non-null  object\n",
      "dtypes: int64(1), object(4)\n",
      "memory usage: 28.4+ MB\n",
      "None\n",
      "(744179, 5)\n"
     ]
    }
   ],
   "source": [
    "print(userupdateinfo.head(20))  ###借款成交时间 , 修改内容 ,修改时间\n",
    "print(userupdateinfo.info())\n",
    "print(userupdateinfo.shape)"
   ],
   "metadata": {
    "collapsed": false,
    "ExecuteTime": {
     "end_time": "2023-11-11T09:20:43.217791Z",
     "start_time": "2023-11-11T09:20:43.141770700Z"
    }
   },
   "id": "8c4eb0a6c1ba4012"
  },
  {
   "cell_type": "markdown",
   "source": [
    "借款成交时间 ,操作代码 ,操作类别 ,登陆时间"
   ],
   "metadata": {
    "collapsed": false
   },
   "id": "db7cf9bf3a33b413"
  },
  {
   "cell_type": "code",
   "execution_count": 30,
   "outputs": [
    {
     "name": "stdout",
     "output_type": "stream",
     "text": [
      "      Idx Listinginfo1  LogInfo1  LogInfo2    LogInfo3 source\n",
      "0   10001   2014-03-05       107         6  2014-02-20  train\n",
      "1   10001   2014-03-05       107         6  2014-02-23  train\n",
      "2   10001   2014-03-05       107         6  2014-02-24  train\n",
      "3   10001   2014-03-05       107         6  2014-02-25  train\n",
      "4   10001   2014-03-05       107         6  2014-02-27  train\n",
      "5   10001   2014-03-05       107         6  2014-03-04  train\n",
      "6   10001   2014-03-05         1         1  2014-02-20  train\n",
      "7   10001   2014-03-05         1        20  2014-02-20  train\n",
      "8   10001   2014-03-05        12         0  2014-02-20  train\n",
      "9   10001   2014-03-05         1         2  2014-02-20  train\n",
      "10  10001   2014-03-05         2         1  2014-02-20  train\n",
      "11  10001   2014-03-05         4         1  2014-02-20  train\n",
      "12  10001   2014-03-05        -4         6  2014-02-20  train\n",
      "13  10001   2014-03-05        -4         6  2014-02-20  train\n",
      "14  10001   2014-03-05        -4         6  2014-02-23  train\n",
      "15  10001   2014-03-05        -4         6  2014-02-24  train\n",
      "16  10001   2014-03-05        -4         6  2014-02-25  train\n",
      "17  10001   2014-03-05        -4         6  2014-02-27  train\n",
      "18  10001   2014-03-05        -4         6  2014-03-04  train\n",
      "19  10002   2014-02-26        10         0  2013-06-21  train\n",
      "(1160542, 6)\n"
     ]
    },
    {
     "data": {
      "text/plain": "Idx             0\nListinginfo1    0\nLogInfo1        0\nLogInfo2        0\nLogInfo3        0\nsource          0\ndtype: int64"
     },
     "execution_count": 30,
     "metadata": {},
     "output_type": "execute_result"
    }
   ],
   "source": [
    "print(loginfo.head(20))  ##借款成交时间 ,操作代码 ,操作类别 ,登陆时间\n",
    "print(loginfo.shape)\n",
    "loginfo.isnull().sum().sort_values(ascending=False).head(10)  # 缺失值统计"
   ],
   "metadata": {
    "collapsed": false,
    "ExecuteTime": {
     "end_time": "2023-11-11T09:20:43.303298Z",
     "start_time": "2023-11-11T09:20:43.217791Z"
    }
   },
   "id": "3267e33432e48358"
  },
  {
   "cell_type": "markdown",
   "source": [
    "**数据探索分析**\n",
    "用户登录信息和用户更新信息没有缺失值，不用处理"
   ],
   "metadata": {
    "collapsed": false
   },
   "id": "5ae3b73dfc177afd"
  },
  {
   "cell_type": "code",
   "execution_count": 31,
   "outputs": [
    {
     "data": {
      "text/plain": "['Idx',\n 'UserInfo_1',\n 'UserInfo_2',\n 'UserInfo_3',\n 'UserInfo_4',\n 'WeblogInfo_1',\n 'WeblogInfo_2',\n 'WeblogInfo_3',\n 'WeblogInfo_4',\n 'WeblogInfo_5',\n 'WeblogInfo_6',\n 'WeblogInfo_7',\n 'WeblogInfo_8',\n 'WeblogInfo_9',\n 'WeblogInfo_10',\n 'WeblogInfo_11',\n 'WeblogInfo_12',\n 'WeblogInfo_13',\n 'WeblogInfo_14',\n 'WeblogInfo_15',\n 'WeblogInfo_16',\n 'WeblogInfo_17',\n 'WeblogInfo_18',\n 'UserInfo_5',\n 'UserInfo_6',\n 'UserInfo_7',\n 'UserInfo_8',\n 'UserInfo_9',\n 'UserInfo_10',\n 'UserInfo_11',\n 'UserInfo_12',\n 'UserInfo_13',\n 'UserInfo_14',\n 'UserInfo_15',\n 'UserInfo_16',\n 'UserInfo_17',\n 'UserInfo_18',\n 'UserInfo_19',\n 'UserInfo_20',\n 'UserInfo_21',\n 'UserInfo_22',\n 'UserInfo_23',\n 'UserInfo_24',\n 'Education_Info1',\n 'Education_Info2',\n 'Education_Info3',\n 'Education_Info4',\n 'Education_Info5',\n 'Education_Info6',\n 'Education_Info7',\n 'Education_Info8',\n 'WeblogInfo_19',\n 'WeblogInfo_20',\n 'WeblogInfo_21',\n 'WeblogInfo_23',\n 'WeblogInfo_24',\n 'WeblogInfo_25',\n 'WeblogInfo_26',\n 'WeblogInfo_27',\n 'WeblogInfo_28',\n 'WeblogInfo_29',\n 'WeblogInfo_30',\n 'WeblogInfo_31',\n 'WeblogInfo_32',\n 'WeblogInfo_33',\n 'WeblogInfo_34',\n 'WeblogInfo_35',\n 'WeblogInfo_36',\n 'WeblogInfo_37',\n 'WeblogInfo_38',\n 'WeblogInfo_39',\n 'WeblogInfo_40',\n 'WeblogInfo_41',\n 'WeblogInfo_42',\n 'WeblogInfo_43',\n 'WeblogInfo_44',\n 'WeblogInfo_45',\n 'WeblogInfo_46',\n 'WeblogInfo_47',\n 'WeblogInfo_48',\n 'WeblogInfo_49',\n 'WeblogInfo_50',\n 'WeblogInfo_51',\n 'WeblogInfo_52',\n 'WeblogInfo_53',\n 'WeblogInfo_54',\n 'WeblogInfo_55',\n 'WeblogInfo_56',\n 'WeblogInfo_57',\n 'WeblogInfo_58',\n 'ThirdParty_Info_Period1_1',\n 'ThirdParty_Info_Period1_2',\n 'ThirdParty_Info_Period1_3',\n 'ThirdParty_Info_Period1_4',\n 'ThirdParty_Info_Period1_5',\n 'ThirdParty_Info_Period1_6',\n 'ThirdParty_Info_Period1_7',\n 'ThirdParty_Info_Period1_8',\n 'ThirdParty_Info_Period1_9',\n 'ThirdParty_Info_Period1_10',\n 'ThirdParty_Info_Period1_11',\n 'ThirdParty_Info_Period1_12',\n 'ThirdParty_Info_Period1_13',\n 'ThirdParty_Info_Period1_14',\n 'ThirdParty_Info_Period1_15',\n 'ThirdParty_Info_Period1_16',\n 'ThirdParty_Info_Period1_17',\n 'ThirdParty_Info_Period2_1',\n 'ThirdParty_Info_Period2_2',\n 'ThirdParty_Info_Period2_3',\n 'ThirdParty_Info_Period2_4',\n 'ThirdParty_Info_Period2_5',\n 'ThirdParty_Info_Period2_6',\n 'ThirdParty_Info_Period2_7',\n 'ThirdParty_Info_Period2_8',\n 'ThirdParty_Info_Period2_9',\n 'ThirdParty_Info_Period2_10',\n 'ThirdParty_Info_Period2_11',\n 'ThirdParty_Info_Period2_12',\n 'ThirdParty_Info_Period2_13',\n 'ThirdParty_Info_Period2_14',\n 'ThirdParty_Info_Period2_15',\n 'ThirdParty_Info_Period2_16',\n 'ThirdParty_Info_Period2_17',\n 'ThirdParty_Info_Period3_1',\n 'ThirdParty_Info_Period3_2',\n 'ThirdParty_Info_Period3_3',\n 'ThirdParty_Info_Period3_4',\n 'ThirdParty_Info_Period3_5',\n 'ThirdParty_Info_Period3_6',\n 'ThirdParty_Info_Period3_7',\n 'ThirdParty_Info_Period3_8',\n 'ThirdParty_Info_Period3_9',\n 'ThirdParty_Info_Period3_10',\n 'ThirdParty_Info_Period3_11',\n 'ThirdParty_Info_Period3_12',\n 'ThirdParty_Info_Period3_13',\n 'ThirdParty_Info_Period3_14',\n 'ThirdParty_Info_Period3_15',\n 'ThirdParty_Info_Period3_16',\n 'ThirdParty_Info_Period3_17',\n 'ThirdParty_Info_Period4_1',\n 'ThirdParty_Info_Period4_2',\n 'ThirdParty_Info_Period4_3',\n 'ThirdParty_Info_Period4_4',\n 'ThirdParty_Info_Period4_5',\n 'ThirdParty_Info_Period4_6',\n 'ThirdParty_Info_Period4_7',\n 'ThirdParty_Info_Period4_8',\n 'ThirdParty_Info_Period4_9',\n 'ThirdParty_Info_Period4_10',\n 'ThirdParty_Info_Period4_11',\n 'ThirdParty_Info_Period4_12',\n 'ThirdParty_Info_Period4_13',\n 'ThirdParty_Info_Period4_14',\n 'ThirdParty_Info_Period4_15',\n 'ThirdParty_Info_Period4_16',\n 'ThirdParty_Info_Period4_17',\n 'ThirdParty_Info_Period5_1',\n 'ThirdParty_Info_Period5_2',\n 'ThirdParty_Info_Period5_3',\n 'ThirdParty_Info_Period5_4',\n 'ThirdParty_Info_Period5_5',\n 'ThirdParty_Info_Period5_6',\n 'ThirdParty_Info_Period5_7',\n 'ThirdParty_Info_Period5_8',\n 'ThirdParty_Info_Period5_9',\n 'ThirdParty_Info_Period5_10',\n 'ThirdParty_Info_Period5_11',\n 'ThirdParty_Info_Period5_12',\n 'ThirdParty_Info_Period5_13',\n 'ThirdParty_Info_Period5_14',\n 'ThirdParty_Info_Period5_15',\n 'ThirdParty_Info_Period5_16',\n 'ThirdParty_Info_Period5_17',\n 'ThirdParty_Info_Period6_1',\n 'ThirdParty_Info_Period6_2',\n 'ThirdParty_Info_Period6_3',\n 'ThirdParty_Info_Period6_4',\n 'ThirdParty_Info_Period6_5',\n 'ThirdParty_Info_Period6_6',\n 'ThirdParty_Info_Period6_7',\n 'ThirdParty_Info_Period6_8',\n 'ThirdParty_Info_Period6_9',\n 'ThirdParty_Info_Period6_10',\n 'ThirdParty_Info_Period6_11',\n 'ThirdParty_Info_Period6_12',\n 'ThirdParty_Info_Period6_13',\n 'ThirdParty_Info_Period6_14',\n 'ThirdParty_Info_Period6_15',\n 'ThirdParty_Info_Period6_16',\n 'ThirdParty_Info_Period6_17',\n 'ThirdParty_Info_Period7_1',\n 'ThirdParty_Info_Period7_2',\n 'ThirdParty_Info_Period7_3',\n 'ThirdParty_Info_Period7_4',\n 'ThirdParty_Info_Period7_5',\n 'ThirdParty_Info_Period7_6',\n 'ThirdParty_Info_Period7_7',\n 'ThirdParty_Info_Period7_8',\n 'ThirdParty_Info_Period7_9',\n 'ThirdParty_Info_Period7_10',\n 'ThirdParty_Info_Period7_11',\n 'ThirdParty_Info_Period7_12',\n 'ThirdParty_Info_Period7_13',\n 'ThirdParty_Info_Period7_14',\n 'ThirdParty_Info_Period7_15',\n 'ThirdParty_Info_Period7_16',\n 'ThirdParty_Info_Period7_17',\n 'SocialNetwork_1',\n 'SocialNetwork_2',\n 'SocialNetwork_3',\n 'SocialNetwork_4',\n 'SocialNetwork_5',\n 'SocialNetwork_6',\n 'SocialNetwork_7',\n 'SocialNetwork_8',\n 'SocialNetwork_9',\n 'SocialNetwork_10',\n 'SocialNetwork_11',\n 'SocialNetwork_12',\n 'SocialNetwork_13',\n 'SocialNetwork_14',\n 'SocialNetwork_15',\n 'SocialNetwork_16',\n 'SocialNetwork_17',\n 'target',\n 'ListingInfo',\n 'source']"
     },
     "execution_count": 31,
     "metadata": {},
     "output_type": "execute_result"
    }
   ],
   "source": [
    "list(train_master.columns)\n",
    "list(master.columns)"
   ],
   "metadata": {
    "collapsed": false,
    "ExecuteTime": {
     "end_time": "2023-11-11T09:20:43.320281100Z",
     "start_time": "2023-11-11T09:20:43.300315300Z"
    }
   },
   "id": "e75b12a21d14390e"
  },
  {
   "cell_type": "code",
   "execution_count": 32,
   "outputs": [],
   "source": [
    "## 加载微软雅黑中文字体\n",
    "from matplotlib.font_manager import FontProperties\n",
    "\n",
    "myfont = FontProperties(fname=r\"./SIMHEI.TTF\", size=12)\n",
    "\n",
    "%matplotlib inline\n",
    "n_null_rate = master.isnull().sum().sort_values(ascending=False) / 30000\n",
    "n_null_rate.head(20)\n",
    "## 去掉缺失比例接近百分之百的字段\n",
    "master.drop(['WeblogInfo_1', 'WeblogInfo_3'], axis=1, inplace=True)"
   ],
   "metadata": {
    "collapsed": false,
    "ExecuteTime": {
     "end_time": "2023-11-11T09:20:43.401489300Z",
     "start_time": "2023-11-11T09:20:43.309311200Z"
    }
   },
   "id": "62c42bcaac911f02"
  },
  {
   "cell_type": "code",
   "execution_count": 33,
   "outputs": [
    {
     "name": "stdout",
     "output_type": "stream",
     "text": [
      "[nan  0.  1.]\n"
     ]
    },
    {
     "data": {
      "text/plain": "<Figure size 640x480 with 1 Axes>",
      "image/png": "[encoded data removed]"
     },
     "metadata": {},
     "output_type": "display_data"
    }
   ],
   "source": [
    "## 处理UserInfo_12缺失\n",
    "print(master['UserInfo_12'].unique())\n",
    "#fig = plt.figure()\n",
    "#fig.set(alpha=0.2)\n",
    "target_UserInfo_12_not = master.target[master.UserInfo_12.isnull()].value_counts()\n",
    "target_UserInfo_12_ = master.target[master.UserInfo_12.notnull()].value_counts()\n",
    "df_UserInfo_12 = pd.DataFrame({'missing': target_UserInfo_12_not, 'not_missing': target_UserInfo_12_})\n",
    "df_UserInfo_12\n",
    "df_UserInfo_12.plot(kind='bar', stacked=True)\n",
    "plt.title(u'有无这个特征对结果的影响', fontproperties=myfont)\n",
    "plt.xlabel(u'有无', fontproperties=myfont)\n",
    "plt.ylabel(u'违约情况', fontproperties=myfont)\n",
    "plt.show()"
   ],
   "metadata": {
    "collapsed": false,
    "ExecuteTime": {
     "end_time": "2023-11-11T09:20:43.532151200Z",
     "start_time": "2023-11-11T09:20:43.401489300Z"
    }
   },
   "id": "4bba174e3352f84e"
  },
  {
   "cell_type": "code",
   "execution_count": 34,
   "outputs": [
    {
     "name": "stdout",
     "output_type": "stream",
     "text": [
      "float64\n",
      "[2. 0. 1.]\n"
     ]
    }
   ],
   "source": [
    "master.loc[(master.UserInfo_12.isnull(), 'UserInfo_12')] = 2.0\n",
    "#train_master['UserInfo_11'].fillna(2.0)\n",
    "#train_master['UserInfo_12'] =train_master['UserInfo_12'].astype(np.int32)\n",
    "print(master['UserInfo_12'].dtypes)\n",
    "print(master['UserInfo_12'].unique())"
   ],
   "metadata": {
    "collapsed": false,
    "ExecuteTime": {
     "end_time": "2023-11-11T09:20:43.538725800Z",
     "start_time": "2023-11-11T09:20:43.531153700Z"
    }
   },
   "id": "3744cd0f64ba806f"
  },
  {
   "cell_type": "code",
   "execution_count": 35,
   "outputs": [
    {
     "data": {
      "text/plain": "<Figure size 640x480 with 1 Axes>",
      "image/png": "[encoded data removed]"
     },
     "metadata": {},
     "output_type": "display_data"
    }
   ],
   "source": [
    "## 处理UserInfo_11缺失\n",
    "master['UserInfo_11'].unique()\n",
    "#fig = plt.figure()\n",
    "#fig.set(alpha=0.2)\n",
    "target_UserInfo_11_not = master.target[master.UserInfo_11.isnull()].value_counts()\n",
    "target_UserInfo_11_ = master.target[master.UserInfo_11.notnull()].value_counts()\n",
    "df_UserInfo_11 = pd.DataFrame({'no_have': target_UserInfo_11_not, 'have': target_UserInfo_11_})\n",
    "df_UserInfo_11.plot(kind='bar', stacked=True)\n",
    "plt.title(u'有无这个特征对结果的影响', fontproperties=myfont)\n",
    "plt.xlabel(u'有无', fontproperties=myfont)\n",
    "plt.ylabel(u'违约情况', fontproperties=myfont)\n",
    "plt.show()"
   ],
   "metadata": {
    "collapsed": false,
    "ExecuteTime": {
     "end_time": "2023-11-11T09:20:43.708197400Z",
     "start_time": "2023-11-11T09:20:43.536730Z"
    }
   },
   "id": "4ec96ba217cc1e34"
  },
  {
   "cell_type": "code",
   "execution_count": 36,
   "outputs": [
    {
     "data": {
      "text/plain": "array([2., 0., 1.])"
     },
     "execution_count": 36,
     "metadata": {},
     "output_type": "execute_result"
    }
   ],
   "source": [
    "#train_master['UserInfo_11'] =train_master['UserInfo_11'].astype(str)\n",
    "master.loc[(master.UserInfo_11.isnull(), 'UserInfo_11')] = 2.0\n",
    "master['UserInfo_11'].unique()"
   ],
   "metadata": {
    "collapsed": false,
    "ExecuteTime": {
     "end_time": "2023-11-11T09:20:43.709195100Z",
     "start_time": "2023-11-11T09:20:43.685981400Z"
    }
   },
   "id": "cbc9d45418e5c14f"
  },
  {
   "cell_type": "code",
   "execution_count": 37,
   "outputs": [
    {
     "data": {
      "text/plain": "<Figure size 640x480 with 1 Axes>",
      "image/png": "[encoded data removed]"
     },
     "metadata": {},
     "output_type": "display_data"
    }
   ],
   "source": [
    "## 处理UserInfo_13缺失\n",
    "master['UserInfo_13'].unique()\n",
    "#fig = plt.figure()\n",
    "#fig.set(alpha=0.2)\n",
    "target_UserInfo_13_not = master.target[master.UserInfo_13.isnull()].value_counts()\n",
    "target_UserInfo_13_ = master.target[master.UserInfo_13.notnull()].value_counts()\n",
    "df_UserInfo_13 = pd.DataFrame({'no_have': target_UserInfo_13_not, 'have': target_UserInfo_13_})\n",
    "df_UserInfo_13\n",
    "df_UserInfo_13.plot(kind='bar', stacked=True)\n",
    "plt.title(u'有无这个特征对结果的影响', fontproperties=myfont)\n",
    "plt.xlabel(u'有无', fontproperties=myfont)\n",
    "plt.ylabel(u'违约情况', fontproperties=myfont)\n",
    "plt.show()"
   ],
   "metadata": {
    "collapsed": false,
    "ExecuteTime": {
     "end_time": "2023-11-11T09:20:43.848604500Z",
     "start_time": "2023-11-11T09:20:43.692240Z"
    }
   },
   "id": "35994e7851c6c0d6"
  },
  {
   "cell_type": "code",
   "execution_count": 38,
   "outputs": [
    {
     "data": {
      "text/plain": "array([2., 1., 0.])"
     },
     "execution_count": 38,
     "metadata": {},
     "output_type": "execute_result"
    }
   ],
   "source": [
    "#train_master['UserInfo_13'] =train_master['UserInfo_13'].astype(str)\n",
    "master.loc[(master.UserInfo_13.isnull(), 'UserInfo_13')] = 2.0\n",
    "master['UserInfo_13'].unique()"
   ],
   "metadata": {
    "collapsed": false,
    "ExecuteTime": {
     "end_time": "2023-11-11T09:20:43.848604500Z",
     "start_time": "2023-11-11T09:20:43.843617300Z"
    }
   },
   "id": "c4d393801ec657af"
  },
  {
   "cell_type": "code",
   "execution_count": 39,
   "outputs": [
    {
     "name": "stdout",
     "output_type": "stream",
     "text": [
      "['I5' nan 'I4' 'C19' 'I3' 'U' 'C21' 'C20' 'F13' 'C1' 'C11' 'C12' 'C18'\n",
      " 'C15' 'O' 'C17' 'F12' 'F9' 'C16' 'I10' 'C13' 'F11' 'F16' 'F7' 'C14' 'I6'\n",
      " 'F14' 'F10' 'C38' 'F15' 'I11' 'I7' 'C39' 'F6' 'F3' 'C32' 'I8' 'F8' 'F4'\n",
      " 'I2' 'F1' 'I1' 'F27' 'F2']\n"
     ]
    },
    {
     "data": {
      "text/plain": "<Figure size 640x480 with 1 Axes>",
      "image/png": "[encoded data removed]"
     },
     "metadata": {},
     "output_type": "display_data"
    }
   ],
   "source": [
    "## 处理WeblogInfo_20 缺失\n",
    "print(master['WeblogInfo_20'].unique())\n",
    "#fig = plt.figure()\n",
    "#fig.set(alpha=0.2)\n",
    "target_WeblogInfo_20_not = master.target[master.WeblogInfo_20.isnull()].value_counts()\n",
    "target_WeblogInfo_20_ = master.target[master.WeblogInfo_20.notnull()].value_counts()\n",
    "df_WeblogInfo_20 = pd.DataFrame({'no_have': target_WeblogInfo_20_not, 'have': target_WeblogInfo_20_})\n",
    "df_WeblogInfo_20\n",
    "df_WeblogInfo_20.plot(kind='bar', stacked=True)\n",
    "plt.title(u'有无这个特征对结果的影响', fontproperties=myfont)\n",
    "plt.xlabel(u'有无', fontproperties=myfont)\n",
    "plt.ylabel(u'违约情况', fontproperties=myfont)\n",
    "plt.show()"
   ],
   "metadata": {
    "collapsed": false,
    "ExecuteTime": {
     "end_time": "2023-11-11T09:20:43.982669200Z",
     "start_time": "2023-11-11T09:20:43.844613700Z"
    }
   },
   "id": "27660f2532ea9c3"
  },
  {
   "cell_type": "code",
   "execution_count": 40,
   "outputs": [
    {
     "data": {
      "text/plain": "array(['I5', '不详', 'I4', 'C19', 'I3', 'U', 'C21', 'C20', 'F13', 'C1',\n       'C11', 'C12', 'C18', 'C15', 'O', 'C17', 'F12', 'F9', 'C16', 'I10',\n       'C13', 'F11', 'F16', 'F7', 'C14', 'I6', 'F14', 'F10', 'C38', 'F15',\n       'I11', 'I7', 'C39', 'F6', 'F3', 'C32', 'I8', 'F8', 'F4', 'I2',\n       'F1', 'I1', 'F27', 'F2'], dtype=object)"
     },
     "execution_count": 40,
     "metadata": {},
     "output_type": "execute_result"
    }
   ],
   "source": [
    "#train_master['WeblogInfo_20'] =train_master['WeblogInfo_20'].astype(str)\n",
    "master.loc[(master.WeblogInfo_20.isnull(), 'WeblogInfo_20')] = u'不详'\n",
    "master['WeblogInfo_20'].unique()"
   ],
   "metadata": {
    "collapsed": false,
    "ExecuteTime": {
     "end_time": "2023-11-11T09:20:43.993854100Z",
     "start_time": "2023-11-11T09:20:43.977678800Z"
    }
   },
   "id": "1e46b9825a01051a"
  },
  {
   "cell_type": "code",
   "execution_count": 41,
   "outputs": [
    {
     "name": "stdout",
     "output_type": "stream",
     "text": [
      "['I' 'E' 'F' 'D' 'J' 'G' 'H' nan]\n"
     ]
    },
    {
     "data": {
      "text/plain": "<Figure size 640x480 with 1 Axes>",
      "image/png": "[encoded data removed]"
     },
     "metadata": {},
     "output_type": "display_data"
    },
    {
     "data": {
      "text/plain": "array(['I', 'E', 'F', 'D', 'J', 'G', 'H', '不详'], dtype=object)"
     },
     "execution_count": 41,
     "metadata": {},
     "output_type": "execute_result"
    }
   ],
   "source": [
    "print(master['WeblogInfo_19'].unique())\n",
    "#fig = plt.figure()\n",
    "#fig.set(alpha=0.2)\n",
    "target_WeblogInfo_19_not = master.target[master.WeblogInfo_19.isnull()].value_counts()\n",
    "target_WeblogInfo_19_ = master.target[master.WeblogInfo_19.notnull()].value_counts()\n",
    "df_WeblogInfo_19 = pd.DataFrame({'no_have': target_WeblogInfo_19_not, 'have': target_WeblogInfo_19_})\n",
    "df_WeblogInfo_19\n",
    "\n",
    "df_WeblogInfo_19.plot(kind='bar', stacked=True)\n",
    "plt.title(u'有无这个特征对结果的影响', fontproperties=myfont)\n",
    "plt.xlabel(u'有无', fontproperties=myfont)\n",
    "plt.ylabel(u'违约情况', fontproperties=myfont)\n",
    "plt.show()\n",
    "\n",
    "#train_master['WeblogInfo_19'] =train_master['WeblogInfo_19'].astype(str)\n",
    "master.loc[(master.WeblogInfo_19.isnull(), 'WeblogInfo_19')] = u'不详'\n",
    "master['WeblogInfo_19'].unique()"
   ],
   "metadata": {
    "collapsed": false,
    "ExecuteTime": {
     "end_time": "2023-11-11T09:20:44.134354700Z",
     "start_time": "2023-11-11T09:20:43.987869400Z"
    }
   },
   "id": "10909995b53cad9a"
  },
  {
   "cell_type": "code",
   "execution_count": 42,
   "outputs": [
    {
     "name": "stdout",
     "output_type": "stream",
     "text": [
      "['D' 'C' 'A' 'B' nan]\n"
     ]
    },
    {
     "data": {
      "text/plain": "<Figure size 640x480 with 1 Axes>",
      "image/png": "[encoded data removed]"
     },
     "metadata": {},
     "output_type": "display_data"
    }
   ],
   "source": [
    "## 处理WeblogInfo_21 缺失\n",
    "print(master['WeblogInfo_21'].unique())\n",
    "#fig = plt.figure()\n",
    "#fig.set(alpha=0.2)\n",
    "target_WeblogInfo_21_not = master.target[master.WeblogInfo_21.isnull()].value_counts()\n",
    "target_WeblogInfo_21_ = master.target[master.WeblogInfo_21.notnull()].value_counts()\n",
    "df_WeblogInfo_21 = pd.DataFrame({'no_have': target_WeblogInfo_21_not, 'have': target_WeblogInfo_21_})\n",
    "df_WeblogInfo_21\n",
    "\n",
    "df_WeblogInfo_21.plot(kind='bar', stacked=True)\n",
    "plt.title(u'有无这个特征对结果的影响', fontproperties=myfont)\n",
    "plt.xlabel(u'有无', fontproperties=myfont)\n",
    "plt.ylabel(u'违约情况', fontproperties=myfont)\n",
    "plt.show()"
   ],
   "metadata": {
    "collapsed": false,
    "ExecuteTime": {
     "end_time": "2023-11-11T09:20:44.295499200Z",
     "start_time": "2023-11-11T09:20:44.131362600Z"
    }
   },
   "id": "2afc1b8ae555d9b1"
  },
  {
   "cell_type": "code",
   "execution_count": 43,
   "outputs": [
    {
     "data": {
      "text/plain": "array(['D', 'C', 'A', 'B', '0'], dtype=object)"
     },
     "execution_count": 43,
     "metadata": {},
     "output_type": "execute_result"
    }
   ],
   "source": [
    "#train_master['WeblogInfo_21'] =train_master['WeblogInfo_21'].astype(str)\n",
    "master.loc[(master.WeblogInfo_21.isnull(), 'WeblogInfo_21')] = '0'\n",
    "master['WeblogInfo_21'].unique()"
   ],
   "metadata": {
    "collapsed": false,
    "ExecuteTime": {
     "end_time": "2023-11-11T09:20:44.296496700Z",
     "start_time": "2023-11-11T09:20:44.270074100Z"
    }
   },
   "id": "819d5969a5c6a056"
  },
  {
   "cell_type": "markdown",
   "source": [
    "**数据预处理与特征工程**"
   ],
   "metadata": {
    "collapsed": false
   },
   "id": "647bda7e51208dc0"
  },
  {
   "cell_type": "code",
   "execution_count": 44,
   "outputs": [],
   "source": [
    "## 其余缺失值很少的就用均值或众数填充\n",
    "len(master['UserInfo_2'].value_counts())  ## 城市地理位置\n",
    "len(master['UserInfo_4'].value_counts())  ## 城市地理位置\n",
    "len(master['UserInfo_8'].value_counts())  ## 城市地理位置\n",
    "len(master['UserInfo_9'].unique())  ## 城市地理位置\n",
    "len(master['UserInfo_20'].value_counts())  ## 城市地理位置\n",
    "len(master['UserInfo_7'].unique())  ## 省份地理位置\n",
    "len(master['UserInfo_19'].unique())  ## 省份地理位置\n",
    "\n",
    "# 如果选择以0填充，下述部分就维持现状，如果选择中位数/众数填充，就把下述的部分注释掉\n",
    "master.loc[(master.UserInfo_2.isnull(), 'UserInfo_2')] = '0'\n",
    "master.loc[(master.UserInfo_4.isnull(), 'UserInfo_4')] = '0'\n",
    "master.loc[(master.UserInfo_8.isnull(), 'UserInfo_8')] = '0'\n",
    "master.loc[(master.UserInfo_9.isnull(), 'UserInfo_9')] = '0'\n",
    "master.loc[(master.UserInfo_20.isnull(), 'UserInfo_20')] = '0'\n",
    "master.loc[(master.UserInfo_7.isnull(), 'UserInfo_7')] = '0'\n",
    "master.loc[(master.UserInfo_19.isnull(), 'UserInfo_19')] = '0'"
   ],
   "metadata": {
    "collapsed": false,
    "ExecuteTime": {
     "end_time": "2023-11-11T09:20:44.364674200Z",
     "start_time": "2023-11-11T09:20:44.279542100Z"
    }
   },
   "id": "3ff06fbb11794ccf"
  },
  {
   "cell_type": "code",
   "execution_count": 23,
   "outputs": [],
   "source": [
    "## 用众数填充缺失值\n",
    "categoric_cols = ['UserInfo_1', 'UserInfo_2', 'UserInfo_3', 'UserInfo_4', 'UserInfo_5', 'UserInfo_6', 'UserInfo_7',\n",
    "                  'UserInfo_8', 'UserInfo_9', 'UserInfo_11', 'UserInfo_12', 'UserInfo_13', 'UserInfo_19', 'UserInfo_20',\n",
    "                  'UserInfo_21', 'UserInfo_22', 'UserInfo_23', 'UserInfo_24', 'Education_Info1', 'Education_Info2',\n",
    "                  'Education_Info3', 'Education_Info4', 'Education_Info5', 'Education_Info6', 'Education_Info7',\n",
    "                  'Education_Info8', 'WeblogInfo_19', 'WeblogInfo_20', 'WeblogInfo_21', 'SocialNetwork_1',\n",
    "                  'SocialNetwork_2', 'SocialNetwork_7', 'SocialNetwork_12']\n",
    "for col in categoric_cols:\n",
    "    mode_cols = master[col].mode()[0]\n",
    "    master.loc[(master[col].isnull(), col)] = mode_cols\n",
    "## 用均值填充缺失值 \n",
    "numeric_cols = ['UserInfo_14', 'UserInfo_15', 'UserInfo_16', 'UserInfo_17']\n",
    "for col in master.columns:\n",
    "    if col in numeric_cols and col != u'Idx' and col != u'target' and col != 'ListingInfo':\n",
    "        mean_cols = master[col].mean()\n",
    "        master.loc[(master[col].isnull(), col)] = mean_cols\n",
    "\n",
    "y_train = master['target'].values"
   ],
   "metadata": {
    "collapsed": false,
    "ExecuteTime": {
     "end_time": "2023-11-11T09:19:32.205757200Z",
     "start_time": "2023-11-11T09:19:32.112537Z"
    }
   },
   "id": "7f6c73056569e916"
  },
  {
   "cell_type": "code",
   "execution_count": 25,
   "outputs": [
    {
     "ename": "TypeError",
     "evalue": "could not convert string to float: '深圳'",
     "output_type": "error",
     "traceback": [
      "\u001B[1;31m---------------------------------------------------------------------------\u001B[0m",
      "\u001B[1;31mValueError\u001B[0m                                Traceback (most recent call last)",
      "File \u001B[1;32m~\\miniconda3\\Lib\\site-packages\\pandas\\core\\nanops.py:96\u001B[0m, in \u001B[0;36mdisallow.__call__.<locals>._f\u001B[1;34m(*args, **kwargs)\u001B[0m\n\u001B[0;32m     95\u001B[0m     \u001B[38;5;28;01mwith\u001B[39;00m np\u001B[38;5;241m.\u001B[39merrstate(invalid\u001B[38;5;241m=\u001B[39m\u001B[38;5;124m\"\u001B[39m\u001B[38;5;124mignore\u001B[39m\u001B[38;5;124m\"\u001B[39m):\n\u001B[1;32m---> 96\u001B[0m         \u001B[38;5;28;01mreturn\u001B[39;00m \u001B[43mf\u001B[49m\u001B[43m(\u001B[49m\u001B[38;5;241;43m*\u001B[39;49m\u001B[43margs\u001B[49m\u001B[43m,\u001B[49m\u001B[43m \u001B[49m\u001B[38;5;241;43m*\u001B[39;49m\u001B[38;5;241;43m*\u001B[39;49m\u001B[43mkwargs\u001B[49m\u001B[43m)\u001B[49m\n\u001B[0;32m     97\u001B[0m \u001B[38;5;28;01mexcept\u001B[39;00m \u001B[38;5;167;01mValueError\u001B[39;00m \u001B[38;5;28;01mas\u001B[39;00m e:\n\u001B[0;32m     98\u001B[0m     \u001B[38;5;66;03m# we want to transform an object array\u001B[39;00m\n\u001B[0;32m     99\u001B[0m     \u001B[38;5;66;03m# ValueError message to the more typical TypeError\u001B[39;00m\n\u001B[0;32m    100\u001B[0m     \u001B[38;5;66;03m# e.g. this is normally a disallowed function on\u001B[39;00m\n\u001B[0;32m    101\u001B[0m     \u001B[38;5;66;03m# object arrays that contain strings\u001B[39;00m\n",
      "File \u001B[1;32m~\\miniconda3\\Lib\\site-packages\\pandas\\core\\nanops.py:158\u001B[0m, in \u001B[0;36mbottleneck_switch.__call__.<locals>.f\u001B[1;34m(values, axis, skipna, **kwds)\u001B[0m\n\u001B[0;32m    157\u001B[0m \u001B[38;5;28;01melse\u001B[39;00m:\n\u001B[1;32m--> 158\u001B[0m     result \u001B[38;5;241m=\u001B[39m \u001B[43malt\u001B[49m\u001B[43m(\u001B[49m\u001B[43mvalues\u001B[49m\u001B[43m,\u001B[49m\u001B[43m \u001B[49m\u001B[43maxis\u001B[49m\u001B[38;5;241;43m=\u001B[39;49m\u001B[43maxis\u001B[49m\u001B[43m,\u001B[49m\u001B[43m \u001B[49m\u001B[43mskipna\u001B[49m\u001B[38;5;241;43m=\u001B[39;49m\u001B[43mskipna\u001B[49m\u001B[43m,\u001B[49m\u001B[43m \u001B[49m\u001B[38;5;241;43m*\u001B[39;49m\u001B[38;5;241;43m*\u001B[39;49m\u001B[43mkwds\u001B[49m\u001B[43m)\u001B[49m\n\u001B[0;32m    160\u001B[0m \u001B[38;5;28;01mreturn\u001B[39;00m result\n",
      "File \u001B[1;32m~\\miniconda3\\Lib\\site-packages\\pandas\\core\\nanops.py:1004\u001B[0m, in \u001B[0;36mnanvar\u001B[1;34m(values, axis, skipna, ddof, mask)\u001B[0m\n\u001B[0;32m    998\u001B[0m \u001B[38;5;66;03m# xref GH10242\u001B[39;00m\n\u001B[0;32m    999\u001B[0m \u001B[38;5;66;03m# Compute variance via two-pass algorithm, which is stable against\u001B[39;00m\n\u001B[0;32m   1000\u001B[0m \u001B[38;5;66;03m# cancellation errors and relatively accurate for small numbers of\u001B[39;00m\n\u001B[0;32m   1001\u001B[0m \u001B[38;5;66;03m# observations.\u001B[39;00m\n\u001B[0;32m   1002\u001B[0m \u001B[38;5;66;03m#\u001B[39;00m\n\u001B[0;32m   1003\u001B[0m \u001B[38;5;66;03m# See https://en.wikipedia.org/wiki/Algorithms_for_calculating_variance\u001B[39;00m\n\u001B[1;32m-> 1004\u001B[0m avg \u001B[38;5;241m=\u001B[39m _ensure_numeric(\u001B[43mvalues\u001B[49m\u001B[38;5;241;43m.\u001B[39;49m\u001B[43msum\u001B[49m\u001B[43m(\u001B[49m\u001B[43maxis\u001B[49m\u001B[38;5;241;43m=\u001B[39;49m\u001B[43maxis\u001B[49m\u001B[43m,\u001B[49m\u001B[43m \u001B[49m\u001B[43mdtype\u001B[49m\u001B[38;5;241;43m=\u001B[39;49m\u001B[43mnp\u001B[49m\u001B[38;5;241;43m.\u001B[39;49m\u001B[43mfloat64\u001B[49m\u001B[43m)\u001B[49m) \u001B[38;5;241m/\u001B[39m count\n\u001B[0;32m   1005\u001B[0m \u001B[38;5;28;01mif\u001B[39;00m axis \u001B[38;5;129;01mis\u001B[39;00m \u001B[38;5;129;01mnot\u001B[39;00m \u001B[38;5;28;01mNone\u001B[39;00m:\n",
      "File \u001B[1;32m~\\miniconda3\\Lib\\site-packages\\numpy\\core\\_methods.py:49\u001B[0m, in \u001B[0;36m_sum\u001B[1;34m(a, axis, dtype, out, keepdims, initial, where)\u001B[0m\n\u001B[0;32m     47\u001B[0m \u001B[38;5;28;01mdef\u001B[39;00m \u001B[38;5;21m_sum\u001B[39m(a, axis\u001B[38;5;241m=\u001B[39m\u001B[38;5;28;01mNone\u001B[39;00m, dtype\u001B[38;5;241m=\u001B[39m\u001B[38;5;28;01mNone\u001B[39;00m, out\u001B[38;5;241m=\u001B[39m\u001B[38;5;28;01mNone\u001B[39;00m, keepdims\u001B[38;5;241m=\u001B[39m\u001B[38;5;28;01mFalse\u001B[39;00m,\n\u001B[0;32m     48\u001B[0m          initial\u001B[38;5;241m=\u001B[39m_NoValue, where\u001B[38;5;241m=\u001B[39m\u001B[38;5;28;01mTrue\u001B[39;00m):\n\u001B[1;32m---> 49\u001B[0m     \u001B[38;5;28;01mreturn\u001B[39;00m umr_sum(a, axis, dtype, out, keepdims, initial, where)\n",
      "\u001B[1;31mValueError\u001B[0m: could not convert string to float: '深圳'",
      "\nThe above exception was the direct cause of the following exception:\n",
      "\u001B[1;31mTypeError\u001B[0m                                 Traceback (most recent call last)",
      "Cell \u001B[1;32mIn[25], line 2\u001B[0m\n\u001B[0;32m      1\u001B[0m \u001B[38;5;66;03m## 剔除标准差几乎为零的特征项\u001B[39;00m\n\u001B[1;32m----> 2\u001B[0m feature_std \u001B[38;5;241m=\u001B[39m \u001B[43mmaster\u001B[49m\u001B[38;5;241;43m.\u001B[39;49m\u001B[43mstd\u001B[49m\u001B[43m(\u001B[49m\u001B[43m)\u001B[49m\u001B[38;5;241m.\u001B[39msort_values(ascending\u001B[38;5;241m=\u001B[39m\u001B[38;5;28;01mTrue\u001B[39;00m)\n\u001B[0;32m      3\u001B[0m \u001B[38;5;28mprint\u001B[39m(feature_std\u001B[38;5;241m.\u001B[39mhead(\u001B[38;5;241m20\u001B[39m))\n\u001B[0;32m      4\u001B[0m columns_to_drop \u001B[38;5;241m=\u001B[39m feature_std[(feature_std \u001B[38;5;241m<\u001B[39m \u001B[38;5;241m0.1\u001B[39m) \u001B[38;5;241m&\u001B[39m (feature_std\u001B[38;5;241m.\u001B[39mindex \u001B[38;5;241m!=\u001B[39m \u001B[38;5;124m'\u001B[39m\u001B[38;5;124mtarget\u001B[39m\u001B[38;5;124m'\u001B[39m)]\u001B[38;5;241m.\u001B[39mindex\n",
      "File \u001B[1;32m~\\miniconda3\\Lib\\site-packages\\pandas\\core\\generic.py:11424\u001B[0m, in \u001B[0;36mNDFrame._add_numeric_operations.<locals>.std\u001B[1;34m(self, axis, skipna, ddof, numeric_only, **kwargs)\u001B[0m\n\u001B[0;32m  11405\u001B[0m \u001B[38;5;129m@doc\u001B[39m(\n\u001B[0;32m  11406\u001B[0m     _num_ddof_doc,\n\u001B[0;32m  11407\u001B[0m     desc\u001B[38;5;241m=\u001B[39m\u001B[38;5;124m\"\u001B[39m\u001B[38;5;124mReturn sample standard deviation over requested axis.\u001B[39m\u001B[38;5;124m\"\u001B[39m\n\u001B[1;32m   (...)\u001B[0m\n\u001B[0;32m  11422\u001B[0m     \u001B[38;5;241m*\u001B[39m\u001B[38;5;241m*\u001B[39mkwargs,\n\u001B[0;32m  11423\u001B[0m ):\n\u001B[1;32m> 11424\u001B[0m     \u001B[38;5;28;01mreturn\u001B[39;00m \u001B[43mNDFrame\u001B[49m\u001B[38;5;241;43m.\u001B[39;49m\u001B[43mstd\u001B[49m\u001B[43m(\u001B[49m\u001B[38;5;28;43mself\u001B[39;49m\u001B[43m,\u001B[49m\u001B[43m \u001B[49m\u001B[43maxis\u001B[49m\u001B[43m,\u001B[49m\u001B[43m \u001B[49m\u001B[43mskipna\u001B[49m\u001B[43m,\u001B[49m\u001B[43m \u001B[49m\u001B[43mddof\u001B[49m\u001B[43m,\u001B[49m\u001B[43m \u001B[49m\u001B[43mnumeric_only\u001B[49m\u001B[43m,\u001B[49m\u001B[43m \u001B[49m\u001B[38;5;241;43m*\u001B[39;49m\u001B[38;5;241;43m*\u001B[39;49m\u001B[43mkwargs\u001B[49m\u001B[43m)\u001B[49m\n",
      "File \u001B[1;32m~\\miniconda3\\Lib\\site-packages\\pandas\\core\\generic.py:11137\u001B[0m, in \u001B[0;36mNDFrame.std\u001B[1;34m(self, axis, skipna, ddof, numeric_only, **kwargs)\u001B[0m\n\u001B[0;32m  11129\u001B[0m \u001B[38;5;28;01mdef\u001B[39;00m \u001B[38;5;21mstd\u001B[39m(\n\u001B[0;32m  11130\u001B[0m     \u001B[38;5;28mself\u001B[39m,\n\u001B[0;32m  11131\u001B[0m     axis: Axis \u001B[38;5;241m|\u001B[39m \u001B[38;5;28;01mNone\u001B[39;00m \u001B[38;5;241m=\u001B[39m \u001B[38;5;28;01mNone\u001B[39;00m,\n\u001B[1;32m   (...)\u001B[0m\n\u001B[0;32m  11135\u001B[0m     \u001B[38;5;241m*\u001B[39m\u001B[38;5;241m*\u001B[39mkwargs,\n\u001B[0;32m  11136\u001B[0m ) \u001B[38;5;241m-\u001B[39m\u001B[38;5;241m>\u001B[39m Series \u001B[38;5;241m|\u001B[39m \u001B[38;5;28mfloat\u001B[39m:\n\u001B[1;32m> 11137\u001B[0m     \u001B[38;5;28;01mreturn\u001B[39;00m \u001B[38;5;28;43mself\u001B[39;49m\u001B[38;5;241;43m.\u001B[39;49m\u001B[43m_stat_function_ddof\u001B[49m\u001B[43m(\u001B[49m\n\u001B[0;32m  11138\u001B[0m \u001B[43m        \u001B[49m\u001B[38;5;124;43m\"\u001B[39;49m\u001B[38;5;124;43mstd\u001B[39;49m\u001B[38;5;124;43m\"\u001B[39;49m\u001B[43m,\u001B[49m\u001B[43m \u001B[49m\u001B[43mnanops\u001B[49m\u001B[38;5;241;43m.\u001B[39;49m\u001B[43mnanstd\u001B[49m\u001B[43m,\u001B[49m\u001B[43m \u001B[49m\u001B[43maxis\u001B[49m\u001B[43m,\u001B[49m\u001B[43m \u001B[49m\u001B[43mskipna\u001B[49m\u001B[43m,\u001B[49m\u001B[43m \u001B[49m\u001B[43mddof\u001B[49m\u001B[43m,\u001B[49m\u001B[43m \u001B[49m\u001B[43mnumeric_only\u001B[49m\u001B[43m,\u001B[49m\u001B[43m \u001B[49m\u001B[38;5;241;43m*\u001B[39;49m\u001B[38;5;241;43m*\u001B[39;49m\u001B[43mkwargs\u001B[49m\n\u001B[0;32m  11139\u001B[0m \u001B[43m    \u001B[49m\u001B[43m)\u001B[49m\n",
      "File \u001B[1;32m~\\miniconda3\\Lib\\site-packages\\pandas\\core\\generic.py:11101\u001B[0m, in \u001B[0;36mNDFrame._stat_function_ddof\u001B[1;34m(self, name, func, axis, skipna, ddof, numeric_only, **kwargs)\u001B[0m\n\u001B[0;32m  11098\u001B[0m \u001B[38;5;28;01mif\u001B[39;00m axis \u001B[38;5;129;01mis\u001B[39;00m \u001B[38;5;28;01mNone\u001B[39;00m:\n\u001B[0;32m  11099\u001B[0m     axis \u001B[38;5;241m=\u001B[39m \u001B[38;5;28mself\u001B[39m\u001B[38;5;241m.\u001B[39m_stat_axis_number\n\u001B[1;32m> 11101\u001B[0m \u001B[38;5;28;01mreturn\u001B[39;00m \u001B[38;5;28;43mself\u001B[39;49m\u001B[38;5;241;43m.\u001B[39;49m\u001B[43m_reduce\u001B[49m\u001B[43m(\u001B[49m\n\u001B[0;32m  11102\u001B[0m \u001B[43m    \u001B[49m\u001B[43mfunc\u001B[49m\u001B[43m,\u001B[49m\u001B[43m \u001B[49m\u001B[43mname\u001B[49m\u001B[43m,\u001B[49m\u001B[43m \u001B[49m\u001B[43maxis\u001B[49m\u001B[38;5;241;43m=\u001B[39;49m\u001B[43maxis\u001B[49m\u001B[43m,\u001B[49m\u001B[43m \u001B[49m\u001B[43mnumeric_only\u001B[49m\u001B[38;5;241;43m=\u001B[39;49m\u001B[43mnumeric_only\u001B[49m\u001B[43m,\u001B[49m\u001B[43m \u001B[49m\u001B[43mskipna\u001B[49m\u001B[38;5;241;43m=\u001B[39;49m\u001B[43mskipna\u001B[49m\u001B[43m,\u001B[49m\u001B[43m \u001B[49m\u001B[43mddof\u001B[49m\u001B[38;5;241;43m=\u001B[39;49m\u001B[43mddof\u001B[49m\n\u001B[0;32m  11103\u001B[0m \u001B[43m\u001B[49m\u001B[43m)\u001B[49m\n",
      "File \u001B[1;32m~\\miniconda3\\Lib\\site-packages\\pandas\\core\\frame.py:10519\u001B[0m, in \u001B[0;36mDataFrame._reduce\u001B[1;34m(self, op, name, axis, skipna, numeric_only, filter_type, **kwds)\u001B[0m\n\u001B[0;32m  10515\u001B[0m     df \u001B[38;5;241m=\u001B[39m df\u001B[38;5;241m.\u001B[39mT\n\u001B[0;32m  10517\u001B[0m \u001B[38;5;66;03m# After possibly _get_data and transposing, we are now in the\u001B[39;00m\n\u001B[0;32m  10518\u001B[0m \u001B[38;5;66;03m#  simple case where we can use BlockManager.reduce\u001B[39;00m\n\u001B[1;32m> 10519\u001B[0m res \u001B[38;5;241m=\u001B[39m \u001B[43mdf\u001B[49m\u001B[38;5;241;43m.\u001B[39;49m\u001B[43m_mgr\u001B[49m\u001B[38;5;241;43m.\u001B[39;49m\u001B[43mreduce\u001B[49m\u001B[43m(\u001B[49m\u001B[43mblk_func\u001B[49m\u001B[43m)\u001B[49m\n\u001B[0;32m  10520\u001B[0m out \u001B[38;5;241m=\u001B[39m df\u001B[38;5;241m.\u001B[39m_constructor(res)\u001B[38;5;241m.\u001B[39miloc[\u001B[38;5;241m0\u001B[39m]\n\u001B[0;32m  10521\u001B[0m \u001B[38;5;28;01mif\u001B[39;00m out_dtype \u001B[38;5;129;01mis\u001B[39;00m \u001B[38;5;129;01mnot\u001B[39;00m \u001B[38;5;28;01mNone\u001B[39;00m:\n",
      "File \u001B[1;32m~\\miniconda3\\Lib\\site-packages\\pandas\\core\\internals\\managers.py:1534\u001B[0m, in \u001B[0;36mBlockManager.reduce\u001B[1;34m(self, func)\u001B[0m\n\u001B[0;32m   1532\u001B[0m res_blocks: \u001B[38;5;28mlist\u001B[39m[Block] \u001B[38;5;241m=\u001B[39m []\n\u001B[0;32m   1533\u001B[0m \u001B[38;5;28;01mfor\u001B[39;00m blk \u001B[38;5;129;01min\u001B[39;00m \u001B[38;5;28mself\u001B[39m\u001B[38;5;241m.\u001B[39mblocks:\n\u001B[1;32m-> 1534\u001B[0m     nbs \u001B[38;5;241m=\u001B[39m \u001B[43mblk\u001B[49m\u001B[38;5;241;43m.\u001B[39;49m\u001B[43mreduce\u001B[49m\u001B[43m(\u001B[49m\u001B[43mfunc\u001B[49m\u001B[43m)\u001B[49m\n\u001B[0;32m   1535\u001B[0m     res_blocks\u001B[38;5;241m.\u001B[39mextend(nbs)\n\u001B[0;32m   1537\u001B[0m index \u001B[38;5;241m=\u001B[39m Index([\u001B[38;5;28;01mNone\u001B[39;00m])  \u001B[38;5;66;03m# placeholder\u001B[39;00m\n",
      "File \u001B[1;32m~\\miniconda3\\Lib\\site-packages\\pandas\\core\\internals\\blocks.py:339\u001B[0m, in \u001B[0;36mBlock.reduce\u001B[1;34m(self, func)\u001B[0m\n\u001B[0;32m    333\u001B[0m \u001B[38;5;129m@final\u001B[39m\n\u001B[0;32m    334\u001B[0m \u001B[38;5;28;01mdef\u001B[39;00m \u001B[38;5;21mreduce\u001B[39m(\u001B[38;5;28mself\u001B[39m, func) \u001B[38;5;241m-\u001B[39m\u001B[38;5;241m>\u001B[39m \u001B[38;5;28mlist\u001B[39m[Block]:\n\u001B[0;32m    335\u001B[0m     \u001B[38;5;66;03m# We will apply the function and reshape the result into a single-row\u001B[39;00m\n\u001B[0;32m    336\u001B[0m     \u001B[38;5;66;03m#  Block with the same mgr_locs; squeezing will be done at a higher level\u001B[39;00m\n\u001B[0;32m    337\u001B[0m     \u001B[38;5;28;01massert\u001B[39;00m \u001B[38;5;28mself\u001B[39m\u001B[38;5;241m.\u001B[39mndim \u001B[38;5;241m==\u001B[39m \u001B[38;5;241m2\u001B[39m\n\u001B[1;32m--> 339\u001B[0m     result \u001B[38;5;241m=\u001B[39m \u001B[43mfunc\u001B[49m\u001B[43m(\u001B[49m\u001B[38;5;28;43mself\u001B[39;49m\u001B[38;5;241;43m.\u001B[39;49m\u001B[43mvalues\u001B[49m\u001B[43m)\u001B[49m\n\u001B[0;32m    341\u001B[0m     \u001B[38;5;28;01mif\u001B[39;00m \u001B[38;5;28mself\u001B[39m\u001B[38;5;241m.\u001B[39mvalues\u001B[38;5;241m.\u001B[39mndim \u001B[38;5;241m==\u001B[39m \u001B[38;5;241m1\u001B[39m:\n\u001B[0;32m    342\u001B[0m         \u001B[38;5;66;03m# TODO(EA2D): special case not needed with 2D EAs\u001B[39;00m\n\u001B[0;32m    343\u001B[0m         res_values \u001B[38;5;241m=\u001B[39m np\u001B[38;5;241m.\u001B[39marray([[result]])\n",
      "File \u001B[1;32m~\\miniconda3\\Lib\\site-packages\\pandas\\core\\frame.py:10482\u001B[0m, in \u001B[0;36mDataFrame._reduce.<locals>.blk_func\u001B[1;34m(values, axis)\u001B[0m\n\u001B[0;32m  10480\u001B[0m     \u001B[38;5;28;01mreturn\u001B[39;00m values\u001B[38;5;241m.\u001B[39m_reduce(name, skipna\u001B[38;5;241m=\u001B[39mskipna, \u001B[38;5;241m*\u001B[39m\u001B[38;5;241m*\u001B[39mkwds)\n\u001B[0;32m  10481\u001B[0m \u001B[38;5;28;01melse\u001B[39;00m:\n\u001B[1;32m> 10482\u001B[0m     \u001B[38;5;28;01mreturn\u001B[39;00m \u001B[43mop\u001B[49m\u001B[43m(\u001B[49m\u001B[43mvalues\u001B[49m\u001B[43m,\u001B[49m\u001B[43m \u001B[49m\u001B[43maxis\u001B[49m\u001B[38;5;241;43m=\u001B[39;49m\u001B[43maxis\u001B[49m\u001B[43m,\u001B[49m\u001B[43m \u001B[49m\u001B[43mskipna\u001B[49m\u001B[38;5;241;43m=\u001B[39;49m\u001B[43mskipna\u001B[49m\u001B[43m,\u001B[49m\u001B[43m \u001B[49m\u001B[38;5;241;43m*\u001B[39;49m\u001B[38;5;241;43m*\u001B[39;49m\u001B[43mkwds\u001B[49m\u001B[43m)\u001B[49m\n",
      "File \u001B[1;32m~\\miniconda3\\Lib\\site-packages\\pandas\\core\\nanops.py:158\u001B[0m, in \u001B[0;36mbottleneck_switch.__call__.<locals>.f\u001B[1;34m(values, axis, skipna, **kwds)\u001B[0m\n\u001B[0;32m    156\u001B[0m         result \u001B[38;5;241m=\u001B[39m alt(values, axis\u001B[38;5;241m=\u001B[39maxis, skipna\u001B[38;5;241m=\u001B[39mskipna, \u001B[38;5;241m*\u001B[39m\u001B[38;5;241m*\u001B[39mkwds)\n\u001B[0;32m    157\u001B[0m \u001B[38;5;28;01melse\u001B[39;00m:\n\u001B[1;32m--> 158\u001B[0m     result \u001B[38;5;241m=\u001B[39m \u001B[43malt\u001B[49m\u001B[43m(\u001B[49m\u001B[43mvalues\u001B[49m\u001B[43m,\u001B[49m\u001B[43m \u001B[49m\u001B[43maxis\u001B[49m\u001B[38;5;241;43m=\u001B[39;49m\u001B[43maxis\u001B[49m\u001B[43m,\u001B[49m\u001B[43m \u001B[49m\u001B[43mskipna\u001B[49m\u001B[38;5;241;43m=\u001B[39;49m\u001B[43mskipna\u001B[49m\u001B[43m,\u001B[49m\u001B[43m \u001B[49m\u001B[38;5;241;43m*\u001B[39;49m\u001B[38;5;241;43m*\u001B[39;49m\u001B[43mkwds\u001B[49m\u001B[43m)\u001B[49m\n\u001B[0;32m    160\u001B[0m \u001B[38;5;28;01mreturn\u001B[39;00m result\n",
      "File \u001B[1;32m~\\miniconda3\\Lib\\site-packages\\pandas\\core\\nanops.py:940\u001B[0m, in \u001B[0;36mnanstd\u001B[1;34m(values, axis, skipna, ddof, mask)\u001B[0m\n\u001B[0;32m    937\u001B[0m orig_dtype \u001B[38;5;241m=\u001B[39m values\u001B[38;5;241m.\u001B[39mdtype\n\u001B[0;32m    938\u001B[0m values, mask, _, _, _ \u001B[38;5;241m=\u001B[39m _get_values(values, skipna, mask\u001B[38;5;241m=\u001B[39mmask)\n\u001B[1;32m--> 940\u001B[0m result \u001B[38;5;241m=\u001B[39m np\u001B[38;5;241m.\u001B[39msqrt(\u001B[43mnanvar\u001B[49m\u001B[43m(\u001B[49m\u001B[43mvalues\u001B[49m\u001B[43m,\u001B[49m\u001B[43m \u001B[49m\u001B[43maxis\u001B[49m\u001B[38;5;241;43m=\u001B[39;49m\u001B[43maxis\u001B[49m\u001B[43m,\u001B[49m\u001B[43m \u001B[49m\u001B[43mskipna\u001B[49m\u001B[38;5;241;43m=\u001B[39;49m\u001B[43mskipna\u001B[49m\u001B[43m,\u001B[49m\u001B[43m \u001B[49m\u001B[43mddof\u001B[49m\u001B[38;5;241;43m=\u001B[39;49m\u001B[43mddof\u001B[49m\u001B[43m,\u001B[49m\u001B[43m \u001B[49m\u001B[43mmask\u001B[49m\u001B[38;5;241;43m=\u001B[39;49m\u001B[43mmask\u001B[49m\u001B[43m)\u001B[49m)\n\u001B[0;32m    941\u001B[0m \u001B[38;5;28;01mreturn\u001B[39;00m _wrap_results(result, orig_dtype)\n",
      "File \u001B[1;32m~\\miniconda3\\Lib\\site-packages\\pandas\\core\\nanops.py:103\u001B[0m, in \u001B[0;36mdisallow.__call__.<locals>._f\u001B[1;34m(*args, **kwargs)\u001B[0m\n\u001B[0;32m     97\u001B[0m \u001B[38;5;28;01mexcept\u001B[39;00m \u001B[38;5;167;01mValueError\u001B[39;00m \u001B[38;5;28;01mas\u001B[39;00m e:\n\u001B[0;32m     98\u001B[0m     \u001B[38;5;66;03m# we want to transform an object array\u001B[39;00m\n\u001B[0;32m     99\u001B[0m     \u001B[38;5;66;03m# ValueError message to the more typical TypeError\u001B[39;00m\n\u001B[0;32m    100\u001B[0m     \u001B[38;5;66;03m# e.g. this is normally a disallowed function on\u001B[39;00m\n\u001B[0;32m    101\u001B[0m     \u001B[38;5;66;03m# object arrays that contain strings\u001B[39;00m\n\u001B[0;32m    102\u001B[0m     \u001B[38;5;28;01mif\u001B[39;00m is_object_dtype(args[\u001B[38;5;241m0\u001B[39m]):\n\u001B[1;32m--> 103\u001B[0m         \u001B[38;5;28;01mraise\u001B[39;00m \u001B[38;5;167;01mTypeError\u001B[39;00m(e) \u001B[38;5;28;01mfrom\u001B[39;00m \u001B[38;5;21;01me\u001B[39;00m\n\u001B[0;32m    104\u001B[0m     \u001B[38;5;28;01mraise\u001B[39;00m\n",
      "\u001B[1;31mTypeError\u001B[0m: could not convert string to float: '深圳'"
     ]
    }
   ],
   "source": [
    "## 剔除标准差几乎为零的特征项\n",
    "feature_std = master.std().sort_values(ascending=True)\n",
    "print(feature_std.head(20))\n",
    "columns_to_drop = feature_std[(feature_std < 0.1) & (feature_std.index != 'target')].index\n",
    "master.drop(columns_to_drop, axis=1, inplace=True)\n",
    "master['Idx'] = master['Idx'].astype(np.int32)\n",
    "\n",
    "\n",
    "for i in range(25):\n",
    "    name = 'UserInfo_' + str(i)\n",
    "    try:\n",
    "        print(train_master[name].head())\n",
    "    except:\n",
    "        pass\n"
   ],
   "metadata": {
    "collapsed": false,
    "ExecuteTime": {
     "end_time": "2023-11-11T09:20:35.529871800Z",
     "start_time": "2023-11-11T09:20:35.410202200Z"
    }
   },
   "id": "d61c031082ee3271"
  },
  {
   "cell_type": "code",
   "execution_count": 23,
   "outputs": [
    {
     "name": "stdout",
     "output_type": "stream",
     "text": [
      "334\n",
      "335\n",
      "32\n",
      "31\n",
      "675\n",
      "313\n",
      "Index(['Idx', 'UserInfo_1', 'UserInfo_2', 'UserInfo_3', 'UserInfo_4',\n",
      "       'WeblogInfo_2', 'WeblogInfo_4', 'WeblogInfo_5', 'WeblogInfo_6',\n",
      "       'WeblogInfo_7',\n",
      "       ...\n",
      "       'SocialNetwork_11', 'SocialNetwork_12', 'SocialNetwork_13',\n",
      "       'SocialNetwork_14', 'SocialNetwork_15', 'SocialNetwork_16',\n",
      "       'SocialNetwork_17', 'target', 'ListingInfo', 'source'],\n",
      "      dtype='object', length=211)\n"
     ]
    }
   ],
   "source": [
    "import re\n",
    "\n",
    "## 去掉空格\n",
    "master['UserInfo_9'] = master['UserInfo_9'].apply(lambda x: x.strip())\n",
    "## 去掉大小写\n",
    "userupdateinfo['UserupdateInfo1'] = userupdateinfo['UserupdateInfo1'].apply(lambda x: x.lower())\n",
    "\n",
    "\n",
    "## 将UserInfo_8中城市名归一化\n",
    "def encodingstr(s):\n",
    "    regex = re.compile(r'.+市')\n",
    "    if regex.search(s):\n",
    "        s = s[:-1]\n",
    "        return s\n",
    "    else:\n",
    "        return s\n",
    "\n",
    "\n",
    "def encodingstr2(s):\n",
    "    special = ['内蒙古自治区', '宁夏回族自治区', '广西壮族自治区', '新疆维吾尔自治区']\n",
    "    ret = ['内蒙古', '宁夏', '广西', '新疆']\n",
    "    for i in range(len(special)):\n",
    "        if s == special[i]:\n",
    "            return ret[i]\n",
    "    regex1 = re.compile(r'.+省')\n",
    "    regex2 = re.compile(r'.+市')\n",
    "    if regex1.search(s):\n",
    "        s = s[:-1]\n",
    "        return s\n",
    "    elif regex2.search(s):\n",
    "        s = s[:-1]\n",
    "        return s\n",
    "    else:\n",
    "        return s\n",
    "\n",
    "\n",
    "print(master['UserInfo_2'].nunique())\n",
    "print(master['UserInfo_4'].nunique())\n",
    "print(master['UserInfo_7'].nunique())\n",
    "print(master['UserInfo_19'].nunique())\n",
    "print(master['UserInfo_8'].nunique())\n",
    "print(master['UserInfo_20'].nunique())\n",
    "\n",
    "master['UserInfo_2'] = master['UserInfo_2'].apply(lambda x: encodingstr(x))\n",
    "master['UserInfo_4'] = master['UserInfo_4'].apply(lambda x: encodingstr(x))\n",
    "master['UserInfo_7'] = master['UserInfo_7'].apply(lambda x: encodingstr2(x))\n",
    "master['UserInfo_19'] = master['UserInfo_19'].apply(lambda x: encodingstr2(x))\n",
    "master['UserInfo_8'] = master['UserInfo_8'].apply(lambda x: encodingstr(x))\n",
    "master['UserInfo_20'] = master['UserInfo_20'].apply(lambda x: encodingstr(x))\n",
    "userupdateinfo.to_csv('./userupdateinfo.csv', index=False, encoding='utf-8')\n",
    "\n",
    "print(master.columns)"
   ],
   "metadata": {
    "collapsed": false,
    "ExecuteTime": {
     "end_time": "2023-11-07T08:40:17.108151700Z",
     "start_time": "2023-11-07T08:40:14.942072500Z"
    }
   },
   "id": "d81107a4d7fd6fe4"
  },
  {
   "cell_type": "code",
   "execution_count": 24,
   "outputs": [
    {
     "name": "stdout",
     "output_type": "stream",
     "text": [
      "0    1.0\n",
      "1    3.0\n",
      "2    4.0\n",
      "3    5.0\n",
      "4    4.0\n",
      "Name: UserInfo_2, dtype: float64\n",
      "0    1.0\n",
      "1    3.0\n",
      "2    4.0\n",
      "3    5.0\n",
      "4    4.0\n",
      "Name: UserInfo_4, dtype: float64\n",
      "0    1.0\n",
      "1    3.0\n",
      "2    4.0\n",
      "3    5.0\n",
      "4    4.0\n",
      "Name: UserInfo_8, dtype: float64\n",
      "0    4.0\n",
      "1    6.0\n",
      "2    4.0\n",
      "3    6.0\n",
      "4    5.0\n",
      "Name: UserInfo_20, dtype: float64\n"
     ]
    }
   ],
   "source": [
    "# feature importances\n",
    "# x线城市 \n",
    "def get_city_tier(city):\n",
    "    first_tier = ['北京', '上海', '广州', '深圳']\n",
    "    new_first_tier = ['成都', '重庆', '杭州', '武汉', '西安', '郑州', '青岛', '长沙', '天津', '苏州', '南京', '东莞',\n",
    "                      '沈阳', '合肥', '佛山']\n",
    "    second_tier = ['昆明', '福州', '无锡', '厦门', '哈尔滨', '长春', '南昌', '济南', '宁波', '大连', '贵阳', '温州',\n",
    "                   '石家庄', '泉州', '南宁', '金华', '常州', '珠海', '惠州', '嘉兴', '南通', '中山', '保定', '兰州',\n",
    "                   '台州', '徐州', '太原', '绍兴', '烟台', '廊坊']\n",
    "    third_tier = ['海口', '汕头', '潍坛', '扬州', '洛阳', '乌鲁木齐', '临沂', '唐山', '镇江', '盐城', '湖州', '赣州',\n",
    "                  '漳州', '揭阳', '江门', '桂林', '邯郸', '泰州', '济宁', '呼和浩特', '咸阳', '芜湖', '三亚', '阜阳',\n",
    "                  '淮安', '遵义', '银川', '衡阳', '上饶', '柳州', '淄博', '莆田', '绵阳', '湛江', '商丘', '宜昌',\n",
    "                  '沧州', '连云港', '南阳', '蚌埠', '驻马店', '滁州', '邢台', '潮州', '秦皇岛', '肇庆', '荆州', '周口',\n",
    "                  '马鞍山', '清远', '宿州', '威海', '九江', '新乡', '信阳', '襄阳', '岳阳', '安庆', '菏泽', '宜春',\n",
    "                  '黄冈', '泰安', '宿迁', '株洲', '宁德', '鞍山', '南充', '六安', '大庆', '舟山']\n",
    "    fourth_tier = ['常德', '渭南', '孝感', '丽水', '运城', '德州', '张家口', '鄂尔多斯', '阳江', '泸州', '丹东', '曲靖',\n",
    "                   '乐山', '许昌', '湘潭', '晋中', '安阳', '齐齐哈尔', '北海', '宝鸡', '抚州', '景德镇', '延安', '三明',\n",
    "                   '抚顺', '亳州', '日照', '西宁', '衢州', '拉萨', '淮北', '焦作', '平顶山', '滨州', '吉安', '濮阳',\n",
    "                   '眉山', '池州', '荆门', '铜仁', '长治', '衡水', '铜陵', '承德', '达州', '邵阳', '德阳', '龙岩',\n",
    "                   '南平', '淮南', '黄石', '营口', '东营', '吉林', '韶关', '枣庄', '包头', '怀化', '宣城', '临汾',\n",
    "                   '聊城', '梅州', '盘锦', '锦州', '榆林', '玉林', '十堰', '汕尾', '咸宁', '宜宾', '永州', '益阳',\n",
    "                   '黔南州', '黔东南', '恩施', '红河', '大理', '大同', '鄂州', '忻州', '吕梁', '黄山', '开封', '郴州',\n",
    "                   '茂名', '漯河', '葫芦岛', '河源', '娄底', '延边']\n",
    "\n",
    "    if city in first_tier:\n",
    "        return 1\n",
    "    elif city in new_first_tier:\n",
    "        return 2\n",
    "    elif city in second_tier:\n",
    "        return 3\n",
    "    elif city in third_tier:\n",
    "        return 4\n",
    "    elif city in fourth_tier:\n",
    "        return 5\n",
    "    elif city == '不详':\n",
    "        return 6\n",
    "    return None\n",
    "\n",
    "\n",
    "city_col = ['UserInfo_2', 'UserInfo_4', 'UserInfo_8', 'UserInfo_20']\n",
    "for col in city_col:\n",
    "    master[col] = master[col].apply(get_city_tier)\n",
    "    mode_value = master[col].mode()[0]\n",
    "    master[col].fillna(mode_value, inplace=True)\n",
    "    print(master[col].head(5))"
   ],
   "metadata": {
    "collapsed": false,
    "ExecuteTime": {
     "end_time": "2023-11-07T08:40:17.764301200Z",
     "start_time": "2023-11-07T08:40:17.106151400Z"
    }
   },
   "id": "fdea785bd037d8f6"
  },
  {
   "cell_type": "code",
   "execution_count": 25,
   "outputs": [],
   "source": [
    "# 是否为**省\n",
    "my_alpha = 0.08\n",
    "\n",
    "province_col = ['UserInfo_7', 'UserInfo_19']\n",
    "province_info = pd.DataFrame(columns=['Province', 'y_sum', 'num', 'grade'])\n",
    "\n",
    "co = master['UserInfo_7']\n",
    "sum_y = master.groupby(co)['target'].sum().reset_index()\n",
    "num = master.groupby(co).size().reset_index()\n",
    "province_info['Province'] = master.groupby(co).groups.keys()\n",
    "province_info['y_sum'] = sum_y['target'].astype(int)\n",
    "province_info['num'] = num[0].astype(int) \n",
    "province_info['grade'] = (province_info['y_sum'] / province_info['num'] * 1000).astype(int)\n",
    "# province_info['grade'] = province_info['y_sum'] / province_info['num']"
   ],
   "metadata": {
    "collapsed": false,
    "ExecuteTime": {
     "end_time": "2023-11-07T08:40:17.810920800Z",
     "start_time": "2023-11-07T08:40:17.764301200Z"
    }
   },
   "id": "4e7b0d7bb26b7232"
  },
  {
   "cell_type": "code",
   "execution_count": 26,
   "outputs": [
    {
     "name": "stdout",
     "output_type": "stream",
     "text": [
      "   Province  y_sum   num  grade\n",
      "6        四川    109  2281     47\n",
      "7        天津     20   377     53\n",
      "10       山东    228  4094     55\n",
      "22       湖南    102  2158     47\n",
      "6     四川\n",
      "7     天津\n",
      "10    山东\n",
      "22    湖南\n",
      "Name: Province, dtype: object\n",
      "(60000, 211)\n",
      "(60000, 215)\n"
     ]
    }
   ],
   "source": [
    "filtered_province_info = province_info[province_info['grade'] > 45]\n",
    "print(filtered_province_info)\n",
    "province_names = filtered_province_info['Province']\n",
    "print(province_names)\n",
    "print(master.shape)\n",
    "# 遍历每个省份名称，如果 'UserInfo_7' 列的值等于该省份名称，对应列设置为1，否则为0\n",
    "for col in province_col:\n",
    "    col = master[col]\n",
    "    for province in province_names:\n",
    "        column_name = f'is_{province}'  # 根据省份名称创建列名\n",
    "        master[column_name] = (col == province).astype(int)\n",
    "\n",
    "print(master.shape)"
   ],
   "metadata": {
    "collapsed": false,
    "ExecuteTime": {
     "end_time": "2023-11-07T08:40:17.868004900Z",
     "start_time": "2023-11-07T08:40:17.802360700Z"
    }
   },
   "id": "9a2d3b122c7684ac"
  },
  {
   "cell_type": "code",
   "execution_count": 27,
   "outputs": [
    {
     "name": "stderr",
     "output_type": "stream",
     "text": [
      "C:\\Users\\胡逸凡\\AppData\\Local\\Temp\\ipykernel_25932\\1764363547.py:6: SettingWithCopyWarning: \n",
      "A value is trying to be set on a copy of a slice from a DataFrame\n",
      "\n",
      "See the caveats in the documentation: https://pandas.pydata.org/pandas-docs/stable/user_guide/indexing.html#returning-a-view-versus-a-copy\n",
      "  col[i] = int(province_info['grade'][j])\n"
     ]
    },
    {
     "name": "stdout",
     "output_type": "stream",
     "text": [
      "0    37\n",
      "1    26\n",
      "2    40\n",
      "3    28\n",
      "4    41\n",
      "Name: UserInfo_7, dtype: object\n"
     ]
    }
   ],
   "source": [
    "for col in province_col:\n",
    "    col = master[col]\n",
    "    for i in range(len(col)):\n",
    "        for j in range(len(province_info)):\n",
    "            if col[i] == province_info['Province'][j]:\n",
    "                col[i] = int(province_info['grade'][j])\n",
    "                break\n",
    "                \n",
    "print(master['UserInfo_7'].head())"
   ],
   "metadata": {
    "collapsed": false,
    "ExecuteTime": {
     "end_time": "2023-11-07T08:41:02.746944900Z",
     "start_time": "2023-11-07T08:40:17.864003900Z"
    }
   },
   "id": "5280975de1af9fac"
  },
  {
   "cell_type": "markdown",
   "source": [
    "**建模与特征重要度**"
   ],
   "metadata": {
    "collapsed": false
   },
   "id": "2ffd51dd63e98a0d"
  },
  {
   "cell_type": "markdown",
   "source": [
    "**继续特征工程**"
   ],
   "metadata": {
    "collapsed": false
   },
   "id": "8f70520d075f8041"
  },
  {
   "cell_type": "code",
   "execution_count": 28,
   "outputs": [
    {
     "data": {
      "text/plain": "<Figure size 640x480 with 1 Axes>",
      "image/png": "[encoded data removed]"
     },
     "metadata": {},
     "output_type": "display_data"
    }
   ],
   "source": [
    "## 借款成交时间处理\n",
    "grouped_date_1 = master[master.target == 1.0]['target'].groupby(master['ListingInfo']).count()\n",
    "grouped_date_1.sort_values(ascending=False)\n",
    "grouped_date_0 = master[master.target == 0.0]['target'].groupby(master['ListingInfo']).count()\n",
    "grouped_date_0.sort_values(ascending=False)\n",
    "plt.figure()\n",
    "plt.title(u'date')\n",
    "grouped_date_1.plot(color='r')\n",
    "grouped_date_0.plot(color='b')\n",
    "plt.show()"
   ],
   "metadata": {
    "collapsed": false,
    "ExecuteTime": {
     "end_time": "2023-11-07T08:41:03.068286600Z",
     "start_time": "2023-11-07T08:41:02.738440500Z"
    }
   },
   "id": "354ce5a5f2388ef2"
  },
  {
   "cell_type": "code",
   "execution_count": 29,
   "outputs": [],
   "source": [
    "## 借款日期离散化\n",
    "# 把月、日、单独拎出来，放到3列中\n",
    "master['month'] = pd.DatetimeIndex(master.ListingInfo).month\n",
    "master['day'] = pd.DatetimeIndex(master.ListingInfo).day\n",
    "master['day'].head()\n",
    "master.drop(['ListingInfo'], axis=1, inplace=True)\n",
    "master['target'] = master['target'].astype(str)\n",
    "master.to_csv('./master.csv', index=False, encoding='utf-8')"
   ],
   "metadata": {
    "collapsed": false,
    "ExecuteTime": {
     "end_time": "2023-11-07T08:41:05.575986700Z",
     "start_time": "2023-11-07T08:41:03.064263400Z"
    }
   },
   "id": "84b351d0e8ef7bb1"
  },
  {
   "cell_type": "code",
   "execution_count": 30,
   "outputs": [],
   "source": [
    "from collections import defaultdict\n",
    "import datetime as dt\n",
    "\n",
    "##  userupdateinfo表\n",
    "userupdate_info_number = defaultdict(list)  ### 用户信息更新的次数\n",
    "userupdate_info_category = defaultdict(set)  ###用户信息更新的种类数\n",
    "userupdate_info_times = defaultdict(list)  ### 用户分几次更新了\n",
    "userupdate_info_date = defaultdict(list)  #### 用户借款成交与信息更新时间跨度"
   ],
   "metadata": {
    "collapsed": false,
    "ExecuteTime": {
     "end_time": "2023-11-07T08:41:05.594982800Z",
     "start_time": "2023-11-07T08:41:05.575986700Z"
    }
   },
   "id": "197d84f6f8172029"
  },
  {
   "cell_type": "code",
   "execution_count": 31,
   "outputs": [
    {
     "name": "stdout",
     "output_type": "stream",
     "text": [
      "提取信息完成\n"
     ]
    }
   ],
   "source": [
    "with open('./userupdateinfo.csv', 'r') as f:\n",
    "    f.readline()\n",
    "    for line in f.readlines():\n",
    "        cols = line.strip().split(\",\")  ### cols 是list结果\n",
    "        userupdate_info_date[cols[0]].append(cols[1])\n",
    "        userupdate_info_number[cols[0]].append(cols[2])\n",
    "        userupdate_info_category[cols[0]].add(cols[2])\n",
    "        userupdate_info_times[cols[0]].append(cols[3])\n",
    "    print(u'提取信息完成')\n",
    "\n",
    "userupdate_info_number_ = defaultdict(int)  ### 用户信息更新的次数\n",
    "userupdate_info_category_ = defaultdict(int)  ### 用户信息更新的种类数\n",
    "userupdate_info_times_ = defaultdict(int)  ### 用户分几次更新了\n",
    "userupdate_info_date_ = defaultdict(int)  #### 用户借款成交与信息更新时间跨度"
   ],
   "metadata": {
    "collapsed": false,
    "ExecuteTime": {
     "end_time": "2023-11-07T08:41:07.318975300Z",
     "start_time": "2023-11-07T08:41:05.593480Z"
    }
   },
   "id": "5328c8706743df53"
  },
  {
   "cell_type": "code",
   "execution_count": 32,
   "outputs": [
    {
     "name": "stdout",
     "output_type": "stream",
     "text": [
      "信息处理完成\n"
     ]
    }
   ],
   "source": [
    "for key in userupdate_info_date.keys():\n",
    "    userupdate_info_times_[key] = len(set(userupdate_info_times[key]))\n",
    "    delta_date = dt.datetime.strptime(userupdate_info_date[key][0], '%Y/%m/%d') - dt.datetime.strptime(\n",
    "        list(set(userupdate_info_times[key]))[0], '%Y/%m/%d')\n",
    "    userupdate_info_date_[key] = abs(delta_date.days)\n",
    "    userupdate_info_number_[key] = len(userupdate_info_number[key])\n",
    "    userupdate_info_category_[key] = len(userupdate_info_category[key])\n",
    "\n",
    "print('信息处理完成')"
   ],
   "metadata": {
    "collapsed": false,
    "ExecuteTime": {
     "end_time": "2023-11-07T08:41:08.509244300Z",
     "start_time": "2023-11-07T08:41:07.384609Z"
    }
   },
   "id": "e5d112d37aa7f31"
  },
  {
   "cell_type": "code",
   "execution_count": 33,
   "outputs": [
    {
     "name": "stdout",
     "output_type": "stream",
     "text": [
      "     Idx  numbers  categorys  times  dates\n",
      "0  10001       11         10      1     13\n",
      "1  10002       21         15      3    233\n",
      "2  10003       10          9      1      8\n",
      "3  10006       10          9      1      5\n",
      "4  10007       10         10      2      7\n"
     ]
    }
   ],
   "source": [
    "## 建立一个DataFrame\n",
    "Idx_ = list(userupdate_info_date_.keys())  #### list\n",
    "numbers_ = list(userupdate_info_number_.values())\n",
    "categorys_ = list(userupdate_info_category_.values())\n",
    "times_ = list(userupdate_info_times_.values())\n",
    "dates_ = list(userupdate_info_date_.values())\n",
    "userupdate_df = pd.DataFrame(\n",
    "    {'Idx': Idx_, 'numbers': numbers_, 'categorys': categorys_, 'times': times_, 'dates': dates_})\n",
    "print(userupdate_df.head())\n",
    "userupdate_df.to_csv('./userupdate_df.csv', index=False, encoding='utf-8')"
   ],
   "metadata": {
    "collapsed": false,
    "ExecuteTime": {
     "end_time": "2023-11-07T08:41:08.698151800Z",
     "start_time": "2023-11-07T08:41:08.497716800Z"
    }
   },
   "id": "76fd5c1e31d1703b"
  },
  {
   "cell_type": "markdown",
   "source": [
    "（省略LogInfo表的处理）\n",
    "\n",
    "**建模调参与优化**"
   ],
   "metadata": {
    "collapsed": false
   },
   "id": "7da30b8da177bc78"
  },
  {
   "cell_type": "code",
   "execution_count": 34,
   "outputs": [
    {
     "name": "stderr",
     "output_type": "stream",
     "text": [
      "C:\\Users\\胡逸凡\\AppData\\Local\\Temp\\ipykernel_25932\\3706582487.py:1: DtypeWarning: Columns (34) have mixed types. Specify dtype option on import or set low_memory=False.\n",
      "  master = pd.read_csv('./master.csv', encoding='utf-8')\n"
     ]
    }
   ],
   "source": [
    "master = pd.read_csv('./master.csv', encoding='utf-8')\n",
    "userupdateinfo = pd.read_csv('./userupdate_df.csv', encoding='utf-8')"
   ],
   "metadata": {
    "collapsed": false,
    "ExecuteTime": {
     "end_time": "2023-11-07T08:41:09.544414500Z",
     "start_time": "2023-11-07T08:41:08.701656500Z"
    }
   },
   "id": "d595c7038f722460"
  },
  {
   "cell_type": "code",
   "execution_count": 35,
   "outputs": [
    {
     "name": "stdout",
     "output_type": "stream",
     "text": [
      "(60000, 220)\n"
     ]
    }
   ],
   "source": [
    "all = pd.merge(master, userupdateinfo, how='left', on='Idx')\n",
    "all.isnull().sum().sort_values(ascending=False).head(10)\n",
    "\n",
    "print(all.shape)"
   ],
   "metadata": {
    "collapsed": false,
    "ExecuteTime": {
     "end_time": "2023-11-07T08:41:09.833501400Z",
     "start_time": "2023-11-07T08:41:09.545414800Z"
    }
   },
   "id": "16989da66ea8009b"
  },
  {
   "cell_type": "code",
   "execution_count": 36,
   "outputs": [],
   "source": [
    "## 填充缺失值\n",
    "## 用均值填充缺失值 \n",
    "numeric_cols = ['dates', 'times', 'categorys', 'numbers']\n",
    "for col in all.columns:\n",
    "    if col in numeric_cols and col != u'Idx' and col != u'target' and col != 'ListingInfo':\n",
    "        mean_cols = all[col].mean()\n",
    "        all.loc[(all[col].isnull(), col)] = mean_cols"
   ],
   "metadata": {
    "collapsed": false,
    "ExecuteTime": {
     "end_time": "2023-11-07T08:41:09.838569700Z",
     "start_time": "2023-11-07T08:41:09.826968200Z"
    }
   },
   "id": "6c1dbe9f9215a8c9"
  },
  {
   "cell_type": "code",
   "execution_count": 37,
   "outputs": [
    {
     "name": "stdout",
     "output_type": "stream",
     "text": [
      "(60000, 220)\n"
     ]
    }
   ],
   "source": [
    "## 对数值型特征进行scaling\n",
    "import warnings\n",
    "\n",
    "warnings.filterwarnings(\"ignore\")\n",
    "from sklearn.preprocessing import MinMaxScaler\n",
    "\n",
    "scaler = MinMaxScaler()\n",
    "numeric_features = all.select_dtypes(include=['float64', 'int64'])\n",
    "numeric_features = numeric_features.drop(columns=['Idx'])\n",
    "all[numeric_features.columns] = scaler.fit_transform(all[numeric_features.columns])\n",
    "print(all.shape)"
   ],
   "metadata": {
    "collapsed": false,
    "ExecuteTime": {
     "end_time": "2023-11-07T08:41:13.188217400Z",
     "start_time": "2023-11-07T08:41:09.842049800Z"
    }
   },
   "id": "8d4eb05dac968bac"
  },
  {
   "cell_type": "code",
   "execution_count": 38,
   "outputs": [
    {
     "name": "stdout",
     "output_type": "stream",
     "text": [
      "(60000, 4040)\n"
     ]
    }
   ],
   "source": [
    "all['Idx'] = all['Idx'].astype(np.int64)\n",
    "all['target'].fillna(0, inplace=True)\n",
    "all['target'] = all['target'].astype(np.int64)\n",
    "all = pd.get_dummies(all)\n",
    "all.to_csv('./all.csv', encoding='utf-8', index=False)\n",
    "\n",
    "print(all.shape)"
   ],
   "metadata": {
    "collapsed": false,
    "ExecuteTime": {
     "end_time": "2023-11-07T08:42:07.860613900Z",
     "start_time": "2023-11-07T08:41:13.178177100Z"
    }
   },
   "id": "9e329af9e03825c5"
  },
  {
   "cell_type": "code",
   "execution_count": 39,
   "outputs": [
    {
     "data": {
      "text/plain": "\"\\nprint('target' in all.columns)\\nallidx = all['target']\\nall = all.loc[:, (all == 0).sum() <= 60000]\\nprint('target' in all.columns)\\nif not 'target' in all.columns:\\n    all.insert(0, 'target', allidx)  # 重新插入Idx列\\nprint('target' in all.columns)\\nprint(all.shape)\\n\""
     },
     "execution_count": 39,
     "metadata": {},
     "output_type": "execute_result"
    }
   ],
   "source": [
    "'''\n",
    "print('target' in all.columns)\n",
    "allidx = all['target']\n",
    "all = all.loc[:, (all == 0).sum() <= 60000]\n",
    "print('target' in all.columns)\n",
    "if not 'target' in all.columns:\n",
    "    all.insert(0, 'target', allidx)  # 重新插入Idx列\n",
    "print('target' in all.columns)\n",
    "print(all.shape)\n",
    "'''"
   ],
   "metadata": {
    "collapsed": false,
    "ExecuteTime": {
     "end_time": "2023-11-07T08:42:07.873122200Z",
     "start_time": "2023-11-07T08:42:07.843576300Z"
    }
   },
   "id": "7f1c124201f4aa02"
  },
  {
   "cell_type": "code",
   "execution_count": 40,
   "outputs": [
    {
     "name": "stdout",
     "output_type": "stream",
     "text": [
      "(30000, 4038)\n",
      "(30000, 4038)\n",
      "(30000, 4037)\n",
      "(30000, 4037)\n"
     ]
    }
   ],
   "source": [
    "train_data = all[all['source_test'] == False]\n",
    "test_data = all[all['source_test'] == True]\n",
    "train_data.drop(['source_test','source_train'],axis=1,inplace=True)\n",
    "test_data.drop(['source_test','source_train'],axis=1,inplace=True)\n",
    "print(test_data.shape)\n",
    "print(train_data.shape)\n",
    "y_train = train_data['target']\n",
    "test_data.drop(['target'], axis=1, inplace=True)\n",
    "train_data.drop(['target'], axis=1, inplace=True)\n",
    "print(test_data.shape)\n",
    "print(train_data.shape)"
   ],
   "metadata": {
    "collapsed": false,
    "ExecuteTime": {
     "end_time": "2023-11-07T08:42:10.025082700Z",
     "start_time": "2023-11-07T08:42:07.873122200Z"
    }
   },
   "id": "6d3477db0b5e9e87"
  },
  {
   "cell_type": "code",
   "execution_count": 41,
   "outputs": [
    {
     "name": "stdout",
     "output_type": "stream",
     "text": [
      "(30000, 4037)\n",
      "(30000, 4037)\n"
     ]
    }
   ],
   "source": [
    "\n",
    "\n",
    "taidx = train_data['Idx']\n",
    "teidx = test_data['Idx']\n",
    "\n",
    "# all = all.loc[:, (all == 0).sum() <= 59500]\n",
    "print(test_data.shape)\n",
    "print(train_data.shape)\n"
   ],
   "metadata": {
    "collapsed": false,
    "ExecuteTime": {
     "end_time": "2023-11-07T08:42:10.079684900Z",
     "start_time": "2023-11-07T08:42:10.027139100Z"
    }
   },
   "id": "eec2faa6f45f3582"
  },
  {
   "cell_type": "code",
   "execution_count": 42,
   "outputs": [
    {
     "name": "stdout",
     "output_type": "stream",
     "text": [
      "100\n",
      "\n",
      "关于现在这个模型\n",
      "准确率 : 0.9282\n",
      "AUC 得分 (训练集): 0.999804\n",
      "f21     1457.0\n",
      "f31     1416.0\n",
      "f198    1311.0\n",
      "f89     1178.0\n",
      "f59     1151.0\n",
      "f77     1126.0\n",
      "f79     1121.0\n",
      "f62     1119.0\n",
      "f202    1074.0\n",
      "f75     1065.0\n",
      "f72     1064.0\n",
      "f5      1039.0\n",
      "f123    1029.0\n",
      "f76     1018.0\n",
      "f8      1010.0\n",
      "f63     1007.0\n",
      "f106    1001.0\n",
      "f80      996.0\n",
      "f61      993.0\n",
      "f58      984.0\n",
      "dtype: float64\n",
      "(303,)\n"
     ]
    },
    {
     "data": {
      "text/plain": "<Figure size 1200x400 with 1 Axes>",
      "image/png": "[encoded data removed]"
     },
     "metadata": {},
     "output_type": "display_data"
    }
   ],
   "source": [
    "\n",
    "import pandas as pd\n",
    "import numpy as np\n",
    "import xgboost as xgb\n",
    "from xgboost.sklearn import XGBClassifier\n",
    "from sklearn.model_selection import GridSearchCV\n",
    "from sklearn.model_selection import cross_validate\n",
    "from sklearn import metrics\n",
    "import matplotlib.pylab as plt\n",
    "%matplotlib inline\n",
    "from matplotlib.pylab import rcParams\n",
    "\n",
    "rcParams['figure.figsize'] = 12, 4\n",
    "\n",
    "\n",
    "def modelfit(alg, dtrain, y_train, dtest=None, useTrainCV=True, cv_folds=5, early_stopping_rounds=50):\n",
    "    if useTrainCV:\n",
    "        xgb_param = alg.get_xgb_params()\n",
    "        xgtrain = xgb.DMatrix(dtrain.values[:, 1:], label=y_train)\n",
    "        cvresult = xgb.cv(xgb_param, xgtrain, num_boost_round=alg.get_params()['n_estimators'], nfold=cv_folds,\n",
    "                          early_stopping_rounds=early_stopping_rounds)\n",
    "        alg.set_params(n_estimators=cvresult.shape[0])\n",
    "\n",
    "    #建模\n",
    "    alg.fit(dtrain.values[:, 1:], y_train, eval_metric='auc')\n",
    "\n",
    "    #对训练集预测\n",
    "    dtrain_predictions = alg.predict(dtrain.values[:, 1:])\n",
    "    dtrain_predprob = alg.predict_proba(dtrain.values[:, 1:])[:, 1]\n",
    "\n",
    "    #输出模型的一些结果\n",
    "    #print(dtrain_predictions)\n",
    "    #print(alg.predict_proba(dtrain.as_matrix()[: ,1:]))\n",
    "    print(cvresult.shape[0])\n",
    "    print(\"\\n关于现在这个模型\")\n",
    "    print(\"准确率 : %.4g\" % metrics.accuracy_score(y_train, dtrain_predictions))\n",
    "    print(\"AUC 得分 (训练集): %f\" % metrics.roc_auc_score(y_train, dtrain_predprob))\n",
    "\n",
    "    feat_imp = pd.Series(alg.get_booster().get_fscore()).sort_values(ascending=False)\n",
    "    print(feat_imp.head(20))\n",
    "    print(feat_imp.shape)\n",
    "    feat_imp.plot(kind='bar', title='Feature Importances')\n",
    "    plt.ylabel('Feature Importance Score')\n",
    "    return feat_imp\n",
    "\n",
    "\n",
    "xgb1 = XGBClassifier(\n",
    "    learning_rate=0.01,  # 学习率，一般取值范围在0.01到0.2之间\n",
    "    n_estimators=100,  # 弱分类器的数量，可以根据交叉验证调整\n",
    "    max_depth=15,  # 每棵树的最大深度，控制树的复杂度\n",
    "    min_child_weight=0.3,  # 每个子节点中所需的最小样本权重总和\n",
    "    gamma=0.15,  # 控制叶子节点分裂的程度，一般取值范围在0到1之间\n",
    "    subsample=0.8,  # 训练数据的子采样比例，一般取值范围在0.5到1之间\n",
    "    colsample_bytree=0.8,  # 每棵树的特征子采样比例，一般取值范围在0.5到1之间\n",
    "    objective='binary:logistic',  # 学习任务的目标，二元分类问题使用 'binary:logistic'\n",
    "    nthread=4,  # 并行线程数，通常设置为CPU的核心数\n",
    "    scale_pos_weight=1,  # 正负类别权重平衡，处理不平衡的数据集\n",
    "    seed=27  # 随机种子，用于生成可重复的随机性\n",
    ")\n",
    "\n",
    "feature_imp = modelfit(xgb1, train_data, y_train)\n"
   ],
   "metadata": {
    "collapsed": false,
    "ExecuteTime": {
     "end_time": "2023-11-07T08:48:24.174513800Z",
     "start_time": "2023-11-07T08:42:10.059931900Z"
    }
   },
   "id": "231d84c34c2091b4"
  },
  {
   "cell_type": "code",
   "execution_count": 43,
   "outputs": [
    {
     "name": "stdout",
     "output_type": "stream",
     "text": [
      "(30000, 341)\n",
      "(30000, 341)\n"
     ]
    }
   ],
   "source": [
    "\n",
    "colu = train_data.columns\n",
    "n = len(feature_imp)\n",
    "top_n_features = feature_imp.index[:n]\n",
    "top_n_features = [int(feature[1:]) for feature in top_n_features]\n",
    "top_n_features = colu[top_n_features]\n",
    "train_subset2 = train_data[top_n_features]\n",
    "test_subset2 = test_data[top_n_features]\n",
    "if not 'Idx' in train_subset2.columns:\n",
    "    train_subset2.insert(0, 'Idx', taidx)  # 重新插入Idx列\n",
    "if not 'Idx' in test_subset2.columns:\n",
    "    test_subset2.insert(0, 'Idx', teidx)  # 重新插入Idx列\n",
    "train_data = train_subset2\n",
    "test_data = test_subset2\n",
    "print(test_data.shape)\n",
    "print(train_data.shape)\n"
   ],
   "metadata": {
    "collapsed": false,
    "ExecuteTime": {
     "end_time": "2023-11-07T08:48:24.450438400Z",
     "start_time": "2023-11-07T08:48:24.189794500Z"
    }
   },
   "id": "c70e988a9c9f9696"
  },
  {
   "cell_type": "code",
   "execution_count": 44,
   "outputs": [
    {
     "name": "stdout",
     "output_type": "stream",
     "text": [
      "Index(['UserInfo_6', 'UserInfo_17', 'month', 'ThirdParty_Info_Period2_14',\n",
      "       'ThirdParty_Info_Period1_1', 'ThirdParty_Info_Period2_2',\n",
      "       'ThirdParty_Info_Period2_4', 'ThirdParty_Info_Period1_4', 'times',\n",
      "       'ThirdParty_Info_Period1_17',\n",
      "       ...\n",
      "       'UserInfo_19_55', 'UserInfo_19_34', 'SocialNetwork_10',\n",
      "       'UserInfo_24_龙台镇稻花村', 'Education_Info2_B', 'Education_Info8_F',\n",
      "       'Education_Info4_AE', 'Education_Info4_V', 'Education_Info6_U',\n",
      "       'SocialNetwork_14'],\n",
      "      dtype='object', length=303)\n"
     ]
    }
   ],
   "source": [
    "print(top_n_features)"
   ],
   "metadata": {
    "collapsed": false,
    "ExecuteTime": {
     "end_time": "2023-11-07T08:48:24.451444900Z",
     "start_time": "2023-11-07T08:48:24.425783400Z"
    }
   },
   "id": "806c232269bd89ca"
  },
  {
   "cell_type": "code",
   "execution_count": 45,
   "outputs": [
    {
     "data": {
      "text/plain": "'\\nfrom sklearn.ensemble import RandomForestClassifier\\nimport warnings\\nwarnings.filterwarnings(\"ignore\")\\nrf0 = RandomForestClassifier(oob_score=True , random_state =42)\\nrf0.fit(train_all.values[:,1:] ,y_train)\\nprint(rf0.oob_score_)\\ny_predprob = rf0.predict_proba(train_all.values[:,1:])[:,1]\\nprint(\\'AUC Score(Train): %f\\'%metrics.roc_auc_score(y_train , y_predprob))\\nrf_predictions_df = pd.DataFrame({\\'ID\\': train_all[\\'Idx\\'], \\'Prediction\\': y_predprob})\\nrf_predictions_df.to_csv(\\'rf_prediction.csv\\', index=False)\\n'"
     },
     "execution_count": 45,
     "metadata": {},
     "output_type": "execute_result"
    }
   ],
   "source": [
    "'''\n",
    "from sklearn.ensemble import RandomForestClassifier\n",
    "import warnings\n",
    "warnings.filterwarnings(\"ignore\")\n",
    "rf0 = RandomForestClassifier(oob_score=True , random_state =42)\n",
    "rf0.fit(train_all.values[:,1:] ,y_train)\n",
    "print(rf0.oob_score_)\n",
    "y_predprob = rf0.predict_proba(train_all.values[:,1:])[:,1]\n",
    "print('AUC Score(Train): %f'%metrics.roc_auc_score(y_train , y_predprob))\n",
    "rf_predictions_df = pd.DataFrame({'ID': train_all['Idx'], 'Prediction': y_predprob})\n",
    "rf_predictions_df.to_csv('rf_prediction.csv', index=False)\n",
    "'''"
   ],
   "metadata": {
    "collapsed": false,
    "ExecuteTime": {
     "end_time": "2023-11-07T08:48:24.693008900Z",
     "start_time": "2023-11-07T08:48:24.442188900Z"
    }
   },
   "id": "b688929173e0fa08"
  },
  {
   "cell_type": "code",
   "execution_count": 46,
   "outputs": [
    {
     "data": {
      "text/plain": "'\\nimport warnings\\n\\nwarnings.filterwarnings(\"ignore\")\\nlr = LogisticRegression(tol=1e-6)\\nparameters = {\\'penalty\\': (\\'l1\\', \\'l2\\'), \\'C\\': [0.01, 0.1, 1, 10, 100]}\\nclf_lr = GridSearchCV(lr, parameters, cv=3)\\nprint(\\'开始训练\\')\\nclf_lr.fit(train_all.values[:, 1:], y_train)\\nprint(\\'模型训练结束\\')\\nprint(clf_lr)\\n'"
     },
     "execution_count": 46,
     "metadata": {},
     "output_type": "execute_result"
    }
   ],
   "source": [
    "'''\n",
    "import warnings\n",
    "\n",
    "warnings.filterwarnings(\"ignore\")\n",
    "lr = LogisticRegression(tol=1e-6)\n",
    "parameters = {'penalty': ('l1', 'l2'), 'C': [0.01, 0.1, 1, 10, 100]}\n",
    "clf_lr = GridSearchCV(lr, parameters, cv=3)\n",
    "print('开始训练')\n",
    "clf_lr.fit(train_all.values[:, 1:], y_train)\n",
    "print('模型训练结束')\n",
    "print(clf_lr)\n",
    "'''"
   ],
   "metadata": {
    "collapsed": false,
    "ExecuteTime": {
     "end_time": "2023-11-07T08:48:24.699050200Z",
     "start_time": "2023-11-07T08:48:24.455772400Z"
    }
   },
   "id": "c9f9773c0015b481"
  },
  {
   "cell_type": "code",
   "execution_count": 47,
   "outputs": [
    {
     "data": {
      "text/plain": "'\\nimport warnings\\n\\nwarnings.filterwarnings(\"ignore\")\\nclf_lr_accuracy = clf_lr.score(train_all.values[:, 1:], y_train)\\nprint(clf_lr_accuracy)\\nclf_lr.cv_results_, clf_lr.best_params_, clf_lr.best_score_\\n'"
     },
     "execution_count": 47,
     "metadata": {},
     "output_type": "execute_result"
    }
   ],
   "source": [
    "'''\n",
    "import warnings\n",
    "\n",
    "warnings.filterwarnings(\"ignore\")\n",
    "clf_lr_accuracy = clf_lr.score(train_all.values[:, 1:], y_train)\n",
    "print(clf_lr_accuracy)\n",
    "clf_lr.cv_results_, clf_lr.best_params_, clf_lr.best_score_\n",
    "'''"
   ],
   "metadata": {
    "collapsed": false,
    "ExecuteTime": {
     "end_time": "2023-11-07T08:48:24.700059200Z",
     "start_time": "2023-11-07T08:48:24.486971300Z"
    }
   },
   "id": "491224445ac2eee2"
  },
  {
   "cell_type": "code",
   "execution_count": 48,
   "outputs": [
    {
     "name": "stdout",
     "output_type": "stream",
     "text": [
      "重复的列： Index(['UserInfo_19_53', 'UserInfo_19_39', 'UserInfo_19_32', 'UserInfo_19_38',\n",
      "       'UserInfo_19_42', 'UserInfo_19_40', 'UserInfo_19_35', 'UserInfo_19_37',\n",
      "       'UserInfo_19_27', 'UserInfo_19_30', 'UserInfo_19_24', 'UserInfo_19_25',\n",
      "       'UserInfo_19_34', 'UserInfo_19_28', 'UserInfo_19_39', 'UserInfo_19_39',\n",
      "       'UserInfo_19_7', 'UserInfo_19_42', 'UserInfo_19_42', 'UserInfo_19_28',\n",
      "       'UserInfo_19_28', 'UserInfo_19_37', 'UserInfo_19_37', 'UserInfo_19_26',\n",
      "       'UserInfo_19_35', 'UserInfo_19_35', 'UserInfo_19_20', 'UserInfo_19_26',\n",
      "       'UserInfo_19_26', 'UserInfo_19_32', 'UserInfo_19_32', 'UserInfo_19_24',\n",
      "       'UserInfo_19_24', 'UserInfo_19_53', 'UserInfo_19_53', 'UserInfo_19_40',\n",
      "       'UserInfo_19_40', 'UserInfo_19_47', 'UserInfo_19_27', 'UserInfo_19_27',\n",
      "       'UserInfo_19_25', 'UserInfo_19_25', 'UserInfo_19_30', 'UserInfo_19_30',\n",
      "       'UserInfo_19_41', 'UserInfo_19_47', 'UserInfo_19_47', 'UserInfo_19_38',\n",
      "       'UserInfo_19_38', 'UserInfo_19_55', 'UserInfo_19_17', 'UserInfo_19_55',\n",
      "       'UserInfo_19_55', 'UserInfo_19_34', 'UserInfo_19_34'],\n",
      "      dtype='object')\n",
      "(30000, 286)\n",
      "重复的列： Index(['UserInfo_19_53', 'UserInfo_19_39', 'UserInfo_19_32', 'UserInfo_19_38',\n",
      "       'UserInfo_19_42', 'UserInfo_19_40', 'UserInfo_19_35', 'UserInfo_19_37',\n",
      "       'UserInfo_19_27', 'UserInfo_19_30', 'UserInfo_19_24', 'UserInfo_19_25',\n",
      "       'UserInfo_19_34', 'UserInfo_19_28', 'UserInfo_19_39', 'UserInfo_19_39',\n",
      "       'UserInfo_19_7', 'UserInfo_19_42', 'UserInfo_19_42', 'UserInfo_19_28',\n",
      "       'UserInfo_19_28', 'UserInfo_19_37', 'UserInfo_19_37', 'UserInfo_19_26',\n",
      "       'UserInfo_19_35', 'UserInfo_19_35', 'UserInfo_19_20', 'UserInfo_19_26',\n",
      "       'UserInfo_19_26', 'UserInfo_19_32', 'UserInfo_19_32', 'UserInfo_19_24',\n",
      "       'UserInfo_19_24', 'UserInfo_19_53', 'UserInfo_19_53', 'UserInfo_19_40',\n",
      "       'UserInfo_19_40', 'UserInfo_19_47', 'UserInfo_19_27', 'UserInfo_19_27',\n",
      "       'UserInfo_19_25', 'UserInfo_19_25', 'UserInfo_19_30', 'UserInfo_19_30',\n",
      "       'UserInfo_19_41', 'UserInfo_19_47', 'UserInfo_19_47', 'UserInfo_19_38',\n",
      "       'UserInfo_19_38', 'UserInfo_19_55', 'UserInfo_19_17', 'UserInfo_19_55',\n",
      "       'UserInfo_19_55', 'UserInfo_19_34', 'UserInfo_19_34'],\n",
      "      dtype='object')\n",
      "(30000, 286)\n"
     ]
    }
   ],
   "source": [
    "duplicated_columns = train_data.columns[train_data.columns.duplicated()]\n",
    "print(\"重复的列：\", duplicated_columns)\n",
    "train_data = train_data.loc[:, ~train_data.columns.duplicated()]\n",
    "print(train_data.shape)\n",
    "\n",
    "duplicated_columns = test_data.columns[test_data.columns.duplicated()]\n",
    "print(\"重复的列：\", duplicated_columns)\n",
    "test_data = test_data.loc[:, ~test_data.columns.duplicated()]\n",
    "print(test_data.shape)"
   ],
   "metadata": {
    "collapsed": false,
    "ExecuteTime": {
     "end_time": "2023-11-07T08:48:24.701068500Z",
     "start_time": "2023-11-07T08:48:24.549613100Z"
    }
   },
   "id": "4235147c29f98bef"
  },
  {
   "cell_type": "code",
   "execution_count": 49,
   "outputs": [
    {
     "name": "stdout",
     "output_type": "stream",
     "text": [
      "(30000, 286)\n"
     ]
    }
   ],
   "source": [
    "print(train_data.shape)"
   ],
   "metadata": {
    "collapsed": false,
    "ExecuteTime": {
     "end_time": "2023-11-07T08:48:24.706086600Z",
     "start_time": "2023-11-07T08:48:24.565351200Z"
    }
   },
   "id": "4306fcd9e88425b4"
  },
  {
   "cell_type": "code",
   "execution_count": 50,
   "outputs": [
    {
     "name": "stdout",
     "output_type": "stream",
     "text": [
      "(30000, 286)   30000   (30000, 286)\n",
      "[LightGBM] [Info] Number of positive: 2198, number of negative: 27802\n",
      "[LightGBM] [Info] Auto-choosing row-wise multi-threading, the overhead of testing was 0.009548 seconds.\n",
      "You can set `force_row_wise=true` to remove the overhead.\n",
      "And if memory is not enough, you can set `force_col_wise=true`.\n",
      "[LightGBM] [Info] Total Bins 3977\n",
      "[LightGBM] [Info] Number of data points in the train set: 30000, number of used features: 266\n",
      "[LightGBM] [Info] [binary:BoostFromScore]: pavg=0.073267 -> initscore=-2.537560\n",
      "[LightGBM] [Info] Start training from score -2.537560\n"
     ]
    },
    {
     "data": {
      "text/plain": "LGBMClassifier(cat_smooth=1, learning_rate=0.01, max_bin=25, max_depth=15,\n               min_split_gain=0.01, n_estimators=1000, num_leaves=42,\n               objective='binary', random_state=25, reg_alpha=0.4,\n               reg_lambda=0.4)",
      "text/html": "<style>#sk-container-id-1 {color: black;}#sk-container-id-1 pre{padding: 0;}#sk-container-id-1 div.sk-toggleable {background-color: white;}#sk-container-id-1 label.sk-toggleable__label {cursor: pointer;display: block;width: 100%;margin-bottom: 0;padding: 0.3em;box-sizing: border-box;text-align: center;}#sk-container-id-1 label.sk-toggleable__label-arrow:before {content: \"▸\";float: left;margin-right: 0.25em;color: #696969;}#sk-container-id-1 label.sk-toggleable__label-arrow:hover:before {color: black;}#sk-container-id-1 div.sk-estimator:hover label.sk-toggleable__label-arrow:before {color: black;}#sk-container-id-1 div.sk-toggleable__content {max-height: 0;max-width: 0;overflow: hidden;text-align: left;background-color: #f0f8ff;}#sk-container-id-1 div.sk-toggleable__content pre {margin: 0.2em;color: black;border-radius: 0.25em;background-color: #f0f8ff;}#sk-container-id-1 input.sk-toggleable__control:checked~div.sk-toggleable__content {max-height: 200px;max-width: 100%;overflow: auto;}#sk-container-id-1 input.sk-toggleable__control:checked~label.sk-toggleable__label-arrow:before {content: \"▾\";}#sk-container-id-1 div.sk-estimator input.sk-toggleable__control:checked~label.sk-toggleable__label {background-color: #d4ebff;}#sk-container-id-1 div.sk-label input.sk-toggleable__control:checked~label.sk-toggleable__label {background-color: #d4ebff;}#sk-container-id-1 input.sk-hidden--visually {border: 0;clip: rect(1px 1px 1px 1px);clip: rect(1px, 1px, 1px, 1px);height: 1px;margin: -1px;overflow: hidden;padding: 0;position: absolute;width: 1px;}#sk-container-id-1 div.sk-estimator {font-family: monospace;background-color: #f0f8ff;border: 1px dotted black;border-radius: 0.25em;box-sizing: border-box;margin-bottom: 0.5em;}#sk-container-id-1 div.sk-estimator:hover {background-color: #d4ebff;}#sk-container-id-1 div.sk-parallel-item::after {content: \"\";width: 100%;border-bottom: 1px solid gray;flex-grow: 1;}#sk-container-id-1 div.sk-label:hover label.sk-toggleable__label {background-color: #d4ebff;}#sk-container-id-1 div.sk-serial::before {content: \"\";position: absolute;border-left: 1px solid gray;box-sizing: border-box;top: 0;bottom: 0;left: 50%;z-index: 0;}#sk-container-id-1 div.sk-serial {display: flex;flex-direction: column;align-items: center;background-color: white;padding-right: 0.2em;padding-left: 0.2em;position: relative;}#sk-container-id-1 div.sk-item {position: relative;z-index: 1;}#sk-container-id-1 div.sk-parallel {display: flex;align-items: stretch;justify-content: center;background-color: white;position: relative;}#sk-container-id-1 div.sk-item::before, #sk-container-id-1 div.sk-parallel-item::before {content: \"\";position: absolute;border-left: 1px solid gray;box-sizing: border-box;top: 0;bottom: 0;left: 50%;z-index: -1;}#sk-container-id-1 div.sk-parallel-item {display: flex;flex-direction: column;z-index: 1;position: relative;background-color: white;}#sk-container-id-1 div.sk-parallel-item:first-child::after {align-self: flex-end;width: 50%;}#sk-container-id-1 div.sk-parallel-item:last-child::after {align-self: flex-start;width: 50%;}#sk-container-id-1 div.sk-parallel-item:only-child::after {width: 0;}#sk-container-id-1 div.sk-dashed-wrapped {border: 1px dashed gray;margin: 0 0.4em 0.5em 0.4em;box-sizing: border-box;padding-bottom: 0.4em;background-color: white;}#sk-container-id-1 div.sk-label label {font-family: monospace;font-weight: bold;display: inline-block;line-height: 1.2em;}#sk-container-id-1 div.sk-label-container {text-align: center;}#sk-container-id-1 div.sk-container {/* jupyter's `normalize.less` sets `[hidden] { display: none; }` but bootstrap.min.css set `[hidden] { display: none !important; }` so we also need the `!important` here to be able to override the default hidden behavior on the sphinx rendered scikit-learn.org. See: https://github.com/scikit-learn/scikit-learn/issues/21755 */display: inline-block !important;position: relative;}#sk-container-id-1 div.sk-text-repr-fallback {display: none;}</style><div id=\"sk-container-id-1\" class=\"sk-top-container\"><div class=\"sk-text-repr-fallback\"><pre>LGBMClassifier(cat_smooth=1, learning_rate=0.01, max_bin=25, max_depth=15,\n               min_split_gain=0.01, n_estimators=1000, num_leaves=42,\n               objective=&#x27;binary&#x27;, random_state=25, reg_alpha=0.4,\n               reg_lambda=0.4)</pre><b>In a Jupyter environment, please rerun this cell to show the HTML representation or trust the notebook. <br />On GitHub, the HTML representation is unable to render, please try loading this page with nbviewer.org.</b></div><div class=\"sk-container\" hidden><div class=\"sk-item\"><div class=\"sk-estimator sk-toggleable\"><input class=\"sk-toggleable__control sk-hidden--visually\" id=\"sk-estimator-id-1\" type=\"checkbox\" checked><label for=\"sk-estimator-id-1\" class=\"sk-toggleable__label sk-toggleable__label-arrow\">LGBMClassifier</label><div class=\"sk-toggleable__content\"><pre>LGBMClassifier(cat_smooth=1, learning_rate=0.01, max_bin=25, max_depth=15,\n               min_split_gain=0.01, n_estimators=1000, num_leaves=42,\n               objective=&#x27;binary&#x27;, random_state=25, reg_alpha=0.4,\n               reg_lambda=0.4)</pre></div></div></div></div></div>"
     },
     "execution_count": 50,
     "metadata": {},
     "output_type": "execute_result"
    }
   ],
   "source": [
    "# lightgbm\n",
    "from lightgbm import LGBMClassifier\n",
    "from sklearn import metrics\n",
    "\n",
    "lgb_model = LGBMClassifier(\n",
    "    boosting_type='gbdt',\n",
    "    num_leaves=42,\n",
    "    max_depth=15,\n",
    "    learning_rate=0.01,\n",
    "    n_estimators=1000,\n",
    "    objective='binary', \n",
    "    min_split_gain=0.01,\n",
    "    min_child_weight=0.001,\n",
    "    min_child_samples=20,\n",
    "    subsample=1.0,\n",
    "    subsample_freq=0,\n",
    "    colsample_bytree=1.0,\n",
    "    reg_alpha=0.4,\n",
    "    reg_lambda=0.4,\n",
    "    random_state=25,\n",
    "    cat_smooth=1,\n",
    "    max_bin=25\n",
    ")\n",
    "\n",
    "print(train_data.shape, ' ', len(y_train), ' ', test_data.shape)\n",
    "lgb_model.fit(train_data.values[:, 1:], y_train, eval_metric='auc')"
   ],
   "metadata": {
    "collapsed": false,
    "ExecuteTime": {
     "end_time": "2023-11-07T08:48:31.639103800Z",
     "start_time": "2023-11-07T08:48:24.590579100Z"
    }
   },
   "id": "132e03d8e3403439"
  },
  {
   "cell_type": "code",
   "execution_count": 51,
   "outputs": [
    {
     "name": "stdout",
     "output_type": "stream",
     "text": [
      "462\n",
      "462\n",
      "\n",
      "正确的正确预测数   460\n",
      "关于现在这个模型\n",
      "准确率 : 0.942\n",
      "AUC 得分 (训练集): 0.989258\n"
     ]
    }
   ],
   "source": [
    "from sklearn import metrics\n",
    "alg = lgb_model\n",
    "dtrain = train_data\n",
    "\n",
    "dtrain_predictions = alg.predict(dtrain.values[:, 1:])\n",
    "dtrain_predprob = alg.predict_proba(dtrain.values[:, 1:])[:, 1]\n",
    "\n",
    "dtrain_predictions_df = pd.DataFrame({'Idx': dtrain['Idx'], 'Predicted': dtrain_predprob})\n",
    "dtrain_predictions_df.to_csv('1.csv', index=False)\n",
    "\n",
    "dtrain_predictions_df2 = pd.DataFrame({'Idx': dtrain['Idx'], 'Predicted': dtrain_predictions})\n",
    "dtrain_predictions_df2.to_csv('2.csv', index=False)\n",
    "\n",
    "print((dtrain_predprob > 0.5).sum())\n",
    "print((dtrain_predictions == 1).sum())\n",
    "\n",
    "p = 0\n",
    "for i in range(len(dtrain_predictions)):\n",
    "    if y_train[i] == 1 and dtrain_predictions[i] == y_train[i]:\n",
    "        p += 1\n",
    "print(\"\\n正确的正确预测数  \", p)\n",
    "\n",
    "print(\"关于现在这个模型\")\n",
    "print(\"准确率 : %.4g\" % metrics.accuracy_score(y_train, dtrain_predictions))\n",
    "print(\"AUC 得分 (训练集): %f\\n\" % metrics.roc_auc_score(y_train, dtrain_predprob))"
   ],
   "metadata": {
    "collapsed": false,
    "ExecuteTime": {
     "end_time": "2023-11-07T08:48:33.220749600Z",
     "start_time": "2023-11-07T08:48:31.618534500Z"
    }
   },
   "id": "99b7450b1f956b6a"
  },
  {
   "cell_type": "code",
   "execution_count": 52,
   "outputs": [
    {
     "name": "stdout",
     "output_type": "stream",
     "text": [
      "(30000, 286)\n",
      "68\n",
      "68\n"
     ]
    }
   ],
   "source": [
    "#对训练集预测\n",
    "alg = lgb_model\n",
    "dtest = test_data\n",
    "print(dtest.shape)\n",
    "\n",
    "dtest_predictions = alg.predict(dtest.values[:, 1:])\n",
    "dtest_predprob = alg.predict_proba(dtest.values[:, 1:])[:, 1]\n",
    "\n",
    "# 将测试集预测结果保存为CSV文件\n",
    "dtest_predictions_df = pd.DataFrame({'ID': dtest['Idx'], 'Prediction': dtest_predprob})\n",
    "dtest_predictions_df.to_csv('lgb_test_predictions.csv', index=False)\n",
    "\n",
    "dtest_predictions_df2 = pd.DataFrame({'ID': dtest['Idx'], 'Prediction': dtest_predictions})\n",
    "dtest_predictions_df2.to_csv('lgb_test_predictions2.csv', index=False)\n",
    "\n",
    "print((dtest_predprob > 0.5).sum())\n",
    "print((dtest_predictions == 1).sum())"
   ],
   "metadata": {
    "collapsed": false,
    "ExecuteTime": {
     "end_time": "2023-11-07T08:48:34.660412Z",
     "start_time": "2023-11-07T08:48:33.214244Z"
    }
   },
   "id": "bde04faeb937ef87"
  },
  {
   "cell_type": "code",
   "execution_count": 53,
   "outputs": [],
   "source": [
    "def modeltest(alg, dtrain, y_train, dtest, useTrainCV=True, cv_folds=5, early_stopping_rounds=50):\n",
    "    if useTrainCV:\n",
    "        xgb_param = alg.get_xgb_params()\n",
    "        xgtrain = xgb.DMatrix(dtrain.values[:, 1:], label=y_train)\n",
    "        cvresult = xgb.cv(xgb_param, xgtrain, num_boost_round=alg.get_params()['n_estimators'], nfold=cv_folds,\n",
    "                          early_stopping_rounds=early_stopping_rounds)\n",
    "        alg.set_params(n_estimators=cvresult.shape[0])\n",
    "\n",
    "    #建模\n",
    "    alg.fit(dtrain.values[:, 1:], y_train, eval_metric='auc')"
   ],
   "metadata": {
    "collapsed": false,
    "ExecuteTime": {
     "end_time": "2023-11-07T08:48:34.685188300Z",
     "start_time": "2023-11-07T08:48:34.661416200Z"
    }
   },
   "id": "1073471a5397009b"
  },
  {
   "cell_type": "code",
   "execution_count": 54,
   "outputs": [
    {
     "name": "stdout",
     "output_type": "stream",
     "text": [
      "(30000, 286)   30000   (30000, 286)\n"
     ]
    }
   ],
   "source": [
    "xgb1 = XGBClassifier(\n",
    "    learning_rate=0.05,  # 学习率，一般取值范围在0.01到0.2之间\n",
    "    n_estimators=200,  # 弱分类器的数量，可以根据交叉验证调整\n",
    "    max_depth=7,  # 每棵树的最大深度，控制树的复杂度\n",
    "    min_child_weight=1,  # 每个子节点中所需的最小样本权重总和\n",
    "    gamma=0.15,  # 控制叶子节点分裂的程度，一般取值范围在0到1之间\n",
    "    subsample=0.8,  # 训练数据的子采样比例，一般取值范围在0.5到1之间\n",
    "    colsample_bytree=0.8,  # 每棵树的特征子采样比例，一般取值范围在0.5到1之间\n",
    "    objective='binary:logistic',  # 学习任务的目标，二元分类问题使用 'binary:logistic'\n",
    "    nthread=4,  # 并行线程数，通常设置为CPU的核心数\n",
    "    scale_pos_weight=3,  # 正负类别权重平衡，处理不平衡的数据集\n",
    "    seed=42  # 随机种子，用于生成可重复的随机性\n",
    ")\n",
    "\n",
    "print(train_data.shape, ' ', len(y_train), ' ', test_data.shape)\n",
    "# modeltest(xgb1, train_subset_2, y_train_2, test_subset)\n",
    "# modeltest(xgb1, X_train, y_train, test_subset)\n",
    "modeltest(xgb1, train_data, y_train, test_data)"
   ],
   "metadata": {
    "collapsed": false,
    "ExecuteTime": {
     "end_time": "2023-11-07T08:49:10.639778400Z",
     "start_time": "2023-11-07T08:48:34.677793300Z"
    }
   },
   "id": "469beab9d2961002"
  },
  {
   "cell_type": "code",
   "execution_count": 55,
   "outputs": [
    {
     "name": "stdout",
     "output_type": "stream",
     "text": [
      "1751\n",
      "1751\n",
      "\n",
      "正确的正确预测数   1714\n",
      "关于现在这个模型\n",
      "准确率 : 0.9826\n",
      "AUC 得分 (训练集): 0.996718\n"
     ]
    },
    {
     "data": {
      "text/plain": "'\\npca\\nn=50 710 0.999975  0\\n'"
     },
     "execution_count": 55,
     "metadata": {},
     "output_type": "execute_result"
    }
   ],
   "source": [
    "alg = xgb1\n",
    "dtrain = train_data\n",
    "# dtrain = X_test\n",
    "#对训练集预测\n",
    "dtrain_predictions = alg.predict(dtrain.values[:, 1:])\n",
    "dtrain_predprob = alg.predict_proba(dtrain.values[:, 1:])[:, 1]\n",
    "\n",
    "dtrain_predictions_df = pd.DataFrame({'Idx': dtrain['Idx'], 'Predicted': dtrain_predprob})\n",
    "dtrain_predictions_df.to_csv('1.csv', index=False)\n",
    "\n",
    "dtrain_predictions_df2 = pd.DataFrame({'Idx': dtrain['Idx'], 'Predicted': dtrain_predictions})\n",
    "dtrain_predictions_df2.to_csv('2.csv', index=False)\n",
    "\n",
    "print((dtrain_predprob > 0.5).sum())\n",
    "print((dtrain_predictions == 1).sum())\n",
    "\n",
    "p = 0\n",
    "for i in range(len(dtrain_predictions)):\n",
    "    if y_train[i] == 1 and dtrain_predictions[i] == y_train[i]:\n",
    "        p += 1\n",
    "print(\"\\n正确的正确预测数  \", p)\n",
    "\n",
    "print(\"关于现在这个模型\")\n",
    "print(\"准确率 : %.4g\" % metrics.accuracy_score(y_train, dtrain_predictions))\n",
    "print(\"AUC 得分 (训练集): %f\\n\" % metrics.roc_auc_score(y_train, dtrain_predprob))\n",
    "# target 2198\n",
    "'''\n",
    "pca\n",
    "n=50 710 0.999975  0\n",
    "'''"
   ],
   "metadata": {
    "collapsed": false,
    "ExecuteTime": {
     "end_time": "2023-11-07T08:49:11.201957900Z",
     "start_time": "2023-11-07T08:49:10.643780800Z"
    }
   },
   "id": "d1976a8f30822f5a"
  },
  {
   "cell_type": "code",
   "execution_count": 56,
   "outputs": [
    {
     "name": "stdout",
     "output_type": "stream",
     "text": [
      "(30000, 286)\n",
      "356\n",
      "356\n"
     ]
    }
   ],
   "source": [
    "#对训练集预测\n",
    "alg = xgb1\n",
    "dtest = test_data\n",
    "print(dtest.shape)\n",
    "\n",
    "dtest_predictions = alg.predict(dtest.values[:, 1:])\n",
    "dtest_predprob = alg.predict_proba(dtest.values[:, 1:])[:, 1]\n",
    "\n",
    "# 将测试集预测结果保存为CSV文件\n",
    "dtest_predictions_df = pd.DataFrame({'ID': dtest['Idx'], 'Prediction': dtest_predprob})\n",
    "dtest_predictions_df.to_csv('test_predictions.csv', index=False)\n",
    "\n",
    "dtest_predictions_df2 = pd.DataFrame({'ID': dtest['Idx'], 'Prediction': dtest_predictions})\n",
    "dtest_predictions_df2.to_csv('test_predictions2.csv', index=False)\n",
    "\n",
    "print((dtest_predprob > 0.5).sum())\n",
    "print((dtest_predictions == 1).sum())"
   ],
   "metadata": {
    "collapsed": false,
    "ExecuteTime": {
     "end_time": "2023-11-07T08:49:11.678019Z",
     "start_time": "2023-11-07T08:49:11.185987800Z"
    }
   },
   "id": "12c342dc57fe627e"
  }
 ],
 "metadata": {
  "kernelspec": {
   "display_name": "Python 3",
   "language": "python",
   "name": "python3"
  },
  "language_info": {
   "codemirror_mode": {
    "name": "ipython",
    "version": 2
   },
   "file_extension": ".py",
   "mimetype": "text/x-python",
   "name": "python",
   "nbconvert_exporter": "python",
   "pygments_lexer": "ipython2",
   "version": "2.7.6"
  }
 },
 "nbformat": 4,
 "nbformat_minor": 5
}
