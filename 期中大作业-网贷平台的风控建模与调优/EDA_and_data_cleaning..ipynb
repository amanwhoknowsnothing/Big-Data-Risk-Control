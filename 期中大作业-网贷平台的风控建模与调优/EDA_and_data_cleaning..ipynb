{
 "cells": [
  {
   "cell_type": "code",
   "execution_count": 51,
   "id": "initial_id",
   "metadata": {
    "collapsed": true,
    "ExecuteTime": {
     "end_time": "2023-11-05T11:35:45.936279600Z",
     "start_time": "2023-11-05T11:35:44.976759700Z"
    }
   },
   "outputs": [],
   "source": [
    "import os\n",
    "import pandas as pd\n",
    "import numpy as np\n",
    "import matplotlib.pyplot as plt\n",
    "\n",
    "dataset_path = r'./data/test'\n",
    "\n",
    "test_master = pd.read_csv(os.path.join(dataset_path, 'Master_Test_Set.csv'), encoding='gbk')\n",
    "test_userupdateinfo = pd.read_csv(os.path.join(dataset_path, 'Userupdate_Info_Test_Set.csv'), encoding='gbk')\n",
    "test_loginfo = pd.read_csv(os.path.join(dataset_path, 'LogInfo_Test_Set.csv'), encoding='gbk')"
   ]
  },
  {
   "cell_type": "code",
   "execution_count": 52,
   "outputs": [
    {
     "name": "stdout",
     "output_type": "stream",
     "text": [
      "Pretty printing has been turned OFF\n"
     ]
    }
   ],
   "source": [
    "%config ZMQInteractiveShell.ast_node_interactivity='all'\n",
    "%pprint"
   ],
   "metadata": {
    "collapsed": false,
    "ExecuteTime": {
     "end_time": "2023-11-05T11:35:45.946081500Z",
     "start_time": "2023-11-05T11:35:45.937277300Z"
    }
   },
   "id": "1d0adda4eb26080d"
  },
  {
   "cell_type": "code",
   "execution_count": 53,
   "outputs": [
    {
     "data": {
      "text/plain": "WeblogInfo_1     0.966267\nWeblogInfo_3     0.966267\nUserInfo_11      0.635033\nUserInfo_12      0.635033\nUserInfo_13      0.635033\nWeblogInfo_20    0.265900\nWeblogInfo_21    0.102000\nWeblogInfo_19    0.099033\nWeblogInfo_2     0.056867\nWeblogInfo_4     0.056700\nWeblogInfo_5     0.056700\nWeblogInfo_6     0.056700\nUserInfo_2       0.008800\nWeblogInfo_32    0.008367\nWeblogInfo_37    0.008367\nWeblogInfo_35    0.008367\nWeblogInfo_34    0.008367\nWeblogInfo_33    0.008367\nWeblogInfo_30    0.008367\nWeblogInfo_31    0.008367\ndtype: float64"
     },
     "execution_count": 53,
     "metadata": {},
     "output_type": "execute_result"
    }
   ],
   "source": [
    "## 加载微软雅黑中文字体\n",
    "from matplotlib.font_manager import FontProperties\n",
    "myfont = FontProperties(fname=r\"./SIMHEI.TTF\",size=12)\n",
    "\n",
    "%matplotlib inline\n",
    "n_null_rate = test_master.isnull().sum().sort_values(ascending=False)/30000\n",
    "n_null_rate.head(20)\n",
    "## 去掉缺失比例接近百分之百的字段\n",
    "test_master.drop(['WeblogInfo_1' ,'WeblogInfo_3'],axis=1,inplace=True)"
   ],
   "metadata": {
    "collapsed": false,
    "ExecuteTime": {
     "end_time": "2023-11-05T11:35:46.001778100Z",
     "start_time": "2023-11-05T11:35:45.946081500Z"
    }
   },
   "id": "50f315b0225ca018"
  },
  {
   "cell_type": "code",
   "execution_count": 54,
   "outputs": [],
   "source": [
    "test_master.loc[(test_master.UserInfo_12.isnull() , 'UserInfo_12')] = 2.0\n",
    "test_master.loc[(test_master.UserInfo_11.isnull() , 'UserInfo_11')] = 2.0\n",
    "test_master.loc[(test_master.UserInfo_13.isnull() , 'UserInfo_13')] = 2.0\n",
    "test_master.loc[(test_master.WeblogInfo_20.isnull() , 'WeblogInfo_20')] = u'不详'\n",
    "test_master.loc[(test_master.WeblogInfo_19.isnull() , 'WeblogInfo_19')] = u'不详'\n",
    "test_master.loc[(test_master.WeblogInfo_21.isnull() , 'WeblogInfo_21')] = '0'"
   ],
   "metadata": {
    "collapsed": false,
    "ExecuteTime": {
     "end_time": "2023-11-05T11:35:46.024742100Z",
     "start_time": "2023-11-05T11:35:46.000780600Z"
    }
   },
   "id": "3d512030c7e1fb64"
  },
  {
   "cell_type": "code",
   "execution_count": 55,
   "outputs": [],
   "source": [
    "categoric_cols = ['UserInfo_1' ,'UserInfo_2' ,'UserInfo_3' ,'UserInfo_4' , 'UserInfo_5' ,'UserInfo_6','UserInfo_7','UserInfo_8','UserInfo_9','UserInfo_11','UserInfo_12','UserInfo_13','UserInfo_14','UserInfo_15','UserInfo_16','UserInfo_17','UserInfo_19','UserInfo_20','UserInfo_21','UserInfo_22','UserInfo_23','UserInfo_24','Education_Info1','Education_Info2','Education_Info3','Education_Info4','Education_Info5','Education_Info6','Education_Info7','Education_Info8','WeblogInfo_19','WeblogInfo_20','WeblogInfo_21','SocialNetwork_1','SocialNetwork_2','SocialNetwork_7','SocialNetwork_12']\n",
    "# for col in categoric_cols:\n",
    "#     mode_cols = test_master[col].mode()[0]\n",
    "#     test_master.loc[(test_master[col].isnull() , col)] = mode_cols \n",
    "\n",
    "## 用均值填充缺失值 \n",
    "numeric_cols = []\n",
    "for col in test_master.columns:\n",
    "    if col not in categoric_cols and col !=u'Idx' and  col !='ListingInfo':\n",
    "        mean_cols = test_master[col].mean()\n",
    "        test_master.loc[(test_master[col].isnull() , col)] = mean_cols\n"
   ],
   "metadata": {
    "collapsed": false,
    "ExecuteTime": {
     "end_time": "2023-11-05T11:35:46.105593800Z",
     "start_time": "2023-11-05T11:35:46.014768Z"
    }
   },
   "id": "5c8ad0ab86e1d94b"
  },
  {
   "cell_type": "code",
   "execution_count": 56,
   "outputs": [],
   "source": [
    "import re\n",
    "## 去掉空格\n",
    "test_master['UserInfo_9'] = test_master['UserInfo_9'].apply(lambda x: x.strip())\n",
    "## 去掉大小写\n",
    "test_userupdateinfo['UserupdateInfo1'] =test_userupdateinfo['UserupdateInfo1'].apply(lambda x:x.lower())\n",
    "## 将UserInfo_8中城市名归一化\n",
    "def encodingstr(s):\n",
    "    regex = re.compile(r'.+市')\n",
    "    if regex.search(s):\n",
    "        s = s[:-1]\n",
    "        return s\n",
    "    else:\n",
    "        return s\n",
    "test_master['UserInfo_8'] =test_master['UserInfo_8'].apply(lambda x: encodingstr(x))\n",
    "test_userupdateinfo.to_csv('./test_userupdateinfo.csv',index=False,encoding='utf-8')"
   ],
   "metadata": {
    "collapsed": false,
    "ExecuteTime": {
     "end_time": "2023-11-05T11:35:46.627067200Z",
     "start_time": "2023-11-05T11:35:46.106591200Z"
    }
   },
   "id": "687be785a75119a7"
  },
  {
   "cell_type": "code",
   "execution_count": 57,
   "outputs": [
    {
     "data": {
      "text/plain": "   UserInfo_2_七台河  UserInfo_2_三明  UserInfo_2_三门峡  UserInfo_2_上海  \\\n0           False          False           False          False   \n1           False          False           False          False   \n2           False          False           False          False   \n3           False          False           False           True   \n4           False          False           False           True   \n\n   UserInfo_2_上饶  UserInfo_2_东莞  UserInfo_2_东营  UserInfo_2_中山  \\\n0          False          False          False           True   \n1          False          False          False          False   \n2          False          False          False          False   \n3          False          False          False          False   \n4          False          False          False          False   \n\n   UserInfo_2_临夏回族自治州  UserInfo_2_临汾  ...  UserInfo_2_黄冈  UserInfo_2_黄南藏族自治州  \\\n0               False          False  ...          False               False   \n1               False          False  ...          False               False   \n2               False          False  ...          False               False   \n3               False          False  ...          False               False   \n4               False          False  ...          False               False   \n\n   UserInfo_2_黄山  UserInfo_2_黄石  UserInfo_2_黑河  UserInfo_2_黔东南  UserInfo_2_黔南  \\\n0          False          False          False           False          False   \n1          False          False          False           False          False   \n2          False          False          False            True          False   \n3          False          False          False           False          False   \n4          False          False          False           False          False   \n\n   UserInfo_2_黔西南  UserInfo_2_齐齐哈尔  UserInfo_2_龙岩  \n0           False            False          False  \n1           False            False          False  \n2           False            False          False  \n3           False            False          False  \n4           False            False          False  \n\n[5 rows x 331 columns]",
      "text/html": "<div>\n<style scoped>\n    .dataframe tbody tr th:only-of-type {\n        vertical-align: middle;\n    }\n\n    .dataframe tbody tr th {\n        vertical-align: top;\n    }\n\n    .dataframe thead th {\n        text-align: right;\n    }\n</style>\n<table border=\"1\" class=\"dataframe\">\n  <thead>\n    <tr style=\"text-align: right;\">\n      <th></th>\n      <th>UserInfo_2_七台河</th>\n      <th>UserInfo_2_三明</th>\n      <th>UserInfo_2_三门峡</th>\n      <th>UserInfo_2_上海</th>\n      <th>UserInfo_2_上饶</th>\n      <th>UserInfo_2_东莞</th>\n      <th>UserInfo_2_东营</th>\n      <th>UserInfo_2_中山</th>\n      <th>UserInfo_2_临夏回族自治州</th>\n      <th>UserInfo_2_临汾</th>\n      <th>...</th>\n      <th>UserInfo_2_黄冈</th>\n      <th>UserInfo_2_黄南藏族自治州</th>\n      <th>UserInfo_2_黄山</th>\n      <th>UserInfo_2_黄石</th>\n      <th>UserInfo_2_黑河</th>\n      <th>UserInfo_2_黔东南</th>\n      <th>UserInfo_2_黔南</th>\n      <th>UserInfo_2_黔西南</th>\n      <th>UserInfo_2_齐齐哈尔</th>\n      <th>UserInfo_2_龙岩</th>\n    </tr>\n  </thead>\n  <tbody>\n    <tr>\n      <th>0</th>\n      <td>False</td>\n      <td>False</td>\n      <td>False</td>\n      <td>False</td>\n      <td>False</td>\n      <td>False</td>\n      <td>False</td>\n      <td>True</td>\n      <td>False</td>\n      <td>False</td>\n      <td>...</td>\n      <td>False</td>\n      <td>False</td>\n      <td>False</td>\n      <td>False</td>\n      <td>False</td>\n      <td>False</td>\n      <td>False</td>\n      <td>False</td>\n      <td>False</td>\n      <td>False</td>\n    </tr>\n    <tr>\n      <th>1</th>\n      <td>False</td>\n      <td>False</td>\n      <td>False</td>\n      <td>False</td>\n      <td>False</td>\n      <td>False</td>\n      <td>False</td>\n      <td>False</td>\n      <td>False</td>\n      <td>False</td>\n      <td>...</td>\n      <td>False</td>\n      <td>False</td>\n      <td>False</td>\n      <td>False</td>\n      <td>False</td>\n      <td>False</td>\n      <td>False</td>\n      <td>False</td>\n      <td>False</td>\n      <td>False</td>\n    </tr>\n    <tr>\n      <th>2</th>\n      <td>False</td>\n      <td>False</td>\n      <td>False</td>\n      <td>False</td>\n      <td>False</td>\n      <td>False</td>\n      <td>False</td>\n      <td>False</td>\n      <td>False</td>\n      <td>False</td>\n      <td>...</td>\n      <td>False</td>\n      <td>False</td>\n      <td>False</td>\n      <td>False</td>\n      <td>False</td>\n      <td>True</td>\n      <td>False</td>\n      <td>False</td>\n      <td>False</td>\n      <td>False</td>\n    </tr>\n    <tr>\n      <th>3</th>\n      <td>False</td>\n      <td>False</td>\n      <td>False</td>\n      <td>True</td>\n      <td>False</td>\n      <td>False</td>\n      <td>False</td>\n      <td>False</td>\n      <td>False</td>\n      <td>False</td>\n      <td>...</td>\n      <td>False</td>\n      <td>False</td>\n      <td>False</td>\n      <td>False</td>\n      <td>False</td>\n      <td>False</td>\n      <td>False</td>\n      <td>False</td>\n      <td>False</td>\n      <td>False</td>\n    </tr>\n    <tr>\n      <th>4</th>\n      <td>False</td>\n      <td>False</td>\n      <td>False</td>\n      <td>True</td>\n      <td>False</td>\n      <td>False</td>\n      <td>False</td>\n      <td>False</td>\n      <td>False</td>\n      <td>False</td>\n      <td>...</td>\n      <td>False</td>\n      <td>False</td>\n      <td>False</td>\n      <td>False</td>\n      <td>False</td>\n      <td>False</td>\n      <td>False</td>\n      <td>False</td>\n      <td>False</td>\n      <td>False</td>\n    </tr>\n  </tbody>\n</table>\n<p>5 rows × 331 columns</p>\n</div>"
     },
     "execution_count": 57,
     "metadata": {},
     "output_type": "execute_result"
    },
    {
     "data": {
      "text/plain": "(30000, 331)"
     },
     "execution_count": 57,
     "metadata": {},
     "output_type": "execute_result"
    }
   ],
   "source": [
    "## UserInfo_2处理\n",
    "dummies_UserInfo_2 = pd.get_dummies(test_master['UserInfo_2'], prefix='UserInfo_2')\n",
    "dummies_UserInfo_2.head()\n",
    "dummies_UserInfo_2.shape"
   ],
   "metadata": {
    "collapsed": false,
    "ExecuteTime": {
     "end_time": "2023-11-05T11:35:46.690819500Z",
     "start_time": "2023-11-05T11:35:46.628064700Z"
    }
   },
   "id": "2100410d7fade5f7"
  },
  {
   "cell_type": "code",
   "execution_count": 58,
   "outputs": [
    {
     "ename": "TypeError",
     "evalue": "could not convert string to float: '中山'",
     "output_type": "error",
     "traceback": [
      "\u001B[1;31m---------------------------------------------------------------------------\u001B[0m",
      "\u001B[1;31mValueError\u001B[0m                                Traceback (most recent call last)",
      "File \u001B[1;32m~\\miniconda3\\Lib\\site-packages\\pandas\\core\\nanops.py:96\u001B[0m, in \u001B[0;36mdisallow.__call__.<locals>._f\u001B[1;34m(*args, **kwargs)\u001B[0m\n\u001B[0;32m     95\u001B[0m     \u001B[38;5;28;01mwith\u001B[39;00m np\u001B[38;5;241m.\u001B[39merrstate(invalid\u001B[38;5;241m=\u001B[39m\u001B[38;5;124m\"\u001B[39m\u001B[38;5;124mignore\u001B[39m\u001B[38;5;124m\"\u001B[39m):\n\u001B[1;32m---> 96\u001B[0m         \u001B[38;5;28;01mreturn\u001B[39;00m \u001B[43mf\u001B[49m\u001B[43m(\u001B[49m\u001B[38;5;241;43m*\u001B[39;49m\u001B[43margs\u001B[49m\u001B[43m,\u001B[49m\u001B[43m \u001B[49m\u001B[38;5;241;43m*\u001B[39;49m\u001B[38;5;241;43m*\u001B[39;49m\u001B[43mkwargs\u001B[49m\u001B[43m)\u001B[49m\n\u001B[0;32m     97\u001B[0m \u001B[38;5;28;01mexcept\u001B[39;00m \u001B[38;5;167;01mValueError\u001B[39;00m \u001B[38;5;28;01mas\u001B[39;00m e:\n\u001B[0;32m     98\u001B[0m     \u001B[38;5;66;03m# we want to transform an object array\u001B[39;00m\n\u001B[0;32m     99\u001B[0m     \u001B[38;5;66;03m# ValueError message to the more typical TypeError\u001B[39;00m\n\u001B[0;32m    100\u001B[0m     \u001B[38;5;66;03m# e.g. this is normally a disallowed function on\u001B[39;00m\n\u001B[0;32m    101\u001B[0m     \u001B[38;5;66;03m# object arrays that contain strings\u001B[39;00m\n",
      "File \u001B[1;32m~\\miniconda3\\Lib\\site-packages\\pandas\\core\\nanops.py:158\u001B[0m, in \u001B[0;36mbottleneck_switch.__call__.<locals>.f\u001B[1;34m(values, axis, skipna, **kwds)\u001B[0m\n\u001B[0;32m    157\u001B[0m \u001B[38;5;28;01melse\u001B[39;00m:\n\u001B[1;32m--> 158\u001B[0m     result \u001B[38;5;241m=\u001B[39m \u001B[43malt\u001B[49m\u001B[43m(\u001B[49m\u001B[43mvalues\u001B[49m\u001B[43m,\u001B[49m\u001B[43m \u001B[49m\u001B[43maxis\u001B[49m\u001B[38;5;241;43m=\u001B[39;49m\u001B[43maxis\u001B[49m\u001B[43m,\u001B[49m\u001B[43m \u001B[49m\u001B[43mskipna\u001B[49m\u001B[38;5;241;43m=\u001B[39;49m\u001B[43mskipna\u001B[49m\u001B[43m,\u001B[49m\u001B[43m \u001B[49m\u001B[38;5;241;43m*\u001B[39;49m\u001B[38;5;241;43m*\u001B[39;49m\u001B[43mkwds\u001B[49m\u001B[43m)\u001B[49m\n\u001B[0;32m    160\u001B[0m \u001B[38;5;28;01mreturn\u001B[39;00m result\n",
      "File \u001B[1;32m~\\miniconda3\\Lib\\site-packages\\pandas\\core\\nanops.py:1004\u001B[0m, in \u001B[0;36mnanvar\u001B[1;34m(values, axis, skipna, ddof, mask)\u001B[0m\n\u001B[0;32m    998\u001B[0m \u001B[38;5;66;03m# xref GH10242\u001B[39;00m\n\u001B[0;32m    999\u001B[0m \u001B[38;5;66;03m# Compute variance via two-pass algorithm, which is stable against\u001B[39;00m\n\u001B[0;32m   1000\u001B[0m \u001B[38;5;66;03m# cancellation errors and relatively accurate for small numbers of\u001B[39;00m\n\u001B[0;32m   1001\u001B[0m \u001B[38;5;66;03m# observations.\u001B[39;00m\n\u001B[0;32m   1002\u001B[0m \u001B[38;5;66;03m#\u001B[39;00m\n\u001B[0;32m   1003\u001B[0m \u001B[38;5;66;03m# See https://en.wikipedia.org/wiki/Algorithms_for_calculating_variance\u001B[39;00m\n\u001B[1;32m-> 1004\u001B[0m avg \u001B[38;5;241m=\u001B[39m _ensure_numeric(\u001B[43mvalues\u001B[49m\u001B[38;5;241;43m.\u001B[39;49m\u001B[43msum\u001B[49m\u001B[43m(\u001B[49m\u001B[43maxis\u001B[49m\u001B[38;5;241;43m=\u001B[39;49m\u001B[43maxis\u001B[49m\u001B[43m,\u001B[49m\u001B[43m \u001B[49m\u001B[43mdtype\u001B[49m\u001B[38;5;241;43m=\u001B[39;49m\u001B[43mnp\u001B[49m\u001B[38;5;241;43m.\u001B[39;49m\u001B[43mfloat64\u001B[49m\u001B[43m)\u001B[49m) \u001B[38;5;241m/\u001B[39m count\n\u001B[0;32m   1005\u001B[0m \u001B[38;5;28;01mif\u001B[39;00m axis \u001B[38;5;129;01mis\u001B[39;00m \u001B[38;5;129;01mnot\u001B[39;00m \u001B[38;5;28;01mNone\u001B[39;00m:\n",
      "File \u001B[1;32m~\\miniconda3\\Lib\\site-packages\\numpy\\core\\_methods.py:49\u001B[0m, in \u001B[0;36m_sum\u001B[1;34m(a, axis, dtype, out, keepdims, initial, where)\u001B[0m\n\u001B[0;32m     47\u001B[0m \u001B[38;5;28;01mdef\u001B[39;00m \u001B[38;5;21m_sum\u001B[39m(a, axis\u001B[38;5;241m=\u001B[39m\u001B[38;5;28;01mNone\u001B[39;00m, dtype\u001B[38;5;241m=\u001B[39m\u001B[38;5;28;01mNone\u001B[39;00m, out\u001B[38;5;241m=\u001B[39m\u001B[38;5;28;01mNone\u001B[39;00m, keepdims\u001B[38;5;241m=\u001B[39m\u001B[38;5;28;01mFalse\u001B[39;00m,\n\u001B[0;32m     48\u001B[0m          initial\u001B[38;5;241m=\u001B[39m_NoValue, where\u001B[38;5;241m=\u001B[39m\u001B[38;5;28;01mTrue\u001B[39;00m):\n\u001B[1;32m---> 49\u001B[0m     \u001B[38;5;28;01mreturn\u001B[39;00m umr_sum(a, axis, dtype, out, keepdims, initial, where)\n",
      "\u001B[1;31mValueError\u001B[0m: could not convert string to float: '中山'",
      "\nThe above exception was the direct cause of the following exception:\n",
      "\u001B[1;31mTypeError\u001B[0m                                 Traceback (most recent call last)",
      "Cell \u001B[1;32mIn[58], line 2\u001B[0m\n\u001B[0;32m      1\u001B[0m \u001B[38;5;66;03m## 剔除标准差几乎为零的特征项\u001B[39;00m\n\u001B[1;32m----> 2\u001B[0m feature_std \u001B[38;5;241m=\u001B[39m \u001B[43mtest_master\u001B[49m\u001B[38;5;241;43m.\u001B[39;49m\u001B[43mstd\u001B[49m\u001B[43m(\u001B[49m\u001B[43m)\u001B[49m\u001B[38;5;241m.\u001B[39msort_values(ascending\u001B[38;5;241m=\u001B[39m\u001B[38;5;28;01mTrue\u001B[39;00m)\n\u001B[0;32m      3\u001B[0m feature_std\u001B[38;5;241m.\u001B[39mhead(\u001B[38;5;241m20\u001B[39m)\n\u001B[0;32m      4\u001B[0m test_master\u001B[38;5;241m.\u001B[39mdrop([], axis\u001B[38;5;241m=\u001B[39m\u001B[38;5;241m1\u001B[39m, inplace\u001B[38;5;241m=\u001B[39m\u001B[38;5;28;01mTrue\u001B[39;00m)\n",
      "File \u001B[1;32m~\\miniconda3\\Lib\\site-packages\\pandas\\core\\generic.py:11424\u001B[0m, in \u001B[0;36mNDFrame._add_numeric_operations.<locals>.std\u001B[1;34m(self, axis, skipna, ddof, numeric_only, **kwargs)\u001B[0m\n\u001B[0;32m  11405\u001B[0m \u001B[38;5;129m@doc\u001B[39m(\n\u001B[0;32m  11406\u001B[0m     _num_ddof_doc,\n\u001B[0;32m  11407\u001B[0m     desc\u001B[38;5;241m=\u001B[39m\u001B[38;5;124m\"\u001B[39m\u001B[38;5;124mReturn sample standard deviation over requested axis.\u001B[39m\u001B[38;5;124m\"\u001B[39m\n\u001B[1;32m   (...)\u001B[0m\n\u001B[0;32m  11422\u001B[0m     \u001B[38;5;241m*\u001B[39m\u001B[38;5;241m*\u001B[39mkwargs,\n\u001B[0;32m  11423\u001B[0m ):\n\u001B[1;32m> 11424\u001B[0m     \u001B[38;5;28;01mreturn\u001B[39;00m \u001B[43mNDFrame\u001B[49m\u001B[38;5;241;43m.\u001B[39;49m\u001B[43mstd\u001B[49m\u001B[43m(\u001B[49m\u001B[38;5;28;43mself\u001B[39;49m\u001B[43m,\u001B[49m\u001B[43m \u001B[49m\u001B[43maxis\u001B[49m\u001B[43m,\u001B[49m\u001B[43m \u001B[49m\u001B[43mskipna\u001B[49m\u001B[43m,\u001B[49m\u001B[43m \u001B[49m\u001B[43mddof\u001B[49m\u001B[43m,\u001B[49m\u001B[43m \u001B[49m\u001B[43mnumeric_only\u001B[49m\u001B[43m,\u001B[49m\u001B[43m \u001B[49m\u001B[38;5;241;43m*\u001B[39;49m\u001B[38;5;241;43m*\u001B[39;49m\u001B[43mkwargs\u001B[49m\u001B[43m)\u001B[49m\n",
      "File \u001B[1;32m~\\miniconda3\\Lib\\site-packages\\pandas\\core\\generic.py:11137\u001B[0m, in \u001B[0;36mNDFrame.std\u001B[1;34m(self, axis, skipna, ddof, numeric_only, **kwargs)\u001B[0m\n\u001B[0;32m  11129\u001B[0m \u001B[38;5;28;01mdef\u001B[39;00m \u001B[38;5;21mstd\u001B[39m(\n\u001B[0;32m  11130\u001B[0m     \u001B[38;5;28mself\u001B[39m,\n\u001B[0;32m  11131\u001B[0m     axis: Axis \u001B[38;5;241m|\u001B[39m \u001B[38;5;28;01mNone\u001B[39;00m \u001B[38;5;241m=\u001B[39m \u001B[38;5;28;01mNone\u001B[39;00m,\n\u001B[1;32m   (...)\u001B[0m\n\u001B[0;32m  11135\u001B[0m     \u001B[38;5;241m*\u001B[39m\u001B[38;5;241m*\u001B[39mkwargs,\n\u001B[0;32m  11136\u001B[0m ) \u001B[38;5;241m-\u001B[39m\u001B[38;5;241m>\u001B[39m Series \u001B[38;5;241m|\u001B[39m \u001B[38;5;28mfloat\u001B[39m:\n\u001B[1;32m> 11137\u001B[0m     \u001B[38;5;28;01mreturn\u001B[39;00m \u001B[38;5;28;43mself\u001B[39;49m\u001B[38;5;241;43m.\u001B[39;49m\u001B[43m_stat_function_ddof\u001B[49m\u001B[43m(\u001B[49m\n\u001B[0;32m  11138\u001B[0m \u001B[43m        \u001B[49m\u001B[38;5;124;43m\"\u001B[39;49m\u001B[38;5;124;43mstd\u001B[39;49m\u001B[38;5;124;43m\"\u001B[39;49m\u001B[43m,\u001B[49m\u001B[43m \u001B[49m\u001B[43mnanops\u001B[49m\u001B[38;5;241;43m.\u001B[39;49m\u001B[43mnanstd\u001B[49m\u001B[43m,\u001B[49m\u001B[43m \u001B[49m\u001B[43maxis\u001B[49m\u001B[43m,\u001B[49m\u001B[43m \u001B[49m\u001B[43mskipna\u001B[49m\u001B[43m,\u001B[49m\u001B[43m \u001B[49m\u001B[43mddof\u001B[49m\u001B[43m,\u001B[49m\u001B[43m \u001B[49m\u001B[43mnumeric_only\u001B[49m\u001B[43m,\u001B[49m\u001B[43m \u001B[49m\u001B[38;5;241;43m*\u001B[39;49m\u001B[38;5;241;43m*\u001B[39;49m\u001B[43mkwargs\u001B[49m\n\u001B[0;32m  11139\u001B[0m \u001B[43m    \u001B[49m\u001B[43m)\u001B[49m\n",
      "File \u001B[1;32m~\\miniconda3\\Lib\\site-packages\\pandas\\core\\generic.py:11101\u001B[0m, in \u001B[0;36mNDFrame._stat_function_ddof\u001B[1;34m(self, name, func, axis, skipna, ddof, numeric_only, **kwargs)\u001B[0m\n\u001B[0;32m  11098\u001B[0m \u001B[38;5;28;01mif\u001B[39;00m axis \u001B[38;5;129;01mis\u001B[39;00m \u001B[38;5;28;01mNone\u001B[39;00m:\n\u001B[0;32m  11099\u001B[0m     axis \u001B[38;5;241m=\u001B[39m \u001B[38;5;28mself\u001B[39m\u001B[38;5;241m.\u001B[39m_stat_axis_number\n\u001B[1;32m> 11101\u001B[0m \u001B[38;5;28;01mreturn\u001B[39;00m \u001B[38;5;28;43mself\u001B[39;49m\u001B[38;5;241;43m.\u001B[39;49m\u001B[43m_reduce\u001B[49m\u001B[43m(\u001B[49m\n\u001B[0;32m  11102\u001B[0m \u001B[43m    \u001B[49m\u001B[43mfunc\u001B[49m\u001B[43m,\u001B[49m\u001B[43m \u001B[49m\u001B[43mname\u001B[49m\u001B[43m,\u001B[49m\u001B[43m \u001B[49m\u001B[43maxis\u001B[49m\u001B[38;5;241;43m=\u001B[39;49m\u001B[43maxis\u001B[49m\u001B[43m,\u001B[49m\u001B[43m \u001B[49m\u001B[43mnumeric_only\u001B[49m\u001B[38;5;241;43m=\u001B[39;49m\u001B[43mnumeric_only\u001B[49m\u001B[43m,\u001B[49m\u001B[43m \u001B[49m\u001B[43mskipna\u001B[49m\u001B[38;5;241;43m=\u001B[39;49m\u001B[43mskipna\u001B[49m\u001B[43m,\u001B[49m\u001B[43m \u001B[49m\u001B[43mddof\u001B[49m\u001B[38;5;241;43m=\u001B[39;49m\u001B[43mddof\u001B[49m\n\u001B[0;32m  11103\u001B[0m \u001B[43m\u001B[49m\u001B[43m)\u001B[49m\n",
      "File \u001B[1;32m~\\miniconda3\\Lib\\site-packages\\pandas\\core\\frame.py:10519\u001B[0m, in \u001B[0;36mDataFrame._reduce\u001B[1;34m(self, op, name, axis, skipna, numeric_only, filter_type, **kwds)\u001B[0m\n\u001B[0;32m  10515\u001B[0m     df \u001B[38;5;241m=\u001B[39m df\u001B[38;5;241m.\u001B[39mT\n\u001B[0;32m  10517\u001B[0m \u001B[38;5;66;03m# After possibly _get_data and transposing, we are now in the\u001B[39;00m\n\u001B[0;32m  10518\u001B[0m \u001B[38;5;66;03m#  simple case where we can use BlockManager.reduce\u001B[39;00m\n\u001B[1;32m> 10519\u001B[0m res \u001B[38;5;241m=\u001B[39m \u001B[43mdf\u001B[49m\u001B[38;5;241;43m.\u001B[39;49m\u001B[43m_mgr\u001B[49m\u001B[38;5;241;43m.\u001B[39;49m\u001B[43mreduce\u001B[49m\u001B[43m(\u001B[49m\u001B[43mblk_func\u001B[49m\u001B[43m)\u001B[49m\n\u001B[0;32m  10520\u001B[0m out \u001B[38;5;241m=\u001B[39m df\u001B[38;5;241m.\u001B[39m_constructor(res)\u001B[38;5;241m.\u001B[39miloc[\u001B[38;5;241m0\u001B[39m]\n\u001B[0;32m  10521\u001B[0m \u001B[38;5;28;01mif\u001B[39;00m out_dtype \u001B[38;5;129;01mis\u001B[39;00m \u001B[38;5;129;01mnot\u001B[39;00m \u001B[38;5;28;01mNone\u001B[39;00m:\n",
      "File \u001B[1;32m~\\miniconda3\\Lib\\site-packages\\pandas\\core\\internals\\managers.py:1534\u001B[0m, in \u001B[0;36mBlockManager.reduce\u001B[1;34m(self, func)\u001B[0m\n\u001B[0;32m   1532\u001B[0m res_blocks: \u001B[38;5;28mlist\u001B[39m[Block] \u001B[38;5;241m=\u001B[39m []\n\u001B[0;32m   1533\u001B[0m \u001B[38;5;28;01mfor\u001B[39;00m blk \u001B[38;5;129;01min\u001B[39;00m \u001B[38;5;28mself\u001B[39m\u001B[38;5;241m.\u001B[39mblocks:\n\u001B[1;32m-> 1534\u001B[0m     nbs \u001B[38;5;241m=\u001B[39m \u001B[43mblk\u001B[49m\u001B[38;5;241;43m.\u001B[39;49m\u001B[43mreduce\u001B[49m\u001B[43m(\u001B[49m\u001B[43mfunc\u001B[49m\u001B[43m)\u001B[49m\n\u001B[0;32m   1535\u001B[0m     res_blocks\u001B[38;5;241m.\u001B[39mextend(nbs)\n\u001B[0;32m   1537\u001B[0m index \u001B[38;5;241m=\u001B[39m Index([\u001B[38;5;28;01mNone\u001B[39;00m])  \u001B[38;5;66;03m# placeholder\u001B[39;00m\n",
      "File \u001B[1;32m~\\miniconda3\\Lib\\site-packages\\pandas\\core\\internals\\blocks.py:339\u001B[0m, in \u001B[0;36mBlock.reduce\u001B[1;34m(self, func)\u001B[0m\n\u001B[0;32m    333\u001B[0m \u001B[38;5;129m@final\u001B[39m\n\u001B[0;32m    334\u001B[0m \u001B[38;5;28;01mdef\u001B[39;00m \u001B[38;5;21mreduce\u001B[39m(\u001B[38;5;28mself\u001B[39m, func) \u001B[38;5;241m-\u001B[39m\u001B[38;5;241m>\u001B[39m \u001B[38;5;28mlist\u001B[39m[Block]:\n\u001B[0;32m    335\u001B[0m     \u001B[38;5;66;03m# We will apply the function and reshape the result into a single-row\u001B[39;00m\n\u001B[0;32m    336\u001B[0m     \u001B[38;5;66;03m#  Block with the same mgr_locs; squeezing will be done at a higher level\u001B[39;00m\n\u001B[0;32m    337\u001B[0m     \u001B[38;5;28;01massert\u001B[39;00m \u001B[38;5;28mself\u001B[39m\u001B[38;5;241m.\u001B[39mndim \u001B[38;5;241m==\u001B[39m \u001B[38;5;241m2\u001B[39m\n\u001B[1;32m--> 339\u001B[0m     result \u001B[38;5;241m=\u001B[39m \u001B[43mfunc\u001B[49m\u001B[43m(\u001B[49m\u001B[38;5;28;43mself\u001B[39;49m\u001B[38;5;241;43m.\u001B[39;49m\u001B[43mvalues\u001B[49m\u001B[43m)\u001B[49m\n\u001B[0;32m    341\u001B[0m     \u001B[38;5;28;01mif\u001B[39;00m \u001B[38;5;28mself\u001B[39m\u001B[38;5;241m.\u001B[39mvalues\u001B[38;5;241m.\u001B[39mndim \u001B[38;5;241m==\u001B[39m \u001B[38;5;241m1\u001B[39m:\n\u001B[0;32m    342\u001B[0m         \u001B[38;5;66;03m# TODO(EA2D): special case not needed with 2D EAs\u001B[39;00m\n\u001B[0;32m    343\u001B[0m         res_values \u001B[38;5;241m=\u001B[39m np\u001B[38;5;241m.\u001B[39marray([[result]])\n",
      "File \u001B[1;32m~\\miniconda3\\Lib\\site-packages\\pandas\\core\\frame.py:10482\u001B[0m, in \u001B[0;36mDataFrame._reduce.<locals>.blk_func\u001B[1;34m(values, axis)\u001B[0m\n\u001B[0;32m  10480\u001B[0m     \u001B[38;5;28;01mreturn\u001B[39;00m values\u001B[38;5;241m.\u001B[39m_reduce(name, skipna\u001B[38;5;241m=\u001B[39mskipna, \u001B[38;5;241m*\u001B[39m\u001B[38;5;241m*\u001B[39mkwds)\n\u001B[0;32m  10481\u001B[0m \u001B[38;5;28;01melse\u001B[39;00m:\n\u001B[1;32m> 10482\u001B[0m     \u001B[38;5;28;01mreturn\u001B[39;00m \u001B[43mop\u001B[49m\u001B[43m(\u001B[49m\u001B[43mvalues\u001B[49m\u001B[43m,\u001B[49m\u001B[43m \u001B[49m\u001B[43maxis\u001B[49m\u001B[38;5;241;43m=\u001B[39;49m\u001B[43maxis\u001B[49m\u001B[43m,\u001B[49m\u001B[43m \u001B[49m\u001B[43mskipna\u001B[49m\u001B[38;5;241;43m=\u001B[39;49m\u001B[43mskipna\u001B[49m\u001B[43m,\u001B[49m\u001B[43m \u001B[49m\u001B[38;5;241;43m*\u001B[39;49m\u001B[38;5;241;43m*\u001B[39;49m\u001B[43mkwds\u001B[49m\u001B[43m)\u001B[49m\n",
      "File \u001B[1;32m~\\miniconda3\\Lib\\site-packages\\pandas\\core\\nanops.py:158\u001B[0m, in \u001B[0;36mbottleneck_switch.__call__.<locals>.f\u001B[1;34m(values, axis, skipna, **kwds)\u001B[0m\n\u001B[0;32m    156\u001B[0m         result \u001B[38;5;241m=\u001B[39m alt(values, axis\u001B[38;5;241m=\u001B[39maxis, skipna\u001B[38;5;241m=\u001B[39mskipna, \u001B[38;5;241m*\u001B[39m\u001B[38;5;241m*\u001B[39mkwds)\n\u001B[0;32m    157\u001B[0m \u001B[38;5;28;01melse\u001B[39;00m:\n\u001B[1;32m--> 158\u001B[0m     result \u001B[38;5;241m=\u001B[39m \u001B[43malt\u001B[49m\u001B[43m(\u001B[49m\u001B[43mvalues\u001B[49m\u001B[43m,\u001B[49m\u001B[43m \u001B[49m\u001B[43maxis\u001B[49m\u001B[38;5;241;43m=\u001B[39;49m\u001B[43maxis\u001B[49m\u001B[43m,\u001B[49m\u001B[43m \u001B[49m\u001B[43mskipna\u001B[49m\u001B[38;5;241;43m=\u001B[39;49m\u001B[43mskipna\u001B[49m\u001B[43m,\u001B[49m\u001B[43m \u001B[49m\u001B[38;5;241;43m*\u001B[39;49m\u001B[38;5;241;43m*\u001B[39;49m\u001B[43mkwds\u001B[49m\u001B[43m)\u001B[49m\n\u001B[0;32m    160\u001B[0m \u001B[38;5;28;01mreturn\u001B[39;00m result\n",
      "File \u001B[1;32m~\\miniconda3\\Lib\\site-packages\\pandas\\core\\nanops.py:940\u001B[0m, in \u001B[0;36mnanstd\u001B[1;34m(values, axis, skipna, ddof, mask)\u001B[0m\n\u001B[0;32m    937\u001B[0m orig_dtype \u001B[38;5;241m=\u001B[39m values\u001B[38;5;241m.\u001B[39mdtype\n\u001B[0;32m    938\u001B[0m values, mask, _, _, _ \u001B[38;5;241m=\u001B[39m _get_values(values, skipna, mask\u001B[38;5;241m=\u001B[39mmask)\n\u001B[1;32m--> 940\u001B[0m result \u001B[38;5;241m=\u001B[39m np\u001B[38;5;241m.\u001B[39msqrt(\u001B[43mnanvar\u001B[49m\u001B[43m(\u001B[49m\u001B[43mvalues\u001B[49m\u001B[43m,\u001B[49m\u001B[43m \u001B[49m\u001B[43maxis\u001B[49m\u001B[38;5;241;43m=\u001B[39;49m\u001B[43maxis\u001B[49m\u001B[43m,\u001B[49m\u001B[43m \u001B[49m\u001B[43mskipna\u001B[49m\u001B[38;5;241;43m=\u001B[39;49m\u001B[43mskipna\u001B[49m\u001B[43m,\u001B[49m\u001B[43m \u001B[49m\u001B[43mddof\u001B[49m\u001B[38;5;241;43m=\u001B[39;49m\u001B[43mddof\u001B[49m\u001B[43m,\u001B[49m\u001B[43m \u001B[49m\u001B[43mmask\u001B[49m\u001B[38;5;241;43m=\u001B[39;49m\u001B[43mmask\u001B[49m\u001B[43m)\u001B[49m)\n\u001B[0;32m    941\u001B[0m \u001B[38;5;28;01mreturn\u001B[39;00m _wrap_results(result, orig_dtype)\n",
      "File \u001B[1;32m~\\miniconda3\\Lib\\site-packages\\pandas\\core\\nanops.py:103\u001B[0m, in \u001B[0;36mdisallow.__call__.<locals>._f\u001B[1;34m(*args, **kwargs)\u001B[0m\n\u001B[0;32m     97\u001B[0m \u001B[38;5;28;01mexcept\u001B[39;00m \u001B[38;5;167;01mValueError\u001B[39;00m \u001B[38;5;28;01mas\u001B[39;00m e:\n\u001B[0;32m     98\u001B[0m     \u001B[38;5;66;03m# we want to transform an object array\u001B[39;00m\n\u001B[0;32m     99\u001B[0m     \u001B[38;5;66;03m# ValueError message to the more typical TypeError\u001B[39;00m\n\u001B[0;32m    100\u001B[0m     \u001B[38;5;66;03m# e.g. this is normally a disallowed function on\u001B[39;00m\n\u001B[0;32m    101\u001B[0m     \u001B[38;5;66;03m# object arrays that contain strings\u001B[39;00m\n\u001B[0;32m    102\u001B[0m     \u001B[38;5;28;01mif\u001B[39;00m is_object_dtype(args[\u001B[38;5;241m0\u001B[39m]):\n\u001B[1;32m--> 103\u001B[0m         \u001B[38;5;28;01mraise\u001B[39;00m \u001B[38;5;167;01mTypeError\u001B[39;00m(e) \u001B[38;5;28;01mfrom\u001B[39;00m \u001B[38;5;21;01me\u001B[39;00m\n\u001B[0;32m    104\u001B[0m     \u001B[38;5;28;01mraise\u001B[39;00m\n",
      "\u001B[1;31mTypeError\u001B[0m: could not convert string to float: '中山'"
     ]
    }
   ],
   "source": [
    "\n",
    "## 剔除标准差几乎为零的特征项\n",
    "feature_std = test_master.std().sort_values(ascending=True)\n",
    "feature_std.head(20)\n",
    "test_master.drop([], axis=1, inplace=True)\n",
    "test_master['Idx'] = test_master['Idx'].astype(np.int32)\n",
    "\n",
    "for i in range(25):\n",
    "    name = 'UserInfo_' + str(i)\n",
    "    try:\n",
    "        print(test_master[name].head())\n",
    "    except:\n",
    "        pass\n",
    "\n",
    "test_master['UserInfo_8'].head(20)"
   ],
   "metadata": {
    "collapsed": false,
    "ExecuteTime": {
     "end_time": "2023-11-05T11:35:46.819026200Z",
     "start_time": "2023-11-05T11:35:46.691816800Z"
    }
   },
   "id": "a601bc086065feab"
  },
  {
   "cell_type": "code",
   "execution_count": 60,
   "outputs": [
    {
     "name": "stderr",
     "output_type": "stream",
     "text": [
      "C:\\Users\\Redamancy\\AppData\\Local\\Temp\\ipykernel_18912\\1799553785.py:3: PerformanceWarning: DataFrame is highly fragmented.  This is usually the result of calling `frame.insert` many times, which has poor performance.  Consider joining all columns at once using pd.concat(axis=1) instead. To get a de-fragmented frame, use `newframe = frame.copy()`\n",
      "  test_master['month'] = pd.DatetimeIndex(test_master['ListingInfo']).month\n",
      "C:\\Users\\Redamancy\\AppData\\Local\\Temp\\ipykernel_18912\\1799553785.py:4: PerformanceWarning: DataFrame is highly fragmented.  This is usually the result of calling `frame.insert` many times, which has poor performance.  Consider joining all columns at once using pd.concat(axis=1) instead. To get a de-fragmented frame, use `newframe = frame.copy()`\n",
      "  test_master['day']  = pd.DatetimeIndex(test_master['ListingInfo']).day\n"
     ]
    }
   ],
   "source": [
    "## 借款日期离散化\n",
    "# 把月、日、单独拎出来，放到3列中\n",
    "test_master['month'] = pd.DatetimeIndex(test_master['ListingInfo']).month\n",
    "test_master['day']  = pd.DatetimeIndex(test_master['ListingInfo']).day\n",
    "test_master.drop(['ListingInfo'],axis=1,inplace=True)\n",
    "test_master.to_csv('./test_master.csv',index=False,encoding='utf-8')"
   ],
   "metadata": {
    "collapsed": false,
    "ExecuteTime": {
     "end_time": "2023-11-05T11:36:01.241442400Z",
     "start_time": "2023-11-05T11:35:58.172100900Z"
    }
   },
   "id": "db14a5722d35bab6"
  },
  {
   "cell_type": "code",
   "execution_count": 61,
   "outputs": [
    {
     "data": {
      "text/plain": "         Idx  UserInfo_1  UserInfo_2  UserInfo_3 UserInfo_4  WeblogInfo_2  \\\n0         10         5.0          中山         5.0         中山           0.0   \n1        100         1.0          商丘         3.0         郑州           0.0   \n2       1000         1.0         黔东南         3.0        黔东南           0.0   \n3      10000         6.0          上海         6.0         上海           0.0   \n4      10009         5.0          上海         1.0         上海           1.0   \n...      ...         ...         ...         ...        ...           ...   \n29995    998         5.0          北京         5.0         包头           0.0   \n29996   9985         1.0          西安         5.0         西安           0.0   \n29997   9988         4.0          百色         1.0         百色           0.0   \n29998   9996         3.0          常州         5.0         镇江           1.0   \n29999   9999         4.0  德宏傣族景颇族自治州         5.0    大理白族自治州           0.0   \n\n       WeblogInfo_4  WeblogInfo_5  WeblogInfo_6  WeblogInfo_7  ...  \\\n0          3.027033      1.832326      2.944238           0.0  ...   \n1          3.000000      2.000000      3.000000           0.0  ...   \n2          5.000000      2.000000      5.000000           0.0  ...   \n3          1.000000      1.000000      1.000000           4.0  ...   \n4          4.000000      3.000000      4.000000          17.0  ...   \n...             ...           ...           ...           ...  ...   \n29995      1.000000      1.000000      1.000000           0.0  ...   \n29996      2.000000      1.000000      2.000000           9.0  ...   \n29997      3.000000      1.000000      3.000000          14.0  ...   \n29998     12.000000      2.000000     12.000000          27.0  ...   \n29999      2.000000      1.000000      2.000000          10.0  ...   \n\n       SocialNetwork_10  SocialNetwork_11  SocialNetwork_12  SocialNetwork_13  \\\n0                  -1.0              -1.0                -1               0.0   \n1                  -1.0              -1.0                -1               0.0   \n2                  -1.0              -1.0                -1               0.0   \n3                  -1.0              -1.0                -1               0.0   \n4                  11.0              -1.0                 0               0.0   \n...                 ...               ...               ...               ...   \n29995              -1.0              -1.0                -1               0.0   \n29996              -1.0              -1.0                -1               0.0   \n29997              -1.0              -1.0                -1               1.0   \n29998              -1.0              -1.0                -1               1.0   \n29999               7.0              -1.0                 0               1.0   \n\n       SocialNetwork_14  SocialNetwork_15  SocialNetwork_16  SocialNetwork_17  \\\n0                   0.0               0.0               0.0               0.0   \n1                   0.0               0.0               0.0               0.0   \n2                   0.0               0.0               0.0               0.0   \n3                   0.0               0.0               0.0               0.0   \n4                   0.0               0.0               0.0               1.0   \n...                 ...               ...               ...               ...   \n29995               0.0               0.0               0.0               0.0   \n29996               0.0               0.0               0.0               0.0   \n29997               0.0               0.0               0.0               0.0   \n29998               0.0               0.0               0.0               0.0   \n29999               0.0               0.0               0.0               1.0   \n\n       month  day  \n0         11    1  \n1         11    9  \n2         11   19  \n3          2   23  \n4          2   26  \n...      ...  ...  \n29995     11   21  \n29996      2   24  \n29997      2   28  \n29998      3    6  \n29999      2   23  \n\n[30000 rows x 226 columns]",
      "text/html": "<div>\n<style scoped>\n    .dataframe tbody tr th:only-of-type {\n        vertical-align: middle;\n    }\n\n    .dataframe tbody tr th {\n        vertical-align: top;\n    }\n\n    .dataframe thead th {\n        text-align: right;\n    }\n</style>\n<table border=\"1\" class=\"dataframe\">\n  <thead>\n    <tr style=\"text-align: right;\">\n      <th></th>\n      <th>Idx</th>\n      <th>UserInfo_1</th>\n      <th>UserInfo_2</th>\n      <th>UserInfo_3</th>\n      <th>UserInfo_4</th>\n      <th>WeblogInfo_2</th>\n      <th>WeblogInfo_4</th>\n      <th>WeblogInfo_5</th>\n      <th>WeblogInfo_6</th>\n      <th>WeblogInfo_7</th>\n      <th>...</th>\n      <th>SocialNetwork_10</th>\n      <th>SocialNetwork_11</th>\n      <th>SocialNetwork_12</th>\n      <th>SocialNetwork_13</th>\n      <th>SocialNetwork_14</th>\n      <th>SocialNetwork_15</th>\n      <th>SocialNetwork_16</th>\n      <th>SocialNetwork_17</th>\n      <th>month</th>\n      <th>day</th>\n    </tr>\n  </thead>\n  <tbody>\n    <tr>\n      <th>0</th>\n      <td>10</td>\n      <td>5.0</td>\n      <td>中山</td>\n      <td>5.0</td>\n      <td>中山</td>\n      <td>0.0</td>\n      <td>3.027033</td>\n      <td>1.832326</td>\n      <td>2.944238</td>\n      <td>0.0</td>\n      <td>...</td>\n      <td>-1.0</td>\n      <td>-1.0</td>\n      <td>-1</td>\n      <td>0.0</td>\n      <td>0.0</td>\n      <td>0.0</td>\n      <td>0.0</td>\n      <td>0.0</td>\n      <td>11</td>\n      <td>1</td>\n    </tr>\n    <tr>\n      <th>1</th>\n      <td>100</td>\n      <td>1.0</td>\n      <td>商丘</td>\n      <td>3.0</td>\n      <td>郑州</td>\n      <td>0.0</td>\n      <td>3.000000</td>\n      <td>2.000000</td>\n      <td>3.000000</td>\n      <td>0.0</td>\n      <td>...</td>\n      <td>-1.0</td>\n      <td>-1.0</td>\n      <td>-1</td>\n      <td>0.0</td>\n      <td>0.0</td>\n      <td>0.0</td>\n      <td>0.0</td>\n      <td>0.0</td>\n      <td>11</td>\n      <td>9</td>\n    </tr>\n    <tr>\n      <th>2</th>\n      <td>1000</td>\n      <td>1.0</td>\n      <td>黔东南</td>\n      <td>3.0</td>\n      <td>黔东南</td>\n      <td>0.0</td>\n      <td>5.000000</td>\n      <td>2.000000</td>\n      <td>5.000000</td>\n      <td>0.0</td>\n      <td>...</td>\n      <td>-1.0</td>\n      <td>-1.0</td>\n      <td>-1</td>\n      <td>0.0</td>\n      <td>0.0</td>\n      <td>0.0</td>\n      <td>0.0</td>\n      <td>0.0</td>\n      <td>11</td>\n      <td>19</td>\n    </tr>\n    <tr>\n      <th>3</th>\n      <td>10000</td>\n      <td>6.0</td>\n      <td>上海</td>\n      <td>6.0</td>\n      <td>上海</td>\n      <td>0.0</td>\n      <td>1.000000</td>\n      <td>1.000000</td>\n      <td>1.000000</td>\n      <td>4.0</td>\n      <td>...</td>\n      <td>-1.0</td>\n      <td>-1.0</td>\n      <td>-1</td>\n      <td>0.0</td>\n      <td>0.0</td>\n      <td>0.0</td>\n      <td>0.0</td>\n      <td>0.0</td>\n      <td>2</td>\n      <td>23</td>\n    </tr>\n    <tr>\n      <th>4</th>\n      <td>10009</td>\n      <td>5.0</td>\n      <td>上海</td>\n      <td>1.0</td>\n      <td>上海</td>\n      <td>1.0</td>\n      <td>4.000000</td>\n      <td>3.000000</td>\n      <td>4.000000</td>\n      <td>17.0</td>\n      <td>...</td>\n      <td>11.0</td>\n      <td>-1.0</td>\n      <td>0</td>\n      <td>0.0</td>\n      <td>0.0</td>\n      <td>0.0</td>\n      <td>0.0</td>\n      <td>1.0</td>\n      <td>2</td>\n      <td>26</td>\n    </tr>\n    <tr>\n      <th>...</th>\n      <td>...</td>\n      <td>...</td>\n      <td>...</td>\n      <td>...</td>\n      <td>...</td>\n      <td>...</td>\n      <td>...</td>\n      <td>...</td>\n      <td>...</td>\n      <td>...</td>\n      <td>...</td>\n      <td>...</td>\n      <td>...</td>\n      <td>...</td>\n      <td>...</td>\n      <td>...</td>\n      <td>...</td>\n      <td>...</td>\n      <td>...</td>\n      <td>...</td>\n      <td>...</td>\n    </tr>\n    <tr>\n      <th>29995</th>\n      <td>998</td>\n      <td>5.0</td>\n      <td>北京</td>\n      <td>5.0</td>\n      <td>包头</td>\n      <td>0.0</td>\n      <td>1.000000</td>\n      <td>1.000000</td>\n      <td>1.000000</td>\n      <td>0.0</td>\n      <td>...</td>\n      <td>-1.0</td>\n      <td>-1.0</td>\n      <td>-1</td>\n      <td>0.0</td>\n      <td>0.0</td>\n      <td>0.0</td>\n      <td>0.0</td>\n      <td>0.0</td>\n      <td>11</td>\n      <td>21</td>\n    </tr>\n    <tr>\n      <th>29996</th>\n      <td>9985</td>\n      <td>1.0</td>\n      <td>西安</td>\n      <td>5.0</td>\n      <td>西安</td>\n      <td>0.0</td>\n      <td>2.000000</td>\n      <td>1.000000</td>\n      <td>2.000000</td>\n      <td>9.0</td>\n      <td>...</td>\n      <td>-1.0</td>\n      <td>-1.0</td>\n      <td>-1</td>\n      <td>0.0</td>\n      <td>0.0</td>\n      <td>0.0</td>\n      <td>0.0</td>\n      <td>0.0</td>\n      <td>2</td>\n      <td>24</td>\n    </tr>\n    <tr>\n      <th>29997</th>\n      <td>9988</td>\n      <td>4.0</td>\n      <td>百色</td>\n      <td>1.0</td>\n      <td>百色</td>\n      <td>0.0</td>\n      <td>3.000000</td>\n      <td>1.000000</td>\n      <td>3.000000</td>\n      <td>14.0</td>\n      <td>...</td>\n      <td>-1.0</td>\n      <td>-1.0</td>\n      <td>-1</td>\n      <td>1.0</td>\n      <td>0.0</td>\n      <td>0.0</td>\n      <td>0.0</td>\n      <td>0.0</td>\n      <td>2</td>\n      <td>28</td>\n    </tr>\n    <tr>\n      <th>29998</th>\n      <td>9996</td>\n      <td>3.0</td>\n      <td>常州</td>\n      <td>5.0</td>\n      <td>镇江</td>\n      <td>1.0</td>\n      <td>12.000000</td>\n      <td>2.000000</td>\n      <td>12.000000</td>\n      <td>27.0</td>\n      <td>...</td>\n      <td>-1.0</td>\n      <td>-1.0</td>\n      <td>-1</td>\n      <td>1.0</td>\n      <td>0.0</td>\n      <td>0.0</td>\n      <td>0.0</td>\n      <td>0.0</td>\n      <td>3</td>\n      <td>6</td>\n    </tr>\n    <tr>\n      <th>29999</th>\n      <td>9999</td>\n      <td>4.0</td>\n      <td>德宏傣族景颇族自治州</td>\n      <td>5.0</td>\n      <td>大理白族自治州</td>\n      <td>0.0</td>\n      <td>2.000000</td>\n      <td>1.000000</td>\n      <td>2.000000</td>\n      <td>10.0</td>\n      <td>...</td>\n      <td>7.0</td>\n      <td>-1.0</td>\n      <td>0</td>\n      <td>1.0</td>\n      <td>0.0</td>\n      <td>0.0</td>\n      <td>0.0</td>\n      <td>1.0</td>\n      <td>2</td>\n      <td>23</td>\n    </tr>\n  </tbody>\n</table>\n<p>30000 rows × 226 columns</p>\n</div>"
     },
     "execution_count": 61,
     "metadata": {},
     "output_type": "execute_result"
    }
   ],
   "source": [
    "test_master"
   ],
   "metadata": {
    "collapsed": false,
    "ExecuteTime": {
     "end_time": "2023-11-05T11:36:01.274986300Z",
     "start_time": "2023-11-05T11:36:01.243436900Z"
    }
   },
   "id": "d888558c38bef88"
  },
  {
   "cell_type": "code",
   "execution_count": 62,
   "outputs": [
    {
     "data": {
      "text/plain": "'Idx,ListingInfo1,UserupdateInfo1,UserupdateInfo2\\n'"
     },
     "execution_count": 62,
     "metadata": {},
     "output_type": "execute_result"
    },
    {
     "name": "stdout",
     "output_type": "stream",
     "text": [
      "提取信息完成\n"
     ]
    }
   ],
   "source": [
    "from collections import defaultdict\n",
    "import datetime as dt\n",
    "\n",
    "##  userupdateinfo表\n",
    "userupdate_info_number = defaultdict(list)  ### 用户信息更新的次数\n",
    "userupdate_info_category = defaultdict(set)  ###用户信息更新的种类数\n",
    "userupdate_info_times = defaultdict(list)  ### 用户分几次更新了\n",
    "userupdate_info_date = defaultdict(list)  #### 用户借款成交与信息更新时间跨度\n",
    "with open('./test_userupdateinfo.csv', 'r') as f:\n",
    "    f.readline()\n",
    "    for line in f.readlines():\n",
    "        cols = line.strip().split(\",\")  ### cols 是list结果\n",
    "        userupdate_info_date[cols[0]].append(cols[1])\n",
    "        userupdate_info_number[cols[0]].append(cols[2])\n",
    "        userupdate_info_category[cols[0]].add(cols[2])\n",
    "        userupdate_info_times[cols[0]].append(cols[3])\n",
    "    print(u'提取信息完成')\n"
   ],
   "metadata": {
    "collapsed": false,
    "ExecuteTime": {
     "end_time": "2023-11-05T11:36:07.007841800Z",
     "start_time": "2023-11-05T11:36:05.962765Z"
    }
   },
   "id": "b13ecef414a3692c"
  },
  {
   "cell_type": "code",
   "execution_count": 63,
   "outputs": [
    {
     "name": "stdout",
     "output_type": "stream",
     "text": [
      "信息处理完成\n"
     ]
    }
   ],
   "source": [
    "\n",
    "userupdate_info_number_ = defaultdict(int)  ### 用户信息更新的次数\n",
    "userupdate_info_category_ = defaultdict(int)  ### 用户信息更新的种类数\n",
    "userupdate_info_times_ = defaultdict(int)  ### 用户分几次更新了\n",
    "userupdate_info_date_ = defaultdict(int)  #### 用户借款成交与信息更新时间跨度\n",
    "for key in userupdate_info_date.keys():\n",
    "    userupdate_info_times_[key] = len(set(userupdate_info_times[key]))\n",
    "    delta_date = dt.datetime.strptime(userupdate_info_date[key][0], '%Y/%m/%d') - dt.datetime.strptime(\n",
    "        list(set(userupdate_info_times[key]))[0], '%Y/%m/%d')\n",
    "    userupdate_info_date_[key] = abs(delta_date.days)\n",
    "    userupdate_info_number_[key] = len(userupdate_info_number[key])\n",
    "    userupdate_info_category_[key] = len(userupdate_info_category[key])\n",
    "\n",
    "print('信息处理完成')\n"
   ],
   "metadata": {
    "collapsed": false,
    "ExecuteTime": {
     "end_time": "2023-11-05T11:36:08.830577800Z",
     "start_time": "2023-11-05T11:36:08.137691400Z"
    }
   },
   "id": "303c6b52b705621e"
  },
  {
   "cell_type": "code",
   "execution_count": 64,
   "outputs": [
    {
     "data": {
      "text/plain": "     Idx  numbers  categorys  times  dates\n0     10       12         11      2     35\n1    100       12         11      2     10\n2   1000       13         11      2      7\n3  10000       10          9      1      3\n4  10009       21         14      3      5",
      "text/html": "<div>\n<style scoped>\n    .dataframe tbody tr th:only-of-type {\n        vertical-align: middle;\n    }\n\n    .dataframe tbody tr th {\n        vertical-align: top;\n    }\n\n    .dataframe thead th {\n        text-align: right;\n    }\n</style>\n<table border=\"1\" class=\"dataframe\">\n  <thead>\n    <tr style=\"text-align: right;\">\n      <th></th>\n      <th>Idx</th>\n      <th>numbers</th>\n      <th>categorys</th>\n      <th>times</th>\n      <th>dates</th>\n    </tr>\n  </thead>\n  <tbody>\n    <tr>\n      <th>0</th>\n      <td>10</td>\n      <td>12</td>\n      <td>11</td>\n      <td>2</td>\n      <td>35</td>\n    </tr>\n    <tr>\n      <th>1</th>\n      <td>100</td>\n      <td>12</td>\n      <td>11</td>\n      <td>2</td>\n      <td>10</td>\n    </tr>\n    <tr>\n      <th>2</th>\n      <td>1000</td>\n      <td>13</td>\n      <td>11</td>\n      <td>2</td>\n      <td>7</td>\n    </tr>\n    <tr>\n      <th>3</th>\n      <td>10000</td>\n      <td>10</td>\n      <td>9</td>\n      <td>1</td>\n      <td>3</td>\n    </tr>\n    <tr>\n      <th>4</th>\n      <td>10009</td>\n      <td>21</td>\n      <td>14</td>\n      <td>3</td>\n      <td>5</td>\n    </tr>\n  </tbody>\n</table>\n</div>"
     },
     "execution_count": 64,
     "metadata": {},
     "output_type": "execute_result"
    }
   ],
   "source": [
    "## 建立一个DataFrame\n",
    "Idx_ = list(userupdate_info_date_.keys())  #### list\n",
    "numbers_ = list(userupdate_info_number_.values())\n",
    "categorys_ = list(userupdate_info_category_.values())\n",
    "times_ = list(userupdate_info_times_.values())\n",
    "dates_ = list(userupdate_info_date_.values())\n",
    "userupdate_df = pd.DataFrame(\n",
    "    {'Idx': Idx_, 'numbers': numbers_, 'categorys': categorys_, 'times': times_, 'dates': dates_})\n",
    "userupdate_df.head()\n",
    "userupdate_df.to_csv('./userupdate_df.csv', index=False, encoding='utf-8')"
   ],
   "metadata": {
    "collapsed": false,
    "ExecuteTime": {
     "end_time": "2023-11-05T11:36:09.803073Z",
     "start_time": "2023-11-05T11:36:09.706173300Z"
    }
   },
   "id": "4f0b93c11c792070"
  },
  {
   "cell_type": "code",
   "execution_count": 66,
   "outputs": [
    {
     "data": {
      "text/plain": "UserInfo_2                    264\nUserInfo_4                    239\nUserInfo_3                      4\nUserInfo_1                      4\nIdx                             0\nThirdParty_Info_Period4_12      0\nThirdParty_Info_Period4_16      0\nThirdParty_Info_Period4_15      0\nThirdParty_Info_Period4_14      0\nThirdParty_Info_Period4_13      0\ndtype: int64"
     },
     "execution_count": 66,
     "metadata": {},
     "output_type": "execute_result"
    },
    {
     "data": {
      "text/plain": "     Idx  UserInfo_1  UserInfo_3  WeblogInfo_2  WeblogInfo_4  WeblogInfo_5  \\\n0     10         5.0         5.0           0.0      3.027033      1.832326   \n1    100         1.0         3.0           0.0      3.000000      2.000000   \n2   1000         1.0         3.0           0.0      5.000000      2.000000   \n3  10000         6.0         6.0           0.0      1.000000      1.000000   \n4  10009         5.0         1.0           1.0      4.000000      3.000000   \n\n   WeblogInfo_6  WeblogInfo_7  WeblogInfo_8  WeblogInfo_9  ...  \\\n0      2.944238           0.0           0.0           0.0  ...   \n1      3.000000           0.0           0.0           0.0  ...   \n2      5.000000           0.0           0.0           0.0  ...   \n3      1.000000           4.0           0.0           0.0  ...   \n4      4.000000          17.0           0.0           0.0  ...   \n\n   WeblogInfo_20_I7  WeblogInfo_20_I8  WeblogInfo_20_O  WeblogInfo_20_U  \\\n0             False             False            False            False   \n1             False             False            False            False   \n2             False             False            False            False   \n3             False             False            False            False   \n4             False             False            False            False   \n\n   WeblogInfo_20_不详  WeblogInfo_21_0  WeblogInfo_21_A  WeblogInfo_21_B  \\\n0             False            False            False            False   \n1             False            False            False            False   \n2             False            False            False            False   \n3              True            False            False            False   \n4             False            False            False            False   \n\n   WeblogInfo_21_C  WeblogInfo_21_D  \n0            False             True  \n1            False             True  \n2            False             True  \n3            False             True  \n4            False             True  \n\n[5 rows x 3667 columns]",
      "text/html": "<div>\n<style scoped>\n    .dataframe tbody tr th:only-of-type {\n        vertical-align: middle;\n    }\n\n    .dataframe tbody tr th {\n        vertical-align: top;\n    }\n\n    .dataframe thead th {\n        text-align: right;\n    }\n</style>\n<table border=\"1\" class=\"dataframe\">\n  <thead>\n    <tr style=\"text-align: right;\">\n      <th></th>\n      <th>Idx</th>\n      <th>UserInfo_1</th>\n      <th>UserInfo_3</th>\n      <th>WeblogInfo_2</th>\n      <th>WeblogInfo_4</th>\n      <th>WeblogInfo_5</th>\n      <th>WeblogInfo_6</th>\n      <th>WeblogInfo_7</th>\n      <th>WeblogInfo_8</th>\n      <th>WeblogInfo_9</th>\n      <th>...</th>\n      <th>WeblogInfo_20_I7</th>\n      <th>WeblogInfo_20_I8</th>\n      <th>WeblogInfo_20_O</th>\n      <th>WeblogInfo_20_U</th>\n      <th>WeblogInfo_20_不详</th>\n      <th>WeblogInfo_21_0</th>\n      <th>WeblogInfo_21_A</th>\n      <th>WeblogInfo_21_B</th>\n      <th>WeblogInfo_21_C</th>\n      <th>WeblogInfo_21_D</th>\n    </tr>\n  </thead>\n  <tbody>\n    <tr>\n      <th>0</th>\n      <td>10</td>\n      <td>5.0</td>\n      <td>5.0</td>\n      <td>0.0</td>\n      <td>3.027033</td>\n      <td>1.832326</td>\n      <td>2.944238</td>\n      <td>0.0</td>\n      <td>0.0</td>\n      <td>0.0</td>\n      <td>...</td>\n      <td>False</td>\n      <td>False</td>\n      <td>False</td>\n      <td>False</td>\n      <td>False</td>\n      <td>False</td>\n      <td>False</td>\n      <td>False</td>\n      <td>False</td>\n      <td>True</td>\n    </tr>\n    <tr>\n      <th>1</th>\n      <td>100</td>\n      <td>1.0</td>\n      <td>3.0</td>\n      <td>0.0</td>\n      <td>3.000000</td>\n      <td>2.000000</td>\n      <td>3.000000</td>\n      <td>0.0</td>\n      <td>0.0</td>\n      <td>0.0</td>\n      <td>...</td>\n      <td>False</td>\n      <td>False</td>\n      <td>False</td>\n      <td>False</td>\n      <td>False</td>\n      <td>False</td>\n      <td>False</td>\n      <td>False</td>\n      <td>False</td>\n      <td>True</td>\n    </tr>\n    <tr>\n      <th>2</th>\n      <td>1000</td>\n      <td>1.0</td>\n      <td>3.0</td>\n      <td>0.0</td>\n      <td>5.000000</td>\n      <td>2.000000</td>\n      <td>5.000000</td>\n      <td>0.0</td>\n      <td>0.0</td>\n      <td>0.0</td>\n      <td>...</td>\n      <td>False</td>\n      <td>False</td>\n      <td>False</td>\n      <td>False</td>\n      <td>False</td>\n      <td>False</td>\n      <td>False</td>\n      <td>False</td>\n      <td>False</td>\n      <td>True</td>\n    </tr>\n    <tr>\n      <th>3</th>\n      <td>10000</td>\n      <td>6.0</td>\n      <td>6.0</td>\n      <td>0.0</td>\n      <td>1.000000</td>\n      <td>1.000000</td>\n      <td>1.000000</td>\n      <td>4.0</td>\n      <td>0.0</td>\n      <td>0.0</td>\n      <td>...</td>\n      <td>False</td>\n      <td>False</td>\n      <td>False</td>\n      <td>False</td>\n      <td>True</td>\n      <td>False</td>\n      <td>False</td>\n      <td>False</td>\n      <td>False</td>\n      <td>True</td>\n    </tr>\n    <tr>\n      <th>4</th>\n      <td>10009</td>\n      <td>5.0</td>\n      <td>1.0</td>\n      <td>1.0</td>\n      <td>4.000000</td>\n      <td>3.000000</td>\n      <td>4.000000</td>\n      <td>17.0</td>\n      <td>0.0</td>\n      <td>0.0</td>\n      <td>...</td>\n      <td>False</td>\n      <td>False</td>\n      <td>False</td>\n      <td>False</td>\n      <td>False</td>\n      <td>False</td>\n      <td>False</td>\n      <td>False</td>\n      <td>False</td>\n      <td>True</td>\n    </tr>\n  </tbody>\n</table>\n<p>5 rows × 3667 columns</p>\n</div>"
     },
     "execution_count": 66,
     "metadata": {},
     "output_type": "execute_result"
    }
   ],
   "source": [
    "test_master = pd.read_csv('./test_master.csv', encoding='utf-8')\n",
    "test_userupdateinfo = pd.read_csv('./userupdate_df.csv', encoding='utf-8')\n",
    "#test_loginfo = pd.read_csv('./loginfo_df.csv',encoding='utf-8')\n",
    "# test_all = pd.merge(test_master, test_userupdateinfo, how='left', on='Idx')\n",
    "#test_all = pd.merge(test_all, test_loginfo, how='left', on='Idx')\n",
    "test_all=test_master\n",
    "test_all.isnull().sum().sort_values(ascending=False).head(10)\n",
    "test_all['Idx'] = test_all['Idx'].astype(np.int64)\n",
    "test_all = pd.get_dummies(test_all)\n",
    "test_all.head()\n",
    "test_all.to_csv('./test_all.csv',encoding='utf-8',index=False)"
   ],
   "metadata": {
    "collapsed": false,
    "ExecuteTime": {
     "end_time": "2023-11-05T11:44:02.386143400Z",
     "start_time": "2023-11-05T11:43:41.707282900Z"
    }
   },
   "id": "69deda2a957b6306"
  }
 ],
 "metadata": {
  "kernelspec": {
   "display_name": "Python 3",
   "language": "python",
   "name": "python3"
  },
  "language_info": {
   "codemirror_mode": {
    "name": "ipython",
    "version": 2
   },
   "file_extension": ".py",
   "mimetype": "text/x-python",
   "name": "python",
   "nbconvert_exporter": "python",
   "pygments_lexer": "ipython2",
   "version": "2.7.6"
  }
 },
 "nbformat": 4,
 "nbformat_minor": 5
}
