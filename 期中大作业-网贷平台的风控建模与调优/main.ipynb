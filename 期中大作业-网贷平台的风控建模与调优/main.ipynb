{
 "cells": [
  {
   "cell_type": "markdown",
   "metadata": {
    "scrolled": false,
    "tags": [],
    "slideshow": {
     "slide_type": "slide"
    },
    "id": "CAE01BEE6045460B9039A6CB3D0DC2EE",
    "runtime": {
     "status": "default",
     "execution_status": "",
     "is_visible": false
    },
    "notebookId": "6526c6dd33c91e228dc529c8"
   },
   "source": [
    "# 项目介绍"
   ]
  },
  {
   "cell_type": "markdown",
   "metadata": {
    "scrolled": false,
    "tags": [],
    "slideshow": {
     "slide_type": "slide"
    },
    "id": "B207C8D78AEB49E895D7115EB1FAF5A9",
    "runtime": {
     "status": "default",
     "execution_status": "",
     "is_visible": false
    },
    "notebookId": "6526c6dd33c91e228dc529c8"
   },
   "source": [
    "## 背景介绍  \n",
    "信用贷（原蚂蚁借呗）是支付宝平台提供的小额信用贷款服务。互联网小额信用贷款平台（简称网贷平台）根据风险控制和准入标准对支付宝实名用户进行筛选，为筛选出的优质客户提供不同的借款额度。网贷平台的快速发展得益于互联网平台建立了自建的场景流量信用评分体系，形成了获客和贷款的闭环体验。  \n",
    "\n",
    "项目来自于国内网络借贷行业的贷款风险数据，包括：  \n",
    "\n",
    "- 1.信用违约标签（因变量）  \n",
    "- 2.建模所需的基础与加⼯字段（自变量）  \n",
    "- 3.相关用户的网络行为原始数据  \n",
    "\n",
    "本着保护借款⼈隐私以及知识产权的目的，数据字段已经过脱敏处理。  \n",
    "## 数据简介  \n",
    "\n",
    "- 1.数据编码为GBK。  \n",
    "- 2.数据包括3万条训练集和3万条测试集。  \n",
    "- 3.所有训练集(含Training)，测试集(含Test)都包括3个csv文件。  \n",
    "\n",
    "### 数据信息  \n",
    "**Master (信贷客户的申报信息和部分第三方数据，以及需要预测的目标标签target。每一行代表一笔借据，即一条成交借款样本，每个样本包含200多个字段)**  \n",
    "\n",
    "- 1.idx：每笔借款的unique key，可与另外2个文件里的idx相匹配  \n",
    "- 2.UserInfo_*：借款人特征字段  \n",
    "- 3.WeblogInfo_*：网络行为字段  \n",
    "- 4.Education_Info*：学历学籍字段  \n",
    "- 5.ThirdParty_Info_PeriodN_*：第三方数据时间段N字段  \n",
    "- 6.SocialNetwork_*：社交网络字段  \n",
    "- 7.LinstingInfo：借款成交时间  \n",
    "- 8.Target：违约标签（1 = 贷款违约，0 = 正常还款）。测试集里不包含target字段。  \n",
    "\n",
    "**Log_Info（信贷客户在网贷平台上的登陆记录）**\u0001  \n",
    "\n",
    "- 1.ListingInfo：借款成交时间  \n",
    "- 2.LogInfo1：操作代码  \n",
    "- 3.LogInfo2：操作类别  \n",
    "- 4.LogInfo3：登陆时间  \n",
    "- 5.idx：每一笔借款的unique key  \n",
    "\n",
    "**Userupdate_Info（部分客户在网贷平台上的修改记录）**  \n",
    "         \n",
    "- 1.ListingInfo1：借款成交时间  \n",
    "- 2.UserupdateInfo1：修改内容  \n",
    "- 3.UserupdateInfo2：修改时间  \n",
    "- 4.idx：每⼀笔借款的unique key  \n",
    " \n",
    "\n",
    "## 案例总体思路  \n",
    "\n",
    "### 数据清洗与预处理  \n",
    "- 对缺失值的多维度的处理  \n",
    "- 对离群点的剔除方法  \n",
    "- 对变量进行归一化处理（文本处理）  \n",
    "### 特征工程  \n",
    "- 地理位置信息  \n",
    "- 成交时间  \n",
    "- 类别编码  \n",
    "- 组合特征  \n",
    "### 特征选择  \n",
    "- 特征相关性  \n",
    "- 特征重要度排序  \n",
    "### 类别不平衡处理  \n",
    "- 代价敏感学习与过采样  \n",
    "### 模型设计与优化  \n",
    "- 逻辑回归  \n",
    "- XGBoost  \n",
    "- LightGBM  \n",
    "- 模型融合  \n",
    "\n",
    "\n",
    "## 案例流程       \n",
    "### 数据清洗  \n",
    "**缺失值的多维度处理；**  \n",
    "\n",
    "- 对于每一列来说，统计每一列的数据缺失比例：  \n",
    "- 对于每一行来说，也统计一下缺失值的个数并按缺失值大小从小到大排序，训练集和测试集是否表现出近乎一样的分布？如略有不同，是否这部分数据可以认为是离群点？  \n",
    "- 还可以利用Xgboost在原始的训练集上训练得出每一个原始特征的重要程度列表，排序以后，取前n个重要的原始特征（根据原始特征的数量，可以调整抽取重要特征的个数），然后将有缺失值的样本拿出来进行统计分析。举例：如果其缺失的原始特征中有10个特征都是前20个重要特征，说明这个样本为异常值，可以剔除掉。  \n",
    " \n",
    "**剔除常变量**  \n",
    "         \n",
    "- 原始数据中有190维数值型特征，计算出这些数值型特征的标准差，标准差几乎为零的特征说明在这一维度上的取值几乎为常数，故其没有区分度。可以设置一个阈值，剔除掉标准差小于某个阈值的特征项。  \n",
    "\n",
    "**变量的归一化（文本处理）**  \n",
    "- 字符大小写转换  \n",
    "    - 比如，Userupdate_Info表中的UserupdateInfo1字段，属性取值为英文字符，包含了大小写，如“_QQ”和“_qQ”，很明显是同一种取值，可以将所有字符统一转换为小写。  \n",
    "- 空格符号处理  \n",
    "    - 比如，Master表中UserInfo_9字段的取值包含了空格字符，如“中国移动”和“中国移动     ”，它们是同一种取值，需要将空格符去除。  \n",
    "- 城市名处理  \n",
    "    - 比如，UserInfo_8包含有“重庆”、“重庆市”等取值，它们实际上是同一个城市，需要把字符中的“市”全部去掉。去掉“市”之后，城市数由 600 多下降到 400 多。  \n",
    "\n",
    "### 特征工程  \n",
    "- （省份）地理位置的处理方法举例  \n",
    "    - UserInfo_7和UserInfo_19是省份信息，其余为城市信息。统计每个省份和城市的违约率。  \n",
    "    - 选择违约率超过某个阈值的省份或直辖市，例如四川，湖南，湖北，吉林，天津，山东等等，用这些省份或直辖市构造几个二值特征：“是否为四川省”，“是否为湖南省”........“是否为山东省”，取值为 0或1 。  \n",
    "- （市级）地理位置处理方法举例  \n",
    "    - （1）按照城市等级合并  \n",
    "        - 由于市级城市数量过多，如果按照类别型特征直接处理，进行独热编码后，会得到很高维度的稀疏特征，这样训练的时候，每一维度的城市特征是学不到什么有用的权重的。故不可采取这种办法，除了上述按违约率较高的省份或直辖市单独成为一个维度，违约率过低的合并成一个维度以外，还可以将所有城市按照经济等级分层划分成不同的层次，这样既科学，也能很好的降低城市这一特征维度。具体操作如下，例如一线城市北京，上海，广州，深圳合并，赋值为1，同样的，二线城市合并为2，三线城市合并为3，以此类推。  \n",
    "    - （2）经纬度特征的引入  \n",
    "        - 上述几种对地理位置信息的处理都是基于类别型的，我们还可以把类别型特征转化为数值型特征，通过引入经纬度来实现。比如，将地理位置特征变为经度和纬度两个特征，北京市可以用经度39.92，纬度116.46，两个特征替换。  \n",
    "    - （3）构建地理位置的组合特征（**地理位置差异特征**）  \n",
    "        - 比如，UserInfo_2,UserInfo_4,UserInfo_7,UserInfo_8,UserInfo_20等都是城市地理信息，可以两两比较，构造diff_24(UserInfo_2，UserInfo_4)，当这两个特征值一样时，diff_12为1，否则为0。  \n",
    "        \n",
    "以上几种对地理位置的处理方法，可以根据效果选择最适合的方法。  \n",
    "\n",
    "- 成交时间  \n",
    "    - （1）将成交时间字段Listinginfo处理成数值型的特征，直接当成连续值来处理。  \n",
    "    - （2）将成交时间离散化，按照一定的间隔（如以10天为一个区间），即将日期0~10离散为1，日期11~20离散为2，以此类推。  \n",
    "\n",
    "- 其他特征  \n",
    "    - UpadteInfo表特征  \n",
    "        - 根据这个表提供的信息，可以从中抽取用户修改信息次数，修改信息时间到成交时间的跨度，每种信息的修改次数等等特征，至于提取的哪个特征具有区别性可以做简单的统计分析，比如每种特征下违约率的分布是否由于不同的取值发生明显的变化。  \n",
    "    - LogInfo表特征  \n",
    "        - 从登录信息表里可以提取用户的登录信息特征，比如登录天数，平均登录间隔，以及每一种操作代码次数等等特征。  \n",
    "\n",
    "### 特征选择  \n",
    "除了课上讲的一些特征相关性分析方法外，比较高效的一种方法是基于模型的特征排序方法。这种方法有一个好处：模型学习的过程和特征选择的过程是同时进行的，比如基于 xgboost 来做特征选择，xgboost模型训练完成后可以输出特征的重要性，据此可以保留 TopN个特征，从而也可以达到特征选择的目的。  \n",
    "\n",
    "### 类别不平衡问题  \n",
    "赛题数据的类别比例接近13:1，可以尝试采用两种解决类别不平衡问题的方法，代价敏感学习和过采样。分析本案例适用哪种方法。  \n",
    "\n",
    "### 建模与模型融合  \n",
    "- Logistic regression + L1正则化  \n",
    "- randomforest  \n",
    "- Xgboost + bagging  \n",
    "- LightGBM  \n",
    "- 多模型blending（模型融合）"
   ]
  },
  {
   "cell_type": "markdown",
   "metadata": {
    "scrolled": false,
    "tags": [],
    "slideshow": {
     "slide_type": "slide"
    },
    "id": "E845971394914AF6A55CB87E432A8A27",
    "runtime": {
     "status": "default",
     "execution_status": "",
     "is_visible": false
    },
    "notebookId": "6526c6dd33c91e228dc529c8"
   },
   "source": [
    "# 方案实现"
   ]
  },
  {
   "cell_type": "markdown",
   "metadata": {
    "scrolled": false,
    "tags": [],
    "slideshow": {
     "slide_type": "slide"
    },
    "id": "4B71A89327FF42399FACCFEF1365822F",
    "runtime": {
     "status": "default",
     "execution_status": "",
     "is_visible": false
    },
    "notebookId": "6526c6dd33c91e228dc529c8"
   },
   "source": [
    "## 工具库引入与数据读取"
   ]
  },
  {
   "cell_type": "code",
   "metadata": {
    "execution": {
     "iopub.execute_input": "2022-10-07T05:35:26.956148Z",
     "iopub.status.busy": "2022-10-07T05:35:26.955016Z",
     "iopub.status.idle": "2022-10-07T05:35:28.247437Z",
     "shell.execute_reply": "2022-10-07T05:35:28.246204Z",
     "shell.execute_reply.started": "2022-10-07T05:35:26.956098Z"
    },
    "scrolled": true,
    "collapsed": false,
    "tags": [],
    "slideshow": {
     "slide_type": "slide"
    },
    "id": "B4A8EABEAD4243EB829C35AE7BD2F344",
    "notebookId": "6526c6dd33c91e228dc529c8",
    "trusted": true,
    "ExecuteTime": {
     "end_time": "2023-11-05T11:19:26.276057700Z",
     "start_time": "2023-11-05T11:19:26.116481500Z"
    }
   },
   "source": [
    "import os\n",
    "import pandas as pd\n",
    "import numpy as np\n",
    "import matplotlib.pyplot as plt"
   ],
   "outputs": [],
   "execution_count": 142
  },
  {
   "cell_type": "code",
   "metadata": {
    "execution": {
     "iopub.execute_input": "2022-10-07T05:35:31.009573Z",
     "iopub.status.busy": "2022-10-07T05:35:31.008225Z",
     "iopub.status.idle": "2022-10-07T05:36:03.411856Z",
     "shell.execute_reply": "2022-10-07T05:36:03.410382Z",
     "shell.execute_reply.started": "2022-10-07T05:35:31.009517Z"
    },
    "scrolled": true,
    "collapsed": false,
    "tags": [],
    "slideshow": {
     "slide_type": "slide"
    },
    "id": "625C4041F547416B95F428F0F1C63BBD",
    "notebookId": "6526c6dd33c91e228dc529c8",
    "trusted": true,
    "ExecuteTime": {
     "end_time": "2023-11-05T11:19:27.040386500Z",
     "start_time": "2023-11-05T11:19:26.120474Z"
    }
   },
   "source": [
    "dataset_path = r'./data/train'\n",
    "\n",
    "train_master = pd.read_csv(os.path.join(dataset_path, 'Master_Training_Set.csv'), encoding='gbk')\n",
    "train_userupdateinfo = pd.read_csv(os.path.join(dataset_path, 'Userupdate_Info_Training_Set.csv'), encoding='gbk')\n",
    "train_loginfo = pd.read_csv(os.path.join(dataset_path, 'LogInfo_Training_Set.csv'), encoding='gbk')"
   ],
   "outputs": [],
   "execution_count": 143
  },
  {
   "cell_type": "code",
   "metadata": {
    "execution": {
     "iopub.execute_input": "2022-10-07T05:36:06.569479Z",
     "iopub.status.busy": "2022-10-07T05:36:06.568747Z",
     "iopub.status.idle": "2022-10-07T05:36:06.585327Z",
     "shell.execute_reply": "2022-10-07T05:36:06.584333Z",
     "shell.execute_reply.started": "2022-10-07T05:36:06.569433Z"
    },
    "scrolled": true,
    "collapsed": false,
    "tags": [],
    "slideshow": {
     "slide_type": "slide"
    },
    "id": "1FDE17195EE6461E911D5B5ABB009D18",
    "notebookId": "6526c6dd33c91e228dc529c8",
    "trusted": true,
    "ExecuteTime": {
     "end_time": "2023-11-05T11:19:27.053474800Z",
     "start_time": "2023-11-05T11:19:27.042402600Z"
    }
   },
   "source": [
    "%config ZMQInteractiveShell.ast_node_interactivity='all'\n",
    "%pprint"
   ],
   "outputs": [
    {
     "name": "stdout",
     "output_type": "stream",
     "text": [
      "Pretty printing has been turned OFF\n"
     ]
    }
   ],
   "execution_count": 144
  },
  {
   "cell_type": "markdown",
   "metadata": {
    "scrolled": false,
    "tags": [],
    "slideshow": {
     "slide_type": "slide"
    },
    "id": "BE37A7C6A0524889BF950DF91F65B603",
    "runtime": {
     "status": "default",
     "execution_status": "",
     "is_visible": false
    },
    "notebookId": "6526c6dd33c91e228dc529c8"
   },
   "source": [
    "## 数据一览"
   ]
  },
  {
   "cell_type": "markdown",
   "metadata": {
    "scrolled": false,
    "tags": [],
    "slideshow": {
     "slide_type": "slide"
    },
    "id": "4E4DF87E744045F8834151CB5DF28E2E",
    "runtime": {
     "status": "default",
     "execution_status": "",
     "is_visible": false
    },
    "notebookId": "6526c6dd33c91e228dc529c8"
   },
   "source": [
    "**借款人信息**"
   ]
  },
  {
   "cell_type": "code",
   "metadata": {
    "execution": {
     "iopub.execute_input": "2022-10-07T05:36:13.929284Z",
     "iopub.status.busy": "2022-10-07T05:36:13.928213Z",
     "iopub.status.idle": "2022-10-07T05:36:13.975885Z",
     "shell.execute_reply": "2022-10-07T05:36:13.974895Z",
     "shell.execute_reply.started": "2022-10-07T05:36:13.929241Z"
    },
    "scrolled": true,
    "collapsed": false,
    "tags": [],
    "slideshow": {
     "slide_type": "slide"
    },
    "id": "570C9D32A9AA4BB9878CAD3AF915F6A2",
    "notebookId": "6526c6dd33c91e228dc529c8",
    "trusted": true,
    "ExecuteTime": {
     "end_time": "2023-11-05T11:19:27.087071500Z",
     "start_time": "2023-11-05T11:19:27.048493Z"
    }
   },
   "source": [
    "train_master.head() ## 借款人的一些信息\n",
    "train_master.info()\n",
    "train_master.shape"
   ],
   "outputs": [
    {
     "data": {
      "text/plain": "     Idx  UserInfo_1 UserInfo_2  UserInfo_3 UserInfo_4  WeblogInfo_1  \\\n0  10001         1.0         深圳         4.0         深圳           NaN   \n1  10002         1.0         温州         4.0         温州           NaN   \n2  10003         1.0         宜昌         3.0         宜昌           NaN   \n3  10006         4.0         南平         1.0         南平           NaN   \n4  10007         5.0         辽阳         1.0         辽阳           NaN   \n\n   WeblogInfo_2  WeblogInfo_3  WeblogInfo_4  WeblogInfo_5  ...  \\\n0           1.0           NaN           1.0           1.0  ...   \n1           0.0           NaN           1.0           1.0  ...   \n2           0.0           NaN           2.0           2.0  ...   \n3           NaN           NaN           NaN           NaN  ...   \n4           0.0           NaN           1.0           1.0  ...   \n\n   SocialNetwork_10  SocialNetwork_11  SocialNetwork_12  SocialNetwork_13  \\\n0               222                -1                 0                 0   \n1                 1                -1                 0                 0   \n2                -1                -1                -1                 1   \n3                -1                -1                -1                 0   \n4                -1                -1                -1                 0   \n\n   SocialNetwork_14  SocialNetwork_15  SocialNetwork_16  SocialNetwork_17  \\\n0                 0                 0                 0                 1   \n1                 0                 0                 0                 2   \n2                 0                 0                 0                 0   \n3                 0                 0                 0                 0   \n4                 0                 0                 0                 0   \n\n   target  ListingInfo  \n0       0     2014/3/5  \n1       0    2014/2/26  \n2       0    2014/2/28  \n3       0    2014/2/25  \n4       0    2014/2/27  \n\n[5 rows x 228 columns]",
      "text/html": "<div>\n<style scoped>\n    .dataframe tbody tr th:only-of-type {\n        vertical-align: middle;\n    }\n\n    .dataframe tbody tr th {\n        vertical-align: top;\n    }\n\n    .dataframe thead th {\n        text-align: right;\n    }\n</style>\n<table border=\"1\" class=\"dataframe\">\n  <thead>\n    <tr style=\"text-align: right;\">\n      <th></th>\n      <th>Idx</th>\n      <th>UserInfo_1</th>\n      <th>UserInfo_2</th>\n      <th>UserInfo_3</th>\n      <th>UserInfo_4</th>\n      <th>WeblogInfo_1</th>\n      <th>WeblogInfo_2</th>\n      <th>WeblogInfo_3</th>\n      <th>WeblogInfo_4</th>\n      <th>WeblogInfo_5</th>\n      <th>...</th>\n      <th>SocialNetwork_10</th>\n      <th>SocialNetwork_11</th>\n      <th>SocialNetwork_12</th>\n      <th>SocialNetwork_13</th>\n      <th>SocialNetwork_14</th>\n      <th>SocialNetwork_15</th>\n      <th>SocialNetwork_16</th>\n      <th>SocialNetwork_17</th>\n      <th>target</th>\n      <th>ListingInfo</th>\n    </tr>\n  </thead>\n  <tbody>\n    <tr>\n      <th>0</th>\n      <td>10001</td>\n      <td>1.0</td>\n      <td>深圳</td>\n      <td>4.0</td>\n      <td>深圳</td>\n      <td>NaN</td>\n      <td>1.0</td>\n      <td>NaN</td>\n      <td>1.0</td>\n      <td>1.0</td>\n      <td>...</td>\n      <td>222</td>\n      <td>-1</td>\n      <td>0</td>\n      <td>0</td>\n      <td>0</td>\n      <td>0</td>\n      <td>0</td>\n      <td>1</td>\n      <td>0</td>\n      <td>2014/3/5</td>\n    </tr>\n    <tr>\n      <th>1</th>\n      <td>10002</td>\n      <td>1.0</td>\n      <td>温州</td>\n      <td>4.0</td>\n      <td>温州</td>\n      <td>NaN</td>\n      <td>0.0</td>\n      <td>NaN</td>\n      <td>1.0</td>\n      <td>1.0</td>\n      <td>...</td>\n      <td>1</td>\n      <td>-1</td>\n      <td>0</td>\n      <td>0</td>\n      <td>0</td>\n      <td>0</td>\n      <td>0</td>\n      <td>2</td>\n      <td>0</td>\n      <td>2014/2/26</td>\n    </tr>\n    <tr>\n      <th>2</th>\n      <td>10003</td>\n      <td>1.0</td>\n      <td>宜昌</td>\n      <td>3.0</td>\n      <td>宜昌</td>\n      <td>NaN</td>\n      <td>0.0</td>\n      <td>NaN</td>\n      <td>2.0</td>\n      <td>2.0</td>\n      <td>...</td>\n      <td>-1</td>\n      <td>-1</td>\n      <td>-1</td>\n      <td>1</td>\n      <td>0</td>\n      <td>0</td>\n      <td>0</td>\n      <td>0</td>\n      <td>0</td>\n      <td>2014/2/28</td>\n    </tr>\n    <tr>\n      <th>3</th>\n      <td>10006</td>\n      <td>4.0</td>\n      <td>南平</td>\n      <td>1.0</td>\n      <td>南平</td>\n      <td>NaN</td>\n      <td>NaN</td>\n      <td>NaN</td>\n      <td>NaN</td>\n      <td>NaN</td>\n      <td>...</td>\n      <td>-1</td>\n      <td>-1</td>\n      <td>-1</td>\n      <td>0</td>\n      <td>0</td>\n      <td>0</td>\n      <td>0</td>\n      <td>0</td>\n      <td>0</td>\n      <td>2014/2/25</td>\n    </tr>\n    <tr>\n      <th>4</th>\n      <td>10007</td>\n      <td>5.0</td>\n      <td>辽阳</td>\n      <td>1.0</td>\n      <td>辽阳</td>\n      <td>NaN</td>\n      <td>0.0</td>\n      <td>NaN</td>\n      <td>1.0</td>\n      <td>1.0</td>\n      <td>...</td>\n      <td>-1</td>\n      <td>-1</td>\n      <td>-1</td>\n      <td>0</td>\n      <td>0</td>\n      <td>0</td>\n      <td>0</td>\n      <td>0</td>\n      <td>0</td>\n      <td>2014/2/27</td>\n    </tr>\n  </tbody>\n</table>\n<p>5 rows × 228 columns</p>\n</div>"
     },
     "execution_count": 145,
     "metadata": {},
     "output_type": "execute_result"
    },
    {
     "name": "stdout",
     "output_type": "stream",
     "text": [
      "<class 'pandas.core.frame.DataFrame'>\n",
      "RangeIndex: 30000 entries, 0 to 29999\n",
      "Columns: 228 entries, Idx to ListingInfo\n",
      "dtypes: float64(38), int64(170), object(20)\n",
      "memory usage: 52.2+ MB\n"
     ]
    },
    {
     "data": {
      "text/plain": "(30000, 228)"
     },
     "execution_count": 145,
     "metadata": {},
     "output_type": "execute_result"
    }
   ],
   "execution_count": 145
  },
  {
   "cell_type": "markdown",
   "metadata": {
    "scrolled": false,
    "tags": [],
    "slideshow": {
     "slide_type": "slide"
    },
    "id": "53937F6274034C9FBFB5F2C78C21542E",
    "runtime": {
     "status": "default",
     "execution_status": "",
     "is_visible": false
    },
    "notebookId": "6526c6dd33c91e228dc529c8"
   },
   "source": [
    "**借款成交时间 , 修改内容 ,修改时间**"
   ]
  },
  {
   "cell_type": "code",
   "metadata": {
    "execution": {
     "iopub.execute_input": "2022-10-07T05:36:25.021864Z",
     "iopub.status.busy": "2022-10-07T05:36:25.020960Z",
     "iopub.status.idle": "2022-10-07T05:36:25.097431Z",
     "shell.execute_reply": "2022-10-07T05:36:25.096243Z",
     "shell.execute_reply.started": "2022-10-07T05:36:25.021820Z"
    },
    "scrolled": true,
    "collapsed": false,
    "tags": [],
    "slideshow": {
     "slide_type": "slide"
    },
    "id": "01E4C3FC84D54D2C8877957A2174BE12",
    "notebookId": "6526c6dd33c91e228dc529c8",
    "trusted": true,
    "ExecuteTime": {
     "end_time": "2023-11-05T11:19:27.165860900Z",
     "start_time": "2023-11-05T11:19:27.080090300Z"
    }
   },
   "source": [
    "train_userupdateinfo.head(20)   ###借款成交时间 , 修改内容 ,修改时间\n",
    "train_userupdateinfo.info()\n",
    "train_userupdateinfo.shape"
   ],
   "outputs": [
    {
     "data": {
      "text/plain": "      Idx ListingInfo1    UserupdateInfo1 UserupdateInfo2\n0   10001   2014/03/05       _EducationId      2014/02/20\n1   10001   2014/03/05         _HasBuyCar      2014/02/20\n2   10001   2014/03/05    _LastUpdateDate      2014/02/20\n3   10001   2014/03/05  _MarriageStatusId      2014/02/20\n4   10001   2014/03/05       _MobilePhone      2014/02/20\n5   10001   2014/03/05       _MobilePhone      2014/02/20\n6   10001   2014/03/05                _QQ      2014/02/20\n7   10001   2014/03/05  _ResidenceAddress      2014/02/20\n8   10001   2014/03/05    _ResidencePhone      2014/02/20\n9   10001   2014/03/05   _ResidenceTypeId      2014/02/20\n10  10001   2014/03/05    _ResidenceYears      2014/02/20\n11  10002   2014/02/26               _age      2013/06/21\n12  10002   2014/02/26       _educationId      2013/06/21\n13  10002   2014/02/26            _gender      2013/06/21\n14  10002   2014/02/26         _hasBuyCar      2013/06/21\n15  10002   2014/02/26          _idNumber      2013/06/21\n16  10002   2014/02/26    _lastUpdateDate      2013/06/21\n17  10002   2014/02/26    _lastUpdateDate      2013/07/08\n18  10002   2014/02/26    _lastUpdateDate      2013/07/08\n19  10002   2014/02/26    _lastUpdateDate      2013/07/08",
      "text/html": "<div>\n<style scoped>\n    .dataframe tbody tr th:only-of-type {\n        vertical-align: middle;\n    }\n\n    .dataframe tbody tr th {\n        vertical-align: top;\n    }\n\n    .dataframe thead th {\n        text-align: right;\n    }\n</style>\n<table border=\"1\" class=\"dataframe\">\n  <thead>\n    <tr style=\"text-align: right;\">\n      <th></th>\n      <th>Idx</th>\n      <th>ListingInfo1</th>\n      <th>UserupdateInfo1</th>\n      <th>UserupdateInfo2</th>\n    </tr>\n  </thead>\n  <tbody>\n    <tr>\n      <th>0</th>\n      <td>10001</td>\n      <td>2014/03/05</td>\n      <td>_EducationId</td>\n      <td>2014/02/20</td>\n    </tr>\n    <tr>\n      <th>1</th>\n      <td>10001</td>\n      <td>2014/03/05</td>\n      <td>_HasBuyCar</td>\n      <td>2014/02/20</td>\n    </tr>\n    <tr>\n      <th>2</th>\n      <td>10001</td>\n      <td>2014/03/05</td>\n      <td>_LastUpdateDate</td>\n      <td>2014/02/20</td>\n    </tr>\n    <tr>\n      <th>3</th>\n      <td>10001</td>\n      <td>2014/03/05</td>\n      <td>_MarriageStatusId</td>\n      <td>2014/02/20</td>\n    </tr>\n    <tr>\n      <th>4</th>\n      <td>10001</td>\n      <td>2014/03/05</td>\n      <td>_MobilePhone</td>\n      <td>2014/02/20</td>\n    </tr>\n    <tr>\n      <th>5</th>\n      <td>10001</td>\n      <td>2014/03/05</td>\n      <td>_MobilePhone</td>\n      <td>2014/02/20</td>\n    </tr>\n    <tr>\n      <th>6</th>\n      <td>10001</td>\n      <td>2014/03/05</td>\n      <td>_QQ</td>\n      <td>2014/02/20</td>\n    </tr>\n    <tr>\n      <th>7</th>\n      <td>10001</td>\n      <td>2014/03/05</td>\n      <td>_ResidenceAddress</td>\n      <td>2014/02/20</td>\n    </tr>\n    <tr>\n      <th>8</th>\n      <td>10001</td>\n      <td>2014/03/05</td>\n      <td>_ResidencePhone</td>\n      <td>2014/02/20</td>\n    </tr>\n    <tr>\n      <th>9</th>\n      <td>10001</td>\n      <td>2014/03/05</td>\n      <td>_ResidenceTypeId</td>\n      <td>2014/02/20</td>\n    </tr>\n    <tr>\n      <th>10</th>\n      <td>10001</td>\n      <td>2014/03/05</td>\n      <td>_ResidenceYears</td>\n      <td>2014/02/20</td>\n    </tr>\n    <tr>\n      <th>11</th>\n      <td>10002</td>\n      <td>2014/02/26</td>\n      <td>_age</td>\n      <td>2013/06/21</td>\n    </tr>\n    <tr>\n      <th>12</th>\n      <td>10002</td>\n      <td>2014/02/26</td>\n      <td>_educationId</td>\n      <td>2013/06/21</td>\n    </tr>\n    <tr>\n      <th>13</th>\n      <td>10002</td>\n      <td>2014/02/26</td>\n      <td>_gender</td>\n      <td>2013/06/21</td>\n    </tr>\n    <tr>\n      <th>14</th>\n      <td>10002</td>\n      <td>2014/02/26</td>\n      <td>_hasBuyCar</td>\n      <td>2013/06/21</td>\n    </tr>\n    <tr>\n      <th>15</th>\n      <td>10002</td>\n      <td>2014/02/26</td>\n      <td>_idNumber</td>\n      <td>2013/06/21</td>\n    </tr>\n    <tr>\n      <th>16</th>\n      <td>10002</td>\n      <td>2014/02/26</td>\n      <td>_lastUpdateDate</td>\n      <td>2013/06/21</td>\n    </tr>\n    <tr>\n      <th>17</th>\n      <td>10002</td>\n      <td>2014/02/26</td>\n      <td>_lastUpdateDate</td>\n      <td>2013/07/08</td>\n    </tr>\n    <tr>\n      <th>18</th>\n      <td>10002</td>\n      <td>2014/02/26</td>\n      <td>_lastUpdateDate</td>\n      <td>2013/07/08</td>\n    </tr>\n    <tr>\n      <th>19</th>\n      <td>10002</td>\n      <td>2014/02/26</td>\n      <td>_lastUpdateDate</td>\n      <td>2013/07/08</td>\n    </tr>\n  </tbody>\n</table>\n</div>"
     },
     "execution_count": 146,
     "metadata": {},
     "output_type": "execute_result"
    },
    {
     "name": "stdout",
     "output_type": "stream",
     "text": [
      "<class 'pandas.core.frame.DataFrame'>\n",
      "RangeIndex: 372463 entries, 0 to 372462\n",
      "Data columns (total 4 columns):\n",
      " #   Column           Non-Null Count   Dtype \n",
      "---  ------           --------------   ----- \n",
      " 0   Idx              372463 non-null  int64 \n",
      " 1   ListingInfo1     372463 non-null  object\n",
      " 2   UserupdateInfo1  372463 non-null  object\n",
      " 3   UserupdateInfo2  372463 non-null  object\n",
      "dtypes: int64(1), object(3)\n",
      "memory usage: 11.4+ MB\n"
     ]
    },
    {
     "data": {
      "text/plain": "(372463, 4)"
     },
     "execution_count": 146,
     "metadata": {},
     "output_type": "execute_result"
    }
   ],
   "execution_count": 146
  },
  {
   "cell_type": "markdown",
   "metadata": {
    "scrolled": false,
    "tags": [],
    "slideshow": {
     "slide_type": "slide"
    },
    "id": "4560FC6160DD45EFB615F783B373E94E",
    "runtime": {
     "status": "default",
     "execution_status": "",
     "is_visible": false
    },
    "notebookId": "6526c6dd33c91e228dc529c8"
   },
   "source": [
    "**借款成交时间 ,操作代码 ,操作类别 ,登陆时间**"
   ]
  },
  {
   "cell_type": "code",
   "metadata": {
    "execution": {
     "iopub.execute_input": "2022-10-07T05:36:30.421781Z",
     "iopub.status.busy": "2022-10-07T05:36:30.420867Z",
     "iopub.status.idle": "2022-10-07T05:36:30.492101Z",
     "shell.execute_reply": "2022-10-07T05:36:30.491042Z",
     "shell.execute_reply.started": "2022-10-07T05:36:30.421736Z"
    },
    "scrolled": true,
    "collapsed": false,
    "tags": [],
    "slideshow": {
     "slide_type": "slide"
    },
    "id": "7A8FF9073AEF4139AAB5FAA25E73F952",
    "notebookId": "6526c6dd33c91e228dc529c8",
    "trusted": true,
    "ExecuteTime": {
     "end_time": "2023-11-05T11:19:27.227110800Z",
     "start_time": "2023-11-05T11:19:27.116362500Z"
    }
   },
   "source": [
    "train_loginfo.head(20) ##借款成交时间 ,操作代码 ,操作类别 ,登陆时间\n",
    "train_loginfo.shape\n",
    "train_loginfo.isnull().sum().sort_values(ascending=False).head(10) # 缺失值统计"
   ],
   "outputs": [
    {
     "data": {
      "text/plain": "      Idx Listinginfo1  LogInfo1  LogInfo2    LogInfo3\n0   10001   2014-03-05       107         6  2014-02-20\n1   10001   2014-03-05       107         6  2014-02-23\n2   10001   2014-03-05       107         6  2014-02-24\n3   10001   2014-03-05       107         6  2014-02-25\n4   10001   2014-03-05       107         6  2014-02-27\n5   10001   2014-03-05       107         6  2014-03-04\n6   10001   2014-03-05         1         1  2014-02-20\n7   10001   2014-03-05         1        20  2014-02-20\n8   10001   2014-03-05        12         0  2014-02-20\n9   10001   2014-03-05         1         2  2014-02-20\n10  10001   2014-03-05         2         1  2014-02-20\n11  10001   2014-03-05         4         1  2014-02-20\n12  10001   2014-03-05        -4         6  2014-02-20\n13  10001   2014-03-05        -4         6  2014-02-20\n14  10001   2014-03-05        -4         6  2014-02-23\n15  10001   2014-03-05        -4         6  2014-02-24\n16  10001   2014-03-05        -4         6  2014-02-25\n17  10001   2014-03-05        -4         6  2014-02-27\n18  10001   2014-03-05        -4         6  2014-03-04\n19  10002   2014-02-26        10         0  2013-06-21",
      "text/html": "<div>\n<style scoped>\n    .dataframe tbody tr th:only-of-type {\n        vertical-align: middle;\n    }\n\n    .dataframe tbody tr th {\n        vertical-align: top;\n    }\n\n    .dataframe thead th {\n        text-align: right;\n    }\n</style>\n<table border=\"1\" class=\"dataframe\">\n  <thead>\n    <tr style=\"text-align: right;\">\n      <th></th>\n      <th>Idx</th>\n      <th>Listinginfo1</th>\n      <th>LogInfo1</th>\n      <th>LogInfo2</th>\n      <th>LogInfo3</th>\n    </tr>\n  </thead>\n  <tbody>\n    <tr>\n      <th>0</th>\n      <td>10001</td>\n      <td>2014-03-05</td>\n      <td>107</td>\n      <td>6</td>\n      <td>2014-02-20</td>\n    </tr>\n    <tr>\n      <th>1</th>\n      <td>10001</td>\n      <td>2014-03-05</td>\n      <td>107</td>\n      <td>6</td>\n      <td>2014-02-23</td>\n    </tr>\n    <tr>\n      <th>2</th>\n      <td>10001</td>\n      <td>2014-03-05</td>\n      <td>107</td>\n      <td>6</td>\n      <td>2014-02-24</td>\n    </tr>\n    <tr>\n      <th>3</th>\n      <td>10001</td>\n      <td>2014-03-05</td>\n      <td>107</td>\n      <td>6</td>\n      <td>2014-02-25</td>\n    </tr>\n    <tr>\n      <th>4</th>\n      <td>10001</td>\n      <td>2014-03-05</td>\n      <td>107</td>\n      <td>6</td>\n      <td>2014-02-27</td>\n    </tr>\n    <tr>\n      <th>5</th>\n      <td>10001</td>\n      <td>2014-03-05</td>\n      <td>107</td>\n      <td>6</td>\n      <td>2014-03-04</td>\n    </tr>\n    <tr>\n      <th>6</th>\n      <td>10001</td>\n      <td>2014-03-05</td>\n      <td>1</td>\n      <td>1</td>\n      <td>2014-02-20</td>\n    </tr>\n    <tr>\n      <th>7</th>\n      <td>10001</td>\n      <td>2014-03-05</td>\n      <td>1</td>\n      <td>20</td>\n      <td>2014-02-20</td>\n    </tr>\n    <tr>\n      <th>8</th>\n      <td>10001</td>\n      <td>2014-03-05</td>\n      <td>12</td>\n      <td>0</td>\n      <td>2014-02-20</td>\n    </tr>\n    <tr>\n      <th>9</th>\n      <td>10001</td>\n      <td>2014-03-05</td>\n      <td>1</td>\n      <td>2</td>\n      <td>2014-02-20</td>\n    </tr>\n    <tr>\n      <th>10</th>\n      <td>10001</td>\n      <td>2014-03-05</td>\n      <td>2</td>\n      <td>1</td>\n      <td>2014-02-20</td>\n    </tr>\n    <tr>\n      <th>11</th>\n      <td>10001</td>\n      <td>2014-03-05</td>\n      <td>4</td>\n      <td>1</td>\n      <td>2014-02-20</td>\n    </tr>\n    <tr>\n      <th>12</th>\n      <td>10001</td>\n      <td>2014-03-05</td>\n      <td>-4</td>\n      <td>6</td>\n      <td>2014-02-20</td>\n    </tr>\n    <tr>\n      <th>13</th>\n      <td>10001</td>\n      <td>2014-03-05</td>\n      <td>-4</td>\n      <td>6</td>\n      <td>2014-02-20</td>\n    </tr>\n    <tr>\n      <th>14</th>\n      <td>10001</td>\n      <td>2014-03-05</td>\n      <td>-4</td>\n      <td>6</td>\n      <td>2014-02-23</td>\n    </tr>\n    <tr>\n      <th>15</th>\n      <td>10001</td>\n      <td>2014-03-05</td>\n      <td>-4</td>\n      <td>6</td>\n      <td>2014-02-24</td>\n    </tr>\n    <tr>\n      <th>16</th>\n      <td>10001</td>\n      <td>2014-03-05</td>\n      <td>-4</td>\n      <td>6</td>\n      <td>2014-02-25</td>\n    </tr>\n    <tr>\n      <th>17</th>\n      <td>10001</td>\n      <td>2014-03-05</td>\n      <td>-4</td>\n      <td>6</td>\n      <td>2014-02-27</td>\n    </tr>\n    <tr>\n      <th>18</th>\n      <td>10001</td>\n      <td>2014-03-05</td>\n      <td>-4</td>\n      <td>6</td>\n      <td>2014-03-04</td>\n    </tr>\n    <tr>\n      <th>19</th>\n      <td>10002</td>\n      <td>2014-02-26</td>\n      <td>10</td>\n      <td>0</td>\n      <td>2013-06-21</td>\n    </tr>\n  </tbody>\n</table>\n</div>"
     },
     "execution_count": 147,
     "metadata": {},
     "output_type": "execute_result"
    },
    {
     "data": {
      "text/plain": "(580551, 5)"
     },
     "execution_count": 147,
     "metadata": {},
     "output_type": "execute_result"
    },
    {
     "data": {
      "text/plain": "Idx             0\nListinginfo1    0\nLogInfo1        0\nLogInfo2        0\nLogInfo3        0\ndtype: int64"
     },
     "execution_count": 147,
     "metadata": {},
     "output_type": "execute_result"
    }
   ],
   "execution_count": 147
  },
  {
   "cell_type": "markdown",
   "metadata": {
    "scrolled": false,
    "tags": [],
    "slideshow": {
     "slide_type": "slide"
    },
    "id": "F4F73674232740EF9C5A70D86BFF807A",
    "runtime": {
     "status": "default",
     "execution_status": "",
     "is_visible": false
    },
    "notebookId": "6526c6dd33c91e228dc529c8"
   },
   "source": [
    "### 数据探索分析"
   ]
  },
  {
   "cell_type": "markdown",
   "metadata": {
    "scrolled": false,
    "tags": [],
    "slideshow": {
     "slide_type": "slide"
    },
    "id": "E8EBDB9BAFDD49F49250062F5A7EEC19",
    "runtime": {
     "status": "default",
     "execution_status": "",
     "is_visible": false
    },
    "notebookId": "6526c6dd33c91e228dc529c8"
   },
   "source": [
    "**用户登录信息和用户更新信息没有缺失值，不用处理**"
   ]
  },
  {
   "cell_type": "code",
   "metadata": {
    "execution": {
     "iopub.execute_input": "2022-10-07T05:36:45.605890Z",
     "iopub.status.busy": "2022-10-07T05:36:45.604821Z",
     "iopub.status.idle": "2022-10-07T05:36:45.611664Z",
     "shell.execute_reply": "2022-10-07T05:36:45.610680Z",
     "shell.execute_reply.started": "2022-10-07T05:36:45.605850Z"
    },
    "scrolled": true,
    "collapsed": false,
    "tags": [],
    "slideshow": {
     "slide_type": "slide"
    },
    "id": "DDE67DACD1E34B83992587ECD0EAF427",
    "notebookId": "6526c6dd33c91e228dc529c8",
    "trusted": true,
    "ExecuteTime": {
     "end_time": "2023-11-05T11:19:27.227110800Z",
     "start_time": "2023-11-05T11:19:27.158178900Z"
    }
   },
   "source": [
    "list(train_master.columns)"
   ],
   "outputs": [
    {
     "data": {
      "text/plain": "['Idx', 'UserInfo_1', 'UserInfo_2', 'UserInfo_3', 'UserInfo_4', 'WeblogInfo_1', 'WeblogInfo_2', 'WeblogInfo_3', 'WeblogInfo_4', 'WeblogInfo_5', 'WeblogInfo_6', 'WeblogInfo_7', 'WeblogInfo_8', 'WeblogInfo_9', 'WeblogInfo_10', 'WeblogInfo_11', 'WeblogInfo_12', 'WeblogInfo_13', 'WeblogInfo_14', 'WeblogInfo_15', 'WeblogInfo_16', 'WeblogInfo_17', 'WeblogInfo_18', 'UserInfo_5', 'UserInfo_6', 'UserInfo_7', 'UserInfo_8', 'UserInfo_9', 'UserInfo_10', 'UserInfo_11', 'UserInfo_12', 'UserInfo_13', 'UserInfo_14', 'UserInfo_15', 'UserInfo_16', 'UserInfo_17', 'UserInfo_18', 'UserInfo_19', 'UserInfo_20', 'UserInfo_21', 'UserInfo_22', 'UserInfo_23', 'UserInfo_24', 'Education_Info1', 'Education_Info2', 'Education_Info3', 'Education_Info4', 'Education_Info5', 'Education_Info6', 'Education_Info7', 'Education_Info8', 'WeblogInfo_19', 'WeblogInfo_20', 'WeblogInfo_21', 'WeblogInfo_23', 'WeblogInfo_24', 'WeblogInfo_25', 'WeblogInfo_26', 'WeblogInfo_27', 'WeblogInfo_28', 'WeblogInfo_29', 'WeblogInfo_30', 'WeblogInfo_31', 'WeblogInfo_32', 'WeblogInfo_33', 'WeblogInfo_34', 'WeblogInfo_35', 'WeblogInfo_36', 'WeblogInfo_37', 'WeblogInfo_38', 'WeblogInfo_39', 'WeblogInfo_40', 'WeblogInfo_41', 'WeblogInfo_42', 'WeblogInfo_43', 'WeblogInfo_44', 'WeblogInfo_45', 'WeblogInfo_46', 'WeblogInfo_47', 'WeblogInfo_48', 'WeblogInfo_49', 'WeblogInfo_50', 'WeblogInfo_51', 'WeblogInfo_52', 'WeblogInfo_53', 'WeblogInfo_54', 'WeblogInfo_55', 'WeblogInfo_56', 'WeblogInfo_57', 'WeblogInfo_58', 'ThirdParty_Info_Period1_1', 'ThirdParty_Info_Period1_2', 'ThirdParty_Info_Period1_3', 'ThirdParty_Info_Period1_4', 'ThirdParty_Info_Period1_5', 'ThirdParty_Info_Period1_6', 'ThirdParty_Info_Period1_7', 'ThirdParty_Info_Period1_8', 'ThirdParty_Info_Period1_9', 'ThirdParty_Info_Period1_10', 'ThirdParty_Info_Period1_11', 'ThirdParty_Info_Period1_12', 'ThirdParty_Info_Period1_13', 'ThirdParty_Info_Period1_14', 'ThirdParty_Info_Period1_15', 'ThirdParty_Info_Period1_16', 'ThirdParty_Info_Period1_17', 'ThirdParty_Info_Period2_1', 'ThirdParty_Info_Period2_2', 'ThirdParty_Info_Period2_3', 'ThirdParty_Info_Period2_4', 'ThirdParty_Info_Period2_5', 'ThirdParty_Info_Period2_6', 'ThirdParty_Info_Period2_7', 'ThirdParty_Info_Period2_8', 'ThirdParty_Info_Period2_9', 'ThirdParty_Info_Period2_10', 'ThirdParty_Info_Period2_11', 'ThirdParty_Info_Period2_12', 'ThirdParty_Info_Period2_13', 'ThirdParty_Info_Period2_14', 'ThirdParty_Info_Period2_15', 'ThirdParty_Info_Period2_16', 'ThirdParty_Info_Period2_17', 'ThirdParty_Info_Period3_1', 'ThirdParty_Info_Period3_2', 'ThirdParty_Info_Period3_3', 'ThirdParty_Info_Period3_4', 'ThirdParty_Info_Period3_5', 'ThirdParty_Info_Period3_6', 'ThirdParty_Info_Period3_7', 'ThirdParty_Info_Period3_8', 'ThirdParty_Info_Period3_9', 'ThirdParty_Info_Period3_10', 'ThirdParty_Info_Period3_11', 'ThirdParty_Info_Period3_12', 'ThirdParty_Info_Period3_13', 'ThirdParty_Info_Period3_14', 'ThirdParty_Info_Period3_15', 'ThirdParty_Info_Period3_16', 'ThirdParty_Info_Period3_17', 'ThirdParty_Info_Period4_1', 'ThirdParty_Info_Period4_2', 'ThirdParty_Info_Period4_3', 'ThirdParty_Info_Period4_4', 'ThirdParty_Info_Period4_5', 'ThirdParty_Info_Period4_6', 'ThirdParty_Info_Period4_7', 'ThirdParty_Info_Period4_8', 'ThirdParty_Info_Period4_9', 'ThirdParty_Info_Period4_10', 'ThirdParty_Info_Period4_11', 'ThirdParty_Info_Period4_12', 'ThirdParty_Info_Period4_13', 'ThirdParty_Info_Period4_14', 'ThirdParty_Info_Period4_15', 'ThirdParty_Info_Period4_16', 'ThirdParty_Info_Period4_17', 'ThirdParty_Info_Period5_1', 'ThirdParty_Info_Period5_2', 'ThirdParty_Info_Period5_3', 'ThirdParty_Info_Period5_4', 'ThirdParty_Info_Period5_5', 'ThirdParty_Info_Period5_6', 'ThirdParty_Info_Period5_7', 'ThirdParty_Info_Period5_8', 'ThirdParty_Info_Period5_9', 'ThirdParty_Info_Period5_10', 'ThirdParty_Info_Period5_11', 'ThirdParty_Info_Period5_12', 'ThirdParty_Info_Period5_13', 'ThirdParty_Info_Period5_14', 'ThirdParty_Info_Period5_15', 'ThirdParty_Info_Period5_16', 'ThirdParty_Info_Period5_17', 'ThirdParty_Info_Period6_1', 'ThirdParty_Info_Period6_2', 'ThirdParty_Info_Period6_3', 'ThirdParty_Info_Period6_4', 'ThirdParty_Info_Period6_5', 'ThirdParty_Info_Period6_6', 'ThirdParty_Info_Period6_7', 'ThirdParty_Info_Period6_8', 'ThirdParty_Info_Period6_9', 'ThirdParty_Info_Period6_10', 'ThirdParty_Info_Period6_11', 'ThirdParty_Info_Period6_12', 'ThirdParty_Info_Period6_13', 'ThirdParty_Info_Period6_14', 'ThirdParty_Info_Period6_15', 'ThirdParty_Info_Period6_16', 'ThirdParty_Info_Period6_17', 'ThirdParty_Info_Period7_1', 'ThirdParty_Info_Period7_2', 'ThirdParty_Info_Period7_3', 'ThirdParty_Info_Period7_4', 'ThirdParty_Info_Period7_5', 'ThirdParty_Info_Period7_6', 'ThirdParty_Info_Period7_7', 'ThirdParty_Info_Period7_8', 'ThirdParty_Info_Period7_9', 'ThirdParty_Info_Period7_10', 'ThirdParty_Info_Period7_11', 'ThirdParty_Info_Period7_12', 'ThirdParty_Info_Period7_13', 'ThirdParty_Info_Period7_14', 'ThirdParty_Info_Period7_15', 'ThirdParty_Info_Period7_16', 'ThirdParty_Info_Period7_17', 'SocialNetwork_1', 'SocialNetwork_2', 'SocialNetwork_3', 'SocialNetwork_4', 'SocialNetwork_5', 'SocialNetwork_6', 'SocialNetwork_7', 'SocialNetwork_8', 'SocialNetwork_9', 'SocialNetwork_10', 'SocialNetwork_11', 'SocialNetwork_12', 'SocialNetwork_13', 'SocialNetwork_14', 'SocialNetwork_15', 'SocialNetwork_16', 'SocialNetwork_17', 'target', 'ListingInfo']"
     },
     "execution_count": 148,
     "metadata": {},
     "output_type": "execute_result"
    }
   ],
   "execution_count": 148
  },
  {
   "cell_type": "code",
   "metadata": {
    "execution": {
     "iopub.execute_input": "2022-10-07T05:36:53.049682Z",
     "iopub.status.busy": "2022-10-07T05:36:53.049051Z",
     "iopub.status.idle": "2022-10-07T05:36:53.144927Z",
     "shell.execute_reply": "2022-10-07T05:36:53.143884Z",
     "shell.execute_reply.started": "2022-10-07T05:36:53.049643Z"
    },
    "scrolled": true,
    "collapsed": false,
    "tags": [],
    "slideshow": {
     "slide_type": "slide"
    },
    "id": "3F0876E3364B49F488A453EBB8DCEE16",
    "notebookId": "6526c6dd33c91e228dc529c8",
    "trusted": true,
    "ExecuteTime": {
     "end_time": "2023-11-05T11:19:27.328839800Z",
     "start_time": "2023-11-05T11:19:27.163867700Z"
    }
   },
   "source": [
    "## 加载微软雅黑中文字体\n",
    "from matplotlib.font_manager import FontProperties\n",
    "myfont = FontProperties(fname=r\"./SIMHEI.TTF\",size=12)\n",
    "\n",
    "%matplotlib inline\n",
    "n_null_rate = train_master.isnull().sum().sort_values(ascending=False)/30000\n",
    "n_null_rate.head(20)\n"
   ],
   "outputs": [
    {
     "data": {
      "text/plain": "WeblogInfo_1     0.967667\nWeblogInfo_3     0.967667\nUserInfo_12      0.630300\nUserInfo_13      0.630300\nUserInfo_11      0.630300\nWeblogInfo_20    0.268333\nWeblogInfo_21    0.102467\nWeblogInfo_19    0.098767\nWeblogInfo_2     0.055267\nWeblogInfo_4     0.055033\nWeblogInfo_5     0.055033\nWeblogInfo_6     0.055033\nUserInfo_2       0.010067\nUserInfo_4       0.008933\nWeblogInfo_32    0.008433\nWeblogInfo_37    0.008433\nWeblogInfo_35    0.008433\nWeblogInfo_34    0.008433\nWeblogInfo_33    0.008433\nWeblogInfo_29    0.008433\ndtype: float64"
     },
     "execution_count": 149,
     "metadata": {},
     "output_type": "execute_result"
    }
   ],
   "execution_count": 149
  },
  {
   "cell_type": "code",
   "execution_count": 150,
   "outputs": [],
   "source": [
    "## 去掉缺失比例接近百分之百的字段\n",
    "train_master.drop(['WeblogInfo_1' ,'WeblogInfo_3'],axis=1,inplace=True)"
   ],
   "metadata": {
    "collapsed": false,
    "ExecuteTime": {
     "end_time": "2023-11-05T11:19:27.380405Z",
     "start_time": "2023-11-05T11:19:27.192313100Z"
    }
   }
  },
  {
   "cell_type": "code",
   "metadata": {
    "execution": {
     "iopub.execute_input": "2022-10-07T05:36:59.092772Z",
     "iopub.status.busy": "2022-10-07T05:36:59.091384Z",
     "iopub.status.idle": "2022-10-07T05:36:59.653978Z",
     "shell.execute_reply": "2022-10-07T05:36:59.652814Z",
     "shell.execute_reply.started": "2022-10-07T05:36:59.092726Z"
    },
    "scrolled": true,
    "collapsed": false,
    "tags": [],
    "slideshow": {
     "slide_type": "slide"
    },
    "id": "48A40D832D0A4B77921415310C9223D4",
    "notebookId": "6526c6dd33c91e228dc529c8",
    "trusted": true,
    "ExecuteTime": {
     "end_time": "2023-11-05T11:19:27.476149400Z",
     "start_time": "2023-11-05T11:19:27.214145200Z"
    }
   },
   "source": [
    "## 处理UserInfo_12缺失\n",
    "train_master['UserInfo_12'].unique()\n",
    "#fig = plt.figure()\n",
    "#fig.set(alpha=0.2)\n",
    "target_UserInfo_12_not = train_master.target[train_master.UserInfo_12.isnull()].value_counts()\n",
    "target_UserInfo_12_ = train_master.target[train_master.UserInfo_12.notnull()].value_counts()\n",
    "df_UserInfo_12 = pd.DataFrame({'missing':target_UserInfo_12_not,'not_missing':target_UserInfo_12_})\n",
    "df_UserInfo_12\n",
    "df_UserInfo_12.plot(kind='bar', stacked=True)\n",
    "plt.title(u'有无这个特征对结果的影响', fontproperties=myfont)\n",
    "plt.xlabel(u'有无', fontproperties=myfont)\n",
    "plt.ylabel(u'违约情况', fontproperties=myfont)\n",
    "plt.show()"
   ],
   "outputs": [
    {
     "data": {
      "text/plain": "array([nan,  0.,  1.])"
     },
     "execution_count": 151,
     "metadata": {},
     "output_type": "execute_result"
    },
    {
     "data": {
      "text/plain": "        missing  not_missing\ntarget                      \n0         17386        10416\n1          1523          675",
      "text/html": "<div>\n<style scoped>\n    .dataframe tbody tr th:only-of-type {\n        vertical-align: middle;\n    }\n\n    .dataframe tbody tr th {\n        vertical-align: top;\n    }\n\n    .dataframe thead th {\n        text-align: right;\n    }\n</style>\n<table border=\"1\" class=\"dataframe\">\n  <thead>\n    <tr style=\"text-align: right;\">\n      <th></th>\n      <th>missing</th>\n      <th>not_missing</th>\n    </tr>\n    <tr>\n      <th>target</th>\n      <th></th>\n      <th></th>\n    </tr>\n  </thead>\n  <tbody>\n    <tr>\n      <th>0</th>\n      <td>17386</td>\n      <td>10416</td>\n    </tr>\n    <tr>\n      <th>1</th>\n      <td>1523</td>\n      <td>675</td>\n    </tr>\n  </tbody>\n</table>\n</div>"
     },
     "execution_count": 151,
     "metadata": {},
     "output_type": "execute_result"
    },
    {
     "data": {
      "text/plain": "<Axes: xlabel='target'>"
     },
     "execution_count": 151,
     "metadata": {},
     "output_type": "execute_result"
    },
    {
     "data": {
      "text/plain": "Text(0.5, 1.0, '有无这个特征对结果的影响')"
     },
     "execution_count": 151,
     "metadata": {},
     "output_type": "execute_result"
    },
    {
     "data": {
      "text/plain": "Text(0.5, 0, '有无')"
     },
     "execution_count": 151,
     "metadata": {},
     "output_type": "execute_result"
    },
    {
     "data": {
      "text/plain": "Text(0, 0.5, '违约情况')"
     },
     "execution_count": 151,
     "metadata": {},
     "output_type": "execute_result"
    },
    {
     "data": {
      "text/plain": "<Figure size 1200x400 with 1 Axes>",
      "image/png": "[encoded data removed]"
     },
     "metadata": {},
     "output_type": "display_data"
    }
   ],
   "execution_count": 151
  },
  {
   "cell_type": "code",
   "metadata": {
    "execution": {
     "iopub.execute_input": "2022-10-07T05:37:04.529227Z",
     "iopub.status.busy": "2022-10-07T05:37:04.528486Z",
     "iopub.status.idle": "2022-10-07T05:37:04.540800Z",
     "shell.execute_reply": "2022-10-07T05:37:04.539947Z",
     "shell.execute_reply.started": "2022-10-07T05:37:04.529187Z"
    },
    "scrolled": true,
    "collapsed": false,
    "tags": [],
    "slideshow": {
     "slide_type": "slide"
    },
    "id": "F52976E89F10416781661FD0355530E0",
    "notebookId": "6526c6dd33c91e228dc529c8",
    "trusted": true,
    "ExecuteTime": {
     "end_time": "2023-11-05T11:19:27.477147600Z",
     "start_time": "2023-11-05T11:19:27.362706300Z"
    }
   },
   "source": [
    "train_master.loc[(train_master.UserInfo_12.isnull() , 'UserInfo_12')] = 2.0\n",
    "#train_master['UserInfo_11'].fillna(2.0)\n",
    "#train_master['UserInfo_12'] =train_master['UserInfo_12'].astype(np.int32)\n",
    "train_master['UserInfo_12'].dtypes\n",
    "train_master['UserInfo_12'].unique()"
   ],
   "outputs": [
    {
     "data": {
      "text/plain": "dtype('float64')"
     },
     "execution_count": 152,
     "metadata": {},
     "output_type": "execute_result"
    },
    {
     "data": {
      "text/plain": "array([2., 0., 1.])"
     },
     "execution_count": 152,
     "metadata": {},
     "output_type": "execute_result"
    }
   ],
   "execution_count": 152
  },
  {
   "cell_type": "code",
   "metadata": {
    "execution": {
     "iopub.execute_input": "2022-10-07T05:37:06.449539Z",
     "iopub.status.busy": "2022-10-07T05:37:06.448817Z",
     "iopub.status.idle": "2022-10-07T05:37:06.711178Z",
     "shell.execute_reply": "2022-10-07T05:37:06.710253Z",
     "shell.execute_reply.started": "2022-10-07T05:37:06.449497Z"
    },
    "scrolled": true,
    "collapsed": false,
    "tags": [],
    "slideshow": {
     "slide_type": "slide"
    },
    "id": "4069C6E23C014F1EBCAF879B94C30B0E",
    "notebookId": "6526c6dd33c91e228dc529c8",
    "trusted": true,
    "ExecuteTime": {
     "end_time": "2023-11-05T11:19:27.692618700Z",
     "start_time": "2023-11-05T11:19:27.371431500Z"
    }
   },
   "source": [
    "## 处理UserInfo_11缺失\n",
    "train_master['UserInfo_11'].unique()\n",
    "#fig = plt.figure()\n",
    "#fig.set(alpha=0.2)\n",
    "target_UserInfo_11_not = train_master.target[train_master.UserInfo_11.isnull()].value_counts()\n",
    "target_UserInfo_11_ = train_master.target[train_master.UserInfo_11.notnull()].value_counts()\n",
    "df_UserInfo_11 = pd.DataFrame({'no_have':target_UserInfo_11_not,'have':target_UserInfo_11_})\n",
    "df_UserInfo_11\n",
    "df_UserInfo_11.plot(kind='bar', stacked=True)\n",
    "plt.title(u'有无这个特征对结果的影响', fontproperties=myfont)\n",
    "plt.xlabel(u'有无', fontproperties=myfont)\n",
    "plt.ylabel(u'违约情况', fontproperties=myfont)\n",
    "plt.show()"
   ],
   "outputs": [
    {
     "data": {
      "text/plain": "array([nan,  0.,  1.])"
     },
     "execution_count": 153,
     "metadata": {},
     "output_type": "execute_result"
    },
    {
     "data": {
      "text/plain": "        no_have   have\ntarget                \n0         17386  10416\n1          1523    675",
      "text/html": "<div>\n<style scoped>\n    .dataframe tbody tr th:only-of-type {\n        vertical-align: middle;\n    }\n\n    .dataframe tbody tr th {\n        vertical-align: top;\n    }\n\n    .dataframe thead th {\n        text-align: right;\n    }\n</style>\n<table border=\"1\" class=\"dataframe\">\n  <thead>\n    <tr style=\"text-align: right;\">\n      <th></th>\n      <th>no_have</th>\n      <th>have</th>\n    </tr>\n    <tr>\n      <th>target</th>\n      <th></th>\n      <th></th>\n    </tr>\n  </thead>\n  <tbody>\n    <tr>\n      <th>0</th>\n      <td>17386</td>\n      <td>10416</td>\n    </tr>\n    <tr>\n      <th>1</th>\n      <td>1523</td>\n      <td>675</td>\n    </tr>\n  </tbody>\n</table>\n</div>"
     },
     "execution_count": 153,
     "metadata": {},
     "output_type": "execute_result"
    },
    {
     "data": {
      "text/plain": "<Axes: xlabel='target'>"
     },
     "execution_count": 153,
     "metadata": {},
     "output_type": "execute_result"
    },
    {
     "data": {
      "text/plain": "Text(0.5, 1.0, '有无这个特征对结果的影响')"
     },
     "execution_count": 153,
     "metadata": {},
     "output_type": "execute_result"
    },
    {
     "data": {
      "text/plain": "Text(0.5, 0, '有无')"
     },
     "execution_count": 153,
     "metadata": {},
     "output_type": "execute_result"
    },
    {
     "data": {
      "text/plain": "Text(0, 0.5, '违约情况')"
     },
     "execution_count": 153,
     "metadata": {},
     "output_type": "execute_result"
    },
    {
     "data": {
      "text/plain": "<Figure size 1200x400 with 1 Axes>",
      "image/png": "[encoded data removed]"
     },
     "metadata": {},
     "output_type": "display_data"
    }
   ],
   "execution_count": 153
  },
  {
   "cell_type": "code",
   "metadata": {
    "execution": {
     "iopub.execute_input": "2022-10-07T05:37:11.169533Z",
     "iopub.status.busy": "2022-10-07T05:37:11.168864Z",
     "iopub.status.idle": "2022-10-07T05:37:11.178565Z",
     "shell.execute_reply": "2022-10-07T05:37:11.177611Z",
     "shell.execute_reply.started": "2022-10-07T05:37:11.169490Z"
    },
    "scrolled": true,
    "collapsed": false,
    "tags": [],
    "slideshow": {
     "slide_type": "slide"
    },
    "id": "59A10218C16C4B23A5C512CDB9EDAC92",
    "notebookId": "6526c6dd33c91e228dc529c8",
    "trusted": true,
    "ExecuteTime": {
     "end_time": "2023-11-05T11:19:27.692618700Z",
     "start_time": "2023-11-05T11:19:27.518837800Z"
    }
   },
   "source": [
    "#train_master['UserInfo_11'] =train_master['UserInfo_11'].astype(str)\n",
    "train_master.loc[(train_master.UserInfo_11.isnull() , 'UserInfo_11')] = 2.0\n",
    "train_master['UserInfo_11'].unique()"
   ],
   "outputs": [
    {
     "data": {
      "text/plain": "array([2., 0., 1.])"
     },
     "execution_count": 154,
     "metadata": {},
     "output_type": "execute_result"
    }
   ],
   "execution_count": 154
  },
  {
   "cell_type": "code",
   "metadata": {
    "execution": {
     "iopub.execute_input": "2022-10-07T05:37:13.130602Z",
     "iopub.status.busy": "2022-10-07T05:37:13.129344Z",
     "iopub.status.idle": "2022-10-07T05:37:13.465739Z",
     "shell.execute_reply": "2022-10-07T05:37:13.464645Z",
     "shell.execute_reply.started": "2022-10-07T05:37:13.130541Z"
    },
    "scrolled": true,
    "collapsed": false,
    "tags": [],
    "slideshow": {
     "slide_type": "slide"
    },
    "id": "53F1F04DCD54430A8950324E7E282E82",
    "notebookId": "6526c6dd33c91e228dc529c8",
    "trusted": true,
    "ExecuteTime": {
     "end_time": "2023-11-05T11:19:27.816129600Z",
     "start_time": "2023-11-05T11:19:27.526811600Z"
    }
   },
   "source": [
    "## 处理UserInfo_13缺失\n",
    "train_master['UserInfo_13'].unique()\n",
    "#fig = plt.figure()\n",
    "#fig.set(alpha=0.2)\n",
    "target_UserInfo_13_not = train_master.target[train_master.UserInfo_13.isnull()].value_counts()\n",
    "target_UserInfo_13_ = train_master.target[train_master.UserInfo_13.notnull()].value_counts()\n",
    "df_UserInfo_13 = pd.DataFrame({'no_have':target_UserInfo_13_not,'have':target_UserInfo_13_})\n",
    "df_UserInfo_13\n",
    "df_UserInfo_13.plot(kind='bar', stacked=True)\n",
    "plt.title(u'有无这个特征对结果的影响', fontproperties=myfont)\n",
    "plt.xlabel(u'有无', fontproperties=myfont)\n",
    "plt.ylabel(u'违约情况', fontproperties=myfont)\n",
    "plt.show()"
   ],
   "outputs": [
    {
     "data": {
      "text/plain": "array([nan,  1.,  0.])"
     },
     "execution_count": 155,
     "metadata": {},
     "output_type": "execute_result"
    },
    {
     "data": {
      "text/plain": "        no_have   have\ntarget                \n0         17386  10416\n1          1523    675",
      "text/html": "<div>\n<style scoped>\n    .dataframe tbody tr th:only-of-type {\n        vertical-align: middle;\n    }\n\n    .dataframe tbody tr th {\n        vertical-align: top;\n    }\n\n    .dataframe thead th {\n        text-align: right;\n    }\n</style>\n<table border=\"1\" class=\"dataframe\">\n  <thead>\n    <tr style=\"text-align: right;\">\n      <th></th>\n      <th>no_have</th>\n      <th>have</th>\n    </tr>\n    <tr>\n      <th>target</th>\n      <th></th>\n      <th></th>\n    </tr>\n  </thead>\n  <tbody>\n    <tr>\n      <th>0</th>\n      <td>17386</td>\n      <td>10416</td>\n    </tr>\n    <tr>\n      <th>1</th>\n      <td>1523</td>\n      <td>675</td>\n    </tr>\n  </tbody>\n</table>\n</div>"
     },
     "execution_count": 155,
     "metadata": {},
     "output_type": "execute_result"
    },
    {
     "data": {
      "text/plain": "<Axes: xlabel='target'>"
     },
     "execution_count": 155,
     "metadata": {},
     "output_type": "execute_result"
    },
    {
     "data": {
      "text/plain": "Text(0.5, 1.0, '有无这个特征对结果的影响')"
     },
     "execution_count": 155,
     "metadata": {},
     "output_type": "execute_result"
    },
    {
     "data": {
      "text/plain": "Text(0.5, 0, '有无')"
     },
     "execution_count": 155,
     "metadata": {},
     "output_type": "execute_result"
    },
    {
     "data": {
      "text/plain": "Text(0, 0.5, '违约情况')"
     },
     "execution_count": 155,
     "metadata": {},
     "output_type": "execute_result"
    },
    {
     "data": {
      "text/plain": "<Figure size 1200x400 with 1 Axes>",
      "image/png": "[encoded data removed]"
     },
     "metadata": {},
     "output_type": "display_data"
    }
   ],
   "execution_count": 155
  },
  {
   "cell_type": "code",
   "metadata": {
    "execution": {
     "iopub.execute_input": "2022-10-07T05:37:18.785658Z",
     "iopub.status.busy": "2022-10-07T05:37:18.785014Z",
     "iopub.status.idle": "2022-10-07T05:37:18.794921Z",
     "shell.execute_reply": "2022-10-07T05:37:18.794076Z",
     "shell.execute_reply.started": "2022-10-07T05:37:18.785620Z"
    },
    "scrolled": true,
    "collapsed": false,
    "tags": [],
    "slideshow": {
     "slide_type": "slide"
    },
    "id": "CEA9473A719345569D11B3C6F10A4D5D",
    "notebookId": "6526c6dd33c91e228dc529c8",
    "trusted": true,
    "ExecuteTime": {
     "end_time": "2023-11-05T11:19:27.817126300Z",
     "start_time": "2023-11-05T11:19:27.667593500Z"
    }
   },
   "source": [
    "#train_master['UserInfo_13'] =train_master['UserInfo_13'].astype(str)\n",
    "train_master.loc[(train_master.UserInfo_13.isnull() , 'UserInfo_13')] = 2.0\n",
    "train_master['UserInfo_13'].unique()"
   ],
   "outputs": [
    {
     "data": {
      "text/plain": "array([2., 1., 0.])"
     },
     "execution_count": 156,
     "metadata": {},
     "output_type": "execute_result"
    }
   ],
   "execution_count": 156
  },
  {
   "cell_type": "code",
   "metadata": {
    "execution": {
     "iopub.execute_input": "2022-10-07T05:37:23.331546Z",
     "iopub.status.busy": "2022-10-07T05:37:23.330670Z",
     "iopub.status.idle": "2022-10-07T05:37:23.660956Z",
     "shell.execute_reply": "2022-10-07T05:37:23.659821Z",
     "shell.execute_reply.started": "2022-10-07T05:37:23.331499Z"
    },
    "scrolled": true,
    "collapsed": false,
    "tags": [],
    "slideshow": {
     "slide_type": "slide"
    },
    "id": "6C99590E7F6C4CF898AEFAFB2ABEC008",
    "notebookId": "6526c6dd33c91e228dc529c8",
    "trusted": true,
    "ExecuteTime": {
     "end_time": "2023-11-05T11:19:28.074540700Z",
     "start_time": "2023-11-05T11:19:27.673669600Z"
    }
   },
   "source": [
    "## 处理WeblogInfo_20 缺失\n",
    "train_master['WeblogInfo_20'].unique()\n",
    "#fig = plt.figure()\n",
    "#fig.set(alpha=0.2)\n",
    "target_WeblogInfo_20_not = train_master.target[train_master.WeblogInfo_20.isnull()].value_counts()\n",
    "target_WeblogInfo_20_ = train_master.target[train_master.WeblogInfo_20.notnull()].value_counts()\n",
    "df_WeblogInfo_20 = pd.DataFrame({'no_have':target_WeblogInfo_20_not,'have':target_WeblogInfo_20_})\n",
    "df_WeblogInfo_20\n",
    "df_WeblogInfo_20.plot(kind='bar', stacked=True)\n",
    "plt.title(u'有无这个特征对结果的影响', fontproperties=myfont)\n",
    "plt.xlabel(u'有无', fontproperties=myfont)\n",
    "plt.ylabel(u'违约情况', fontproperties=myfont)\n",
    "plt.show()"
   ],
   "outputs": [
    {
     "data": {
      "text/plain": "array(['I5', nan, 'I4', 'C19', 'I3', 'U', 'C21', 'C20', 'F13', 'C1',\n       'C11', 'C12', 'C18', 'C15', 'O', 'C17', 'F12', 'F9', 'C16', 'I10',\n       'C13', 'F11', 'F16', 'F7', 'C14', 'I6', 'F14', 'F10', 'C38', 'F15',\n       'I11', 'I7', 'C39', 'F6', 'F3', 'C32', 'I8'], dtype=object)"
     },
     "execution_count": 157,
     "metadata": {},
     "output_type": "execute_result"
    },
    {
     "data": {
      "text/plain": "        no_have   have\ntarget                \n0          7565  20237\n1           485   1713",
      "text/html": "<div>\n<style scoped>\n    .dataframe tbody tr th:only-of-type {\n        vertical-align: middle;\n    }\n\n    .dataframe tbody tr th {\n        vertical-align: top;\n    }\n\n    .dataframe thead th {\n        text-align: right;\n    }\n</style>\n<table border=\"1\" class=\"dataframe\">\n  <thead>\n    <tr style=\"text-align: right;\">\n      <th></th>\n      <th>no_have</th>\n      <th>have</th>\n    </tr>\n    <tr>\n      <th>target</th>\n      <th></th>\n      <th></th>\n    </tr>\n  </thead>\n  <tbody>\n    <tr>\n      <th>0</th>\n      <td>7565</td>\n      <td>20237</td>\n    </tr>\n    <tr>\n      <th>1</th>\n      <td>485</td>\n      <td>1713</td>\n    </tr>\n  </tbody>\n</table>\n</div>"
     },
     "execution_count": 157,
     "metadata": {},
     "output_type": "execute_result"
    },
    {
     "data": {
      "text/plain": "<Axes: xlabel='target'>"
     },
     "execution_count": 157,
     "metadata": {},
     "output_type": "execute_result"
    },
    {
     "data": {
      "text/plain": "Text(0.5, 1.0, '有无这个特征对结果的影响')"
     },
     "execution_count": 157,
     "metadata": {},
     "output_type": "execute_result"
    },
    {
     "data": {
      "text/plain": "Text(0.5, 0, '有无')"
     },
     "execution_count": 157,
     "metadata": {},
     "output_type": "execute_result"
    },
    {
     "data": {
      "text/plain": "Text(0, 0.5, '违约情况')"
     },
     "execution_count": 157,
     "metadata": {},
     "output_type": "execute_result"
    },
    {
     "data": {
      "text/plain": "<Figure size 1200x400 with 1 Axes>",
      "image/png": "[encoded data removed]"
     },
     "metadata": {},
     "output_type": "display_data"
    }
   ],
   "execution_count": 157
  },
  {
   "cell_type": "code",
   "metadata": {
    "execution": {
     "iopub.execute_input": "2022-10-07T05:37:29.329058Z",
     "iopub.status.busy": "2022-10-07T05:37:29.328273Z",
     "iopub.status.idle": "2022-10-07T05:37:29.341796Z",
     "shell.execute_reply": "2022-10-07T05:37:29.340862Z",
     "shell.execute_reply.started": "2022-10-07T05:37:29.329018Z"
    },
    "scrolled": true,
    "collapsed": false,
    "tags": [],
    "slideshow": {
     "slide_type": "slide"
    },
    "id": "EC409AD6E98D421A95A370D3C0EFDD87",
    "notebookId": "6526c6dd33c91e228dc529c8",
    "trusted": true,
    "ExecuteTime": {
     "end_time": "2023-11-05T11:19:28.096450900Z",
     "start_time": "2023-11-05T11:19:27.818123700Z"
    }
   },
   "source": [
    "#train_master['WeblogInfo_20'] =train_master['WeblogInfo_20'].astype(str)\n",
    "train_master.loc[(train_master.WeblogInfo_20.isnull() , 'WeblogInfo_20')] = u'不详'\n",
    "train_master['WeblogInfo_20'].unique()"
   ],
   "outputs": [
    {
     "data": {
      "text/plain": "array(['I5', '不详', 'I4', 'C19', 'I3', 'U', 'C21', 'C20', 'F13', 'C1',\n       'C11', 'C12', 'C18', 'C15', 'O', 'C17', 'F12', 'F9', 'C16', 'I10',\n       'C13', 'F11', 'F16', 'F7', 'C14', 'I6', 'F14', 'F10', 'C38', 'F15',\n       'I11', 'I7', 'C39', 'F6', 'F3', 'C32', 'I8'], dtype=object)"
     },
     "execution_count": 158,
     "metadata": {},
     "output_type": "execute_result"
    }
   ],
   "execution_count": 158
  },
  {
   "cell_type": "code",
   "metadata": {
    "execution": {
     "iopub.execute_input": "2022-10-07T05:37:31.650411Z",
     "iopub.status.busy": "2022-10-07T05:37:31.649183Z",
     "iopub.status.idle": "2022-10-07T05:37:31.688539Z",
     "shell.execute_reply": "2022-10-07T05:37:31.687622Z",
     "shell.execute_reply.started": "2022-10-07T05:37:31.650350Z"
    },
    "scrolled": true,
    "collapsed": false,
    "tags": [],
    "slideshow": {
     "slide_type": "slide"
    },
    "id": "E4B638A24FDA4DBA972D9F4DDDB0651D",
    "notebookId": "6526c6dd33c91e228dc529c8",
    "trusted": true,
    "ExecuteTime": {
     "end_time": "2023-11-05T11:19:28.097448900Z",
     "start_time": "2023-11-05T11:19:27.825778100Z"
    }
   },
   "source": [
    "train_master['WeblogInfo_19'].unique()\n",
    "#fig = plt.figure()\n",
    "#fig.set(alpha=0.2)\n",
    "target_WeblogInfo_19_not = train_master.target[train_master.WeblogInfo_19.isnull()].value_counts()\n",
    "target_WeblogInfo_19_ = train_master.target[train_master.WeblogInfo_19.notnull()].value_counts()\n",
    "df_WeblogInfo_19 = pd.DataFrame({'no_have':target_WeblogInfo_19_not,'have':target_WeblogInfo_19_})\n",
    "df_WeblogInfo_19\n",
    "\n",
    "#df_WeblogInfo_19.plot(kind='bar', stacked=True)\n",
    "#plt.title(u'有无这个特征对结果的影响', fontproperties=myfont)\n",
    "#plt.xlabel(u'有无', fontproperties=myfont)\n",
    "#plt.ylabel(u'违约情况', fontproperties=myfont)\n",
    "#plt.show()\n",
    "\n",
    "#train_master['WeblogInfo_19'] =train_master['WeblogInfo_19'].astype(str)\n",
    "train_master.loc[(train_master.WeblogInfo_19.isnull() , 'WeblogInfo_19')] = u'不详'\n",
    "train_master['WeblogInfo_19'].unique()"
   ],
   "outputs": [
    {
     "data": {
      "text/plain": "array(['I', 'E', 'F', 'D', 'J', 'G', 'H', nan], dtype=object)"
     },
     "execution_count": 159,
     "metadata": {},
     "output_type": "execute_result"
    },
    {
     "data": {
      "text/plain": "        no_have   have\ntarget                \n0          2771  25031\n1           192   2006",
      "text/html": "<div>\n<style scoped>\n    .dataframe tbody tr th:only-of-type {\n        vertical-align: middle;\n    }\n\n    .dataframe tbody tr th {\n        vertical-align: top;\n    }\n\n    .dataframe thead th {\n        text-align: right;\n    }\n</style>\n<table border=\"1\" class=\"dataframe\">\n  <thead>\n    <tr style=\"text-align: right;\">\n      <th></th>\n      <th>no_have</th>\n      <th>have</th>\n    </tr>\n    <tr>\n      <th>target</th>\n      <th></th>\n      <th></th>\n    </tr>\n  </thead>\n  <tbody>\n    <tr>\n      <th>0</th>\n      <td>2771</td>\n      <td>25031</td>\n    </tr>\n    <tr>\n      <th>1</th>\n      <td>192</td>\n      <td>2006</td>\n    </tr>\n  </tbody>\n</table>\n</div>"
     },
     "execution_count": 159,
     "metadata": {},
     "output_type": "execute_result"
    },
    {
     "data": {
      "text/plain": "array(['I', 'E', 'F', 'D', 'J', 'G', 'H', '不详'], dtype=object)"
     },
     "execution_count": 159,
     "metadata": {},
     "output_type": "execute_result"
    }
   ],
   "execution_count": 159
  },
  {
   "cell_type": "code",
   "metadata": {
    "execution": {
     "iopub.execute_input": "2022-10-07T05:37:37.049933Z",
     "iopub.status.busy": "2022-10-07T05:37:37.048740Z",
     "iopub.status.idle": "2022-10-07T05:37:37.352995Z",
     "shell.execute_reply": "2022-10-07T05:37:37.351714Z",
     "shell.execute_reply.started": "2022-10-07T05:37:37.049847Z"
    },
    "scrolled": true,
    "collapsed": false,
    "tags": [],
    "slideshow": {
     "slide_type": "slide"
    },
    "id": "2D56F2F98D7C4DB9B3CB1F573CF97A5B",
    "notebookId": "6526c6dd33c91e228dc529c8",
    "trusted": true,
    "ExecuteTime": {
     "end_time": "2023-11-05T11:19:28.172508900Z",
     "start_time": "2023-11-05T11:19:27.843444200Z"
    }
   },
   "source": [
    "## 处理WeblogInfo_21 缺失\n",
    "train_master['WeblogInfo_21'].unique()\n",
    "#fig = plt.figure()\n",
    "#fig.set(alpha=0.2)\n",
    "target_WeblogInfo_21_not = train_master.target[train_master.WeblogInfo_21.isnull()].value_counts()\n",
    "target_WeblogInfo_21_ = train_master.target[train_master.WeblogInfo_21.notnull()].value_counts()\n",
    "df_WeblogInfo_21 = pd.DataFrame({'no_have':target_WeblogInfo_21_not,'have':target_WeblogInfo_21_})\n",
    "df_WeblogInfo_21\n",
    "\n",
    "df_WeblogInfo_21.plot(kind='bar', stacked=True)\n",
    "plt.title(u'有无这个特征对结果的影响', fontproperties=myfont)\n",
    "plt.xlabel(u'有无', fontproperties=myfont)\n",
    "plt.ylabel(u'违约情况', fontproperties=myfont)\n",
    "plt.show()"
   ],
   "outputs": [
    {
     "data": {
      "text/plain": "array(['D', 'C', 'A', 'B', nan], dtype=object)"
     },
     "execution_count": 160,
     "metadata": {},
     "output_type": "execute_result"
    },
    {
     "data": {
      "text/plain": "        no_have   have\ntarget                \n0          2878  24924\n1           196   2002",
      "text/html": "<div>\n<style scoped>\n    .dataframe tbody tr th:only-of-type {\n        vertical-align: middle;\n    }\n\n    .dataframe tbody tr th {\n        vertical-align: top;\n    }\n\n    .dataframe thead th {\n        text-align: right;\n    }\n</style>\n<table border=\"1\" class=\"dataframe\">\n  <thead>\n    <tr style=\"text-align: right;\">\n      <th></th>\n      <th>no_have</th>\n      <th>have</th>\n    </tr>\n    <tr>\n      <th>target</th>\n      <th></th>\n      <th></th>\n    </tr>\n  </thead>\n  <tbody>\n    <tr>\n      <th>0</th>\n      <td>2878</td>\n      <td>24924</td>\n    </tr>\n    <tr>\n      <th>1</th>\n      <td>196</td>\n      <td>2002</td>\n    </tr>\n  </tbody>\n</table>\n</div>"
     },
     "execution_count": 160,
     "metadata": {},
     "output_type": "execute_result"
    },
    {
     "data": {
      "text/plain": "<Axes: xlabel='target'>"
     },
     "execution_count": 160,
     "metadata": {},
     "output_type": "execute_result"
    },
    {
     "data": {
      "text/plain": "Text(0.5, 1.0, '有无这个特征对结果的影响')"
     },
     "execution_count": 160,
     "metadata": {},
     "output_type": "execute_result"
    },
    {
     "data": {
      "text/plain": "Text(0.5, 0, '有无')"
     },
     "execution_count": 160,
     "metadata": {},
     "output_type": "execute_result"
    },
    {
     "data": {
      "text/plain": "Text(0, 0.5, '违约情况')"
     },
     "execution_count": 160,
     "metadata": {},
     "output_type": "execute_result"
    },
    {
     "data": {
      "text/plain": "<Figure size 1200x400 with 1 Axes>",
      "image/png": "[encoded data removed]"
     },
     "metadata": {},
     "output_type": "display_data"
    }
   ],
   "execution_count": 160
  },
  {
   "cell_type": "code",
   "metadata": {
    "execution": {
     "iopub.execute_input": "2022-10-07T05:37:41.410545Z",
     "iopub.status.busy": "2022-10-07T05:37:41.409033Z",
     "iopub.status.idle": "2022-10-07T05:37:41.425918Z",
     "shell.execute_reply": "2022-10-07T05:37:41.424636Z",
     "shell.execute_reply.started": "2022-10-07T05:37:41.410485Z"
    },
    "scrolled": true,
    "collapsed": false,
    "tags": [],
    "slideshow": {
     "slide_type": "slide"
    },
    "id": "C19EAC1B10F140D69E06ED5B0BCA99B7",
    "notebookId": "6526c6dd33c91e228dc529c8",
    "trusted": true,
    "ExecuteTime": {
     "end_time": "2023-11-05T11:19:28.173506500Z",
     "start_time": "2023-11-05T11:19:27.982314400Z"
    }
   },
   "source": [
    "#train_master['WeblogInfo_21'] =train_master['WeblogInfo_21'].astype(str)\n",
    "train_master.loc[(train_master.WeblogInfo_21.isnull() , 'WeblogInfo_21')] = '0'\n",
    "train_master['WeblogInfo_21'].unique()"
   ],
   "outputs": [
    {
     "data": {
      "text/plain": "array(['D', 'C', 'A', 'B', '0'], dtype=object)"
     },
     "execution_count": 161,
     "metadata": {},
     "output_type": "execute_result"
    }
   ],
   "execution_count": 161
  },
  {
   "cell_type": "markdown",
   "metadata": {
    "scrolled": false,
    "tags": [],
    "slideshow": {
     "slide_type": "slide"
    },
    "id": "956CF613078B4DCB8DF5792E42DF24E3",
    "runtime": {
     "status": "default",
     "execution_status": "",
     "is_visible": false
    },
    "notebookId": "6526c6dd33c91e228dc529c8"
   },
   "source": [
    "### 数据预处理与特征工程"
   ]
  },
  {
   "cell_type": "code",
   "metadata": {
    "execution": {
     "iopub.execute_input": "2022-10-07T05:37:57.131466Z",
     "iopub.status.busy": "2022-10-07T05:37:57.130751Z",
     "iopub.status.idle": "2022-10-07T05:37:57.195963Z",
     "shell.execute_reply": "2022-10-07T05:37:57.194871Z",
     "shell.execute_reply.started": "2022-10-07T05:37:57.131426Z"
    },
    "scrolled": true,
    "collapsed": false,
    "tags": [],
    "slideshow": {
     "slide_type": "slide"
    },
    "id": "5968FE995C9947B9999CCD3A0ECCD2DA",
    "notebookId": "6526c6dd33c91e228dc529c8",
    "trusted": true,
    "ExecuteTime": {
     "end_time": "2023-11-05T11:19:28.177495400Z",
     "start_time": "2023-11-05T11:19:27.990513600Z"
    }
   },
   "source": [
    "## 其余缺失值很少的就用均值或众数填充\n",
    "len(train_master['UserInfo_2'].value_counts()) ## 城市地理位置\n",
    "len(train_master['UserInfo_4'].value_counts())## 城市地理位置\n",
    "len(train_master['UserInfo_8'].value_counts())## 城市地理位置\n",
    "len(train_master['UserInfo_9'].unique())## 城市地理位置\n",
    "len(train_master['UserInfo_20'].value_counts())## 城市地理位置\n",
    "len(train_master['UserInfo_7'].unique())## 省份地理位置\n",
    "len(train_master['UserInfo_19'].unique())## 省份地理位置\n",
    "\n",
    "# 如果选择以0填充，下述部分就维持现状，如果选择中位数/众数填充，就把下述的部分注释掉\n",
    "# train_master.loc[(train_master.UserInfo_2.isnull() , 'UserInfo_2')] = '0'\n",
    "# train_master.loc[(train_master.UserInfo_4.isnull() , 'UserInfo_4')] = '0'\n",
    "# train_master.loc[(train_master.UserInfo_8.isnull() , 'UserInfo_8')] = '0'\n",
    "# train_master.loc[(train_master.UserInfo_9.isnull() , 'UserInfo_9')] = '0'\n",
    "# train_master.loc[(train_master.UserInfo_20.isnull() , 'UserInfo_20')] = '0'\n",
    "# train_master.loc[(train_master.UserInfo_7.isnull() , 'UserInfo_7')] = '0'\n",
    "# train_master.loc[(train_master.UserInfo_19.isnull() , 'UserInfo_19')] = '0'"
   ],
   "outputs": [
    {
     "data": {
      "text/plain": "327"
     },
     "execution_count": 162,
     "metadata": {},
     "output_type": "execute_result"
    },
    {
     "data": {
      "text/plain": "330"
     },
     "execution_count": 162,
     "metadata": {},
     "output_type": "execute_result"
    },
    {
     "data": {
      "text/plain": "655"
     },
     "execution_count": 162,
     "metadata": {},
     "output_type": "execute_result"
    },
    {
     "data": {
      "text/plain": "7"
     },
     "execution_count": 162,
     "metadata": {},
     "output_type": "execute_result"
    },
    {
     "data": {
      "text/plain": "297"
     },
     "execution_count": 162,
     "metadata": {},
     "output_type": "execute_result"
    },
    {
     "data": {
      "text/plain": "32"
     },
     "execution_count": 162,
     "metadata": {},
     "output_type": "execute_result"
    },
    {
     "data": {
      "text/plain": "31"
     },
     "execution_count": 162,
     "metadata": {},
     "output_type": "execute_result"
    }
   ],
   "execution_count": 162
  },
  {
   "cell_type": "code",
   "metadata": {
    "execution": {
     "iopub.execute_input": "2022-10-07T05:38:27.492149Z",
     "iopub.status.busy": "2022-10-07T05:38:27.490639Z",
     "iopub.status.idle": "2022-10-07T05:38:33.302251Z",
     "shell.execute_reply": "2022-10-07T05:38:33.301018Z",
     "shell.execute_reply.started": "2022-10-07T05:38:27.492103Z"
    },
    "scrolled": true,
    "collapsed": false,
    "tags": [],
    "slideshow": {
     "slide_type": "slide"
    },
    "id": "D195E352FC5D429FA895B014129D004B",
    "notebookId": "6526c6dd33c91e228dc529c8",
    "trusted": true,
    "ExecuteTime": {
     "end_time": "2023-11-05T11:19:28.480705900Z",
     "start_time": "2023-11-05T11:19:28.019667700Z"
    }
   },
   "source": [
    "## 用众数填充缺失值\n",
    "categoric_cols = ['UserInfo_1' ,'UserInfo_2' ,'UserInfo_3' ,'UserInfo_4' , 'UserInfo_5' ,'UserInfo_6','UserInfo_7','UserInfo_8','UserInfo_9','UserInfo_11','UserInfo_12','UserInfo_13','UserInfo_14','UserInfo_15','UserInfo_16','UserInfo_17','UserInfo_19','UserInfo_20','UserInfo_21','UserInfo_22','UserInfo_23','UserInfo_24','Education_Info1','Education_Info2','Education_Info3','Education_Info4','Education_Info5','Education_Info6','Education_Info7','Education_Info8','WeblogInfo_19','WeblogInfo_20','WeblogInfo_21','SocialNetwork_1','SocialNetwork_2','SocialNetwork_7','SocialNetwork_12']\n",
    "# for col in categoric_cols:\n",
    "#     mode_cols = train_master[col].mode()[0]\n",
    "#     train_master.loc[(train_master[col].isnull() , col)] = mode_cols \n",
    "    \n",
    "## 用均值填充缺失值 \n",
    "numeric_cols = []\n",
    "for col in train_master.columns:\n",
    "    if col not in categoric_cols and col !=u'Idx' and col !=u'target' and col !='ListingInfo':\n",
    "        mean_cols = train_master[col].mean()\n",
    "        train_master.loc[(train_master[col].isnull() , col)] = mean_cols   \n",
    "  \n",
    "y_train = train_master['target'].values"
   ],
   "outputs": [],
   "execution_count": 163
  },
  {
   "cell_type": "code",
   "metadata": {
    "execution": {
     "iopub.execute_input": "2022-10-07T05:40:09.907069Z",
     "iopub.status.busy": "2022-10-07T05:40:09.905777Z",
     "iopub.status.idle": "2022-10-07T05:40:10.866252Z",
     "shell.execute_reply": "2022-10-07T05:40:10.865127Z",
     "shell.execute_reply.started": "2022-10-07T05:40:09.907025Z"
    },
    "scrolled": true,
    "collapsed": false,
    "tags": [],
    "slideshow": {
     "slide_type": "slide"
    },
    "id": "2A830BD88C91452295D9B7FD4986666D",
    "notebookId": "6526c6dd33c91e228dc529c8",
    "trusted": true,
    "ExecuteTime": {
     "end_time": "2023-11-05T11:19:28.730908500Z",
     "start_time": "2023-11-05T11:19:28.107684200Z"
    }
   },
   "source": [
    "import re\n",
    "## 去掉空格\n",
    "train_master['UserInfo_9'] = train_master['UserInfo_9'].apply(lambda x: x.strip())\n",
    "## 去掉大小写\n",
    "train_userupdateinfo['UserupdateInfo1'] =train_userupdateinfo['UserupdateInfo1'].apply(lambda x:x.lower())\n",
    "## 将UserInfo_8中城市名归一化\n",
    "def encodingstr(s):\n",
    "    regex = re.compile(r'.+市')\n",
    "    if regex.search(s):\n",
    "        s = s[:-1]\n",
    "        return s\n",
    "    else:\n",
    "        return s\n",
    "train_master['UserInfo_8'] =train_master['UserInfo_8'].apply(lambda x: encodingstr(x))\n",
    "train_userupdateinfo.to_csv('./train_userupdateinfo.csv',index=False,encoding='utf-8')"
   ],
   "outputs": [],
   "execution_count": 164
  },
  {
   "cell_type": "code",
   "metadata": {
    "execution": {
     "iopub.execute_input": "2022-10-07T05:40:24.819224Z",
     "iopub.status.busy": "2022-10-07T05:40:24.818300Z",
     "iopub.status.idle": "2022-10-07T05:40:24.844130Z",
     "shell.execute_reply": "2022-10-07T05:40:24.843232Z",
     "shell.execute_reply.started": "2022-10-07T05:40:24.819178Z"
    },
    "scrolled": true,
    "collapsed": false,
    "tags": [],
    "slideshow": {
     "slide_type": "slide"
    },
    "id": "33B48F8B6CF24092B20FCD626D840B78",
    "notebookId": "6526c6dd33c91e228dc529c8",
    "trusted": true,
    "ExecuteTime": {
     "end_time": "2023-11-05T11:19:28.746842900Z",
     "start_time": "2023-11-05T11:19:28.655475300Z"
    }
   },
   "source": [
    "## UserInfo_2处理\n",
    "dummies_UserInfo_2 = pd.get_dummies(train_master['UserInfo_2'] , prefix='UserInfo_2')\n",
    "dummies_UserInfo_2.head()\n",
    "dummies_UserInfo_2.shape"
   ],
   "outputs": [
    {
     "data": {
      "text/plain": "   UserInfo_2_七台河  UserInfo_2_三明  UserInfo_2_三门峡  UserInfo_2_上海  \\\n0           False          False           False          False   \n1           False          False           False          False   \n2           False          False           False          False   \n3           False          False           False          False   \n4           False          False           False          False   \n\n   UserInfo_2_上饶  UserInfo_2_东莞  UserInfo_2_东营  UserInfo_2_中山  \\\n0          False          False          False          False   \n1          False          False          False          False   \n2          False          False          False          False   \n3          False          False          False          False   \n4          False          False          False          False   \n\n   UserInfo_2_临夏回族自治州  UserInfo_2_临汾  ...  UserInfo_2_鹰潭  UserInfo_2_黄冈  \\\n0               False          False  ...          False          False   \n1               False          False  ...          False          False   \n2               False          False  ...          False          False   \n3               False          False  ...          False          False   \n4               False          False  ...          False          False   \n\n   UserInfo_2_黄山  UserInfo_2_黄石  UserInfo_2_黑河  UserInfo_2_黔东南  UserInfo_2_黔南  \\\n0          False          False          False           False          False   \n1          False          False          False           False          False   \n2          False          False          False           False          False   \n3          False          False          False           False          False   \n4          False          False          False           False          False   \n\n   UserInfo_2_黔西南  UserInfo_2_齐齐哈尔  UserInfo_2_龙岩  \n0           False            False          False  \n1           False            False          False  \n2           False            False          False  \n3           False            False          False  \n4           False            False          False  \n\n[5 rows x 327 columns]",
      "text/html": "<div>\n<style scoped>\n    .dataframe tbody tr th:only-of-type {\n        vertical-align: middle;\n    }\n\n    .dataframe tbody tr th {\n        vertical-align: top;\n    }\n\n    .dataframe thead th {\n        text-align: right;\n    }\n</style>\n<table border=\"1\" class=\"dataframe\">\n  <thead>\n    <tr style=\"text-align: right;\">\n      <th></th>\n      <th>UserInfo_2_七台河</th>\n      <th>UserInfo_2_三明</th>\n      <th>UserInfo_2_三门峡</th>\n      <th>UserInfo_2_上海</th>\n      <th>UserInfo_2_上饶</th>\n      <th>UserInfo_2_东莞</th>\n      <th>UserInfo_2_东营</th>\n      <th>UserInfo_2_中山</th>\n      <th>UserInfo_2_临夏回族自治州</th>\n      <th>UserInfo_2_临汾</th>\n      <th>...</th>\n      <th>UserInfo_2_鹰潭</th>\n      <th>UserInfo_2_黄冈</th>\n      <th>UserInfo_2_黄山</th>\n      <th>UserInfo_2_黄石</th>\n      <th>UserInfo_2_黑河</th>\n      <th>UserInfo_2_黔东南</th>\n      <th>UserInfo_2_黔南</th>\n      <th>UserInfo_2_黔西南</th>\n      <th>UserInfo_2_齐齐哈尔</th>\n      <th>UserInfo_2_龙岩</th>\n    </tr>\n  </thead>\n  <tbody>\n    <tr>\n      <th>0</th>\n      <td>False</td>\n      <td>False</td>\n      <td>False</td>\n      <td>False</td>\n      <td>False</td>\n      <td>False</td>\n      <td>False</td>\n      <td>False</td>\n      <td>False</td>\n      <td>False</td>\n      <td>...</td>\n      <td>False</td>\n      <td>False</td>\n      <td>False</td>\n      <td>False</td>\n      <td>False</td>\n      <td>False</td>\n      <td>False</td>\n      <td>False</td>\n      <td>False</td>\n      <td>False</td>\n    </tr>\n    <tr>\n      <th>1</th>\n      <td>False</td>\n      <td>False</td>\n      <td>False</td>\n      <td>False</td>\n      <td>False</td>\n      <td>False</td>\n      <td>False</td>\n      <td>False</td>\n      <td>False</td>\n      <td>False</td>\n      <td>...</td>\n      <td>False</td>\n      <td>False</td>\n      <td>False</td>\n      <td>False</td>\n      <td>False</td>\n      <td>False</td>\n      <td>False</td>\n      <td>False</td>\n      <td>False</td>\n      <td>False</td>\n    </tr>\n    <tr>\n      <th>2</th>\n      <td>False</td>\n      <td>False</td>\n      <td>False</td>\n      <td>False</td>\n      <td>False</td>\n      <td>False</td>\n      <td>False</td>\n      <td>False</td>\n      <td>False</td>\n      <td>False</td>\n      <td>...</td>\n      <td>False</td>\n      <td>False</td>\n      <td>False</td>\n      <td>False</td>\n      <td>False</td>\n      <td>False</td>\n      <td>False</td>\n      <td>False</td>\n      <td>False</td>\n      <td>False</td>\n    </tr>\n    <tr>\n      <th>3</th>\n      <td>False</td>\n      <td>False</td>\n      <td>False</td>\n      <td>False</td>\n      <td>False</td>\n      <td>False</td>\n      <td>False</td>\n      <td>False</td>\n      <td>False</td>\n      <td>False</td>\n      <td>...</td>\n      <td>False</td>\n      <td>False</td>\n      <td>False</td>\n      <td>False</td>\n      <td>False</td>\n      <td>False</td>\n      <td>False</td>\n      <td>False</td>\n      <td>False</td>\n      <td>False</td>\n    </tr>\n    <tr>\n      <th>4</th>\n      <td>False</td>\n      <td>False</td>\n      <td>False</td>\n      <td>False</td>\n      <td>False</td>\n      <td>False</td>\n      <td>False</td>\n      <td>False</td>\n      <td>False</td>\n      <td>False</td>\n      <td>...</td>\n      <td>False</td>\n      <td>False</td>\n      <td>False</td>\n      <td>False</td>\n      <td>False</td>\n      <td>False</td>\n      <td>False</td>\n      <td>False</td>\n      <td>False</td>\n      <td>False</td>\n    </tr>\n  </tbody>\n</table>\n<p>5 rows × 327 columns</p>\n</div>"
     },
     "execution_count": 165,
     "metadata": {},
     "output_type": "execute_result"
    },
    {
     "data": {
      "text/plain": "(30000, 327)"
     },
     "execution_count": 165,
     "metadata": {},
     "output_type": "execute_result"
    }
   ],
   "execution_count": 165
  },
  {
   "cell_type": "code",
   "execution_count": 166,
   "outputs": [
    {
     "ename": "TypeError",
     "evalue": "could not convert string to float: '深圳'",
     "output_type": "error",
     "traceback": [
      "\u001B[1;31m---------------------------------------------------------------------------\u001B[0m",
      "\u001B[1;31mValueError\u001B[0m                                Traceback (most recent call last)",
      "File \u001B[1;32m~\\miniconda3\\Lib\\site-packages\\pandas\\core\\nanops.py:96\u001B[0m, in \u001B[0;36mdisallow.__call__.<locals>._f\u001B[1;34m(*args, **kwargs)\u001B[0m\n\u001B[0;32m     95\u001B[0m     \u001B[38;5;28;01mwith\u001B[39;00m np\u001B[38;5;241m.\u001B[39merrstate(invalid\u001B[38;5;241m=\u001B[39m\u001B[38;5;124m\"\u001B[39m\u001B[38;5;124mignore\u001B[39m\u001B[38;5;124m\"\u001B[39m):\n\u001B[1;32m---> 96\u001B[0m         \u001B[38;5;28;01mreturn\u001B[39;00m \u001B[43mf\u001B[49m\u001B[43m(\u001B[49m\u001B[38;5;241;43m*\u001B[39;49m\u001B[43margs\u001B[49m\u001B[43m,\u001B[49m\u001B[43m \u001B[49m\u001B[38;5;241;43m*\u001B[39;49m\u001B[38;5;241;43m*\u001B[39;49m\u001B[43mkwargs\u001B[49m\u001B[43m)\u001B[49m\n\u001B[0;32m     97\u001B[0m \u001B[38;5;28;01mexcept\u001B[39;00m \u001B[38;5;167;01mValueError\u001B[39;00m \u001B[38;5;28;01mas\u001B[39;00m e:\n\u001B[0;32m     98\u001B[0m     \u001B[38;5;66;03m# we want to transform an object array\u001B[39;00m\n\u001B[0;32m     99\u001B[0m     \u001B[38;5;66;03m# ValueError message to the more typical TypeError\u001B[39;00m\n\u001B[0;32m    100\u001B[0m     \u001B[38;5;66;03m# e.g. this is normally a disallowed function on\u001B[39;00m\n\u001B[0;32m    101\u001B[0m     \u001B[38;5;66;03m# object arrays that contain strings\u001B[39;00m\n",
      "File \u001B[1;32m~\\miniconda3\\Lib\\site-packages\\pandas\\core\\nanops.py:158\u001B[0m, in \u001B[0;36mbottleneck_switch.__call__.<locals>.f\u001B[1;34m(values, axis, skipna, **kwds)\u001B[0m\n\u001B[0;32m    157\u001B[0m \u001B[38;5;28;01melse\u001B[39;00m:\n\u001B[1;32m--> 158\u001B[0m     result \u001B[38;5;241m=\u001B[39m \u001B[43malt\u001B[49m\u001B[43m(\u001B[49m\u001B[43mvalues\u001B[49m\u001B[43m,\u001B[49m\u001B[43m \u001B[49m\u001B[43maxis\u001B[49m\u001B[38;5;241;43m=\u001B[39;49m\u001B[43maxis\u001B[49m\u001B[43m,\u001B[49m\u001B[43m \u001B[49m\u001B[43mskipna\u001B[49m\u001B[38;5;241;43m=\u001B[39;49m\u001B[43mskipna\u001B[49m\u001B[43m,\u001B[49m\u001B[43m \u001B[49m\u001B[38;5;241;43m*\u001B[39;49m\u001B[38;5;241;43m*\u001B[39;49m\u001B[43mkwds\u001B[49m\u001B[43m)\u001B[49m\n\u001B[0;32m    160\u001B[0m \u001B[38;5;28;01mreturn\u001B[39;00m result\n",
      "File \u001B[1;32m~\\miniconda3\\Lib\\site-packages\\pandas\\core\\nanops.py:1004\u001B[0m, in \u001B[0;36mnanvar\u001B[1;34m(values, axis, skipna, ddof, mask)\u001B[0m\n\u001B[0;32m    998\u001B[0m \u001B[38;5;66;03m# xref GH10242\u001B[39;00m\n\u001B[0;32m    999\u001B[0m \u001B[38;5;66;03m# Compute variance via two-pass algorithm, which is stable against\u001B[39;00m\n\u001B[0;32m   1000\u001B[0m \u001B[38;5;66;03m# cancellation errors and relatively accurate for small numbers of\u001B[39;00m\n\u001B[0;32m   1001\u001B[0m \u001B[38;5;66;03m# observations.\u001B[39;00m\n\u001B[0;32m   1002\u001B[0m \u001B[38;5;66;03m#\u001B[39;00m\n\u001B[0;32m   1003\u001B[0m \u001B[38;5;66;03m# See https://en.wikipedia.org/wiki/Algorithms_for_calculating_variance\u001B[39;00m\n\u001B[1;32m-> 1004\u001B[0m avg \u001B[38;5;241m=\u001B[39m _ensure_numeric(\u001B[43mvalues\u001B[49m\u001B[38;5;241;43m.\u001B[39;49m\u001B[43msum\u001B[49m\u001B[43m(\u001B[49m\u001B[43maxis\u001B[49m\u001B[38;5;241;43m=\u001B[39;49m\u001B[43maxis\u001B[49m\u001B[43m,\u001B[49m\u001B[43m \u001B[49m\u001B[43mdtype\u001B[49m\u001B[38;5;241;43m=\u001B[39;49m\u001B[43mnp\u001B[49m\u001B[38;5;241;43m.\u001B[39;49m\u001B[43mfloat64\u001B[49m\u001B[43m)\u001B[49m) \u001B[38;5;241m/\u001B[39m count\n\u001B[0;32m   1005\u001B[0m \u001B[38;5;28;01mif\u001B[39;00m axis \u001B[38;5;129;01mis\u001B[39;00m \u001B[38;5;129;01mnot\u001B[39;00m \u001B[38;5;28;01mNone\u001B[39;00m:\n",
      "File \u001B[1;32m~\\miniconda3\\Lib\\site-packages\\numpy\\core\\_methods.py:49\u001B[0m, in \u001B[0;36m_sum\u001B[1;34m(a, axis, dtype, out, keepdims, initial, where)\u001B[0m\n\u001B[0;32m     47\u001B[0m \u001B[38;5;28;01mdef\u001B[39;00m \u001B[38;5;21m_sum\u001B[39m(a, axis\u001B[38;5;241m=\u001B[39m\u001B[38;5;28;01mNone\u001B[39;00m, dtype\u001B[38;5;241m=\u001B[39m\u001B[38;5;28;01mNone\u001B[39;00m, out\u001B[38;5;241m=\u001B[39m\u001B[38;5;28;01mNone\u001B[39;00m, keepdims\u001B[38;5;241m=\u001B[39m\u001B[38;5;28;01mFalse\u001B[39;00m,\n\u001B[0;32m     48\u001B[0m          initial\u001B[38;5;241m=\u001B[39m_NoValue, where\u001B[38;5;241m=\u001B[39m\u001B[38;5;28;01mTrue\u001B[39;00m):\n\u001B[1;32m---> 49\u001B[0m     \u001B[38;5;28;01mreturn\u001B[39;00m umr_sum(a, axis, dtype, out, keepdims, initial, where)\n",
      "\u001B[1;31mValueError\u001B[0m: could not convert string to float: '深圳'",
      "\nThe above exception was the direct cause of the following exception:\n",
      "\u001B[1;31mTypeError\u001B[0m                                 Traceback (most recent call last)",
      "Cell \u001B[1;32mIn[166], line 2\u001B[0m\n\u001B[0;32m      1\u001B[0m \u001B[38;5;66;03m## 剔除标准差几乎为零的特征项\u001B[39;00m\n\u001B[1;32m----> 2\u001B[0m feature_std \u001B[38;5;241m=\u001B[39m \u001B[43mtrain_master\u001B[49m\u001B[38;5;241;43m.\u001B[39;49m\u001B[43mstd\u001B[49m\u001B[43m(\u001B[49m\u001B[43m)\u001B[49m\u001B[38;5;241m.\u001B[39msort_values(ascending\u001B[38;5;241m=\u001B[39m\u001B[38;5;28;01mTrue\u001B[39;00m)\n\u001B[0;32m      3\u001B[0m feature_std\u001B[38;5;241m.\u001B[39mhead(\u001B[38;5;241m20\u001B[39m)\n\u001B[0;32m      4\u001B[0m train_master\u001B[38;5;241m.\u001B[39mdrop([],axis\u001B[38;5;241m=\u001B[39m\u001B[38;5;241m1\u001B[39m,inplace\u001B[38;5;241m=\u001B[39m\u001B[38;5;28;01mTrue\u001B[39;00m)\n",
      "File \u001B[1;32m~\\miniconda3\\Lib\\site-packages\\pandas\\core\\generic.py:11424\u001B[0m, in \u001B[0;36mNDFrame._add_numeric_operations.<locals>.std\u001B[1;34m(self, axis, skipna, ddof, numeric_only, **kwargs)\u001B[0m\n\u001B[0;32m  11405\u001B[0m \u001B[38;5;129m@doc\u001B[39m(\n\u001B[0;32m  11406\u001B[0m     _num_ddof_doc,\n\u001B[0;32m  11407\u001B[0m     desc\u001B[38;5;241m=\u001B[39m\u001B[38;5;124m\"\u001B[39m\u001B[38;5;124mReturn sample standard deviation over requested axis.\u001B[39m\u001B[38;5;124m\"\u001B[39m\n\u001B[1;32m   (...)\u001B[0m\n\u001B[0;32m  11422\u001B[0m     \u001B[38;5;241m*\u001B[39m\u001B[38;5;241m*\u001B[39mkwargs,\n\u001B[0;32m  11423\u001B[0m ):\n\u001B[1;32m> 11424\u001B[0m     \u001B[38;5;28;01mreturn\u001B[39;00m \u001B[43mNDFrame\u001B[49m\u001B[38;5;241;43m.\u001B[39;49m\u001B[43mstd\u001B[49m\u001B[43m(\u001B[49m\u001B[38;5;28;43mself\u001B[39;49m\u001B[43m,\u001B[49m\u001B[43m \u001B[49m\u001B[43maxis\u001B[49m\u001B[43m,\u001B[49m\u001B[43m \u001B[49m\u001B[43mskipna\u001B[49m\u001B[43m,\u001B[49m\u001B[43m \u001B[49m\u001B[43mddof\u001B[49m\u001B[43m,\u001B[49m\u001B[43m \u001B[49m\u001B[43mnumeric_only\u001B[49m\u001B[43m,\u001B[49m\u001B[43m \u001B[49m\u001B[38;5;241;43m*\u001B[39;49m\u001B[38;5;241;43m*\u001B[39;49m\u001B[43mkwargs\u001B[49m\u001B[43m)\u001B[49m\n",
      "File \u001B[1;32m~\\miniconda3\\Lib\\site-packages\\pandas\\core\\generic.py:11137\u001B[0m, in \u001B[0;36mNDFrame.std\u001B[1;34m(self, axis, skipna, ddof, numeric_only, **kwargs)\u001B[0m\n\u001B[0;32m  11129\u001B[0m \u001B[38;5;28;01mdef\u001B[39;00m \u001B[38;5;21mstd\u001B[39m(\n\u001B[0;32m  11130\u001B[0m     \u001B[38;5;28mself\u001B[39m,\n\u001B[0;32m  11131\u001B[0m     axis: Axis \u001B[38;5;241m|\u001B[39m \u001B[38;5;28;01mNone\u001B[39;00m \u001B[38;5;241m=\u001B[39m \u001B[38;5;28;01mNone\u001B[39;00m,\n\u001B[1;32m   (...)\u001B[0m\n\u001B[0;32m  11135\u001B[0m     \u001B[38;5;241m*\u001B[39m\u001B[38;5;241m*\u001B[39mkwargs,\n\u001B[0;32m  11136\u001B[0m ) \u001B[38;5;241m-\u001B[39m\u001B[38;5;241m>\u001B[39m Series \u001B[38;5;241m|\u001B[39m \u001B[38;5;28mfloat\u001B[39m:\n\u001B[1;32m> 11137\u001B[0m     \u001B[38;5;28;01mreturn\u001B[39;00m \u001B[38;5;28;43mself\u001B[39;49m\u001B[38;5;241;43m.\u001B[39;49m\u001B[43m_stat_function_ddof\u001B[49m\u001B[43m(\u001B[49m\n\u001B[0;32m  11138\u001B[0m \u001B[43m        \u001B[49m\u001B[38;5;124;43m\"\u001B[39;49m\u001B[38;5;124;43mstd\u001B[39;49m\u001B[38;5;124;43m\"\u001B[39;49m\u001B[43m,\u001B[49m\u001B[43m \u001B[49m\u001B[43mnanops\u001B[49m\u001B[38;5;241;43m.\u001B[39;49m\u001B[43mnanstd\u001B[49m\u001B[43m,\u001B[49m\u001B[43m \u001B[49m\u001B[43maxis\u001B[49m\u001B[43m,\u001B[49m\u001B[43m \u001B[49m\u001B[43mskipna\u001B[49m\u001B[43m,\u001B[49m\u001B[43m \u001B[49m\u001B[43mddof\u001B[49m\u001B[43m,\u001B[49m\u001B[43m \u001B[49m\u001B[43mnumeric_only\u001B[49m\u001B[43m,\u001B[49m\u001B[43m \u001B[49m\u001B[38;5;241;43m*\u001B[39;49m\u001B[38;5;241;43m*\u001B[39;49m\u001B[43mkwargs\u001B[49m\n\u001B[0;32m  11139\u001B[0m \u001B[43m    \u001B[49m\u001B[43m)\u001B[49m\n",
      "File \u001B[1;32m~\\miniconda3\\Lib\\site-packages\\pandas\\core\\generic.py:11101\u001B[0m, in \u001B[0;36mNDFrame._stat_function_ddof\u001B[1;34m(self, name, func, axis, skipna, ddof, numeric_only, **kwargs)\u001B[0m\n\u001B[0;32m  11098\u001B[0m \u001B[38;5;28;01mif\u001B[39;00m axis \u001B[38;5;129;01mis\u001B[39;00m \u001B[38;5;28;01mNone\u001B[39;00m:\n\u001B[0;32m  11099\u001B[0m     axis \u001B[38;5;241m=\u001B[39m \u001B[38;5;28mself\u001B[39m\u001B[38;5;241m.\u001B[39m_stat_axis_number\n\u001B[1;32m> 11101\u001B[0m \u001B[38;5;28;01mreturn\u001B[39;00m \u001B[38;5;28;43mself\u001B[39;49m\u001B[38;5;241;43m.\u001B[39;49m\u001B[43m_reduce\u001B[49m\u001B[43m(\u001B[49m\n\u001B[0;32m  11102\u001B[0m \u001B[43m    \u001B[49m\u001B[43mfunc\u001B[49m\u001B[43m,\u001B[49m\u001B[43m \u001B[49m\u001B[43mname\u001B[49m\u001B[43m,\u001B[49m\u001B[43m \u001B[49m\u001B[43maxis\u001B[49m\u001B[38;5;241;43m=\u001B[39;49m\u001B[43maxis\u001B[49m\u001B[43m,\u001B[49m\u001B[43m \u001B[49m\u001B[43mnumeric_only\u001B[49m\u001B[38;5;241;43m=\u001B[39;49m\u001B[43mnumeric_only\u001B[49m\u001B[43m,\u001B[49m\u001B[43m \u001B[49m\u001B[43mskipna\u001B[49m\u001B[38;5;241;43m=\u001B[39;49m\u001B[43mskipna\u001B[49m\u001B[43m,\u001B[49m\u001B[43m \u001B[49m\u001B[43mddof\u001B[49m\u001B[38;5;241;43m=\u001B[39;49m\u001B[43mddof\u001B[49m\n\u001B[0;32m  11103\u001B[0m \u001B[43m\u001B[49m\u001B[43m)\u001B[49m\n",
      "File \u001B[1;32m~\\miniconda3\\Lib\\site-packages\\pandas\\core\\frame.py:10519\u001B[0m, in \u001B[0;36mDataFrame._reduce\u001B[1;34m(self, op, name, axis, skipna, numeric_only, filter_type, **kwds)\u001B[0m\n\u001B[0;32m  10515\u001B[0m     df \u001B[38;5;241m=\u001B[39m df\u001B[38;5;241m.\u001B[39mT\n\u001B[0;32m  10517\u001B[0m \u001B[38;5;66;03m# After possibly _get_data and transposing, we are now in the\u001B[39;00m\n\u001B[0;32m  10518\u001B[0m \u001B[38;5;66;03m#  simple case where we can use BlockManager.reduce\u001B[39;00m\n\u001B[1;32m> 10519\u001B[0m res \u001B[38;5;241m=\u001B[39m \u001B[43mdf\u001B[49m\u001B[38;5;241;43m.\u001B[39;49m\u001B[43m_mgr\u001B[49m\u001B[38;5;241;43m.\u001B[39;49m\u001B[43mreduce\u001B[49m\u001B[43m(\u001B[49m\u001B[43mblk_func\u001B[49m\u001B[43m)\u001B[49m\n\u001B[0;32m  10520\u001B[0m out \u001B[38;5;241m=\u001B[39m df\u001B[38;5;241m.\u001B[39m_constructor(res)\u001B[38;5;241m.\u001B[39miloc[\u001B[38;5;241m0\u001B[39m]\n\u001B[0;32m  10521\u001B[0m \u001B[38;5;28;01mif\u001B[39;00m out_dtype \u001B[38;5;129;01mis\u001B[39;00m \u001B[38;5;129;01mnot\u001B[39;00m \u001B[38;5;28;01mNone\u001B[39;00m:\n",
      "File \u001B[1;32m~\\miniconda3\\Lib\\site-packages\\pandas\\core\\internals\\managers.py:1534\u001B[0m, in \u001B[0;36mBlockManager.reduce\u001B[1;34m(self, func)\u001B[0m\n\u001B[0;32m   1532\u001B[0m res_blocks: \u001B[38;5;28mlist\u001B[39m[Block] \u001B[38;5;241m=\u001B[39m []\n\u001B[0;32m   1533\u001B[0m \u001B[38;5;28;01mfor\u001B[39;00m blk \u001B[38;5;129;01min\u001B[39;00m \u001B[38;5;28mself\u001B[39m\u001B[38;5;241m.\u001B[39mblocks:\n\u001B[1;32m-> 1534\u001B[0m     nbs \u001B[38;5;241m=\u001B[39m \u001B[43mblk\u001B[49m\u001B[38;5;241;43m.\u001B[39;49m\u001B[43mreduce\u001B[49m\u001B[43m(\u001B[49m\u001B[43mfunc\u001B[49m\u001B[43m)\u001B[49m\n\u001B[0;32m   1535\u001B[0m     res_blocks\u001B[38;5;241m.\u001B[39mextend(nbs)\n\u001B[0;32m   1537\u001B[0m index \u001B[38;5;241m=\u001B[39m Index([\u001B[38;5;28;01mNone\u001B[39;00m])  \u001B[38;5;66;03m# placeholder\u001B[39;00m\n",
      "File \u001B[1;32m~\\miniconda3\\Lib\\site-packages\\pandas\\core\\internals\\blocks.py:339\u001B[0m, in \u001B[0;36mBlock.reduce\u001B[1;34m(self, func)\u001B[0m\n\u001B[0;32m    333\u001B[0m \u001B[38;5;129m@final\u001B[39m\n\u001B[0;32m    334\u001B[0m \u001B[38;5;28;01mdef\u001B[39;00m \u001B[38;5;21mreduce\u001B[39m(\u001B[38;5;28mself\u001B[39m, func) \u001B[38;5;241m-\u001B[39m\u001B[38;5;241m>\u001B[39m \u001B[38;5;28mlist\u001B[39m[Block]:\n\u001B[0;32m    335\u001B[0m     \u001B[38;5;66;03m# We will apply the function and reshape the result into a single-row\u001B[39;00m\n\u001B[0;32m    336\u001B[0m     \u001B[38;5;66;03m#  Block with the same mgr_locs; squeezing will be done at a higher level\u001B[39;00m\n\u001B[0;32m    337\u001B[0m     \u001B[38;5;28;01massert\u001B[39;00m \u001B[38;5;28mself\u001B[39m\u001B[38;5;241m.\u001B[39mndim \u001B[38;5;241m==\u001B[39m \u001B[38;5;241m2\u001B[39m\n\u001B[1;32m--> 339\u001B[0m     result \u001B[38;5;241m=\u001B[39m \u001B[43mfunc\u001B[49m\u001B[43m(\u001B[49m\u001B[38;5;28;43mself\u001B[39;49m\u001B[38;5;241;43m.\u001B[39;49m\u001B[43mvalues\u001B[49m\u001B[43m)\u001B[49m\n\u001B[0;32m    341\u001B[0m     \u001B[38;5;28;01mif\u001B[39;00m \u001B[38;5;28mself\u001B[39m\u001B[38;5;241m.\u001B[39mvalues\u001B[38;5;241m.\u001B[39mndim \u001B[38;5;241m==\u001B[39m \u001B[38;5;241m1\u001B[39m:\n\u001B[0;32m    342\u001B[0m         \u001B[38;5;66;03m# TODO(EA2D): special case not needed with 2D EAs\u001B[39;00m\n\u001B[0;32m    343\u001B[0m         res_values \u001B[38;5;241m=\u001B[39m np\u001B[38;5;241m.\u001B[39marray([[result]])\n",
      "File \u001B[1;32m~\\miniconda3\\Lib\\site-packages\\pandas\\core\\frame.py:10482\u001B[0m, in \u001B[0;36mDataFrame._reduce.<locals>.blk_func\u001B[1;34m(values, axis)\u001B[0m\n\u001B[0;32m  10480\u001B[0m     \u001B[38;5;28;01mreturn\u001B[39;00m values\u001B[38;5;241m.\u001B[39m_reduce(name, skipna\u001B[38;5;241m=\u001B[39mskipna, \u001B[38;5;241m*\u001B[39m\u001B[38;5;241m*\u001B[39mkwds)\n\u001B[0;32m  10481\u001B[0m \u001B[38;5;28;01melse\u001B[39;00m:\n\u001B[1;32m> 10482\u001B[0m     \u001B[38;5;28;01mreturn\u001B[39;00m \u001B[43mop\u001B[49m\u001B[43m(\u001B[49m\u001B[43mvalues\u001B[49m\u001B[43m,\u001B[49m\u001B[43m \u001B[49m\u001B[43maxis\u001B[49m\u001B[38;5;241;43m=\u001B[39;49m\u001B[43maxis\u001B[49m\u001B[43m,\u001B[49m\u001B[43m \u001B[49m\u001B[43mskipna\u001B[49m\u001B[38;5;241;43m=\u001B[39;49m\u001B[43mskipna\u001B[49m\u001B[43m,\u001B[49m\u001B[43m \u001B[49m\u001B[38;5;241;43m*\u001B[39;49m\u001B[38;5;241;43m*\u001B[39;49m\u001B[43mkwds\u001B[49m\u001B[43m)\u001B[49m\n",
      "File \u001B[1;32m~\\miniconda3\\Lib\\site-packages\\pandas\\core\\nanops.py:158\u001B[0m, in \u001B[0;36mbottleneck_switch.__call__.<locals>.f\u001B[1;34m(values, axis, skipna, **kwds)\u001B[0m\n\u001B[0;32m    156\u001B[0m         result \u001B[38;5;241m=\u001B[39m alt(values, axis\u001B[38;5;241m=\u001B[39maxis, skipna\u001B[38;5;241m=\u001B[39mskipna, \u001B[38;5;241m*\u001B[39m\u001B[38;5;241m*\u001B[39mkwds)\n\u001B[0;32m    157\u001B[0m \u001B[38;5;28;01melse\u001B[39;00m:\n\u001B[1;32m--> 158\u001B[0m     result \u001B[38;5;241m=\u001B[39m \u001B[43malt\u001B[49m\u001B[43m(\u001B[49m\u001B[43mvalues\u001B[49m\u001B[43m,\u001B[49m\u001B[43m \u001B[49m\u001B[43maxis\u001B[49m\u001B[38;5;241;43m=\u001B[39;49m\u001B[43maxis\u001B[49m\u001B[43m,\u001B[49m\u001B[43m \u001B[49m\u001B[43mskipna\u001B[49m\u001B[38;5;241;43m=\u001B[39;49m\u001B[43mskipna\u001B[49m\u001B[43m,\u001B[49m\u001B[43m \u001B[49m\u001B[38;5;241;43m*\u001B[39;49m\u001B[38;5;241;43m*\u001B[39;49m\u001B[43mkwds\u001B[49m\u001B[43m)\u001B[49m\n\u001B[0;32m    160\u001B[0m \u001B[38;5;28;01mreturn\u001B[39;00m result\n",
      "File \u001B[1;32m~\\miniconda3\\Lib\\site-packages\\pandas\\core\\nanops.py:940\u001B[0m, in \u001B[0;36mnanstd\u001B[1;34m(values, axis, skipna, ddof, mask)\u001B[0m\n\u001B[0;32m    937\u001B[0m orig_dtype \u001B[38;5;241m=\u001B[39m values\u001B[38;5;241m.\u001B[39mdtype\n\u001B[0;32m    938\u001B[0m values, mask, _, _, _ \u001B[38;5;241m=\u001B[39m _get_values(values, skipna, mask\u001B[38;5;241m=\u001B[39mmask)\n\u001B[1;32m--> 940\u001B[0m result \u001B[38;5;241m=\u001B[39m np\u001B[38;5;241m.\u001B[39msqrt(\u001B[43mnanvar\u001B[49m\u001B[43m(\u001B[49m\u001B[43mvalues\u001B[49m\u001B[43m,\u001B[49m\u001B[43m \u001B[49m\u001B[43maxis\u001B[49m\u001B[38;5;241;43m=\u001B[39;49m\u001B[43maxis\u001B[49m\u001B[43m,\u001B[49m\u001B[43m \u001B[49m\u001B[43mskipna\u001B[49m\u001B[38;5;241;43m=\u001B[39;49m\u001B[43mskipna\u001B[49m\u001B[43m,\u001B[49m\u001B[43m \u001B[49m\u001B[43mddof\u001B[49m\u001B[38;5;241;43m=\u001B[39;49m\u001B[43mddof\u001B[49m\u001B[43m,\u001B[49m\u001B[43m \u001B[49m\u001B[43mmask\u001B[49m\u001B[38;5;241;43m=\u001B[39;49m\u001B[43mmask\u001B[49m\u001B[43m)\u001B[49m)\n\u001B[0;32m    941\u001B[0m \u001B[38;5;28;01mreturn\u001B[39;00m _wrap_results(result, orig_dtype)\n",
      "File \u001B[1;32m~\\miniconda3\\Lib\\site-packages\\pandas\\core\\nanops.py:103\u001B[0m, in \u001B[0;36mdisallow.__call__.<locals>._f\u001B[1;34m(*args, **kwargs)\u001B[0m\n\u001B[0;32m     97\u001B[0m \u001B[38;5;28;01mexcept\u001B[39;00m \u001B[38;5;167;01mValueError\u001B[39;00m \u001B[38;5;28;01mas\u001B[39;00m e:\n\u001B[0;32m     98\u001B[0m     \u001B[38;5;66;03m# we want to transform an object array\u001B[39;00m\n\u001B[0;32m     99\u001B[0m     \u001B[38;5;66;03m# ValueError message to the more typical TypeError\u001B[39;00m\n\u001B[0;32m    100\u001B[0m     \u001B[38;5;66;03m# e.g. this is normally a disallowed function on\u001B[39;00m\n\u001B[0;32m    101\u001B[0m     \u001B[38;5;66;03m# object arrays that contain strings\u001B[39;00m\n\u001B[0;32m    102\u001B[0m     \u001B[38;5;28;01mif\u001B[39;00m is_object_dtype(args[\u001B[38;5;241m0\u001B[39m]):\n\u001B[1;32m--> 103\u001B[0m         \u001B[38;5;28;01mraise\u001B[39;00m \u001B[38;5;167;01mTypeError\u001B[39;00m(e) \u001B[38;5;28;01mfrom\u001B[39;00m \u001B[38;5;21;01me\u001B[39;00m\n\u001B[0;32m    104\u001B[0m     \u001B[38;5;28;01mraise\u001B[39;00m\n",
      "\u001B[1;31mTypeError\u001B[0m: could not convert string to float: '深圳'"
     ]
    }
   ],
   "source": [
    "## 剔除标准差几乎为零的特征项\n",
    "feature_std = train_master.std().sort_values(ascending=True)\n",
    "feature_std.head(20)\n",
    "train_master.drop([],axis=1,inplace=True)\n",
    "train_master['Idx'] =train_master['Idx'].astype(np.int32)\n",
    "\n",
    "for i in range(25):\n",
    "    name = 'UserInfo_'+str(i)\n",
    "    try:\n",
    "        print(train_master[name].head())\n",
    "    except:\n",
    "        pass\n",
    "        \n",
    "train_master['UserInfo_8'].head(20)"
   ],
   "metadata": {
    "collapsed": false,
    "ExecuteTime": {
     "end_time": "2023-11-05T11:19:28.889841800Z",
     "start_time": "2023-11-05T11:19:28.707950100Z"
    }
   }
  },
  {
   "cell_type": "markdown",
   "metadata": {
    "scrolled": false,
    "tags": [],
    "slideshow": {
     "slide_type": "slide"
    },
    "id": "A2658FF45FFC4F348D87C25DF5C54055",
    "runtime": {
     "status": "default",
     "execution_status": "",
     "is_visible": false
    },
    "notebookId": "6526c6dd33c91e228dc529c8"
   },
   "source": [
    "### 建模与特征重要度"
   ]
  },
  {
   "cell_type": "code",
   "metadata": {
    "execution": {
     "iopub.execute_input": "2022-10-07T05:40:41.985906Z",
     "iopub.status.busy": "2022-10-07T05:40:41.984400Z",
     "iopub.status.idle": "2022-10-07T05:43:21.358753Z",
     "shell.execute_reply": "2022-10-07T05:43:21.357748Z",
     "shell.execute_reply.started": "2022-10-07T05:40:41.985855Z"
    },
    "scrolled": true,
    "collapsed": false,
    "tags": [],
    "slideshow": {
     "slide_type": "slide"
    },
    "id": "B4A0856D22314FFD8F7FDA84DE49E5C9",
    "notebookId": "6526c6dd33c91e228dc529c8",
    "trusted": true,
    "ExecuteTime": {
     "start_time": "2023-11-05T11:19:28.827002600Z"
    }
   },
   "source": [
    "import pandas as pd\n",
    "import numpy as np\n",
    "import xgboost as xgb\n",
    "from xgboost.sklearn import XGBClassifier\n",
    "from sklearn.model_selection import GridSearchCV\n",
    "from sklearn.model_selection import cross_validate\n",
    "from sklearn import metrics\n",
    "import matplotlib.pylab as plt\n",
    "%matplotlib inline\n",
    "from matplotlib.pylab import rcParams\n",
    "rcParams['figure.figsize'] = 12, 4\n",
    "\n",
    "def modelfit(alg, dtrain,y_train, dtest=None ,useTrainCV=True, cv_folds=5, early_stopping_rounds=50):\n",
    "\n",
    "    if useTrainCV:\n",
    "        xgb_param = alg.get_xgb_params()\n",
    "        xgtrain = xgb.DMatrix(dtrain.values[:,:], label=y_train)\n",
    "        cvresult = xgb.cv(xgb_param, xgtrain, num_boost_round=alg.get_params()['n_estimators'], nfold=cv_folds ,early_stopping_rounds=early_stopping_rounds)\n",
    "        alg.set_params(n_estimators=cvresult.shape[0])\n",
    "    \n",
    "    #建模\n",
    "    alg.fit(dtrain.values[: ,:], y_train ,eval_metric='auc')\n",
    "        \n",
    "    #对训练集预测\n",
    "    dtrain_predictions = alg.predict(dtrain.values[: ,:])\n",
    "    dtrain_predprob = alg.predict_proba(dtrain.values[: ,:])[:,1]\n",
    "        \n",
    "    #输出模型的一些结果\n",
    "    #print(dtrain_predictions)\n",
    "    #print(alg.predict_proba(dtrain.as_matrix()[: ,1:]))\n",
    "    print(cvresult.shape[0])\n",
    "    print(\"\\n关于现在这个模型\")\n",
    "    print(\"准确率 : %.4g\" % metrics.accuracy_score(y_train, dtrain_predictions))\n",
    "    print(\"AUC 得分 (训练集): %f\" % metrics.roc_auc_score(y_train, dtrain_predprob))\n",
    "    \n",
    "                \n",
    "    feat_imp = pd.Series(alg.get_booster().get_fscore()).sort_values(ascending=False)\n",
    "    print(feat_imp.head(25))\n",
    "    print(feat_imp.shape)\n",
    "    feat_imp.plot(kind='bar', title='Feature Importances')\n",
    "    plt.ylabel('Feature Importance Score')\n",
    "    \n",
    "xgb1 = XGBClassifier(\n",
    "            learning_rate=0.1,\n",
    "            n_estimators =100,\n",
    "            max_depth=7,\n",
    "            min_child_weight =1,\n",
    "            gamma = 0,\n",
    "            subsample=0.8,\n",
    "            colsample_bytree = 0.8,\n",
    "            objective ='binary:logistic' ,\n",
    "            nthread=4,\n",
    "            scale_pos_weight=1,\n",
    "            seed = 27\n",
    "            )\n",
    "\n",
    "modelfit(xgb1 ,dummies_UserInfo_2  ,y_train)"
   ],
   "outputs": [],
   "execution_count": null
  },
  {
   "cell_type": "markdown",
   "metadata": {
    "scrolled": false,
    "tags": [],
    "slideshow": {
     "slide_type": "slide"
    },
    "id": "A75F76FE40154F6AA185FACCFF206F85",
    "runtime": {
     "status": "default",
     "execution_status": "",
     "is_visible": false
    },
    "notebookId": "6526c6dd33c91e228dc529c8"
   },
   "source": [
    "### 继续特征工程"
   ]
  },
  {
   "cell_type": "markdown",
   "metadata": {
    "scrolled": false,
    "tags": [],
    "slideshow": {
     "slide_type": "slide"
    },
    "id": "5A2BE44F748A4C6F940CE8F6A66481C6",
    "runtime": {
     "status": "default",
     "execution_status": "",
     "is_visible": false
    },
    "notebookId": "6526c6dd33c91e228dc529c8",
    "ExecuteTime": {
     "end_time": "2023-11-02T14:02:47.347104600Z",
     "start_time": "2023-11-02T14:02:47.315388600Z"
    }
   },
   "source": [
    "(此处省略一万步)"
   ]
  },
  {
   "cell_type": "code",
   "metadata": {
    "execution": {
     "iopub.execute_input": "2022-10-07T05:43:21.407087Z",
     "iopub.status.busy": "2022-10-07T05:43:21.406663Z",
     "iopub.status.idle": "2022-10-07T05:43:21.796941Z",
     "shell.execute_reply": "2022-10-07T05:43:21.795827Z",
     "shell.execute_reply.started": "2022-10-07T05:43:21.407056Z"
    },
    "scrolled": true,
    "collapsed": false,
    "tags": [],
    "slideshow": {
     "slide_type": "slide"
    },
    "id": "80EA7AA82F1E4D1CB7DF94C1FE53E4F6",
    "notebookId": "6526c6dd33c91e228dc529c8",
    "trusted": true,
    "ExecuteTime": {
     "start_time": "2023-11-05T11:19:28.828001Z"
    }
   },
   "source": [
    "## 借款成交时间处理\n",
    "grouped_date_1 = train_master[train_master.target ==1.0]['target'].groupby(train_master['ListingInfo']).count()\n",
    "grouped_date_1.sort_values(ascending=False)\n",
    "grouped_date_0 = train_master[train_master.target ==0.0]['target'].groupby(train_master['ListingInfo']).count()\n",
    "grouped_date_0.sort_values(ascending=False)\n",
    "plt.figure()\n",
    "plt.title(u'date')\n",
    "grouped_date_1.plot(color='r')\n",
    "grouped_date_0.plot(color='b')\n",
    "plt.show()"
   ],
   "outputs": [],
   "execution_count": null
  },
  {
   "cell_type": "code",
   "metadata": {
    "execution": {
     "iopub.execute_input": "2022-10-07T05:43:44.064767Z",
     "iopub.status.busy": "2022-10-07T05:43:44.063863Z",
     "iopub.status.idle": "2022-10-07T05:43:49.813704Z",
     "shell.execute_reply": "2022-10-07T05:43:49.812519Z",
     "shell.execute_reply.started": "2022-10-07T05:43:44.064728Z"
    },
    "scrolled": true,
    "collapsed": false,
    "tags": [],
    "slideshow": {
     "slide_type": "slide"
    },
    "id": "6918F1EA87F24284A341CA446D325C2D",
    "notebookId": "6526c6dd33c91e228dc529c8",
    "trusted": true,
    "ExecuteTime": {
     "end_time": "2023-11-05T11:19:33.851965700Z",
     "start_time": "2023-11-05T11:19:30.799287400Z"
    }
   },
   "source": [
    "## 借款日期离散化\n",
    "# 把月、日、单独拎出来，放到3列中\n",
    "train_master['month'] = pd.DatetimeIndex(train_master.ListingInfo).month\n",
    "train_master['day']  = pd.DatetimeIndex(train_master.ListingInfo).day\n",
    "train_master['day'].head()\n",
    "train_master.drop(['ListingInfo'],axis=1,inplace=True)\n",
    "train_master['target'] = train_master['target'].astype(str)\n",
    "train_master.to_csv('./train_master.csv',index=False,encoding='utf-8')"
   ],
   "outputs": [
    {
     "data": {
      "text/plain": "0     5\n1    26\n2    28\n3    25\n4    27\nName: day, dtype: int32"
     },
     "execution_count": 167,
     "metadata": {},
     "output_type": "execute_result"
    }
   ],
   "execution_count": 167
  },
  {
   "cell_type": "code",
   "execution_count": 168,
   "outputs": [
    {
     "data": {
      "text/plain": "         Idx  UserInfo_1 UserInfo_2  UserInfo_3 UserInfo_4  WeblogInfo_2  \\\n0      10001         1.0         深圳         4.0         深圳      1.000000   \n1      10002         1.0         温州         4.0         温州      0.000000   \n2      10003         1.0         宜昌         3.0         宜昌      0.000000   \n3      10006         4.0         南平         1.0         南平      0.131466   \n4      10007         5.0         辽阳         1.0         辽阳      0.000000   \n...      ...         ...        ...         ...        ...           ...   \n29995   9991         3.0         南阳         4.0         南阳      1.000000   \n29996   9992         3.0         宁德         4.0         泉州      0.000000   \n29997   9995         1.0         天津         2.0         天津      0.000000   \n29998   9997         3.0         运城         3.0         运城      0.000000   \n29999   9998         4.0         金华         5.0         无锡      0.000000   \n\n       WeblogInfo_4  WeblogInfo_5  WeblogInfo_6  WeblogInfo_7  ...  \\\n0          1.000000       1.00000      1.000000          14.0  ...   \n1          1.000000       1.00000      1.000000          14.0  ...   \n2          2.000000       2.00000      2.000000           9.0  ...   \n3          3.025962       1.81696      2.948711           2.0  ...   \n4          1.000000       1.00000      1.000000           3.0  ...   \n...             ...           ...           ...           ...  ...   \n29995      3.000000       2.00000      3.000000          10.0  ...   \n29996      6.000000       1.00000      6.000000          16.0  ...   \n29997      2.000000       2.00000      2.000000           4.0  ...   \n29998      1.000000       1.00000      1.000000          16.0  ...   \n29999      1.000000       1.00000      1.000000           3.0  ...   \n\n       SocialNetwork_11  SocialNetwork_12  SocialNetwork_13  SocialNetwork_14  \\\n0                  -1.0                 0               0.0               0.0   \n1                  -1.0                 0               0.0               0.0   \n2                  -1.0                -1               1.0               0.0   \n3                  -1.0                -1               0.0               0.0   \n4                  -1.0                -1               0.0               0.0   \n...                 ...               ...               ...               ...   \n29995              -1.0                 0               1.0               0.0   \n29996              -1.0                 0               0.0               0.0   \n29997              -1.0                -1               0.0               0.0   \n29998              -1.0                 0               1.0               0.0   \n29999              -1.0                -1               0.0               0.0   \n\n       SocialNetwork_15  SocialNetwork_16  SocialNetwork_17  target  month  \\\n0                   0.0               0.0               1.0       0      3   \n1                   0.0               0.0               2.0       0      2   \n2                   0.0               0.0               0.0       0      2   \n3                   0.0               0.0               0.0       0      2   \n4                   0.0               0.0               0.0       0      2   \n...                 ...               ...               ...     ...    ...   \n29995               0.0               0.0               1.0       0      2   \n29996               0.0               0.0               1.0       0      2   \n29997               0.0               0.0               0.0       0      2   \n29998               0.0               0.0               1.0       0      2   \n29999               0.0               0.0               0.0       0      3   \n\n       day  \n0        5  \n1       26  \n2       28  \n3       25  \n4       27  \n...    ...  \n29995   22  \n29996   28  \n29997   24  \n29998   28  \n29999    5  \n\n[30000 rows x 227 columns]",
      "text/html": "<div>\n<style scoped>\n    .dataframe tbody tr th:only-of-type {\n        vertical-align: middle;\n    }\n\n    .dataframe tbody tr th {\n        vertical-align: top;\n    }\n\n    .dataframe thead th {\n        text-align: right;\n    }\n</style>\n<table border=\"1\" class=\"dataframe\">\n  <thead>\n    <tr style=\"text-align: right;\">\n      <th></th>\n      <th>Idx</th>\n      <th>UserInfo_1</th>\n      <th>UserInfo_2</th>\n      <th>UserInfo_3</th>\n      <th>UserInfo_4</th>\n      <th>WeblogInfo_2</th>\n      <th>WeblogInfo_4</th>\n      <th>WeblogInfo_5</th>\n      <th>WeblogInfo_6</th>\n      <th>WeblogInfo_7</th>\n      <th>...</th>\n      <th>SocialNetwork_11</th>\n      <th>SocialNetwork_12</th>\n      <th>SocialNetwork_13</th>\n      <th>SocialNetwork_14</th>\n      <th>SocialNetwork_15</th>\n      <th>SocialNetwork_16</th>\n      <th>SocialNetwork_17</th>\n      <th>target</th>\n      <th>month</th>\n      <th>day</th>\n    </tr>\n  </thead>\n  <tbody>\n    <tr>\n      <th>0</th>\n      <td>10001</td>\n      <td>1.0</td>\n      <td>深圳</td>\n      <td>4.0</td>\n      <td>深圳</td>\n      <td>1.000000</td>\n      <td>1.000000</td>\n      <td>1.00000</td>\n      <td>1.000000</td>\n      <td>14.0</td>\n      <td>...</td>\n      <td>-1.0</td>\n      <td>0</td>\n      <td>0.0</td>\n      <td>0.0</td>\n      <td>0.0</td>\n      <td>0.0</td>\n      <td>1.0</td>\n      <td>0</td>\n      <td>3</td>\n      <td>5</td>\n    </tr>\n    <tr>\n      <th>1</th>\n      <td>10002</td>\n      <td>1.0</td>\n      <td>温州</td>\n      <td>4.0</td>\n      <td>温州</td>\n      <td>0.000000</td>\n      <td>1.000000</td>\n      <td>1.00000</td>\n      <td>1.000000</td>\n      <td>14.0</td>\n      <td>...</td>\n      <td>-1.0</td>\n      <td>0</td>\n      <td>0.0</td>\n      <td>0.0</td>\n      <td>0.0</td>\n      <td>0.0</td>\n      <td>2.0</td>\n      <td>0</td>\n      <td>2</td>\n      <td>26</td>\n    </tr>\n    <tr>\n      <th>2</th>\n      <td>10003</td>\n      <td>1.0</td>\n      <td>宜昌</td>\n      <td>3.0</td>\n      <td>宜昌</td>\n      <td>0.000000</td>\n      <td>2.000000</td>\n      <td>2.00000</td>\n      <td>2.000000</td>\n      <td>9.0</td>\n      <td>...</td>\n      <td>-1.0</td>\n      <td>-1</td>\n      <td>1.0</td>\n      <td>0.0</td>\n      <td>0.0</td>\n      <td>0.0</td>\n      <td>0.0</td>\n      <td>0</td>\n      <td>2</td>\n      <td>28</td>\n    </tr>\n    <tr>\n      <th>3</th>\n      <td>10006</td>\n      <td>4.0</td>\n      <td>南平</td>\n      <td>1.0</td>\n      <td>南平</td>\n      <td>0.131466</td>\n      <td>3.025962</td>\n      <td>1.81696</td>\n      <td>2.948711</td>\n      <td>2.0</td>\n      <td>...</td>\n      <td>-1.0</td>\n      <td>-1</td>\n      <td>0.0</td>\n      <td>0.0</td>\n      <td>0.0</td>\n      <td>0.0</td>\n      <td>0.0</td>\n      <td>0</td>\n      <td>2</td>\n      <td>25</td>\n    </tr>\n    <tr>\n      <th>4</th>\n      <td>10007</td>\n      <td>5.0</td>\n      <td>辽阳</td>\n      <td>1.0</td>\n      <td>辽阳</td>\n      <td>0.000000</td>\n      <td>1.000000</td>\n      <td>1.00000</td>\n      <td>1.000000</td>\n      <td>3.0</td>\n      <td>...</td>\n      <td>-1.0</td>\n      <td>-1</td>\n      <td>0.0</td>\n      <td>0.0</td>\n      <td>0.0</td>\n      <td>0.0</td>\n      <td>0.0</td>\n      <td>0</td>\n      <td>2</td>\n      <td>27</td>\n    </tr>\n    <tr>\n      <th>...</th>\n      <td>...</td>\n      <td>...</td>\n      <td>...</td>\n      <td>...</td>\n      <td>...</td>\n      <td>...</td>\n      <td>...</td>\n      <td>...</td>\n      <td>...</td>\n      <td>...</td>\n      <td>...</td>\n      <td>...</td>\n      <td>...</td>\n      <td>...</td>\n      <td>...</td>\n      <td>...</td>\n      <td>...</td>\n      <td>...</td>\n      <td>...</td>\n      <td>...</td>\n      <td>...</td>\n    </tr>\n    <tr>\n      <th>29995</th>\n      <td>9991</td>\n      <td>3.0</td>\n      <td>南阳</td>\n      <td>4.0</td>\n      <td>南阳</td>\n      <td>1.000000</td>\n      <td>3.000000</td>\n      <td>2.00000</td>\n      <td>3.000000</td>\n      <td>10.0</td>\n      <td>...</td>\n      <td>-1.0</td>\n      <td>0</td>\n      <td>1.0</td>\n      <td>0.0</td>\n      <td>0.0</td>\n      <td>0.0</td>\n      <td>1.0</td>\n      <td>0</td>\n      <td>2</td>\n      <td>22</td>\n    </tr>\n    <tr>\n      <th>29996</th>\n      <td>9992</td>\n      <td>3.0</td>\n      <td>宁德</td>\n      <td>4.0</td>\n      <td>泉州</td>\n      <td>0.000000</td>\n      <td>6.000000</td>\n      <td>1.00000</td>\n      <td>6.000000</td>\n      <td>16.0</td>\n      <td>...</td>\n      <td>-1.0</td>\n      <td>0</td>\n      <td>0.0</td>\n      <td>0.0</td>\n      <td>0.0</td>\n      <td>0.0</td>\n      <td>1.0</td>\n      <td>0</td>\n      <td>2</td>\n      <td>28</td>\n    </tr>\n    <tr>\n      <th>29997</th>\n      <td>9995</td>\n      <td>1.0</td>\n      <td>天津</td>\n      <td>2.0</td>\n      <td>天津</td>\n      <td>0.000000</td>\n      <td>2.000000</td>\n      <td>2.00000</td>\n      <td>2.000000</td>\n      <td>4.0</td>\n      <td>...</td>\n      <td>-1.0</td>\n      <td>-1</td>\n      <td>0.0</td>\n      <td>0.0</td>\n      <td>0.0</td>\n      <td>0.0</td>\n      <td>0.0</td>\n      <td>0</td>\n      <td>2</td>\n      <td>24</td>\n    </tr>\n    <tr>\n      <th>29998</th>\n      <td>9997</td>\n      <td>3.0</td>\n      <td>运城</td>\n      <td>3.0</td>\n      <td>运城</td>\n      <td>0.000000</td>\n      <td>1.000000</td>\n      <td>1.00000</td>\n      <td>1.000000</td>\n      <td>16.0</td>\n      <td>...</td>\n      <td>-1.0</td>\n      <td>0</td>\n      <td>1.0</td>\n      <td>0.0</td>\n      <td>0.0</td>\n      <td>0.0</td>\n      <td>1.0</td>\n      <td>0</td>\n      <td>2</td>\n      <td>28</td>\n    </tr>\n    <tr>\n      <th>29999</th>\n      <td>9998</td>\n      <td>4.0</td>\n      <td>金华</td>\n      <td>5.0</td>\n      <td>无锡</td>\n      <td>0.000000</td>\n      <td>1.000000</td>\n      <td>1.00000</td>\n      <td>1.000000</td>\n      <td>3.0</td>\n      <td>...</td>\n      <td>-1.0</td>\n      <td>-1</td>\n      <td>0.0</td>\n      <td>0.0</td>\n      <td>0.0</td>\n      <td>0.0</td>\n      <td>0.0</td>\n      <td>0</td>\n      <td>3</td>\n      <td>5</td>\n    </tr>\n  </tbody>\n</table>\n<p>30000 rows × 227 columns</p>\n</div>"
     },
     "execution_count": 168,
     "metadata": {},
     "output_type": "execute_result"
    }
   ],
   "source": [
    "train_master"
   ],
   "metadata": {
    "collapsed": false,
    "ExecuteTime": {
     "end_time": "2023-11-05T11:19:41.528755700Z",
     "start_time": "2023-11-05T11:19:41.465369100Z"
    }
   }
  },
  {
   "cell_type": "code",
   "metadata": {
    "execution": {
     "iopub.execute_input": "2022-10-07T05:44:08.905252Z",
     "iopub.status.busy": "2022-10-07T05:44:08.903722Z",
     "iopub.status.idle": "2022-10-07T05:44:08.910688Z",
     "shell.execute_reply": "2022-10-07T05:44:08.909621Z",
     "shell.execute_reply.started": "2022-10-07T05:44:08.905207Z"
    },
    "scrolled": true,
    "collapsed": false,
    "tags": [],
    "slideshow": {
     "slide_type": "slide"
    },
    "id": "B81EA5BA9F314B00B1BCE2FAA0C99E63",
    "notebookId": "6526c6dd33c91e228dc529c8",
    "trusted": true,
    "ExecuteTime": {
     "end_time": "2023-11-05T11:19:51.422775400Z",
     "start_time": "2023-11-05T11:19:51.328283500Z"
    }
   },
   "source": [
    "from collections import defaultdict\n",
    "import datetime as dt\n",
    "##  userupdateinfo表\n",
    "userupdate_info_number = defaultdict(list) ### 用户信息更新的次数\n",
    "userupdate_info_category = defaultdict(set) ###用户信息更新的种类数\n",
    "userupdate_info_times = defaultdict(list) ### 用户分几次更新了\n",
    "userupdate_info_date = defaultdict(list) #### 用户借款成交与信息更新时间跨度"
   ],
   "outputs": [],
   "execution_count": 169
  },
  {
   "cell_type": "code",
   "metadata": {
    "execution": {
     "iopub.execute_input": "2022-10-07T05:44:22.549598Z",
     "iopub.status.busy": "2022-10-07T05:44:22.548908Z",
     "iopub.status.idle": "2022-10-07T05:44:24.501618Z",
     "shell.execute_reply": "2022-10-07T05:44:24.500418Z",
     "shell.execute_reply.started": "2022-10-07T05:44:22.549557Z"
    },
    "scrolled": true,
    "collapsed": false,
    "tags": [],
    "slideshow": {
     "slide_type": "slide"
    },
    "id": "BA6D8FB749CD4B5890E0ADB01A2FD04F",
    "notebookId": "6526c6dd33c91e228dc529c8",
    "trusted": true,
    "ExecuteTime": {
     "end_time": "2023-11-05T11:20:08.168326200Z",
     "start_time": "2023-11-05T11:20:06.724991100Z"
    }
   },
   "source": [
    "with open('./train_userupdateinfo.csv' ,'r') as f:\n",
    "    f.readline()\n",
    "    for line in f.readlines():\n",
    "        cols = line.strip().split(\",\") ### cols 是list结果\n",
    "        userupdate_info_date[cols[0]].append(cols[1])\n",
    "        userupdate_info_number[cols[0]].append(cols[2])\n",
    "        userupdate_info_category[cols[0]].add(cols[2])\n",
    "        userupdate_info_times[cols[0]].append(cols[3])\n",
    "    print(u'提取信息完成')\n",
    "\n",
    "userupdate_info_number_ = defaultdict(int) ### 用户信息更新的次数\n",
    "userupdate_info_category_ = defaultdict(int) ### 用户信息更新的种类数\n",
    "userupdate_info_times_ = defaultdict(int) ### 用户分几次更新了\n",
    "userupdate_info_date_ = defaultdict(int) #### 用户借款成交与信息更新时间跨度"
   ],
   "outputs": [
    {
     "data": {
      "text/plain": "'Idx,ListingInfo1,UserupdateInfo1,UserupdateInfo2\\n'"
     },
     "execution_count": 170,
     "metadata": {},
     "output_type": "execute_result"
    },
    {
     "name": "stdout",
     "output_type": "stream",
     "text": [
      "提取信息完成\n"
     ]
    }
   ],
   "execution_count": 170
  },
  {
   "cell_type": "code",
   "metadata": {
    "execution": {
     "iopub.execute_input": "2022-10-07T05:44:28.384550Z",
     "iopub.status.busy": "2022-10-07T05:44:28.383164Z",
     "iopub.status.idle": "2022-10-07T05:44:29.115210Z",
     "shell.execute_reply": "2022-10-07T05:44:29.113975Z",
     "shell.execute_reply.started": "2022-10-07T05:44:28.384508Z"
    },
    "scrolled": true,
    "collapsed": false,
    "tags": [],
    "slideshow": {
     "slide_type": "slide"
    },
    "id": "3504DC980E1F437BBDACBBF72953C29C",
    "notebookId": "6526c6dd33c91e228dc529c8",
    "trusted": true,
    "ExecuteTime": {
     "end_time": "2023-11-05T11:20:15.452709Z",
     "start_time": "2023-11-05T11:20:14.789174300Z"
    }
   },
   "source": [
    "for key in userupdate_info_date.keys():\n",
    "    userupdate_info_times_[key] = len(set(userupdate_info_times[key]))\n",
    "    delta_date = dt.datetime.strptime(userupdate_info_date[key][0] ,'%Y/%m/%d') - dt.datetime.strptime(list(set(userupdate_info_times[key]))[0] ,'%Y/%m/%d')\n",
    "    userupdate_info_date_[key] = abs(delta_date.days)\n",
    "    userupdate_info_number_[key] = len(userupdate_info_number[key])\n",
    "    userupdate_info_category_[key] = len(userupdate_info_category[key])\n",
    "\n",
    "print('信息处理完成')"
   ],
   "outputs": [
    {
     "name": "stdout",
     "output_type": "stream",
     "text": [
      "信息处理完成\n"
     ]
    }
   ],
   "execution_count": 171
  },
  {
   "cell_type": "code",
   "metadata": {
    "execution": {
     "iopub.execute_input": "2022-10-07T05:44:31.397530Z",
     "iopub.status.busy": "2022-10-07T05:44:31.396888Z",
     "iopub.status.idle": "2022-10-07T05:44:31.530114Z",
     "shell.execute_reply": "2022-10-07T05:44:31.529050Z",
     "shell.execute_reply.started": "2022-10-07T05:44:31.397483Z"
    },
    "scrolled": true,
    "collapsed": false,
    "tags": [],
    "slideshow": {
     "slide_type": "slide"
    },
    "id": "FE9FF3C1C9B54F8A8A1B79756A23FC67",
    "notebookId": "6526c6dd33c91e228dc529c8",
    "trusted": true,
    "ExecuteTime": {
     "end_time": "2023-11-05T11:20:51.116046700Z",
     "start_time": "2023-11-05T11:20:50.990950800Z"
    }
   },
   "source": [
    "## 建立一个DataFrame\n",
    "Idx_ = list(userupdate_info_date_.keys()) #### list\n",
    "numbers_ = list(userupdate_info_number_.values())\n",
    "categorys_ = list(userupdate_info_category_.values())\n",
    "times_ = list(userupdate_info_times_.values())\n",
    "dates_ = list(userupdate_info_date_.values())\n",
    "userupdate_df = pd.DataFrame({'Idx':Idx_ , 'numbers':numbers_ ,'categorys':categorys_ ,'times':times_ ,'dates':dates_ })\n",
    "userupdate_df.head()\n",
    "userupdate_df.to_csv('./userupdate_df.csv',index=False,encoding='utf-8')"
   ],
   "outputs": [
    {
     "data": {
      "text/plain": "     Idx  numbers  categorys  times  dates\n0  10001       11         10      1     13\n1  10002       21         15      3    233\n2  10003       10          9      1      8\n3  10006       10          9      1      5\n4  10007       10         10      2      8",
      "text/html": "<div>\n<style scoped>\n    .dataframe tbody tr th:only-of-type {\n        vertical-align: middle;\n    }\n\n    .dataframe tbody tr th {\n        vertical-align: top;\n    }\n\n    .dataframe thead th {\n        text-align: right;\n    }\n</style>\n<table border=\"1\" class=\"dataframe\">\n  <thead>\n    <tr style=\"text-align: right;\">\n      <th></th>\n      <th>Idx</th>\n      <th>numbers</th>\n      <th>categorys</th>\n      <th>times</th>\n      <th>dates</th>\n    </tr>\n  </thead>\n  <tbody>\n    <tr>\n      <th>0</th>\n      <td>10001</td>\n      <td>11</td>\n      <td>10</td>\n      <td>1</td>\n      <td>13</td>\n    </tr>\n    <tr>\n      <th>1</th>\n      <td>10002</td>\n      <td>21</td>\n      <td>15</td>\n      <td>3</td>\n      <td>233</td>\n    </tr>\n    <tr>\n      <th>2</th>\n      <td>10003</td>\n      <td>10</td>\n      <td>9</td>\n      <td>1</td>\n      <td>8</td>\n    </tr>\n    <tr>\n      <th>3</th>\n      <td>10006</td>\n      <td>10</td>\n      <td>9</td>\n      <td>1</td>\n      <td>5</td>\n    </tr>\n    <tr>\n      <th>4</th>\n      <td>10007</td>\n      <td>10</td>\n      <td>10</td>\n      <td>2</td>\n      <td>8</td>\n    </tr>\n  </tbody>\n</table>\n</div>"
     },
     "execution_count": 172,
     "metadata": {},
     "output_type": "execute_result"
    }
   ],
   "execution_count": 172
  },
  {
   "cell_type": "markdown",
   "metadata": {
    "scrolled": false,
    "tags": [],
    "slideshow": {
     "slide_type": "slide"
    },
    "id": "B0F3ACD2C5244E4E8FC602754A160A36",
    "runtime": {
     "status": "default",
     "execution_status": "",
     "is_visible": false
    },
    "notebookId": "6526c6dd33c91e228dc529c8",
    "ExecuteTime": {
     "end_time": "2023-11-02T14:03:01.290355700Z",
     "start_time": "2023-11-02T14:03:00.472043400Z"
    }
   },
   "source": [
    "（省略LogInfo表的处理）"
   ]
  },
  {
   "cell_type": "markdown",
   "metadata": {
    "scrolled": false,
    "tags": [],
    "slideshow": {
     "slide_type": "slide"
    },
    "id": "01EB50D11EEF4C3C931D1818A0DB0F57",
    "runtime": {
     "status": "default",
     "execution_status": "",
     "is_visible": false
    },
    "notebookId": "6526c6dd33c91e228dc529c8",
    "ExecuteTime": {
     "end_time": "2023-11-02T14:03:02.473154200Z",
     "start_time": "2023-11-02T14:03:02.395363200Z"
    }
   },
   "source": [
    "### 建模调参与优化"
   ]
  },
  {
   "cell_type": "code",
   "metadata": {
    "execution": {
     "iopub.execute_input": "2022-10-01T15:04:58.936656Z",
     "iopub.status.busy": "2022-10-01T15:04:58.935942Z",
     "iopub.status.idle": "2022-10-01T15:04:58.945926Z",
     "shell.execute_reply": "2022-10-01T15:04:58.945064Z",
     "shell.execute_reply.started": "2022-10-01T15:04:58.936620Z"
    },
    "scrolled": true,
    "collapsed": false,
    "tags": [],
    "slideshow": {
     "slide_type": "slide"
    },
    "id": "AA8987E31FF542538A75FE59FC5BD843",
    "notebookId": "6526c6dd33c91e228dc529c8",
    "trusted": true,
    "ExecuteTime": {
     "end_time": "2023-11-05T11:12:51.172740300Z",
     "start_time": "2023-11-05T11:12:51.158659100Z"
    }
   },
   "source": [
    "import pandas as pd\n",
    "import numpy as np\n",
    "from sklearn import metrics\n",
    "from sklearn.model_selection import cross_validate, GridSearchCV\n",
    "import xgboost as xgb\n",
    "from xgboost.sklearn import XGBClassifier\n",
    "from sklearn.ensemble import RandomForestClassifier\n",
    "from sklearn.linear_model import LogisticRegression\n",
    "import sklearn.preprocessing as preprocessing\n",
    "import matplotlib.pylab as plt\n",
    "%matplotlib inline\n",
    "from matplotlib.pylab import rcParams\n",
    "rcParams['figure.figsize'] = 12, 4"
   ],
   "outputs": [],
   "execution_count": 139
  },
  {
   "cell_type": "code",
   "metadata": {
    "execution": {
     "iopub.execute_input": "2022-10-07T05:48:16.904840Z",
     "iopub.status.busy": "2022-10-07T05:48:16.903802Z",
     "iopub.status.idle": "2022-10-07T05:48:18.098549Z",
     "shell.execute_reply": "2022-10-07T05:48:18.097222Z",
     "shell.execute_reply.started": "2022-10-07T05:48:16.904792Z"
    },
    "scrolled": true,
    "collapsed": false,
    "tags": [],
    "slideshow": {
     "slide_type": "slide"
    },
    "id": "B8E16B0F9F51407FB91140437E781D57",
    "notebookId": "6526c6dd33c91e228dc529c8",
    "trusted": true,
    "ExecuteTime": {
     "end_time": "2023-11-05T11:09:27.127693400Z",
     "start_time": "2023-11-05T11:09:26.421058300Z"
    }
   },
   "source": [
    "train_master = pd.read_csv('./train_master.csv',encoding='utf-8')\n",
    "train_userupdateinfo = pd.read_csv('./userupdate_df.csv',encoding='utf-8')\n",
    "#train_loginfo = pd.read_csv('./loginfo_df.csv',encoding='utf-8')"
   ],
   "outputs": [],
   "execution_count": 130
  },
  {
   "cell_type": "code",
   "metadata": {
    "execution": {
     "iopub.execute_input": "2022-10-07T05:48:20.234170Z",
     "iopub.status.busy": "2022-10-07T05:48:20.233405Z",
     "iopub.status.idle": "2022-10-07T05:48:20.495688Z",
     "shell.execute_reply": "2022-10-07T05:48:20.494700Z",
     "shell.execute_reply.started": "2022-10-07T05:48:20.234129Z"
    },
    "scrolled": true,
    "collapsed": false,
    "tags": [],
    "slideshow": {
     "slide_type": "slide"
    },
    "id": "23400C972D3E44339487F0A6C175A21B",
    "notebookId": "6526c6dd33c91e228dc529c8",
    "trusted": true,
    "ExecuteTime": {
     "end_time": "2023-11-05T11:42:08.155793900Z",
     "start_time": "2023-11-05T11:42:08.074296200Z"
    }
   },
   "source": [
    "# train_all = pd.merge(train_master, train_userupdateinfo, how='left', on='Idx')\n",
    "#train_all = pd.merge(train_all, train_loginfo, how='left', on='Idx')\n",
    "train_all=train_master\n",
    "train_all.isnull().sum().sort_values(ascending=False).head(10)"
   ],
   "outputs": [
    {
     "data": {
      "text/plain": "UserInfo_2                    302\nUserInfo_4                    268\nUserInfo_3                      7\nUserInfo_1                      6\nIdx                             0\nThirdParty_Info_Period4_13      0\nThirdParty_Info_Period4_17      0\nThirdParty_Info_Period4_16      0\nThirdParty_Info_Period4_15      0\nThirdParty_Info_Period4_14      0\ndtype: int64"
     },
     "execution_count": 173,
     "metadata": {},
     "output_type": "execute_result"
    }
   ],
   "execution_count": 173
  },
  {
   "cell_type": "code",
   "metadata": {
    "scrolled": true,
    "tags": [],
    "collapsed": false,
    "slideshow": {
     "slide_type": "slide"
    },
    "id": "E1240DCD51C7460E9D356BD577AD0799",
    "notebookId": "6526c6dd33c91e228dc529c8",
    "trusted": true,
    "ExecuteTime": {
     "end_time": "2023-11-05T11:42:12.486210600Z",
     "start_time": "2023-11-05T11:42:12.461258500Z"
    }
   },
   "source": [
    "## 填充缺失值\n"
   ],
   "outputs": [],
   "execution_count": 174
  },
  {
   "cell_type": "code",
   "metadata": {
    "execution": {
     "iopub.execute_input": "2022-10-01T15:05:25.842981Z",
     "iopub.status.busy": "2022-10-01T15:05:25.841452Z",
     "iopub.status.idle": "2022-10-01T15:05:26.027908Z",
     "shell.execute_reply": "2022-10-01T15:05:26.026678Z",
     "shell.execute_reply.started": "2022-10-01T15:05:25.842920Z"
    },
    "scrolled": true,
    "collapsed": false,
    "tags": [],
    "slideshow": {
     "slide_type": "slide"
    },
    "id": "0F3BB692D2634A5295F94E3E622CF689",
    "notebookId": "6526c6dd33c91e228dc529c8",
    "trusted": true,
    "ExecuteTime": {
     "end_time": "2023-11-05T11:42:13.389042800Z",
     "start_time": "2023-11-05T11:42:13.364601900Z"
    }
   },
   "source": [
    "## 对数值型特征进行scaling\n",
    "import warnings\n",
    "warnings.filterwarnings(\"ignore\")\n"
   ],
   "outputs": [],
   "execution_count": 175
  },
  {
   "cell_type": "code",
   "metadata": {
    "execution": {
     "iopub.execute_input": "2022-10-07T05:49:39.224046Z",
     "iopub.status.busy": "2022-10-07T05:49:39.223389Z",
     "iopub.status.idle": "2022-10-07T05:50:01.833875Z",
     "shell.execute_reply": "2022-10-07T05:50:01.832766Z",
     "shell.execute_reply.started": "2022-10-07T05:49:39.224008Z"
    },
    "scrolled": true,
    "collapsed": false,
    "tags": [],
    "slideshow": {
     "slide_type": "slide"
    },
    "id": "921AB1025FE84DCEBA7361A997109C8B",
    "notebookId": "6526c6dd33c91e228dc529c8",
    "trusted": true,
    "ExecuteTime": {
     "end_time": "2023-11-05T11:42:35.417283700Z",
     "start_time": "2023-11-05T11:42:14.934605200Z"
    }
   },
   "source": [
    "train_all['Idx'] = train_all['Idx'].astype(np.int64)\n",
    "train_all['target'] = train_all['target'].astype(np.int64)\n",
    "train_all = pd.get_dummies(train_all)\n",
    "train_all.head()\n",
    "train_all.to_csv('./train_all.csv',encoding='utf-8',index=False)\n",
    "y_train = train_all.pop('target')"
   ],
   "outputs": [
    {
     "data": {
      "text/plain": "     Idx  UserInfo_1  UserInfo_3  WeblogInfo_2  WeblogInfo_4  WeblogInfo_5  \\\n0  10001         1.0         4.0      1.000000      1.000000       1.00000   \n1  10002         1.0         4.0      0.000000      1.000000       1.00000   \n2  10003         1.0         3.0      0.000000      2.000000       2.00000   \n3  10006         4.0         1.0      0.131466      3.025962       1.81696   \n4  10007         5.0         1.0      0.000000      1.000000       1.00000   \n\n   WeblogInfo_6  WeblogInfo_7  WeblogInfo_8  WeblogInfo_9  ...  \\\n0      1.000000          14.0           0.0           0.0  ...   \n1      1.000000          14.0           0.0           0.0  ...   \n2      2.000000           9.0           3.0           0.0  ...   \n3      2.948711           2.0           0.0           0.0  ...   \n4      1.000000           3.0           0.0           0.0  ...   \n\n   WeblogInfo_20_I7  WeblogInfo_20_I8  WeblogInfo_20_O  WeblogInfo_20_U  \\\n0             False             False            False            False   \n1             False             False            False            False   \n2             False             False            False            False   \n3             False             False            False            False   \n4             False             False            False            False   \n\n   WeblogInfo_20_不详  WeblogInfo_21_0  WeblogInfo_21_A  WeblogInfo_21_B  \\\n0             False            False            False            False   \n1             False            False            False            False   \n2             False            False            False            False   \n3             False            False            False            False   \n4              True            False            False            False   \n\n   WeblogInfo_21_C  WeblogInfo_21_D  \n0            False             True  \n1            False             True  \n2            False             True  \n3            False             True  \n4            False             True  \n\n[5 rows x 3702 columns]",
      "text/html": "<div>\n<style scoped>\n    .dataframe tbody tr th:only-of-type {\n        vertical-align: middle;\n    }\n\n    .dataframe tbody tr th {\n        vertical-align: top;\n    }\n\n    .dataframe thead th {\n        text-align: right;\n    }\n</style>\n<table border=\"1\" class=\"dataframe\">\n  <thead>\n    <tr style=\"text-align: right;\">\n      <th></th>\n      <th>Idx</th>\n      <th>UserInfo_1</th>\n      <th>UserInfo_3</th>\n      <th>WeblogInfo_2</th>\n      <th>WeblogInfo_4</th>\n      <th>WeblogInfo_5</th>\n      <th>WeblogInfo_6</th>\n      <th>WeblogInfo_7</th>\n      <th>WeblogInfo_8</th>\n      <th>WeblogInfo_9</th>\n      <th>...</th>\n      <th>WeblogInfo_20_I7</th>\n      <th>WeblogInfo_20_I8</th>\n      <th>WeblogInfo_20_O</th>\n      <th>WeblogInfo_20_U</th>\n      <th>WeblogInfo_20_不详</th>\n      <th>WeblogInfo_21_0</th>\n      <th>WeblogInfo_21_A</th>\n      <th>WeblogInfo_21_B</th>\n      <th>WeblogInfo_21_C</th>\n      <th>WeblogInfo_21_D</th>\n    </tr>\n  </thead>\n  <tbody>\n    <tr>\n      <th>0</th>\n      <td>10001</td>\n      <td>1.0</td>\n      <td>4.0</td>\n      <td>1.000000</td>\n      <td>1.000000</td>\n      <td>1.00000</td>\n      <td>1.000000</td>\n      <td>14.0</td>\n      <td>0.0</td>\n      <td>0.0</td>\n      <td>...</td>\n      <td>False</td>\n      <td>False</td>\n      <td>False</td>\n      <td>False</td>\n      <td>False</td>\n      <td>False</td>\n      <td>False</td>\n      <td>False</td>\n      <td>False</td>\n      <td>True</td>\n    </tr>\n    <tr>\n      <th>1</th>\n      <td>10002</td>\n      <td>1.0</td>\n      <td>4.0</td>\n      <td>0.000000</td>\n      <td>1.000000</td>\n      <td>1.00000</td>\n      <td>1.000000</td>\n      <td>14.0</td>\n      <td>0.0</td>\n      <td>0.0</td>\n      <td>...</td>\n      <td>False</td>\n      <td>False</td>\n      <td>False</td>\n      <td>False</td>\n      <td>False</td>\n      <td>False</td>\n      <td>False</td>\n      <td>False</td>\n      <td>False</td>\n      <td>True</td>\n    </tr>\n    <tr>\n      <th>2</th>\n      <td>10003</td>\n      <td>1.0</td>\n      <td>3.0</td>\n      <td>0.000000</td>\n      <td>2.000000</td>\n      <td>2.00000</td>\n      <td>2.000000</td>\n      <td>9.0</td>\n      <td>3.0</td>\n      <td>0.0</td>\n      <td>...</td>\n      <td>False</td>\n      <td>False</td>\n      <td>False</td>\n      <td>False</td>\n      <td>False</td>\n      <td>False</td>\n      <td>False</td>\n      <td>False</td>\n      <td>False</td>\n      <td>True</td>\n    </tr>\n    <tr>\n      <th>3</th>\n      <td>10006</td>\n      <td>4.0</td>\n      <td>1.0</td>\n      <td>0.131466</td>\n      <td>3.025962</td>\n      <td>1.81696</td>\n      <td>2.948711</td>\n      <td>2.0</td>\n      <td>0.0</td>\n      <td>0.0</td>\n      <td>...</td>\n      <td>False</td>\n      <td>False</td>\n      <td>False</td>\n      <td>False</td>\n      <td>False</td>\n      <td>False</td>\n      <td>False</td>\n      <td>False</td>\n      <td>False</td>\n      <td>True</td>\n    </tr>\n    <tr>\n      <th>4</th>\n      <td>10007</td>\n      <td>5.0</td>\n      <td>1.0</td>\n      <td>0.000000</td>\n      <td>1.000000</td>\n      <td>1.00000</td>\n      <td>1.000000</td>\n      <td>3.0</td>\n      <td>0.0</td>\n      <td>0.0</td>\n      <td>...</td>\n      <td>False</td>\n      <td>False</td>\n      <td>False</td>\n      <td>False</td>\n      <td>True</td>\n      <td>False</td>\n      <td>False</td>\n      <td>False</td>\n      <td>False</td>\n      <td>True</td>\n    </tr>\n  </tbody>\n</table>\n<p>5 rows × 3702 columns</p>\n</div>"
     },
     "execution_count": 176,
     "metadata": {},
     "output_type": "execute_result"
    }
   ],
   "execution_count": 176
  },
  {
   "cell_type": "code",
   "metadata": {
    "execution": {
     "iopub.execute_input": "2022-10-01T15:06:12.581321Z",
     "iopub.status.busy": "2022-10-01T15:06:12.580746Z",
     "iopub.status.idle": "2022-10-01T15:06:12.590114Z",
     "shell.execute_reply": "2022-10-01T15:06:12.589183Z",
     "shell.execute_reply.started": "2022-10-01T15:06:12.581287Z"
    },
    "scrolled": true,
    "collapsed": false,
    "tags": [],
    "slideshow": {
     "slide_type": "slide"
    },
    "id": "21F86BEEA0A04D8B9E5D3260FE59A2DD",
    "notebookId": "6526c6dd33c91e228dc529c8",
    "trusted": true,
    "ExecuteTime": {
     "end_time": "2023-11-05T11:10:18.267679700Z",
     "start_time": "2023-11-05T11:10:18.255251700Z"
    }
   },
   "source": [
    "def modelfit(alg, dtrain,y_train, dtest=None ,useTrainCV=True, cv_folds=5, early_stopping_rounds=50):\n",
    "\n",
    "    if useTrainCV:\n",
    "        xgb_param = alg.get_xgb_params()\n",
    "        xgtrain = xgb.DMatrix(dtrain.values[: ,1:], label=y_train)\n",
    "        cvresult = xgb.cv(xgb_param, xgtrain, num_boost_round=alg.get_params()['n_estimators'], nfold=cv_folds ,early_stopping_rounds=early_stopping_rounds)\n",
    "        alg.set_params(n_estimators=cvresult.shape[0])\n",
    "    \n",
    "    #建模\n",
    "    alg.fit(dtrain.values[: ,1:], y_train ,eval_metric='auc')\n",
    "        \n",
    "    #对训练集预测\n",
    "    dtrain_predictions = alg.predict(dtrain.values[: ,1:])\n",
    "    dtrain_predprob = alg.predict_proba(dtrain.values[: ,1:])[:,1]\n",
    "        \n",
    "    #输出模型的一些结果\n",
    "    print(cvresult.shape[0])\n",
    "    print(\"\\n关于现在这个模型\")\n",
    "    print(\"准确率 : %.4g\" % metrics.accuracy_score(y_train, dtrain_predictions))\n",
    "    print(\"AUC 得分 (训练集): %f\" % metrics.roc_auc_score(y_train, dtrain_predprob))\n",
    "    \n",
    "                \n",
    "    feat_imp = pd.Series(alg.get_booster().get_fscore()).sort_values(ascending=False)\n",
    "    print(feat_imp.head(25))\n",
    "    print(feat_imp.shape)\n",
    "    feat_imp.plot(kind='bar', title='Feature Importances')\n",
    "    plt.ylabel('Feature Importance Score')"
   ],
   "outputs": [],
   "execution_count": 134
  },
  {
   "cell_type": "code",
   "metadata": {
    "scrolled": true,
    "collapsed": false,
    "tags": [],
    "slideshow": {
     "slide_type": "slide"
    },
    "id": "2A2F952979F64E8A88DAA056DA8F63C6",
    "notebookId": "6526c6dd33c91e228dc529c8",
    "trusted": true,
    "ExecuteTime": {
     "end_time": "2023-11-05T11:12:05.295883100Z",
     "start_time": "2023-11-05T11:10:23.869319900Z"
    }
   },
   "source": [
    "xgb1 = XGBClassifier(\n",
    "            learning_rate=0.03,\n",
    "            n_estimators =100,\n",
    "            max_depth=7,\n",
    "            min_child_weight =1,\n",
    "            gamma =0,\n",
    "            subsample=0.8,\n",
    "            colsample_bytree =0.8,\n",
    "            objective ='binary:logistic' ,\n",
    "            nthread=4,\n",
    "            scale_pos_weight=1,\n",
    "            seed =27\n",
    "            )\n",
    "\n",
    "modelfit(xgb1 ,train_all  ,y_train)"
   ],
   "outputs": [
    {
     "name": "stdout",
     "output_type": "stream",
     "text": [
      "100\n",
      "\n",
      "关于现在这个模型\n",
      "准确率 : 0.9298\n",
      "AUC 得分 (训练集): 0.934382\n",
      "f204    172.0\n",
      "f90     133.0\n",
      "f99     124.0\n",
      "f133    122.0\n",
      "f103    120.0\n",
      "f28     117.0\n",
      "f5      111.0\n",
      "f87     111.0\n",
      "f89     110.0\n",
      "f107    108.0\n",
      "f140    108.0\n",
      "f106    103.0\n",
      "f136    102.0\n",
      "f120    102.0\n",
      "f86      97.0\n",
      "f205     97.0\n",
      "f70      94.0\n",
      "f73      93.0\n",
      "f123     93.0\n",
      "f85      91.0\n",
      "f97      90.0\n",
      "f101     86.0\n",
      "f116     86.0\n",
      "f6       86.0\n",
      "f24      86.0\n",
      "dtype: float64\n",
      "(367,)\n"
     ]
    },
    {
     "data": {
      "text/plain": "<Figure size 1200x400 with 1 Axes>",
      "image/png": "[encoded data removed]"
     },
     "metadata": {},
     "output_type": "display_data"
    }
   ],
   "execution_count": 135
  },
  {
   "cell_type": "code",
   "execution_count": 141,
   "outputs": [
    {
     "ename": "ValueError",
     "evalue": "Feature shape mismatch, expected: 3704, got 3668",
     "output_type": "error",
     "traceback": [
      "\u001B[1;31m---------------------------------------------------------------------------\u001B[0m",
      "\u001B[1;31mValueError\u001B[0m                                Traceback (most recent call last)",
      "Cell \u001B[1;32mIn[141], line 2\u001B[0m\n\u001B[0;32m      1\u001B[0m testdata\u001B[38;5;241m=\u001B[39mpd\u001B[38;5;241m.\u001B[39mread_csv(\u001B[38;5;124m'\u001B[39m\u001B[38;5;124mtest_all.csv\u001B[39m\u001B[38;5;124m'\u001B[39m)\n\u001B[1;32m----> 2\u001B[0m ypred\u001B[38;5;241m=\u001B[39m\u001B[43mxgb1\u001B[49m\u001B[38;5;241;43m.\u001B[39;49m\u001B[43mpredict\u001B[49m\u001B[43m(\u001B[49m\u001B[43mtestdata\u001B[49m\u001B[43m)\u001B[49m\n",
      "File \u001B[1;32m~\\miniconda3\\Lib\\site-packages\\xgboost\\sklearn.py:1549\u001B[0m, in \u001B[0;36mXGBClassifier.predict\u001B[1;34m(self, X, output_margin, validate_features, base_margin, iteration_range)\u001B[0m\n\u001B[0;32m   1540\u001B[0m \u001B[38;5;28;01mdef\u001B[39;00m \u001B[38;5;21mpredict\u001B[39m(\n\u001B[0;32m   1541\u001B[0m     \u001B[38;5;28mself\u001B[39m,\n\u001B[0;32m   1542\u001B[0m     X: ArrayLike,\n\u001B[1;32m   (...)\u001B[0m\n\u001B[0;32m   1546\u001B[0m     iteration_range: Optional[Tuple[\u001B[38;5;28mint\u001B[39m, \u001B[38;5;28mint\u001B[39m]] \u001B[38;5;241m=\u001B[39m \u001B[38;5;28;01mNone\u001B[39;00m,\n\u001B[0;32m   1547\u001B[0m ) \u001B[38;5;241m-\u001B[39m\u001B[38;5;241m>\u001B[39m ArrayLike:\n\u001B[0;32m   1548\u001B[0m     \u001B[38;5;28;01mwith\u001B[39;00m config_context(verbosity\u001B[38;5;241m=\u001B[39m\u001B[38;5;28mself\u001B[39m\u001B[38;5;241m.\u001B[39mverbosity):\n\u001B[1;32m-> 1549\u001B[0m         class_probs \u001B[38;5;241m=\u001B[39m \u001B[38;5;28;43msuper\u001B[39;49m\u001B[43m(\u001B[49m\u001B[43m)\u001B[49m\u001B[38;5;241;43m.\u001B[39;49m\u001B[43mpredict\u001B[49m\u001B[43m(\u001B[49m\n\u001B[0;32m   1550\u001B[0m \u001B[43m            \u001B[49m\u001B[43mX\u001B[49m\u001B[38;5;241;43m=\u001B[39;49m\u001B[43mX\u001B[49m\u001B[43m,\u001B[49m\n\u001B[0;32m   1551\u001B[0m \u001B[43m            \u001B[49m\u001B[43moutput_margin\u001B[49m\u001B[38;5;241;43m=\u001B[39;49m\u001B[43moutput_margin\u001B[49m\u001B[43m,\u001B[49m\n\u001B[0;32m   1552\u001B[0m \u001B[43m            \u001B[49m\u001B[43mvalidate_features\u001B[49m\u001B[38;5;241;43m=\u001B[39;49m\u001B[43mvalidate_features\u001B[49m\u001B[43m,\u001B[49m\n\u001B[0;32m   1553\u001B[0m \u001B[43m            \u001B[49m\u001B[43mbase_margin\u001B[49m\u001B[38;5;241;43m=\u001B[39;49m\u001B[43mbase_margin\u001B[49m\u001B[43m,\u001B[49m\n\u001B[0;32m   1554\u001B[0m \u001B[43m            \u001B[49m\u001B[43miteration_range\u001B[49m\u001B[38;5;241;43m=\u001B[39;49m\u001B[43miteration_range\u001B[49m\u001B[43m,\u001B[49m\n\u001B[0;32m   1555\u001B[0m \u001B[43m        \u001B[49m\u001B[43m)\u001B[49m\n\u001B[0;32m   1556\u001B[0m         \u001B[38;5;28;01mif\u001B[39;00m output_margin:\n\u001B[0;32m   1557\u001B[0m             \u001B[38;5;66;03m# If output_margin is active, simply return the scores\u001B[39;00m\n\u001B[0;32m   1558\u001B[0m             \u001B[38;5;28;01mreturn\u001B[39;00m class_probs\n",
      "File \u001B[1;32m~\\miniconda3\\Lib\\site-packages\\xgboost\\sklearn.py:1164\u001B[0m, in \u001B[0;36mXGBModel.predict\u001B[1;34m(self, X, output_margin, validate_features, base_margin, iteration_range)\u001B[0m\n\u001B[0;32m   1162\u001B[0m \u001B[38;5;28;01mif\u001B[39;00m \u001B[38;5;28mself\u001B[39m\u001B[38;5;241m.\u001B[39m_can_use_inplace_predict():\n\u001B[0;32m   1163\u001B[0m     \u001B[38;5;28;01mtry\u001B[39;00m:\n\u001B[1;32m-> 1164\u001B[0m         predts \u001B[38;5;241m=\u001B[39m \u001B[38;5;28;43mself\u001B[39;49m\u001B[38;5;241;43m.\u001B[39;49m\u001B[43mget_booster\u001B[49m\u001B[43m(\u001B[49m\u001B[43m)\u001B[49m\u001B[38;5;241;43m.\u001B[39;49m\u001B[43minplace_predict\u001B[49m\u001B[43m(\u001B[49m\n\u001B[0;32m   1165\u001B[0m \u001B[43m            \u001B[49m\u001B[43mdata\u001B[49m\u001B[38;5;241;43m=\u001B[39;49m\u001B[43mX\u001B[49m\u001B[43m,\u001B[49m\n\u001B[0;32m   1166\u001B[0m \u001B[43m            \u001B[49m\u001B[43miteration_range\u001B[49m\u001B[38;5;241;43m=\u001B[39;49m\u001B[43miteration_range\u001B[49m\u001B[43m,\u001B[49m\n\u001B[0;32m   1167\u001B[0m \u001B[43m            \u001B[49m\u001B[43mpredict_type\u001B[49m\u001B[38;5;241;43m=\u001B[39;49m\u001B[38;5;124;43m\"\u001B[39;49m\u001B[38;5;124;43mmargin\u001B[39;49m\u001B[38;5;124;43m\"\u001B[39;49m\u001B[43m \u001B[49m\u001B[38;5;28;43;01mif\u001B[39;49;00m\u001B[43m \u001B[49m\u001B[43moutput_margin\u001B[49m\u001B[43m \u001B[49m\u001B[38;5;28;43;01melse\u001B[39;49;00m\u001B[43m \u001B[49m\u001B[38;5;124;43m\"\u001B[39;49m\u001B[38;5;124;43mvalue\u001B[39;49m\u001B[38;5;124;43m\"\u001B[39;49m\u001B[43m,\u001B[49m\n\u001B[0;32m   1168\u001B[0m \u001B[43m            \u001B[49m\u001B[43mmissing\u001B[49m\u001B[38;5;241;43m=\u001B[39;49m\u001B[38;5;28;43mself\u001B[39;49m\u001B[38;5;241;43m.\u001B[39;49m\u001B[43mmissing\u001B[49m\u001B[43m,\u001B[49m\n\u001B[0;32m   1169\u001B[0m \u001B[43m            \u001B[49m\u001B[43mbase_margin\u001B[49m\u001B[38;5;241;43m=\u001B[39;49m\u001B[43mbase_margin\u001B[49m\u001B[43m,\u001B[49m\n\u001B[0;32m   1170\u001B[0m \u001B[43m            \u001B[49m\u001B[43mvalidate_features\u001B[49m\u001B[38;5;241;43m=\u001B[39;49m\u001B[43mvalidate_features\u001B[49m\u001B[43m,\u001B[49m\n\u001B[0;32m   1171\u001B[0m \u001B[43m        \u001B[49m\u001B[43m)\u001B[49m\n\u001B[0;32m   1172\u001B[0m         \u001B[38;5;28;01mif\u001B[39;00m _is_cupy_array(predts):\n\u001B[0;32m   1173\u001B[0m             \u001B[38;5;28;01mimport\u001B[39;00m \u001B[38;5;21;01mcupy\u001B[39;00m  \u001B[38;5;66;03m# pylint: disable=import-error\u001B[39;00m\n",
      "File \u001B[1;32m~\\miniconda3\\Lib\\site-packages\\xgboost\\core.py:2427\u001B[0m, in \u001B[0;36mBooster.inplace_predict\u001B[1;34m(self, data, iteration_range, predict_type, missing, validate_features, base_margin, strict_shape)\u001B[0m\n\u001B[0;32m   2423\u001B[0m         \u001B[38;5;28;01mraise\u001B[39;00m \u001B[38;5;167;01mTypeError\u001B[39;00m(\n\u001B[0;32m   2424\u001B[0m             \u001B[38;5;124m\"\u001B[39m\u001B[38;5;124m`shape` attribute is required when `validate_features` is True.\u001B[39m\u001B[38;5;124m\"\u001B[39m\n\u001B[0;32m   2425\u001B[0m         )\n\u001B[0;32m   2426\u001B[0m     \u001B[38;5;28;01mif\u001B[39;00m \u001B[38;5;28mlen\u001B[39m(data\u001B[38;5;241m.\u001B[39mshape) \u001B[38;5;241m!=\u001B[39m \u001B[38;5;241m1\u001B[39m \u001B[38;5;129;01mand\u001B[39;00m \u001B[38;5;28mself\u001B[39m\u001B[38;5;241m.\u001B[39mnum_features() \u001B[38;5;241m!=\u001B[39m data\u001B[38;5;241m.\u001B[39mshape[\u001B[38;5;241m1\u001B[39m]:\n\u001B[1;32m-> 2427\u001B[0m         \u001B[38;5;28;01mraise\u001B[39;00m \u001B[38;5;167;01mValueError\u001B[39;00m(\n\u001B[0;32m   2428\u001B[0m             \u001B[38;5;124mf\u001B[39m\u001B[38;5;124m\"\u001B[39m\u001B[38;5;124mFeature shape mismatch, expected: \u001B[39m\u001B[38;5;132;01m{\u001B[39;00m\u001B[38;5;28mself\u001B[39m\u001B[38;5;241m.\u001B[39mnum_features()\u001B[38;5;132;01m}\u001B[39;00m\u001B[38;5;124m, \u001B[39m\u001B[38;5;124m\"\u001B[39m\n\u001B[0;32m   2429\u001B[0m             \u001B[38;5;124mf\u001B[39m\u001B[38;5;124m\"\u001B[39m\u001B[38;5;124mgot \u001B[39m\u001B[38;5;132;01m{\u001B[39;00mdata\u001B[38;5;241m.\u001B[39mshape[\u001B[38;5;241m1\u001B[39m]\u001B[38;5;132;01m}\u001B[39;00m\u001B[38;5;124m\"\u001B[39m\n\u001B[0;32m   2430\u001B[0m         )\n\u001B[0;32m   2432\u001B[0m \u001B[38;5;28;01mif\u001B[39;00m _is_np_array_like(data):\n\u001B[0;32m   2433\u001B[0m     \u001B[38;5;28;01mfrom\u001B[39;00m \u001B[38;5;21;01m.\u001B[39;00m\u001B[38;5;21;01mdata\u001B[39;00m \u001B[38;5;28;01mimport\u001B[39;00m _ensure_np_dtype\n",
      "\u001B[1;31mValueError\u001B[0m: Feature shape mismatch, expected: 3704, got 3668"
     ]
    }
   ],
   "source": [
    "testdata=pd.read_csv('test_all.csv')\n",
    "ypred=xgb1.predict(testdata)"
   ],
   "metadata": {
    "collapsed": false,
    "ExecuteTime": {
     "end_time": "2023-11-05T11:17:12.578398100Z",
     "start_time": "2023-11-05T11:16:56.367724100Z"
    }
   }
  },
  {
   "cell_type": "code",
   "metadata": {
    "scrolled": true,
    "tags": [],
    "collapsed": false,
    "slideshow": {
     "slide_type": "slide"
    },
    "id": "51C2F244A10E4FAEB4E259AC4F94C5B4",
    "notebookId": "6526c6dd33c91e228dc529c8",
    "trusted": true,
    "ExecuteTime": {
     "start_time": "2023-11-05T11:08:30.042730700Z"
    }
   },
   "source": [
    "from sklearn.ensemble import RandomForestClassifier\n",
    "import warnings\n",
    "warnings.filterwarnings(\"ignore\")\n",
    "rf0 = RandomForestClassifier(oob_score=True , random_state =42)\n",
    "rf0.fit(train_all.values[:,1:] ,y_train)\n",
    "print(rf0.oob_score_)\n",
    "y_predprob = rf0.predict_proba(train_all.values[:,1:])[:,1]\n",
    "print('AUC Score(Train): %f'%metrics.roc_auc_score(y_train , y_predprob))"
   ],
   "outputs": [],
   "execution_count": null
  },
  {
   "cell_type": "code",
   "metadata": {
    "scrolled": true,
    "tags": [],
    "collapsed": false,
    "slideshow": {
     "slide_type": "slide"
    },
    "id": "98C22F541D1A42B880FEF6CB170A458F",
    "notebookId": "6526c6dd33c91e228dc529c8",
    "trusted": true,
    "ExecuteTime": {
     "start_time": "2023-11-05T11:08:30.043709300Z"
    }
   },
   "source": [
    "import warnings\n",
    "warnings.filterwarnings(\"ignore\")\n",
    "lr = LogisticRegression(tol=1e-6)\n",
    "parameters = {'penalty':('l1' , 'l2') , 'C':[,]}\n",
    "clf_lr = GridSearchCV(lr ,parameters, cv=3)\n",
    "print('开始训练')\n",
    "clf_lr.fit(train_all.values[:,1:] ,y_train)\n",
    "print('模型训练结束')\n",
    "clf_lr"
   ],
   "outputs": [],
   "execution_count": null
  },
  {
   "cell_type": "code",
   "metadata": {
    "scrolled": true,
    "tags": [],
    "collapsed": false,
    "slideshow": {
     "slide_type": "slide"
    },
    "id": "D06153BF895A44178F9269AAC931E86C",
    "notebookId": "6526c6dd33c91e228dc529c8",
    "trusted": true,
    "ExecuteTime": {
     "start_time": "2023-11-05T11:08:30.044722400Z"
    }
   },
   "source": [
    "import warnings\n",
    "warnings.filterwarnings(\"ignore\")\n",
    "clf_lr_accuracy = clf_lr.score(train_all.values[:,1:] ,y_train)\n",
    "print(clf_lr_accuracy)\n",
    "clf_lr.cv_results_ , clf_lr.best_params_ ,clf_lr.best_score_"
   ],
   "outputs": [],
   "execution_count": null
  }
 ],
 "metadata": {
  "kernelspec": {
   "language": "python",
   "display_name": "Python 3",
   "name": "python3"
  },
  "language_info": {
   "codemirror_mode": {
    "name": "ipython",
    "version": 3
   },
   "name": "python",
   "mimetype": "text/x-python",
   "nbconvert_exporter": "python",
   "file_extension": ".py",
   "version": "3.5.2",
   "pygments_lexer": "ipython3"
  }
 },
 "nbformat": 4,
 "nbformat_minor": 4
}
