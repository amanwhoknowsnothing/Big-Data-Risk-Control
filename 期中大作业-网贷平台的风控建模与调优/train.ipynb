{
 "cells": [
  {
   "cell_type": "code",
   "execution_count": 71,
   "id": "initial_id",
   "metadata": {
    "collapsed": true,
    "ExecuteTime": {
     "end_time": "2023-11-06T11:39:39.946507500Z",
     "start_time": "2023-11-06T11:39:39.872197600Z"
    }
   },
   "outputs": [],
   "source": [
    "import os\n",
    "import pandas as pd\n",
    "import numpy as np\n",
    "import matplotlib.pyplot as plt\n",
    "from matplotlib.font_manager import FontProperties\n",
    "import re"
   ]
  },
  {
   "cell_type": "code",
   "execution_count": 72,
   "outputs": [],
   "source": [
    "trainpath = './data/train'\n",
    "train_master = pd.read_csv(os.path.join(trainpath, 'Master_Training_Set.csv'), encoding='gbk')\n",
    "train_userupdateinfo = pd.read_csv(os.path.join(trainpath, 'Userupdate_Info_Training_Set.csv'), encoding='gbk')\n",
    "train_loginfo = pd.read_csv(os.path.join(trainpath, 'LogInfo_Training_Set.csv'), encoding='gbk')\n",
    "train_master['source'] = 'train'\n",
    "train_userupdateinfo['source'] = 'train'\n",
    "train_loginfo['source'] = 'train'\n",
    "\n",
    "testpath ='./data/test'\n",
    "test_master = pd.read_csv(os.path.join(testpath, 'Master_Test_Set.csv'), encoding='gbk')\n",
    "test_userupdateinfo = pd.read_csv(os.path.join(testpath, 'Userupdate_Info_Test_Set.csv'), encoding='gbk')\n",
    "test_loginfo = pd.read_csv(os.path.join(testpath, 'LogInfo_Test_Set.csv'), encoding='gbk')\n",
    "test_master['source'] = 'test'\n",
    "test_userupdateinfo['source'] = 'test'\n",
    "test_loginfo['source'] = 'test'"
   ],
   "metadata": {
    "collapsed": false,
    "ExecuteTime": {
     "end_time": "2023-11-06T11:39:41.638484400Z",
     "start_time": "2023-11-06T11:39:39.876694Z"
    }
   },
   "id": "4b45b72563358b65"
  },
  {
   "cell_type": "code",
   "execution_count": 73,
   "outputs": [],
   "source": [
    "master =pd.concat([train_master, test_master], ignore_index=True)\n",
    "userupdateinfo = pd.concat([train_userupdateinfo,test_userupdateinfo], ignore_index=True)\n",
    "loginfo =pd.concat([train_loginfo,test_loginfo],ignore_index=True)\n",
    "\n"
   ],
   "metadata": {
    "collapsed": false,
    "ExecuteTime": {
     "end_time": "2023-11-06T11:39:41.753485800Z",
     "start_time": "2023-11-06T11:39:41.639480900Z"
    }
   },
   "id": "8df489987aa1cd2e"
  },
  {
   "cell_type": "code",
   "execution_count": 74,
   "outputs": [],
   "source": [
    "myfont = FontProperties(fname=r\"./SIMHEI.TTF\",size=12)\n",
    "master.drop(['WeblogInfo_1' ,'WeblogInfo_3'],axis=1,inplace=True)\n",
    "master.loc[(master.UserInfo_12.isnull() , 'UserInfo_12')] = 2.0\n",
    "master.loc[(master.UserInfo_11.isnull() , 'UserInfo_11')] = 2.0\n",
    "master.loc[(master.UserInfo_13.isnull() , 'UserInfo_13')] = 2.0\n",
    "master.loc[(master.WeblogInfo_20.isnull() , 'WeblogInfo_20')] = u'不详'\n",
    "master.loc[(master.WeblogInfo_19.isnull() , 'WeblogInfo_19')] = u'不详'\n",
    "master.loc[(master.WeblogInfo_21.isnull() , 'WeblogInfo_21')] = '0'"
   ],
   "metadata": {
    "collapsed": false,
    "ExecuteTime": {
     "end_time": "2023-11-06T11:39:41.807389800Z",
     "start_time": "2023-11-06T11:39:41.753485800Z"
    }
   },
   "id": "18f08fdbfd05e843"
  },
  {
   "cell_type": "code",
   "execution_count": 75,
   "outputs": [],
   "source": [
    " ## 用众数填充缺失值\n",
    "categoric_cols = ['UserInfo_1' ,'UserInfo_2' ,'UserInfo_3' ,'UserInfo_4' , 'UserInfo_5' ,'UserInfo_6','UserInfo_7','UserInfo_8','UserInfo_9','UserInfo_11','UserInfo_12','UserInfo_13','UserInfo_14','UserInfo_15','UserInfo_16','UserInfo_17','UserInfo_19','UserInfo_20','UserInfo_21','UserInfo_22','UserInfo_23','UserInfo_24','Education_Info1','Education_Info2','Education_Info3','Education_Info4','Education_Info5','Education_Info6','Education_Info7','Education_Info8','WeblogInfo_19','WeblogInfo_20','WeblogInfo_21','SocialNetwork_1','SocialNetwork_2','SocialNetwork_7','SocialNetwork_12']\n",
    "# for col in categoric_cols:\n",
    "#     mode_cols = master[col].mode()[0]\n",
    "#     master.loc[(master[col].isnull() , col)] = mode_cols \n",
    "\n",
    "## 用均值填充缺失值 \n",
    "numeric_cols = []\n",
    "for col in master.columns:\n",
    "    if col not in categoric_cols and col !=u'Idx' and col !=u'target'and col !='source' and col !='ListingInfo':\n",
    "        mean_cols = master[col].mean()\n",
    "        master.loc[(master[col].isnull() , col)] = mean_cols\n"
   ],
   "metadata": {
    "collapsed": false,
    "ExecuteTime": {
     "end_time": "2023-11-06T11:39:41.929421500Z",
     "start_time": "2023-11-06T11:39:41.811379800Z"
    }
   },
   "id": "69ee9b71780478dc"
  },
  {
   "cell_type": "code",
   "execution_count": 76,
   "outputs": [],
   "source": [
    "# 去掉空格\n",
    "master['UserInfo_9'] = master['UserInfo_9'].apply(lambda x: x.strip())\n",
    "## 去掉大小写\n",
    "userupdateinfo['UserupdateInfo1'] =userupdateinfo['UserupdateInfo1'].apply(lambda x:x.lower())\n",
    "## 将UserInfo_8中城市名归一化\n",
    "def encodingstr(s):\n",
    "    regex = re.compile(r'.+市')\n",
    "    if regex.search(s):\n",
    "        s = s[:-1]\n",
    "        return s\n",
    "    else:\n",
    "        return s\n",
    "master['UserInfo_8'] =master['UserInfo_8'].apply(lambda x: encodingstr(x))\n",
    "userupdateinfo.to_csv('./userupdateinfo.csv',index=False,encoding='utf-8')"
   ],
   "metadata": {
    "collapsed": false,
    "ExecuteTime": {
     "end_time": "2023-11-06T11:39:43.144919100Z",
     "start_time": "2023-11-06T11:39:41.931416300Z"
    }
   },
   "id": "ea2b19c9aa26b83"
  },
  {
   "cell_type": "code",
   "execution_count": 77,
   "outputs": [],
   "source": [
    "## 借款日期离散化\n",
    "# 把月、日、单独拎出来，放到3列中\n",
    "master['month'] = pd.DatetimeIndex(master.ListingInfo).month\n",
    "master['day']  = pd.DatetimeIndex(master.ListingInfo).day\n",
    "master['day'].head()\n",
    "master.drop(['ListingInfo'],axis=1,inplace=True)\n",
    "master['target'] = master['target'].astype(str)\n",
    "master.to_csv('./master.csv',index=False,encoding='utf-8')"
   ],
   "metadata": {
    "collapsed": false,
    "ExecuteTime": {
     "end_time": "2023-11-06T11:39:49.090568700Z",
     "start_time": "2023-11-06T11:39:43.145918600Z"
    }
   },
   "id": "9d4981017d70b1cd"
  },
  {
   "cell_type": "code",
   "execution_count": 78,
   "outputs": [
    {
     "name": "stdout",
     "output_type": "stream",
     "text": [
      "提取信息完成\n"
     ]
    }
   ],
   "source": [
    "from collections import defaultdict\n",
    "import datetime as dt\n",
    "\n",
    "##  userupdateinfo表\n",
    "userupdate_info_number = defaultdict(list)  ### 用户信息更新的次数\n",
    "userupdate_info_category = defaultdict(set)  ###用户信息更新的种类数\n",
    "userupdate_info_times = defaultdict(list)  ### 用户分几次更新了\n",
    "userupdate_info_date = defaultdict(list)  #### 用户借款成交与信息更新时间跨度\n",
    "with open('./userupdateinfo.csv', 'r') as f:\n",
    "    f.readline()\n",
    "    for line in f.readlines():\n",
    "        cols = line.strip().split(\",\")  ### cols 是list结果\n",
    "        userupdate_info_date[cols[0]].append(cols[1])\n",
    "        userupdate_info_number[cols[0]].append(cols[2])\n",
    "        userupdate_info_category[cols[0]].add(cols[2])\n",
    "        userupdate_info_times[cols[0]].append(cols[3])\n",
    "    print(u'提取信息完成')\n",
    "\n",
    "\n"
   ],
   "metadata": {
    "collapsed": false,
    "ExecuteTime": {
     "end_time": "2023-11-06T11:39:50.375395100Z",
     "start_time": "2023-11-06T11:39:49.093560900Z"
    }
   },
   "id": "5e8a710f42484b2d"
  },
  {
   "cell_type": "code",
   "execution_count": 79,
   "outputs": [
    {
     "name": "stdout",
     "output_type": "stream",
     "text": [
      "信息处理完成\n"
     ]
    }
   ],
   "source": [
    "userupdate_info_number_ = defaultdict(int)  ### 用户信息更新的次数\n",
    "userupdate_info_category_ = defaultdict(int)  ### 用户信息更新的种类数\n",
    "userupdate_info_times_ = defaultdict(int)  ### 用户分几次更新了\n",
    "userupdate_info_date_ = defaultdict(int)  #### 用户借款成交与信息更新时间跨度\n",
    "for key in userupdate_info_date.keys():\n",
    "    userupdate_info_times_[key] = len(set(userupdate_info_times[key]))\n",
    "    delta_date = dt.datetime.strptime(userupdate_info_date[key][0], '%Y/%m/%d') - dt.datetime.strptime(\n",
    "        list(set(userupdate_info_times[key]))[0], '%Y/%m/%d')\n",
    "    userupdate_info_date_[key] = abs(delta_date.days)\n",
    "    userupdate_info_number_[key] = len(userupdate_info_number[key])\n",
    "    userupdate_info_category_[key] = len(userupdate_info_category[key])\n",
    "\n",
    "print('信息处理完成')\n"
   ],
   "metadata": {
    "collapsed": false,
    "ExecuteTime": {
     "end_time": "2023-11-06T11:39:51.384834300Z",
     "start_time": "2023-11-06T11:39:50.372391400Z"
    }
   },
   "id": "da028527c5ff3d4f"
  },
  {
   "cell_type": "code",
   "execution_count": 80,
   "outputs": [],
   "source": [
    "## 建立一个DataFrame\n",
    "Idx_ = list(userupdate_info_date_.keys())  #### list\n",
    "numbers_ = list(userupdate_info_number_.values())\n",
    "categorys_ = list(userupdate_info_category_.values())\n",
    "times_ = list(userupdate_info_times_.values())\n",
    "dates_ = list(userupdate_info_date_.values())\n",
    "userupdate_df = pd.DataFrame(\n",
    "    {'Idx': Idx_, 'numbers': numbers_, 'categorys': categorys_, 'times': times_, 'dates': dates_})\n",
    "userupdate_df.head()\n",
    "userupdate_df.to_csv('./userupdate_df.csv', index=False, encoding='utf-8')"
   ],
   "metadata": {
    "collapsed": false,
    "ExecuteTime": {
     "end_time": "2023-11-06T11:39:51.495391900Z",
     "start_time": "2023-11-06T11:39:51.377860600Z"
    }
   },
   "id": "c1b07131de3a4397"
  },
  {
   "cell_type": "code",
   "execution_count": 81,
   "outputs": [],
   "source": [
    "import pandas as pd\n",
    "import numpy as np\n",
    "from sklearn import metrics\n",
    "from sklearn.model_selection import cross_validate, GridSearchCV\n",
    "import xgboost as xgb\n",
    "from xgboost.sklearn import XGBClassifier\n",
    "from sklearn.ensemble import RandomForestClassifier\n",
    "from sklearn.linear_model import LogisticRegression\n",
    "import sklearn.preprocessing as preprocessing\n",
    "import matplotlib.pylab as plt\n",
    "%matplotlib inline\n",
    "from matplotlib.pylab import rcParams\n",
    "rcParams['figure.figsize'] = 12, 4"
   ],
   "metadata": {
    "collapsed": false,
    "ExecuteTime": {
     "end_time": "2023-11-06T11:39:51.506343500Z",
     "start_time": "2023-11-06T11:39:51.496375200Z"
    }
   },
   "id": "9e3ea23a2e9c7645"
  },
  {
   "cell_type": "code",
   "execution_count": 82,
   "outputs": [],
   "source": [
    "master = pd.read_csv('./master.csv',encoding='utf-8')\n",
    "userupdateinfo = pd.read_csv('./userupdate_df.csv',encoding='utf-8')\n",
    "#train_loginfo = pd.read_csv('./loginfo_df.csv',encoding='utf-8')"
   ],
   "metadata": {
    "collapsed": false,
    "ExecuteTime": {
     "end_time": "2023-11-06T11:39:52.588917900Z",
     "start_time": "2023-11-06T11:39:51.504349600Z"
    }
   },
   "id": "940319373943265d"
  },
  {
   "cell_type": "code",
   "execution_count": 83,
   "outputs": [],
   "source": [
    "all = pd.merge(master, userupdateinfo, how='left', on='Idx')\n",
    "#train_all = pd.merge(train_all, train_loginfo, how='left', on='Idx')\n"
   ],
   "metadata": {
    "collapsed": false,
    "ExecuteTime": {
     "end_time": "2023-11-06T11:39:52.692076500Z",
     "start_time": "2023-11-06T11:39:52.593904300Z"
    }
   },
   "id": "b2a6a57c2ef65660"
  },
  {
   "cell_type": "code",
   "execution_count": 84,
   "outputs": [],
   "source": [
    "import warnings\n",
    "warnings.filterwarnings(\"ignore\")\n",
    "all['target'].fillna(-1, inplace=True)\n",
    "all['Idx'] = all['Idx'].astype(np.int64)\n",
    "all['target'] = all['target'].astype(np.int64)\n",
    "all = pd.get_dummies(all)\n"
   ],
   "metadata": {
    "collapsed": false,
    "ExecuteTime": {
     "end_time": "2023-11-06T11:39:54.094695500Z",
     "start_time": "2023-11-06T11:39:52.695067600Z"
    }
   },
   "id": "c204cb43cdf42a64"
  },
  {
   "cell_type": "code",
   "execution_count": 68,
   "outputs": [],
   "source": [
    "## 填充缺失值\n",
    "features_to_fillna = all.columns\n",
    "# 用平均值来填充\n",
    "all[features_to_fillna] = all[features_to_fillna].fillna(all[features_to_fillna].mean())\n",
    "## 对数值型特征进行scaling\n",
    "import warnings\n",
    "from sklearn.preprocessing import StandardScaler\n",
    "# 创建一个标准化器\n",
    "scaler = StandardScaler()\n",
    "# 选择需要缩放的数值型特征列，例如选择所有数值型特征\n",
    "numeric_features = all.select_dtypes(include=['number']).columns\n",
    "numeric_features = [feature for feature in numeric_features if feature != 'Idx' and feature !='target']\n",
    "# 对数值型特征进行缩放\n",
    "all[numeric_features] = scaler.fit_transform(all[numeric_features])\n",
    "warnings.filterwarnings(\"ignore\")"
   ],
   "metadata": {
    "collapsed": false,
    "ExecuteTime": {
     "end_time": "2023-11-06T11:39:17.753692100Z",
     "start_time": "2023-11-06T11:39:09.449758200Z"
    }
   },
   "id": "f4b03cc5eefb52f6"
  },
  {
   "cell_type": "code",
   "execution_count": 85,
   "outputs": [],
   "source": [
    "# 拆分数据集回训练集和测试集\n",
    "train_data = all[all['source_test'] == False]\n",
    "test_data = all[all['source_test'] == True]\n",
    "train_data.drop(['source_test','source_train'],axis=1,inplace=True)\n",
    "test_data.drop(['source_test','source_train'],axis=1,inplace=True)\n"
   ],
   "metadata": {
    "collapsed": false,
    "ExecuteTime": {
     "end_time": "2023-11-06T11:40:00.145028100Z",
     "start_time": "2023-11-06T11:39:59.259855200Z"
    }
   },
   "id": "40885c1d8db95f7a"
  },
  {
   "cell_type": "code",
   "execution_count": 86,
   "outputs": [],
   "source": [
    "y_train=train_data['target']\n",
    "test_data.drop(['target'],axis=1,inplace=True)\n",
    "train_data.drop(['target'],axis=1,inplace=True)"
   ],
   "metadata": {
    "collapsed": false,
    "ExecuteTime": {
     "end_time": "2023-11-06T11:40:03.326820100Z",
     "start_time": "2023-11-06T11:40:03.194699600Z"
    }
   },
   "id": "46881c6320d1297d"
  },
  {
   "cell_type": "code",
   "execution_count": 41,
   "outputs": [],
   "source": [],
   "metadata": {
    "collapsed": false,
    "ExecuteTime": {
     "end_time": "2023-11-06T11:29:11.766021Z",
     "start_time": "2023-11-06T11:29:08.272289900Z"
    }
   },
   "id": "1f92402ece3f45cb"
  },
  {
   "cell_type": "code",
   "execution_count": 87,
   "outputs": [
    {
     "name": "stdout",
     "output_type": "stream",
     "text": [
      "200\n",
      "\n",
      "关于现在这个模型\n",
      "准确率 : 0.9415\n",
      "AUC 得分 (训练集): 0.980443\n",
      "f204    192.0\n",
      "f28     192.0\n",
      "f99     180.0\n",
      "f205    177.0\n",
      "f106    176.0\n",
      "f86     176.0\n",
      "f82     167.0\n",
      "f71     159.0\n",
      "f209    157.0\n",
      "f87     156.0\n",
      "f85     154.0\n",
      "f133    153.0\n",
      "f89     152.0\n",
      "f123    149.0\n",
      "f116    148.0\n",
      "f97     146.0\n",
      "f90     142.0\n",
      "f92     141.0\n",
      "f101    140.0\n",
      "f69     139.0\n",
      "f72     138.0\n",
      "f107    138.0\n",
      "f140    137.0\n",
      "f102    135.0\n",
      "f136    132.0\n",
      "dtype: float64\n",
      "(443,)\n"
     ]
    },
    {
     "data": {
      "text/plain": "<Figure size 1200x400 with 1 Axes>",
      "image/png": "[encoded data removed]"
     },
     "metadata": {},
     "output_type": "display_data"
    }
   ],
   "source": [
    "def modelfit(alg, dtrain, y_train, dtest=None, useTrainCV=True, cv_folds=5, early_stopping_rounds=50):\n",
    "    if useTrainCV:\n",
    "        xgb_param = alg.get_xgb_params()\n",
    "        xgtrain = xgb.DMatrix(dtrain.values[:, 1:], label=y_train)\n",
    "        cvresult = xgb.cv(xgb_param, xgtrain, num_boost_round=alg.get_params()['n_estimators'], nfold=cv_folds,\n",
    "                          early_stopping_rounds=early_stopping_rounds)\n",
    "        alg.set_params(n_estimators=cvresult.shape[0])\n",
    "\n",
    "    #建模\n",
    "    alg.fit(dtrain.values[:, 1:], y_train, eval_metric='auc')\n",
    "\n",
    "    #对训练集预测\n",
    "    dtrain_predictions = alg.predict(dtrain.values[:, 1:])\n",
    "    dtrain_predprob = alg.predict_proba(dtrain.values[:, 1:])[:, 1]\n",
    "\n",
    "    #输出模型的一些结果\n",
    "    print(cvresult.shape[0])\n",
    "    print(\"\\n关于现在这个模型\")\n",
    "    print(\"准确率 : %.4g\" % metrics.accuracy_score(y_train, dtrain_predictions))\n",
    "    print(\"AUC 得分 (训练集): %f\" % metrics.roc_auc_score(y_train, dtrain_predprob))\n",
    "\n",
    "    feat_imp = pd.Series(alg.get_booster().get_fscore()).sort_values(ascending=False)\n",
    "    print(feat_imp.head(25))\n",
    "    print(feat_imp.shape)\n",
    "    feat_imp.plot(kind='bar', title='Feature Importances')\n",
    "    plt.ylabel('Feature Importance Score')\n",
    "\n",
    "\n",
    "xgb1 = XGBClassifier(\n",
    "    learning_rate=0.04,\n",
    "    n_estimators=200,\n",
    "    max_depth=7,\n",
    "    min_child_weight=1.0,\n",
    "    gamma=0,\n",
    "    subsample=0.8,\n",
    "    colsample_bytree=0.8,\n",
    "    objective='binary:logistic',\n",
    "    nthread=4,\n",
    "    scale_pos_weight=1,\n",
    "    seed=27\n",
    ")\n",
    "\n",
    "modelfit(xgb1, train_data, y_train)"
   ],
   "metadata": {
    "collapsed": false,
    "ExecuteTime": {
     "end_time": "2023-11-06T11:43:32.783925600Z",
     "start_time": "2023-11-06T11:40:07.944142800Z"
    }
   },
   "id": "3420381a1c4ce701"
  },
  {
   "cell_type": "code",
   "execution_count": 94,
   "outputs": [
    {
     "data": {
      "text/plain": "Idx                          0\nUserInfo_24_江西省德安县磨溪乡五星村     0\nUserInfo_24_江西省樟树市药都路        0\nUserInfo_24_江西省景德镇市珠山区       0\nUserInfo_24_江西省新建县长_镇        0\nUserInfo_24_江西省新建县乐化镇黄墩村     0\nUserInfo_24_江西省新干县七琴镇        0\nUserInfo_24_江西省新余市渝水区长青北路    0\nUserInfo_24_江西省抚州市宜黄县        0\nUserInfo_24_江西省抚州市乐安县        0\ndtype: int64"
     },
     "execution_count": 94,
     "metadata": {},
     "output_type": "execute_result"
    }
   ],
   "source": [
    "train_data.isnull().sum().sort_values(ascending=False).head(10)\n",
    "features_to_fillna = train_data.columns\n",
    "# 用平均值来填充\n",
    "train_data[features_to_fillna] =train_data[features_to_fillna].fillna(train_data[features_to_fillna].mean())\n",
    "train_data.isnull().sum().sort_values(ascending=False).head(10)"
   ],
   "metadata": {
    "collapsed": false,
    "ExecuteTime": {
     "end_time": "2023-11-06T11:47:29.079746800Z",
     "start_time": "2023-11-06T11:47:23.576377Z"
    }
   },
   "id": "70b10e86f6488c1b"
  },
  {
   "cell_type": "code",
   "execution_count": 95,
   "outputs": [
    {
     "name": "stdout",
     "output_type": "stream",
     "text": [
      "0.9267333333333333\n",
      "AUC Score(Train): 1.000000\n",
      "开始训练\n",
      "模型训练结束\n",
      "0.9262666666666667\n"
     ]
    },
    {
     "data": {
      "text/plain": "({'mean_fit_time': array([ 5.99338333, 17.54983274,  6.07079943, 16.59147604,  6.43831857,\n         16.89220826,  6.12088164, 16.96555448,  6.31352441, 17.4552358 ,\n          6.72162239, 17.11383605]),\n  'std_fit_time': array([0.0119229 , 1.10135084, 0.3302465 , 0.31424938, 0.22911846,\n         0.45240223, 0.30817467, 0.24656164, 0.04611741, 1.92628811,\n         0.2335966 , 0.34454304]),\n  'mean_score_time': array([0.        , 1.46761767, 0.        , 1.32800913, 0.        ,\n         1.46068501, 0.        , 1.40920091, 0.        , 1.34015377,\n         0.        , 1.40827298]),\n  'std_score_time': array([0.        , 0.06350482, 0.        , 0.020972  , 0.        ,\n         0.10945469, 0.        , 0.04800937, 0.        , 0.02673314,\n         0.        , 0.05254475]),\n  'param_C': masked_array(data=[0.001, 0.001, 0.01, 0.01, 0.1, 0.1, 1, 1, 10, 10, 100,\n                     100],\n               mask=[False, False, False, False, False, False, False, False,\n                     False, False, False, False],\n         fill_value='?',\n              dtype=object),\n  'param_penalty': masked_array(data=['l1', 'l2', 'l1', 'l2', 'l1', 'l2', 'l1', 'l2', 'l1',\n                     'l2', 'l1', 'l2'],\n               mask=[False, False, False, False, False, False, False, False,\n                     False, False, False, False],\n         fill_value='?',\n              dtype=object),\n  'params': [{'C': 0.001, 'penalty': 'l1'},\n   {'C': 0.001, 'penalty': 'l2'},\n   {'C': 0.01, 'penalty': 'l1'},\n   {'C': 0.01, 'penalty': 'l2'},\n   {'C': 0.1, 'penalty': 'l1'},\n   {'C': 0.1, 'penalty': 'l2'},\n   {'C': 1, 'penalty': 'l1'},\n   {'C': 1, 'penalty': 'l2'},\n   {'C': 10, 'penalty': 'l1'},\n   {'C': 10, 'penalty': 'l2'},\n   {'C': 100, 'penalty': 'l1'},\n   {'C': 100, 'penalty': 'l2'}],\n  'split0_test_score': array([   nan, 0.9263,    nan, 0.9262,    nan, 0.9258,    nan, 0.9261,\n            nan, 0.926 ,    nan, 0.926 ]),\n  'split1_test_score': array([   nan, 0.9258,    nan, 0.926 ,    nan, 0.9257,    nan, 0.9259,\n            nan, 0.9257,    nan, 0.9257]),\n  'split2_test_score': array([   nan, 0.9257,    nan, 0.9255,    nan, 0.9257,    nan, 0.9254,\n            nan, 0.9254,    nan, 0.9256]),\n  'mean_test_score': array([       nan, 0.92593333,        nan, 0.9259    ,        nan,\n         0.92573333,        nan, 0.9258    ,        nan, 0.9257    ,\n                nan, 0.92576667]),\n  'std_test_score': array([           nan, 2.62466929e-04,            nan, 2.94392029e-04,\n                    nan, 4.71404521e-05,            nan, 2.94392029e-04,\n                    nan, 2.44948974e-04,            nan, 1.69967317e-04]),\n  'rank_test_score': array([7, 1, 7, 2, 7, 5, 7, 3, 7, 6, 7, 4])},\n {'C': 0.001, 'penalty': 'l2'},\n 0.9259333333333334)"
     },
     "execution_count": 95,
     "metadata": {},
     "output_type": "execute_result"
    }
   ],
   "source": [
    "from sklearn.ensemble import RandomForestClassifier\n",
    "import warnings\n",
    "\n",
    "warnings.filterwarnings(\"ignore\")\n",
    "rf0 = RandomForestClassifier(oob_score=True, random_state=42)\n",
    "rf0.fit(train_data.values[:, 1:], y_train)\n",
    "print(rf0.oob_score_)\n",
    "y_predprob = rf0.predict_proba(train_data.values[:, 1:])[:, 1]\n",
    "print('AUC Score(Train): %f' % metrics.roc_auc_score(y_train, y_predprob))\n",
    "import warnings\n",
    "\n",
    "warnings.filterwarnings(\"ignore\")\n",
    "lr = LogisticRegression(tol=1e-6)\n",
    "parameters = {'penalty': ('l1', 'l2'), 'C': [0.001, 0.01, 0.1, 1, 10, 100]}\n",
    "clf_lr = GridSearchCV(lr, parameters, cv=3)\n",
    "print('开始训练')\n",
    "clf_lr.fit(train_data.values[:, 1:], y_train)\n",
    "print('模型训练结束')\n",
    "clf_lr\n",
    "import warnings\n",
    "\n",
    "warnings.filterwarnings(\"ignore\")\n",
    "clf_lr_accuracy = clf_lr.score(train_data.values[:, 1:], y_train)\n",
    "print(clf_lr_accuracy)\n",
    "clf_lr.cv_results_, clf_lr.best_params_, clf_lr.best_score_"
   ],
   "metadata": {
    "collapsed": false,
    "ExecuteTime": {
     "end_time": "2023-11-06T11:57:22.519766200Z",
     "start_time": "2023-11-06T11:47:39.702564500Z"
    }
   },
   "id": "b0b6e3e02e5e25e0"
  },
  {
   "cell_type": "code",
   "execution_count": 102,
   "outputs": [],
   "source": [
    "rf_pred=rf0.predict_proba(train_data.values[:, 1:])[:,1].astype(float)"
   ],
   "metadata": {
    "collapsed": false,
    "ExecuteTime": {
     "end_time": "2023-11-06T12:03:00.539255700Z",
     "start_time": "2023-11-06T12:02:53.140332700Z"
    }
   },
   "id": "f5fb1a72f2580653"
  },
  {
   "cell_type": "code",
   "execution_count": 103,
   "outputs": [
    {
     "data": {
      "text/plain": "          ID  Prediction\n0         10        0.07\n1        100        0.01\n2       1000        0.02\n3      10000        0.01\n4      10009        0.03\n...      ...         ...\n29995    998        0.09\n29996   9985        0.04\n29997   9988        0.03\n29998   9996        0.05\n29999   9999        0.01\n\n[30000 rows x 2 columns]",
      "text/html": "<div>\n<style scoped>\n    .dataframe tbody tr th:only-of-type {\n        vertical-align: middle;\n    }\n\n    .dataframe tbody tr th {\n        vertical-align: top;\n    }\n\n    .dataframe thead th {\n        text-align: right;\n    }\n</style>\n<table border=\"1\" class=\"dataframe\">\n  <thead>\n    <tr style=\"text-align: right;\">\n      <th></th>\n      <th>ID</th>\n      <th>Prediction</th>\n    </tr>\n  </thead>\n  <tbody>\n    <tr>\n      <th>0</th>\n      <td>10</td>\n      <td>0.07</td>\n    </tr>\n    <tr>\n      <th>1</th>\n      <td>100</td>\n      <td>0.01</td>\n    </tr>\n    <tr>\n      <th>2</th>\n      <td>1000</td>\n      <td>0.02</td>\n    </tr>\n    <tr>\n      <th>3</th>\n      <td>10000</td>\n      <td>0.01</td>\n    </tr>\n    <tr>\n      <th>4</th>\n      <td>10009</td>\n      <td>0.03</td>\n    </tr>\n    <tr>\n      <th>...</th>\n      <td>...</td>\n      <td>...</td>\n    </tr>\n    <tr>\n      <th>29995</th>\n      <td>998</td>\n      <td>0.09</td>\n    </tr>\n    <tr>\n      <th>29996</th>\n      <td>9985</td>\n      <td>0.04</td>\n    </tr>\n    <tr>\n      <th>29997</th>\n      <td>9988</td>\n      <td>0.03</td>\n    </tr>\n    <tr>\n      <th>29998</th>\n      <td>9996</td>\n      <td>0.05</td>\n    </tr>\n    <tr>\n      <th>29999</th>\n      <td>9999</td>\n      <td>0.01</td>\n    </tr>\n  </tbody>\n</table>\n<p>30000 rows × 2 columns</p>\n</div>"
     },
     "execution_count": 103,
     "metadata": {},
     "output_type": "execute_result"
    }
   ],
   "source": [
    "result_rf = pd.DataFrame({'ID': test_data.values[:, 0], 'Prediction': rf_pred})\n",
    "result_rf"
   ],
   "metadata": {
    "collapsed": false,
    "ExecuteTime": {
     "end_time": "2023-11-06T12:03:05.679707800Z",
     "start_time": "2023-11-06T12:03:03.358170600Z"
    }
   },
   "id": "90a8c43490d91b30"
  },
  {
   "cell_type": "code",
   "execution_count": 104,
   "outputs": [],
   "source": [
    "result_rf.to_csv('result_rf.csv',encoding='utf-8')"
   ],
   "metadata": {
    "collapsed": false,
    "ExecuteTime": {
     "end_time": "2023-11-06T12:03:09.229121700Z",
     "start_time": "2023-11-06T12:03:09.177219300Z"
    }
   },
   "id": "c51dd0196eed41cc"
  },
  {
   "cell_type": "code",
   "execution_count": 88,
   "outputs": [],
   "source": [
    "ypred=xgb1.predict(test_data.values[:,1:]).astype(float)\n"
   ],
   "metadata": {
    "collapsed": false,
    "ExecuteTime": {
     "end_time": "2023-11-06T11:44:00.011955700Z",
     "start_time": "2023-11-06T11:43:52.444354700Z"
    }
   },
   "id": "46b06af232a1cafa"
  },
  {
   "cell_type": "code",
   "execution_count": 89,
   "outputs": [],
   "source": [
    "yprob=xgb1.predict_proba(test_data.values[:,1:])[:,1]"
   ],
   "metadata": {
    "collapsed": false,
    "ExecuteTime": {
     "end_time": "2023-11-06T11:44:06.864281200Z",
     "start_time": "2023-11-06T11:44:00.016474400Z"
    }
   },
   "id": "ce3a8fbbea24202b"
  },
  {
   "cell_type": "code",
   "execution_count": 90,
   "outputs": [
    {
     "data": {
      "text/plain": "          ID  Prediction\n0         10    0.169984\n1        100    0.069263\n2       1000    0.215095\n3      10000    0.033561\n4      10009    0.182946\n...      ...         ...\n29995    998    0.024733\n29996   9985    0.166335\n29997   9988    0.010632\n29998   9996    0.260911\n29999   9999    0.042178\n\n[30000 rows x 2 columns]",
      "text/html": "<div>\n<style scoped>\n    .dataframe tbody tr th:only-of-type {\n        vertical-align: middle;\n    }\n\n    .dataframe tbody tr th {\n        vertical-align: top;\n    }\n\n    .dataframe thead th {\n        text-align: right;\n    }\n</style>\n<table border=\"1\" class=\"dataframe\">\n  <thead>\n    <tr style=\"text-align: right;\">\n      <th></th>\n      <th>ID</th>\n      <th>Prediction</th>\n    </tr>\n  </thead>\n  <tbody>\n    <tr>\n      <th>0</th>\n      <td>10</td>\n      <td>0.169984</td>\n    </tr>\n    <tr>\n      <th>1</th>\n      <td>100</td>\n      <td>0.069263</td>\n    </tr>\n    <tr>\n      <th>2</th>\n      <td>1000</td>\n      <td>0.215095</td>\n    </tr>\n    <tr>\n      <th>3</th>\n      <td>10000</td>\n      <td>0.033561</td>\n    </tr>\n    <tr>\n      <th>4</th>\n      <td>10009</td>\n      <td>0.182946</td>\n    </tr>\n    <tr>\n      <th>...</th>\n      <td>...</td>\n      <td>...</td>\n    </tr>\n    <tr>\n      <th>29995</th>\n      <td>998</td>\n      <td>0.024733</td>\n    </tr>\n    <tr>\n      <th>29996</th>\n      <td>9985</td>\n      <td>0.166335</td>\n    </tr>\n    <tr>\n      <th>29997</th>\n      <td>9988</td>\n      <td>0.010632</td>\n    </tr>\n    <tr>\n      <th>29998</th>\n      <td>9996</td>\n      <td>0.260911</td>\n    </tr>\n    <tr>\n      <th>29999</th>\n      <td>9999</td>\n      <td>0.042178</td>\n    </tr>\n  </tbody>\n</table>\n<p>30000 rows × 2 columns</p>\n</div>"
     },
     "execution_count": 90,
     "metadata": {},
     "output_type": "execute_result"
    }
   ],
   "source": [
    "result = pd.DataFrame({'ID': test_data.values[:, 0], 'Prediction': yprob})\n",
    "result"
   ],
   "metadata": {
    "collapsed": false,
    "ExecuteTime": {
     "end_time": "2023-11-06T11:44:08.918708100Z",
     "start_time": "2023-11-06T11:44:06.865261500Z"
    }
   },
   "id": "ef62f6daee1c3a2d"
  },
  {
   "cell_type": "code",
   "execution_count": 91,
   "outputs": [],
   "source": [
    "result.to_csv('result.csv',encoding='utf-8')"
   ],
   "metadata": {
    "collapsed": false,
    "ExecuteTime": {
     "end_time": "2023-11-06T11:44:09.024134200Z",
     "start_time": "2023-11-06T11:44:08.919717700Z"
    }
   },
   "id": "4ff71e602c7f5430"
  },
  {
   "cell_type": "code",
   "execution_count": 122,
   "outputs": [
    {
     "name": "stdout",
     "output_type": "stream",
     "text": [
      "[LightGBM] [Warning] Found whitespace in feature_names, replace with underlines\n",
      "[LightGBM] [Info] Number of positive: 2198, number of negative: 27802\n",
      "[LightGBM] [Info] Auto-choosing col-wise multi-threading, the overhead of testing was 0.042594 seconds.\n",
      "You can set `force_col_wise=true` to remove the overhead.\n",
      "[LightGBM] [Info] Total Bins 29740\n",
      "[LightGBM] [Info] Number of data points in the train set: 30000, number of used features: 1401\n",
      "[LightGBM] [Info] [binary:BoostFromScore]: pavg=0.073267 -> initscore=-2.537560\n",
      "[LightGBM] [Info] Start training from score -2.537560\n",
      "[LightGBM] [Warning] No further splits with positive gain, best gain: -inf\n",
      "[LightGBM] [Warning] No further splits with positive gain, best gain: -inf\n",
      "[LightGBM] [Warning] No further splits with positive gain, best gain: -inf\n",
      "[LightGBM] [Warning] No further splits with positive gain, best gain: -inf\n",
      "[LightGBM] [Warning] No further splits with positive gain, best gain: -inf\n",
      "[LightGBM] [Warning] No further splits with positive gain, best gain: -inf\n",
      "[LightGBM] [Warning] No further splits with positive gain, best gain: -inf\n",
      "[LightGBM] [Warning] No further splits with positive gain, best gain: -inf\n",
      "[LightGBM] [Warning] No further splits with positive gain, best gain: -inf\n",
      "[LightGBM] [Warning] No further splits with positive gain, best gain: -inf\n",
      "[LightGBM] [Warning] No further splits with positive gain, best gain: -inf\n",
      "[LightGBM] [Warning] No further splits with positive gain, best gain: -inf\n",
      "[LightGBM] [Warning] No further splits with positive gain, best gain: -inf\n",
      "[LightGBM] [Warning] No further splits with positive gain, best gain: -inf\n",
      "[LightGBM] [Warning] No further splits with positive gain, best gain: -inf\n",
      "[LightGBM] [Warning] No further splits with positive gain, best gain: -inf\n",
      "[LightGBM] [Warning] No further splits with positive gain, best gain: -inf\n",
      "[LightGBM] [Warning] No further splits with positive gain, best gain: -inf\n",
      "[LightGBM] [Warning] No further splits with positive gain, best gain: -inf\n",
      "[LightGBM] [Warning] No further splits with positive gain, best gain: -inf\n",
      "[LightGBM] [Warning] No further splits with positive gain, best gain: -inf\n",
      "[LightGBM] [Warning] No further splits with positive gain, best gain: -inf\n",
      "[LightGBM] [Warning] No further splits with positive gain, best gain: -inf\n",
      "[LightGBM] [Warning] No further splits with positive gain, best gain: -inf\n",
      "[LightGBM] [Warning] No further splits with positive gain, best gain: -inf\n",
      "[LightGBM] [Warning] No further splits with positive gain, best gain: -inf\n",
      "[LightGBM] [Warning] No further splits with positive gain, best gain: -inf\n",
      "[LightGBM] [Warning] No further splits with positive gain, best gain: -inf\n",
      "[LightGBM] [Warning] No further splits with positive gain, best gain: -inf\n",
      "[LightGBM] [Warning] No further splits with positive gain, best gain: -inf\n",
      "[LightGBM] [Warning] No further splits with positive gain, best gain: -inf\n",
      "[LightGBM] [Warning] No further splits with positive gain, best gain: -inf\n",
      "[LightGBM] [Warning] No further splits with positive gain, best gain: -inf\n",
      "[LightGBM] [Warning] No further splits with positive gain, best gain: -inf\n",
      "[LightGBM] [Warning] No further splits with positive gain, best gain: -inf\n",
      "AUC Score: 0.9511299977175135\n"
     ]
    }
   ],
   "source": [
    "import lightgbm as lgb\n",
    "from sklearn import metrics\n",
    "\n",
    "def train_lightgbm(train_data, y_train, params=None, num_boost_round=100):\n",
    "    if params is None:\n",
    "        params = {\n",
    "            'objective': 'binary',\n",
    "            'boosting_type': 'gbdt',\n",
    "            'num_leaves': 50,\n",
    "            'learning_rate': 0.03,\n",
    "            'feature_fraction': 0.2,\n",
    "            'max_depth':7,\n",
    "            'n_estimators':200,\n",
    "        }\n",
    "\n",
    "    lgb_train = lgb.Dataset(train_data, label=y_train)\n",
    "    model = lgb.train(params, lgb_train, num_boost_round=num_boost_round)\n",
    "\n",
    "    # 预测概率\n",
    "    y_pred = model.predict(train_data)\n",
    "\n",
    "    # 计算AUC\n",
    "    auc_score = metrics.roc_auc_score(y_train, y_pred)\n",
    "\n",
    "    return model, auc_score\n",
    "\n",
    "# 调用函数进行训练\n",
    "model, auc = train_lightgbm(train_data, y_train)\n",
    "print(f'AUC Score: {auc}')\n"
   ],
   "metadata": {
    "collapsed": false,
    "ExecuteTime": {
     "end_time": "2023-11-06T12:24:51.934322600Z",
     "start_time": "2023-11-06T12:24:45.408178100Z"
    }
   },
   "id": "47f07112a1d6513d"
  },
  {
   "cell_type": "code",
   "execution_count": 123,
   "outputs": [
    {
     "data": {
      "text/plain": "array([0.18016637, 0.07131665, 0.13964809, ..., 0.01490522, 0.31892549,\n       0.0433068 ])"
     },
     "execution_count": 123,
     "metadata": {},
     "output_type": "execute_result"
    }
   ],
   "source": [
    "model.predict(test_data)"
   ],
   "metadata": {
    "collapsed": false,
    "ExecuteTime": {
     "end_time": "2023-11-06T12:25:10.273191700Z",
     "start_time": "2023-11-06T12:25:07.464470600Z"
    }
   },
   "id": "f2b820bc419b7a84"
  },
  {
   "cell_type": "code",
   "execution_count": 127,
   "outputs": [
    {
     "data": {
      "text/plain": "          ID  Prediction\n0         10    0.180166\n1        100    0.071317\n2       1000    0.139648\n3      10000    0.036701\n4      10009    0.158596\n...      ...         ...\n29995    998    0.029232\n29996   9985    0.192944\n29997   9988    0.014905\n29998   9996    0.318925\n29999   9999    0.043307\n\n[30000 rows x 2 columns]",
      "text/html": "<div>\n<style scoped>\n    .dataframe tbody tr th:only-of-type {\n        vertical-align: middle;\n    }\n\n    .dataframe tbody tr th {\n        vertical-align: top;\n    }\n\n    .dataframe thead th {\n        text-align: right;\n    }\n</style>\n<table border=\"1\" class=\"dataframe\">\n  <thead>\n    <tr style=\"text-align: right;\">\n      <th></th>\n      <th>ID</th>\n      <th>Prediction</th>\n    </tr>\n  </thead>\n  <tbody>\n    <tr>\n      <th>0</th>\n      <td>10</td>\n      <td>0.180166</td>\n    </tr>\n    <tr>\n      <th>1</th>\n      <td>100</td>\n      <td>0.071317</td>\n    </tr>\n    <tr>\n      <th>2</th>\n      <td>1000</td>\n      <td>0.139648</td>\n    </tr>\n    <tr>\n      <th>3</th>\n      <td>10000</td>\n      <td>0.036701</td>\n    </tr>\n    <tr>\n      <th>4</th>\n      <td>10009</td>\n      <td>0.158596</td>\n    </tr>\n    <tr>\n      <th>...</th>\n      <td>...</td>\n      <td>...</td>\n    </tr>\n    <tr>\n      <th>29995</th>\n      <td>998</td>\n      <td>0.029232</td>\n    </tr>\n    <tr>\n      <th>29996</th>\n      <td>9985</td>\n      <td>0.192944</td>\n    </tr>\n    <tr>\n      <th>29997</th>\n      <td>9988</td>\n      <td>0.014905</td>\n    </tr>\n    <tr>\n      <th>29998</th>\n      <td>9996</td>\n      <td>0.318925</td>\n    </tr>\n    <tr>\n      <th>29999</th>\n      <td>9999</td>\n      <td>0.043307</td>\n    </tr>\n  </tbody>\n</table>\n<p>30000 rows × 2 columns</p>\n</div>"
     },
     "execution_count": 127,
     "metadata": {},
     "output_type": "execute_result"
    }
   ],
   "source": [
    "yprob_lgb = model.predict(test_data)\n",
    "result_lgb = pd.DataFrame({'ID': test_data.values[:, 0], 'Prediction': yprob_lgb})\n",
    "result_lgb"
   ],
   "metadata": {
    "collapsed": false,
    "ExecuteTime": {
     "end_time": "2023-11-06T12:27:06.312955700Z",
     "start_time": "2023-11-06T12:27:01.624942400Z"
    }
   },
   "id": "d9336981e6c89e89"
  }
 ],
 "metadata": {
  "kernelspec": {
   "display_name": "Python 3",
   "language": "python",
   "name": "python3"
  },
  "language_info": {
   "codemirror_mode": {
    "name": "ipython",
    "version": 2
   },
   "file_extension": ".py",
   "mimetype": "text/x-python",
   "name": "python",
   "nbconvert_exporter": "python",
   "pygments_lexer": "ipython2",
   "version": "2.7.6"
  }
 },
 "nbformat": 4,
 "nbformat_minor": 5
}
