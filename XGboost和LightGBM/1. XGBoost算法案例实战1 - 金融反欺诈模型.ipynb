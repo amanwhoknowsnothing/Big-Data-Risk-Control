{
 "cells": [
  {
   "cell_type": "markdown",
   "metadata": {
    "id": "963B9B1B3E234E3795DCFDB10CA89238",
    "scrolled": false,
    "tags": [],
    "slideshow": {
     "slide_type": "slide"
    },
    "notebookId": "65186d505177b26f2e3c2dd3",
    "trusted": true,
    "runtime": {
     "status": "default",
     "execution_status": "",
     "is_visible": false
    }
   },
   "source": [
    "# XGBoost算法案例实训 - 金融反欺诈模型"
   ]
  },
  {
   "cell_type": "markdown",
   "metadata": {
    "id": "78DC754598A748819077063960D1BE02",
    "scrolled": false,
    "tags": [],
    "slideshow": {
     "slide_type": "slide"
    },
    "notebookId": "65186d505177b26f2e3c2dd3",
    "trusted": true,
    "runtime": {
     "status": "default",
     "execution_status": "",
     "is_visible": false
    }
   },
   "source": [
    "## 案例背景  \n",
    "\n",
    "信用卡盗刷一般发生在持卡人信息被不法分子窃取后复制卡片进行消费或信用卡被他人冒领后激活消费的情况。一旦发生信用卡盗刷，持卡人和银行都会蒙受一定的经济损失。因此，通过大数据搭建金融反欺诈模型对银行来说尤为重要。"
   ]
  },
  {
   "cell_type": "markdown",
   "metadata": {
    "id": "B348D61491454AE4B49348B338F83959",
    "scrolled": false,
    "tags": [],
    "slideshow": {
     "slide_type": "slide"
    },
    "notebookId": "65186d505177b26f2e3c2dd3",
    "trusted": true,
    "runtime": {
     "status": "default",
     "execution_status": "",
     "is_visible": false
    }
   },
   "source": [
    "### 1.读取数据"
   ]
  },
  {
   "cell_type": "code",
   "metadata": {
    "ExecuteTime": {
     "end_time": "2020-11-21T02:10:26.565793Z",
     "start_time": "2020-11-21T02:10:26.408702Z"
    },
    "id": "FAC9CA6C508B41A699978D50622C008E",
    "collapsed": false,
    "scrolled": false,
    "tags": [],
    "slideshow": {
     "slide_type": "slide"
    },
    "notebookId": "65186d505177b26f2e3c2dd3",
    "trusted": true
   },
   "source": [
    "import pandas as pd\n",
    "df = pd.read_excel('/home/mw/input/XG3004/信用卡交易数据.xlsx')\n",
    "df.head()"
   ],
   "outputs": [
    {
     "output_type": "execute_result",
     "data": {
      "text/plain": "   换设备次数  支付失败次数  换IP次数  换IP国次数   交易金额  欺诈标签\n0      0      11      3       5  28836     1\n1      5       6      1       4  21966     1\n2      6       2      0       0  18199     1\n3      5       8      2       2  24803     1\n4      7      10      5       0  26277     1",
      "text/html": "<div>\n<style scoped>\n    .dataframe tbody tr th:only-of-type {\n        vertical-align: middle;\n    }\n\n    .dataframe tbody tr th {\n        vertical-align: top;\n    }\n\n    .dataframe thead th {\n        text-align: right;\n    }\n</style>\n<table border=\"1\" class=\"dataframe\">\n  <thead>\n    <tr style=\"text-align: right;\">\n      <th></th>\n      <th>换设备次数</th>\n      <th>支付失败次数</th>\n      <th>换IP次数</th>\n      <th>换IP国次数</th>\n      <th>交易金额</th>\n      <th>欺诈标签</th>\n    </tr>\n  </thead>\n  <tbody>\n    <tr>\n      <th>0</th>\n      <td>0</td>\n      <td>11</td>\n      <td>3</td>\n      <td>5</td>\n      <td>28836</td>\n      <td>1</td>\n    </tr>\n    <tr>\n      <th>1</th>\n      <td>5</td>\n      <td>6</td>\n      <td>1</td>\n      <td>4</td>\n      <td>21966</td>\n      <td>1</td>\n    </tr>\n    <tr>\n      <th>2</th>\n      <td>6</td>\n      <td>2</td>\n      <td>0</td>\n      <td>0</td>\n      <td>18199</td>\n      <td>1</td>\n    </tr>\n    <tr>\n      <th>3</th>\n      <td>5</td>\n      <td>8</td>\n      <td>2</td>\n      <td>2</td>\n      <td>24803</td>\n      <td>1</td>\n    </tr>\n    <tr>\n      <th>4</th>\n      <td>7</td>\n      <td>10</td>\n      <td>5</td>\n      <td>0</td>\n      <td>26277</td>\n      <td>1</td>\n    </tr>\n  </tbody>\n</table>\n</div>"
     },
     "metadata": {},
     "execution_count": 1
    }
   ],
   "execution_count": 1
  },
  {
   "cell_type": "markdown",
   "metadata": {
    "id": "0A67FE2997E5495BB8E329ED6E480093",
    "scrolled": false,
    "tags": [],
    "slideshow": {
     "slide_type": "slide"
    },
    "notebookId": "65186d505177b26f2e3c2dd3",
    "trusted": true,
    "runtime": {
     "status": "default",
     "execution_status": "",
     "is_visible": false
    }
   },
   "source": [
    "### 2.提取特征变量和目标变量"
   ]
  },
  {
   "cell_type": "code",
   "metadata": {
    "ExecuteTime": {
     "end_time": "2020-11-21T02:10:26.573772Z",
     "start_time": "2020-11-21T02:10:26.567788Z"
    },
    "id": "7E585E0E63854C31BFFEF75ED86DD8A6",
    "collapsed": false,
    "scrolled": false,
    "tags": [],
    "slideshow": {
     "slide_type": "slide"
    },
    "notebookId": "65186d505177b26f2e3c2dd3",
    "trusted": true
   },
   "source": [
    "# 通过如下代码将特征变量和目标变量单独提取出来，代码如下：\n",
    "X = df.drop(columns='欺诈标签') \n",
    "y = df['欺诈标签']"
   ],
   "outputs": [],
   "execution_count": 2
  },
  {
   "cell_type": "markdown",
   "metadata": {
    "id": "5B894DA376D74B4B9EAF998135AC65CE",
    "scrolled": false,
    "tags": [],
    "slideshow": {
     "slide_type": "slide"
    },
    "notebookId": "65186d505177b26f2e3c2dd3",
    "trusted": true,
    "runtime": {
     "status": "default",
     "execution_status": "",
     "is_visible": false
    }
   },
   "source": [
    "### 3.划分训练集和测试集"
   ]
  },
  {
   "cell_type": "code",
   "metadata": {
    "ExecuteTime": {
     "end_time": "2020-11-21T02:10:26.588735Z",
     "start_time": "2020-11-21T02:10:26.577764Z"
    },
    "id": "25F57C19D14E4BA08E747D664404E19A",
    "collapsed": false,
    "scrolled": false,
    "tags": [],
    "slideshow": {
     "slide_type": "slide"
    },
    "notebookId": "65186d505177b26f2e3c2dd3",
    "trusted": true
   },
   "source": [
    "# 提取完特征变量后，通过如下代码将数据拆分为训练集及测试集：\n",
    "from sklearn.model_selection import train_test_split\n",
    "X_train, X_test, y_train, y_test = train_test_split(X, y, test_size=0.2, random_state=123)"
   ],
   "outputs": [],
   "execution_count": 3
  },
  {
   "cell_type": "markdown",
   "metadata": {
    "id": "DB2B1CB4EE6C400B80CDBF1866EE9552",
    "scrolled": false,
    "tags": [],
    "slideshow": {
     "slide_type": "slide"
    },
    "notebookId": "65186d505177b26f2e3c2dd3",
    "trusted": true,
    "runtime": {
     "status": "default",
     "execution_status": "",
     "is_visible": false
    }
   },
   "source": [
    "### 4.模型训练及搭建"
   ]
  },
  {
   "cell_type": "code",
   "metadata": {
    "ExecuteTime": {
     "end_time": "2020-11-21T02:10:26.649569Z",
     "start_time": "2020-11-21T02:10:26.591725Z"
    },
    "id": "0B38FA3476764DF88916EAE7A1A94562",
    "collapsed": false,
    "scrolled": false,
    "tags": [],
    "slideshow": {
     "slide_type": "slide"
    },
    "notebookId": "65186d505177b26f2e3c2dd3",
    "trusted": true
   },
   "source": [
    "# 划分为训练集和测试集之后，就可以引入XGBoost分类器进行模型训练了，代码如下：\n",
    "from xgboost import XGBClassifier\n",
    "clf = XGBClassifier(n_estimators=100, learning_rate=0.05)\n",
    "clf.fit(X_train, y_train)"
   ],
   "outputs": [
    {
     "output_type": "execute_result",
     "data": {
      "text/plain": "XGBClassifier(base_score=0.5, booster='gbtree', callbacks=None,\n              colsample_bylevel=1, colsample_bynode=1, colsample_bytree=1,\n              early_stopping_rounds=None, enable_categorical=False,\n              eval_metric=None, gamma=0, gpu_id=-1, grow_policy='depthwise',\n              importance_type=None, interaction_constraints='',\n              learning_rate=0.05, max_bin=256, max_cat_to_onehot=4,\n              max_delta_step=0, max_depth=6, max_leaves=0, min_child_weight=1,\n              missing=nan, monotone_constraints='()', n_estimators=100,\n              n_jobs=0, num_parallel_tree=1, predictor='auto', random_state=0,\n              reg_alpha=0, reg_lambda=1, ...)"
     },
     "metadata": {},
     "execution_count": 4
    }
   ],
   "execution_count": 4
  },
  {
   "cell_type": "markdown",
   "metadata": {
    "id": "3173F4943CAA4132B1644E0923BD2F13",
    "scrolled": false,
    "tags": [],
    "slideshow": {
     "slide_type": "slide"
    },
    "notebookId": "65186d505177b26f2e3c2dd3",
    "trusted": true,
    "runtime": {
     "status": "default",
     "execution_status": "",
     "is_visible": false
    }
   },
   "source": [
    "### 5.模型预测及评估"
   ]
  },
  {
   "cell_type": "code",
   "metadata": {
    "ExecuteTime": {
     "end_time": "2020-11-21T02:10:26.663532Z",
     "start_time": "2020-11-21T02:10:26.652563Z"
    },
    "id": "37AF0F33CF5D48CCABF4C1E4C360A52A",
    "collapsed": false,
    "scrolled": false,
    "tags": [],
    "slideshow": {
     "slide_type": "slide"
    },
    "notebookId": "65186d505177b26f2e3c2dd3",
    "trusted": true
   },
   "source": [
    "# 模型搭建完毕后，通过如下代码预测测试集数据：\n",
    "y_pred = clf.predict(X_test)\n",
    "\n",
    "y_pred  # 打印预测结果"
   ],
   "outputs": [
    {
     "output_type": "execute_result",
     "data": {
      "text/plain": "array([0, 1, 1, 0, 0, 0, 1, 0, 0, 0, 1, 1, 1, 1, 1, 0, 0, 0, 0, 0, 1, 1,\n       1, 0, 0, 0, 0, 0, 0, 1, 0, 1, 0, 1, 0, 0, 1, 1, 1, 0, 0, 1, 0, 0,\n       0, 0, 1, 0, 0, 0, 1, 0, 0, 0, 1, 1, 0, 1, 0, 0, 0, 0, 1, 0, 1, 0,\n       0, 0, 0, 1, 1, 0, 0, 0, 0, 0, 0, 0, 1, 0, 0, 0, 0, 0, 0, 1, 0, 0,\n       0, 1, 0, 0, 0, 1, 1, 0, 0, 0, 0, 0, 0, 0, 0, 0, 0, 0, 1, 0, 0, 1,\n       0, 0, 1, 0, 1, 0, 0, 0, 1, 0, 0, 0, 0, 0, 0, 1, 0, 0, 1, 1, 0, 0,\n       0, 0, 0, 0, 0, 1, 0, 0, 1, 0, 0, 1, 1, 0, 0, 1, 0, 1, 0, 0, 0, 0,\n       1, 0, 1, 1, 1, 0, 1, 0, 1, 1, 1, 0, 0, 0, 0, 0, 0, 0, 0, 0, 0, 0,\n       0, 1, 0, 0, 0, 1, 0, 0, 1, 0, 0, 1, 0, 0, 1, 0, 0, 0, 0, 0, 1, 0,\n       1, 1])"
     },
     "metadata": {},
     "execution_count": 5
    }
   ],
   "execution_count": 5
  },
  {
   "cell_type": "code",
   "metadata": {
    "ExecuteTime": {
     "end_time": "2020-11-21T02:10:26.678492Z",
     "start_time": "2020-11-21T02:10:26.665527Z"
    },
    "id": "331B44EEDD954F3B9801A25A6A3656B7",
    "collapsed": false,
    "scrolled": false,
    "tags": [],
    "slideshow": {
     "slide_type": "slide"
    },
    "notebookId": "65186d505177b26f2e3c2dd3",
    "trusted": true
   },
   "source": [
    "# 将预测值和实际值进行对比\n",
    "a = pd.DataFrame()  # 创建一个空DataFrame \n",
    "a['预测值'] = list(y_pred)\n",
    "a['实际值'] = list(y_test)\n",
    "a.head()"
   ],
   "outputs": [
    {
     "output_type": "execute_result",
     "data": {
      "text/plain": "   预测值  实际值\n0    0    1\n1    1    1\n2    1    1\n3    0    0\n4    0    1",
      "text/html": "<div>\n<style scoped>\n    .dataframe tbody tr th:only-of-type {\n        vertical-align: middle;\n    }\n\n    .dataframe tbody tr th {\n        vertical-align: top;\n    }\n\n    .dataframe thead th {\n        text-align: right;\n    }\n</style>\n<table border=\"1\" class=\"dataframe\">\n  <thead>\n    <tr style=\"text-align: right;\">\n      <th></th>\n      <th>预测值</th>\n      <th>实际值</th>\n    </tr>\n  </thead>\n  <tbody>\n    <tr>\n      <th>0</th>\n      <td>0</td>\n      <td>1</td>\n    </tr>\n    <tr>\n      <th>1</th>\n      <td>1</td>\n      <td>1</td>\n    </tr>\n    <tr>\n      <th>2</th>\n      <td>1</td>\n      <td>1</td>\n    </tr>\n    <tr>\n      <th>3</th>\n      <td>0</td>\n      <td>0</td>\n    </tr>\n    <tr>\n      <th>4</th>\n      <td>0</td>\n      <td>1</td>\n    </tr>\n  </tbody>\n</table>\n</div>"
     },
     "metadata": {},
     "execution_count": 6
    }
   ],
   "execution_count": 6
  },
  {
   "cell_type": "code",
   "metadata": {
    "ExecuteTime": {
     "end_time": "2020-11-21T02:10:26.691458Z",
     "start_time": "2020-11-21T02:10:26.681485Z"
    },
    "id": "48CFFA98AB684998BD40DA51265FCAC0",
    "collapsed": false,
    "scrolled": false,
    "tags": [],
    "slideshow": {
     "slide_type": "slide"
    },
    "notebookId": "65186d505177b26f2e3c2dd3",
    "trusted": true
   },
   "source": [
    "# 可以看到此时前五项的预测准确度为60%，如果想看所有测试集数据的预测准确度，可以使用如下代码：\n",
    "from sklearn.metrics import accuracy_score\n",
    "score = accuracy_score(y_pred, y_test)\n",
    "score"
   ],
   "outputs": [
    {
     "output_type": "execute_result",
     "data": {
      "text/plain": "0.875"
     },
     "metadata": {},
     "execution_count": 7
    }
   ],
   "execution_count": 7
  },
  {
   "cell_type": "code",
   "metadata": {
    "ExecuteTime": {
     "end_time": "2020-11-21T02:10:26.759275Z",
     "start_time": "2020-11-21T02:10:26.708413Z"
    },
    "id": "B8F067C74B414BBE967FE5F1951A33D1",
    "collapsed": false,
    "scrolled": false,
    "tags": [],
    "slideshow": {
     "slide_type": "slide"
    },
    "notebookId": "65186d505177b26f2e3c2dd3",
    "trusted": true
   },
   "source": [
    "# 我们还可以通过XGBClassifier()自带的score()函数来查看模型预测的准确度评分，代码如下，获得的结果同样是0.875。\n",
    "clf.score(X_test, y_test)"
   ],
   "outputs": [
    {
     "output_type": "execute_result",
     "data": {
      "text/plain": "0.875"
     },
     "metadata": {},
     "execution_count": 8
    }
   ],
   "execution_count": 8
  },
  {
   "cell_type": "code",
   "metadata": {
    "ExecuteTime": {
     "end_time": "2020-11-21T02:10:26.783212Z",
     "start_time": "2020-11-21T02:10:26.769249Z"
    },
    "id": "8CD1E3C01881456795AAAD06D660AAA7",
    "collapsed": false,
    "scrolled": false,
    "tags": [],
    "slideshow": {
     "slide_type": "slide"
    },
    "notebookId": "65186d505177b26f2e3c2dd3",
    "trusted": true
   },
   "source": [
    "# XGBClassifier分类器本质预测的并不是准确的0或1的分类，而是预测其属于某一分类的概率，可以通过predict_proba()函数查看预测属于各个分类的概率，代码如下：\n",
    "y_pred_proba = clf.predict_proba(X_test)\n",
    "print(y_pred_proba[0:5])  # 查看前5个预测的概率"
   ],
   "outputs": [
    {
     "output_type": "stream",
     "name": "stdout",
     "text": "[[0.8265032  0.1734968 ]\n [0.02098632 0.9790137 ]\n [0.0084281  0.9915719 ]\n [0.8999369  0.1000631 ]\n [0.8290514  0.17094862]]\n"
    }
   ],
   "execution_count": 9
  },
  {
   "cell_type": "code",
   "metadata": {
    "ExecuteTime": {
     "end_time": "2020-11-21T02:10:26.812135Z",
     "start_time": "2020-11-21T02:10:26.791192Z"
    },
    "id": "BDF80445D4E64866A2EC3970F9386E8E",
    "collapsed": false,
    "scrolled": false,
    "tags": [],
    "slideshow": {
     "slide_type": "slide"
    },
    "notebookId": "65186d505177b26f2e3c2dd3",
    "trusted": true
   },
   "source": [
    "# 此时的y_pred_proba是个二维数组，其中第一列为分类为0（也即非欺诈）的概率，第二列为分类为1（也即欺诈）的概率，因此如果想查看欺诈（分类为1）的概率，可采用如下代码：\n",
    "# y_pred_proba[:,1]  # 分类为1的概率"
   ],
   "outputs": [],
   "execution_count": 10
  },
  {
   "cell_type": "code",
   "metadata": {
    "ExecuteTime": {
     "end_time": "2020-11-21T02:10:28.228819Z",
     "start_time": "2020-11-21T02:10:26.816123Z"
    },
    "id": "13378292BA024D1B9B6820252AD863C7",
    "collapsed": false,
    "scrolled": false,
    "tags": [],
    "slideshow": {
     "slide_type": "slide"
    },
    "notebookId": "65186d505177b26f2e3c2dd3",
    "trusted": true
   },
   "source": [
    "# 绘制ROC曲线来评估模型预测的效果\n",
    "from sklearn.metrics import roc_curve\n",
    "fpr, tpr, thres = roc_curve(y_test, y_pred_proba[:,1])\n",
    "import matplotlib.pyplot as plt\n",
    "plt.plot(fpr, tpr)\n",
    "plt.show()"
   ],
   "outputs": [
    {
     "output_type": "display_data",
     "data": {
      "text/plain": "<Figure size 432x288 with 1 Axes>",
      "text/html": "<img src=\"https://cdn.kesci.com/upload/rt/13378292BA024D1B9B6820252AD863C7/s1tb5w6rwk.png\">"
     },
     "metadata": {
      "needs_background": "light"
     }
    }
   ],
   "execution_count": 11
  },
  {
   "cell_type": "code",
   "metadata": {
    "ExecuteTime": {
     "end_time": "2020-11-21T02:10:28.239760Z",
     "start_time": "2020-11-21T02:10:28.230785Z"
    },
    "id": "A162F775FE2A4BDEBDF9D93293926CB5",
    "collapsed": false,
    "scrolled": false,
    "tags": [],
    "slideshow": {
     "slide_type": "slide"
    },
    "notebookId": "65186d505177b26f2e3c2dd3",
    "trusted": true
   },
   "source": [
    "# 计算模型的AUC值\n",
    "from sklearn.metrics import roc_auc_score\n",
    "score = roc_auc_score(y_test, y_pred_proba[:,1])\n",
    "\n",
    "score"
   ],
   "outputs": [
    {
     "output_type": "execute_result",
     "data": {
      "text/plain": "0.8684772657918828"
     },
     "metadata": {},
     "execution_count": 12
    }
   ],
   "execution_count": 12
  },
  {
   "cell_type": "code",
   "metadata": {
    "ExecuteTime": {
     "end_time": "2020-11-21T02:10:28.266719Z",
     "start_time": "2020-11-21T02:10:28.241756Z"
    },
    "id": "260618D9B2BA4D6EA103137D75BB2683",
    "collapsed": false,
    "scrolled": false,
    "tags": [],
    "slideshow": {
     "slide_type": "slide"
    },
    "notebookId": "65186d505177b26f2e3c2dd3",
    "trusted": true
   },
   "source": [
    "# 可以通过查看各个特征的特征重要性(feature importance)来得出信用卡欺诈行为判断中最重要的特征变量：\n",
    "clf.feature_importances_"
   ],
   "outputs": [
    {
     "output_type": "execute_result",
     "data": {
      "text/plain": "array([0.40674362, 0.1901847 , 0.04100983, 0.33347663, 0.02858528],\n      dtype=float32)"
     },
     "metadata": {},
     "execution_count": 13
    }
   ],
   "execution_count": 13
  },
  {
   "cell_type": "code",
   "metadata": {
    "ExecuteTime": {
     "end_time": "2020-11-21T02:10:28.304590Z",
     "start_time": "2020-11-21T02:10:28.270680Z"
    },
    "id": "A31E8E9735F94BC7B5984B0F8A97F793",
    "collapsed": false,
    "scrolled": false,
    "tags": [],
    "slideshow": {
     "slide_type": "slide"
    },
    "notebookId": "65186d505177b26f2e3c2dd3",
    "trusted": true
   },
   "source": [
    "# 通过特征重要性相关知识点进行整理，方便结果呈现\n",
    "features = X.columns  # 获取特征名称\n",
    "importances = clf.feature_importances_  # 获取特征重要性\n",
    "\n",
    "# 通过二维表格形式显示\n",
    "importances_df = pd.DataFrame()\n",
    "importances_df['特征名称'] = features\n",
    "importances_df['特征重要性'] = importances\n",
    "importances_df.sort_values('特征重要性', ascending=False)"
   ],
   "outputs": [
    {
     "output_type": "execute_result",
     "data": {
      "text/plain": "     特征名称     特征重要性\n0   换设备次数  0.406744\n3  换IP国次数  0.333477\n1  支付失败次数  0.190185\n2   换IP次数  0.041010\n4    交易金额  0.028585",
      "text/html": "<div>\n<style scoped>\n    .dataframe tbody tr th:only-of-type {\n        vertical-align: middle;\n    }\n\n    .dataframe tbody tr th {\n        vertical-align: top;\n    }\n\n    .dataframe thead th {\n        text-align: right;\n    }\n</style>\n<table border=\"1\" class=\"dataframe\">\n  <thead>\n    <tr style=\"text-align: right;\">\n      <th></th>\n      <th>特征名称</th>\n      <th>特征重要性</th>\n    </tr>\n  </thead>\n  <tbody>\n    <tr>\n      <th>0</th>\n      <td>换设备次数</td>\n      <td>0.406744</td>\n    </tr>\n    <tr>\n      <th>3</th>\n      <td>换IP国次数</td>\n      <td>0.333477</td>\n    </tr>\n    <tr>\n      <th>1</th>\n      <td>支付失败次数</td>\n      <td>0.190185</td>\n    </tr>\n    <tr>\n      <th>2</th>\n      <td>换IP次数</td>\n      <td>0.041010</td>\n    </tr>\n    <tr>\n      <th>4</th>\n      <td>交易金额</td>\n      <td>0.028585</td>\n    </tr>\n  </tbody>\n</table>\n</div>"
     },
     "metadata": {},
     "execution_count": 14
    }
   ],
   "execution_count": 14
  },
  {
   "cell_type": "markdown",
   "metadata": {
    "id": "66F462E2D50C44C09EA6CA6AD6B465B7",
    "scrolled": false,
    "tags": [],
    "slideshow": {
     "slide_type": "slide"
    },
    "notebookId": "65186d505177b26f2e3c2dd3",
    "trusted": true,
    "runtime": {
     "status": "default",
     "execution_status": "",
     "is_visible": false
    }
   },
   "source": [
    "### 6.模型参数调优"
   ]
  },
  {
   "cell_type": "code",
   "metadata": {
    "ExecuteTime": {
     "end_time": "2020-11-21T02:10:28.314589Z",
     "start_time": "2020-11-21T02:10:28.308577Z"
    },
    "id": "A95DD2AE805B4AD3AAA14AFF53FD8115",
    "collapsed": false,
    "scrolled": false,
    "tags": [],
    "slideshow": {
     "slide_type": "slide"
    },
    "notebookId": "65186d505177b26f2e3c2dd3",
    "trusted": true
   },
   "source": [
    "from sklearn.model_selection import GridSearchCV  \n",
    "parameters = {'max_depth': [1, 3, 5], 'n_estimators': [50, 100, 150], 'learning_rate': [0.01, 0.05, 0.1, 0.2]}  # 指定模型中参数的范围\n",
    "clf = XGBClassifier()  # 构建模型\n",
    "grid_search = GridSearchCV(clf, parameters, scoring='roc_auc', cv=5)  "
   ],
   "outputs": [],
   "execution_count": 15
  },
  {
   "cell_type": "code",
   "metadata": {
    "ExecuteTime": {
     "end_time": "2020-11-21T02:10:34.563017Z",
     "start_time": "2020-11-21T02:10:28.316589Z"
    },
    "id": "5527F8A738BB4D21AC66321DEE8221D3",
    "collapsed": false,
    "scrolled": false,
    "tags": [],
    "slideshow": {
     "slide_type": "slide"
    },
    "notebookId": "65186d505177b26f2e3c2dd3",
    "trusted": true
   },
   "source": [
    "# 下面将数据传入网格搜索模型并输出参数最优值\n",
    "grid_search.fit(X_train, y_train)  # 传入数据\n",
    "grid_search.best_params_  # 输出参数的最优值"
   ],
   "outputs": [
    {
     "output_type": "execute_result",
     "data": {
      "text/plain": "{'learning_rate': 0.05, 'max_depth': 1, 'n_estimators': 100}"
     },
     "metadata": {},
     "execution_count": 16
    }
   ],
   "execution_count": 16
  },
  {
   "cell_type": "code",
   "metadata": {
    "ExecuteTime": {
     "end_time": "2020-11-21T02:10:34.601913Z",
     "start_time": "2020-11-21T02:10:34.565012Z"
    },
    "id": "236084F951374C8A81317C0A38BC7B9A",
    "collapsed": false,
    "scrolled": false,
    "tags": [],
    "slideshow": {
     "slide_type": "slide"
    },
    "notebookId": "65186d505177b26f2e3c2dd3",
    "trusted": true
   },
   "source": [
    "# 下面根据新的参数建模，重新搭建XGBoost分类器\n",
    "clf = XGBClassifier(max_depth=1, n_estimators=100, learning_rate=0.05)\n",
    "clf.fit(X_train, y_train)"
   ],
   "outputs": [
    {
     "output_type": "execute_result",
     "data": {
      "text/plain": "XGBClassifier(base_score=0.5, booster='gbtree', callbacks=None,\n              colsample_bylevel=1, colsample_bynode=1, colsample_bytree=1,\n              early_stopping_rounds=None, enable_categorical=False,\n              eval_metric=None, gamma=0, gpu_id=-1, grow_policy='depthwise',\n              importance_type=None, interaction_constraints='',\n              learning_rate=0.05, max_bin=256, max_cat_to_onehot=4,\n              max_delta_step=0, max_depth=1, max_leaves=0, min_child_weight=1,\n              missing=nan, monotone_constraints='()', n_estimators=100,\n              n_jobs=0, num_parallel_tree=1, predictor='auto', random_state=0,\n              reg_alpha=0, reg_lambda=1, ...)"
     },
     "metadata": {},
     "execution_count": 17
    }
   ],
   "execution_count": 17
  },
  {
   "cell_type": "code",
   "metadata": {
    "ExecuteTime": {
     "end_time": "2020-11-21T02:10:34.613882Z",
     "start_time": "2020-11-21T02:10:34.603908Z"
    },
    "id": "4E32AC4C991740B6A0218806A8CD3B6B",
    "collapsed": false,
    "scrolled": false,
    "tags": [],
    "slideshow": {
     "slide_type": "slide"
    },
    "notebookId": "65186d505177b26f2e3c2dd3",
    "trusted": true
   },
   "source": [
    "# 因为我们是通过ROC曲线的AUC评分作为模型评价准则来进行参数调优的，因此查看新的AUC值\n",
    "y_pred_proba = clf.predict_proba(X_test)\n",
    "from sklearn.metrics import roc_auc_score\n",
    "score = roc_auc_score(y_test, y_pred_proba[:,1])\n",
    "print(score)"
   ],
   "outputs": [
    {
     "output_type": "stream",
     "name": "stdout",
     "text": "0.8563218390804598\n"
    }
   ],
   "execution_count": 18
  },
  {
   "cell_type": "markdown",
   "metadata": {
    "id": "EDAB10B0530847C19FE464DE68BD1548",
    "scrolled": false,
    "tags": [],
    "slideshow": {
     "slide_type": "slide"
    },
    "notebookId": "65186d505177b26f2e3c2dd3",
    "trusted": true,
    "runtime": {
     "status": "default",
     "execution_status": "",
     "is_visible": false
    }
   },
   "source": [
    "将获得的AUC评分打印出来为：0.856，比原来没有调参前的0.866还略微低了些，你可能会奇怪为什么调参后的结果还不如未调参时的结果，通常来说参数调优出现这种情况的概率较小，下面分析出现这种情况的原因。  \n",
    "\n",
    "出现这种情况的原因是因为交叉验证，我们来简单回顾下K折交叉验证的思路：它是将原来的测试数据分为K份（这里cv=5，即5份），然后在这K份数据中，选K-1份作为训练数据，剩下的1份作为测试数据，训练K次，获得K个的ROC曲线下的AUC值，然后将K个AUC值取平均，取AUC值的均值为最大情况下的参数为模型的最优参数。注意这里AUC值的获取是基于训练集数据，只不过是将训练集数据中的1/K作为测试集数据，这里的测试集数据并不是真正的测试集数据y_test，这也是为什么参数调优后结果反而不如不调优的结果的原因。实际应用中，通常不太会出现调参结果不如不调参的结果，出现这种情况某种程度也是因为数据量较小的原因（像本案例为1000条数据）。"
   ]
  }
 ],
 "metadata": {
  "kernelspec": {
   "language": "python",
   "display_name": "Python 3",
   "name": "python3"
  },
  "language_info": {
   "codemirror_mode": {
    "name": "ipython",
    "version": 3
   },
   "name": "python",
   "mimetype": "text/x-python",
   "nbconvert_exporter": "python",
   "file_extension": ".py",
   "version": "3.5.2",
   "pygments_lexer": "ipython3"
  }
 },
 "nbformat": 4,
 "nbformat_minor": 2
}
