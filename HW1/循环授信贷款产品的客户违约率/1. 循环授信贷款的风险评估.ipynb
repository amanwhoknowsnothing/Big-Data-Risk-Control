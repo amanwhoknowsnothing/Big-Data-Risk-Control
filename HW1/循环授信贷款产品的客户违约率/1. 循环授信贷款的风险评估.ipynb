{
 "cells": [
  {
   "cell_type": "markdown",
   "metadata": {
    "trusted": true,
    "tags": [],
    "slideshow": {
     "slide_type": "slide"
    },
    "id": "D89B0EAB542642F98900CCC4D4E49360",
    "runtime": {
     "status": "default",
     "execution_status": null,
     "is_visible": false
    },
    "scrolled": false,
    "notebookId": "650c65d908c8a2e77b250da3"
   },
   "source": [
    "## 实验1-1 循环授信贷款产品的客户违约率  \n",
    "\n",
    "基于客户数据 (data_client_1.xlsx) 和借贷历史（借据）数据 (data_client_1_hist.xlsx)，计算：  \n",
    "\n",
    "1）**通过率**：审批/授信通过率  \n",
    "\n",
    "2）**转化率**：授信后的借贷比例  \n",
    "\n",
    "3）**授信⾦额**：授信金额总和  \n",
    "\n",
    "4）**客户违约率**：借贷天数超过90天且仍未还款的客户比例  \n",
    "\n",
    "\n",
    "### 关于文件目录  \n",
    "\n",
    "**project**：project 目录是本项目的工作空间，可以把将项目运行有关的所有文件放在这里，目录中文件的增、删、改操作都会被保留  \n",
    "\n",
    "**input**：input 目录是数据集的挂载位置，所有挂载进项目的数据集都在这里，未挂载数据集时 input 目录被隐藏  \n",
    "\n",
    "**temp**：temp 目录是临时磁盘空间，训练或分析过程中产生的不必要文件可以存放在这里，目录中的文件不会保存  \n"
   ]
  },
  {
   "cell_type": "code",
   "metadata": {
    "id": "810CF482643D4985AFA558B9F60AF78D",
    "notebookId": "650c65d908c8a2e77b250da3",
    "tags": [],
    "slideshow": {
     "slide_type": "slide"
    },
    "trusted": true,
    "collapsed": false,
    "scrolled": false,
    "ExecuteTime": {
     "end_time": "2023-09-25T11:29:09.716208800Z",
     "start_time": "2023-09-25T11:29:09.691763700Z"
    }
   },
   "source": [
    "import numpy as np\n",
    "import pandas as pd"
   ],
   "outputs": [],
   "execution_count": 21
  },
  {
   "cell_type": "code",
   "metadata": {
    "trusted": true,
    "collapsed": false,
    "tags": [],
    "slideshow": {
     "slide_type": "slide"
    },
    "id": "4FC61B519BE24DD590C9913A15FBDA95",
    "scrolled": false,
    "notebookId": "650c65d908c8a2e77b250da3",
    "ExecuteTime": {
     "end_time": "2023-09-25T11:29:13.892627400Z",
     "start_time": "2023-09-25T11:29:09.699255100Z"
    }
   },
   "source": [
    "# 读取两份EXCEL文件\n",
    "df1 = pd.read_excel(\"data_client_1.xlsx\")\n",
    "df2 = pd.read_excel(\"data_client_1_hist.xlsx\")"
   ],
   "outputs": [],
   "execution_count": 22
  },
  {
   "cell_type": "code",
   "metadata": {
    "trusted": true,
    "collapsed": false,
    "tags": [],
    "slideshow": {
     "slide_type": "slide"
    },
    "id": "16BEDEF83DF24B65ABB0E52615CECDCB",
    "scrolled": false,
    "notebookId": "650c65d908c8a2e77b250da3",
    "ExecuteTime": {
     "end_time": "2023-09-25T11:29:13.898638100Z",
     "start_time": "2023-09-25T11:29:13.884144600Z"
    }
   },
   "source": [
    "# 计算通过率\n",
    "approval_rate = df1['if_approved'].sum() / len(df1['if_approved'])\n",
    "# 计算转化率\n",
    "transfer_rate = df1['if_used'].sum() / df1['if_approved'].sum()\n",
    "# 计算授信金额\n",
    "credit_sum = df1['credit_approved'].sum()\n",
    "# 计算客户违约率\n",
    "default_clients = df2.loc[df2.loan_repaid_date.isna() & (df2.loan_used_days > 90), 'client_no'].nunique()\n",
    "default_rate = default_clients / df1['if_used'].sum()\n",
    "\n",
    "[approval_rate, transfer_rate, credit_sum, default_rate]"
   ],
   "outputs": [
    {
     "data": {
      "text/plain": "[0.5904, 0.34010840108401086, 81550955, 0.10557768924302789]"
     },
     "execution_count": 23,
     "metadata": {},
     "output_type": "execute_result"
    }
   ],
   "execution_count": 23
  },
  {
   "cell_type": "markdown",
   "metadata": {
    "id": "B40543DD526042C8B22AB72150B679DC",
    "notebookId": "650c65d908c8a2e77b250da3",
    "runtime": {
     "status": "default",
     "execution_status": null,
     "is_visible": false
    },
    "scrolled": false,
    "tags": [],
    "slideshow": {
     "slide_type": "slide"
    }
   },
   "source": [
    "## 实验1-2 循环授信贷款中不同人群的风险成本  \n",
    "基于客户数据 (data_client_1.xlsx)和借贷历史(借据)数据 (data_client_1_hist.xlsx)，计算：  \n",
    "**不同人群间的违约率、违约损失率、风险敞口、预期损失及实际损失**。  \n",
    "\n",
    "将客户按credit_score划分为两个客户群：  \n",
    "\n",
    "1）160~190：160<=credit_score<=190  \n",
    "\n",
    "2）190+：credit_score>190  \n",
    "\n",
    "预期损失的计算公式：  \n",
    "\n",
    "**Expected Loss= Probability of Default * Loss Given Default * Exposure at Default**  \n",
    "\n",
    "Probability of Default (PD)：违约率  \n",
    "\n",
    "Loss Given Default (LGD)：违约损失率  \n",
    "\n",
    "Exposure at Default (EaD)：⻛险敞⼝  \n",
    "\n",
    "**注意：**  \n",
    "\n",
    "* 上述违约率与1中的“客户违约率”不同，指的是“借据违约率”  \n",
    "\n",
    "* 计算时将逾期大于110天仍未还款的借据看作损失  \n",
    "\n",
    "* 在估计产品的风险成本时，EaD计算的是贷款总金额  \n",
    "\n",
    "* 损失、敞口都和金额相关的  "
   ]
  },
  {
   "cell_type": "code",
   "metadata": {
    "id": "E18D7A05E1E8431BB726FCB3CEA47562",
    "notebookId": "650c65d908c8a2e77b250da3",
    "collapsed": false,
    "scrolled": false,
    "tags": [],
    "slideshow": {
     "slide_type": "slide"
    },
    "trusted": true,
    "ExecuteTime": {
     "end_time": "2023-09-25T11:29:13.913596Z",
     "start_time": "2023-09-25T11:29:13.903633300Z"
    }
   },
   "source": [
    "# 计算违约率\n",
    "def cal_pd(df):\n",
    "    # 违约(逾期）数\n",
    "    a = len(df.loc[df.loan_used_days > 90, 'client_no'])\n",
    "    # 借据数\n",
    "    b = len(df.loc[df.loan_order > 0, 'client_no'])\n",
    "\n",
    "    return a/b"
   ],
   "outputs": [],
   "execution_count": 24
  },
  {
   "cell_type": "code",
   "metadata": {
    "id": "CC9BD5E0C2F7434E9A3AC7EF87870DBB",
    "notebookId": "650c65d908c8a2e77b250da3",
    "collapsed": false,
    "scrolled": false,
    "tags": [],
    "slideshow": {
     "slide_type": "slide"
    },
    "trusted": true,
    "ExecuteTime": {
     "end_time": "2023-09-25T11:29:13.930133500Z",
     "start_time": "2023-09-25T11:29:13.915561400Z"
    }
   },
   "source": [
    "# 计算违约损失率\n",
    "def cal_lgd(df):\n",
    "    # 损失金额\n",
    "    loss = df.loc[df.loan_used_days > 110, 'loan_amt'].sum()\n",
    "    # 违约金额\n",
    "    default = df.loc[df.loan_used_days > 90, 'loan_amt'].sum()\n",
    "\n",
    "    return loss/default\n"
   ],
   "outputs": [],
   "execution_count": 25
  },
  {
   "cell_type": "code",
   "metadata": {
    "id": "9DB85494981E4A78888F2A76BA82059D",
    "notebookId": "650c65d908c8a2e77b250da3",
    "collapsed": false,
    "scrolled": false,
    "tags": [],
    "slideshow": {
     "slide_type": "slide"
    },
    "trusted": true,
    "ExecuteTime": {
     "end_time": "2023-09-25T11:29:13.931127200Z",
     "start_time": "2023-09-25T11:29:13.924557300Z"
    }
   },
   "source": [
    "# 计算风险敞口\n",
    "def cal_ead(df):\n",
    "    return df.loan_amt.sum()"
   ],
   "outputs": [],
   "execution_count": 26
  },
  {
   "cell_type": "code",
   "metadata": {
    "id": "9B98C43C98354F5692E72028CEA1D49C",
    "notebookId": "650c65d908c8a2e77b250da3",
    "collapsed": false,
    "scrolled": false,
    "tags": [],
    "slideshow": {
     "slide_type": "slide"
    },
    "trusted": true,
    "ExecuteTime": {
     "end_time": "2023-09-25T11:29:13.976157400Z",
     "start_time": "2023-09-25T11:29:13.931127200Z"
    }
   },
   "source": [
    "# 计算实际损失\n",
    "def cal_loss(df):\n",
    "    return df.loc[df.loan_used_days > 110, 'loan_amt'].sum()"
   ],
   "outputs": [],
   "execution_count": 27
  },
  {
   "cell_type": "code",
   "metadata": {
    "id": "B9F3F37F53F94604A33D2463276145B7",
    "notebookId": "650c65d908c8a2e77b250da3",
    "collapsed": false,
    "scrolled": false,
    "tags": [],
    "slideshow": {
     "slide_type": "slide"
    },
    "trusted": true,
    "ExecuteTime": {
     "end_time": "2023-09-25T11:29:13.986816700Z",
     "start_time": "2023-09-25T11:29:13.945088400Z"
    }
   },
   "source": [
    "group1 = df1.loc[(df1.credit_score >= 160) & (df1.credit_score <= 190), 'client_no']\n",
    "group2 = df1.loc[df1.credit_score > 190, 'client_no']\n",
    "\n",
    "df2_group1 = df2.loc[df2.client_no.isin(group1)]\n",
    "df2_group2 = df2.loc[df2.client_no.isin(group2)]\n",
    "\n",
    "# 计算客群1的违约率、违约损失率、风险敞口、预期损失及实际损失\n",
    "pd1 = cal_pd(df2_group1)\n",
    "lgd1 = cal_lgd(df2_group1)\n",
    "ead1 = cal_ead(df2_group1)\n",
    "expect_loss1 = cal_ead(df2_group1)\n",
    "exact_loss1 = cal_loss(df2_group1)\n",
    "\n",
    "# 计算客群2的违约率、违约损失率、风险敞口、预期损失及实际损失\n",
    "pd2 = cal_pd(df2_group2)\n",
    "lgd2 = cal_lgd(df2_group2)\n",
    "ead2 = cal_ead(df2_group2)\n",
    "expect_loss2 = cal_ead(df2_group2)\n",
    "exact_loss2 = cal_loss(df2_group2)\n",
    "\n",
    "res = {'160~190': {\n",
    "        'pd': pd1,\n",
    "        'lgd': lgd1,\n",
    "        'ead': ead1,\n",
    "        'expected_loss': expect_loss1,\n",
    "        'exact_loss': exact_loss1}\n",
    "}\n",
    "\n",
    "res['190+'] = {\n",
    "        'pd': pd2,\n",
    "        'lgd': lgd2,\n",
    "        'ead': ead2,\n",
    "        'expected_loss': expect_loss2,\n",
    "        'exact_loss': exact_loss2}\n",
    "\n",
    "res"
   ],
   "outputs": [
    {
     "data": {
      "text/plain": "{'160~190': {'pd': 0.7687264506405426,\n  'lgd': 0.0001986628337110357,\n  'ead': 294033694.24129575,\n  'expected_loss': 294033694.24129575,\n  'exact_loss': 46000.0},\n '190+': {'pd': 0.008771929824561403,\n  'lgd': 0.0,\n  'ead': 7187311.926664613,\n  'expected_loss': 7187311.926664613,\n  'exact_loss': 0.0}}"
     },
     "execution_count": 28,
     "metadata": {},
     "output_type": "execute_result"
    }
   ],
   "execution_count": 28
  }
 ],
 "metadata": {
  "kernelspec": {
   "language": "python",
   "display_name": "Python 3",
   "name": "python3"
  },
  "language_info": {
   "codemirror_mode": {
    "name": "ipython",
    "version": 3
   },
   "name": "python",
   "mimetype": "text/x-python",
   "nbconvert_exporter": "python",
   "file_extension": ".py",
   "version": "3.5.2",
   "pygments_lexer": "ipython3"
  }
 },
 "nbformat": 4,
 "nbformat_minor": 0
}
