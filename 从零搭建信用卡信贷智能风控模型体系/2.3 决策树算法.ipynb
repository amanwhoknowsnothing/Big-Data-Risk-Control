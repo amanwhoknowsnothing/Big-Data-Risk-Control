{
 "cells": [
  {
   "cell_type": "markdown",
   "metadata": {
    "trusted": true,
    "tags": [],
    "slideshow": {
     "slide_type": "slide"
    },
    "id": "D89B0EAB542642F98900CCC4D4E49360",
    "runtime": {
     "status": "default",
     "execution_status": null,
     "is_visible": false
    },
    "scrolled": false,
    "notebookId": "6515cc07d40e0c1a5867917b"
   },
   "source": [
    "## DT（Decision Tree）  \n",
    "\n",
    "决策树是一种有监督学习算法，利用树结构对样本进行划分，从而预测输出。  \n"
   ]
  },
  {
   "cell_type": "code",
   "metadata": {
    "id": "810CF482643D4985AFA558B9F60AF78D",
    "notebookId": "6515cc07d40e0c1a5867917b",
    "tags": [],
    "slideshow": {
     "slide_type": "slide"
    },
    "trusted": true,
    "collapsed": false,
    "scrolled": false
   },
   "source": [
    "from sklearn.tree import DecisionTreeClassifier\n",
    "from sklearn.metrics import roc_auc_score\n",
    "from sklearn.tree import DecisionTreeClassifier\n",
    "\n",
    "from utils import data_utils"
   ],
   "outputs": [
    {
     "output_type": "error",
     "ename": "OSError",
     "evalue": "[Errno 5] Input/output error: '/home/mw/project/utils/data_utils.py'",
     "traceback": [
      "\u001B[0;31m---------------------------------------------------------------------------\u001B[0m",
      "\u001B[0;31mOSError\u001B[0m                                   Traceback (most recent call last)",
      "\u001B[0;32m/tmp/ipykernel_32/2355367386.py\u001B[0m in \u001B[0;36m<module>\u001B[0;34m\u001B[0m\n\u001B[1;32m      3\u001B[0m \u001B[0;32mfrom\u001B[0m \u001B[0msklearn\u001B[0m\u001B[0;34m.\u001B[0m\u001B[0mtree\u001B[0m \u001B[0;32mimport\u001B[0m \u001B[0mDecisionTreeClassifier\u001B[0m\u001B[0;34m\u001B[0m\u001B[0;34m\u001B[0m\u001B[0m\n\u001B[1;32m      4\u001B[0m \u001B[0;34m\u001B[0m\u001B[0m\n\u001B[0;32m----> 5\u001B[0;31m \u001B[0;32mfrom\u001B[0m \u001B[0mutils\u001B[0m \u001B[0;32mimport\u001B[0m \u001B[0mdata_utils\u001B[0m\u001B[0;34m\u001B[0m\u001B[0;34m\u001B[0m\u001B[0m\n\u001B[0m",
      "\u001B[0;32m/opt/conda/lib/python3.7/importlib/_bootstrap.py\u001B[0m in \u001B[0;36m_find_and_load\u001B[0;34m(name, import_)\u001B[0m\n",
      "\u001B[0;32m/opt/conda/lib/python3.7/importlib/_bootstrap.py\u001B[0m in \u001B[0;36m_find_and_load_unlocked\u001B[0;34m(name, import_)\u001B[0m\n",
      "\u001B[0;32m/opt/conda/lib/python3.7/importlib/_bootstrap.py\u001B[0m in \u001B[0;36m_load_unlocked\u001B[0;34m(spec)\u001B[0m\n",
      "\u001B[0;32m/opt/conda/lib/python3.7/importlib/_bootstrap_external.py\u001B[0m in \u001B[0;36mexec_module\u001B[0;34m(self, module)\u001B[0m\n",
      "\u001B[0;32m/opt/conda/lib/python3.7/importlib/_bootstrap_external.py\u001B[0m in \u001B[0;36mget_code\u001B[0;34m(self, fullname)\u001B[0m\n",
      "\u001B[0;32m/opt/conda/lib/python3.7/importlib/_bootstrap_external.py\u001B[0m in \u001B[0;36mget_data\u001B[0;34m(self, path)\u001B[0m\n",
      "\u001B[0;31mOSError\u001B[0m: [Errno 5] Input/output error: '/home/mw/project/utils/data_utils.py'"
     ]
    }
   ],
   "execution_count": 1
  },
  {
   "cell_type": "code",
   "metadata": {
    "trusted": true,
    "collapsed": false,
    "tags": [],
    "slideshow": {
     "slide_type": "slide"
    },
    "id": "4FC61B519BE24DD590C9913A15FBDA95",
    "scrolled": false,
    "notebookId": "6515cc07d40e0c1a5867917b"
   },
   "source": [
    "# 导入数值型样例数据\n",
    "train_x, test_x, train_y, test_y = data_utils.get_x_y_split(test_rate=0.2)"
   ],
   "outputs": [],
   "execution_count": 2
  },
  {
   "cell_type": "code",
   "metadata": {
    "trusted": true,
    "collapsed": false,
    "tags": [],
    "slideshow": {
     "slide_type": "slide"
    },
    "id": "16BEDEF83DF24B65ABB0E52615CECDCB",
    "scrolled": false,
    "notebookId": "6515cc07d40e0c1a5867917b"
   },
   "source": [
    "# 训练决策树模型\n",
    "clf = DecisionTreeClassifier(criterion='gini',\n",
    "                             max_depth=8,\n",
    "                             min_samples_leaf=15,\n",
    "                             random_state=88)\n",
    "clf.fit(train_x, train_y)\n",
    "auc_score = roc_auc_score(test_y, clf.predict_proba(test_x)[:, 1])\n",
    "print(\"决策树模型 AUC: \", auc_score)"
   ],
   "outputs": [],
   "execution_count": 3
  }
 ],
 "metadata": {
  "kernelspec": {
   "language": "python",
   "display_name": "Python 3",
   "name": "python3"
  },
  "language_info": {
   "codemirror_mode": {
    "name": "ipython",
    "version": 3
   },
   "name": "python",
   "mimetype": "text/x-python",
   "nbconvert_exporter": "python",
   "file_extension": ".py",
   "version": "3.5.2",
   "pygments_lexer": "ipython3"
  }
 },
 "nbformat": 4,
 "nbformat_minor": 0
}
