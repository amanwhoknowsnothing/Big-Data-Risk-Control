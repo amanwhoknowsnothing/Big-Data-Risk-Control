{
 "cells": [
  {
   "cell_type": "markdown",
   "metadata": {
    "trusted": true,
    "tags": [],
    "slideshow": {
     "slide_type": "slide"
    },
    "id": "D89B0EAB542642F98900CCC4D4E49360",
    "runtime": {
     "status": "default",
     "execution_status": null,
     "is_visible": false
    },
    "scrolled": false,
    "notebookId": "6515cb025177b26f2e26a335"
   },
   "source": [
    "## SVM（Support Vector Machines）  \n",
    "\n",
    "SVM是一种二分类模型，它的基本模型是定义在特征空间中的间隔最大的线性分类器。通过核函数转化，可以成为非线性分类器。  \n"
   ]
  },
  {
   "cell_type": "code",
   "metadata": {
    "id": "810CF482643D4985AFA558B9F60AF78D",
    "notebookId": "6515cb025177b26f2e26a335",
    "tags": [],
    "slideshow": {
     "slide_type": "slide"
    },
    "trusted": true,
    "collapsed": false,
    "scrolled": false
   },
   "source": [
    "import numpy as np\n",
    "import pandas as pd\n",
    "\n",
    "from sklearn.svm import LinearSVC\n",
    "from sklearn.pipeline import make_pipeline\n",
    "from sklearn.preprocessing import StandardScaler\n",
    "from sklearn.svm import SVC\n",
    "from sklearn.metrics import roc_auc_score\n",
    "from sklearn.metrics import accuracy_score\n",
    "from category_encoders.woe import WOEEncoder\n",
    "\n",
    "from utils import data_utils"
   ],
   "outputs": [],
   "execution_count": 1
  },
  {
   "cell_type": "code",
   "metadata": {
    "trusted": true,
    "collapsed": false,
    "tags": [],
    "slideshow": {
     "slide_type": "slide"
    },
    "id": "4FC61B519BE24DD590C9913A15FBDA95",
    "scrolled": false,
    "notebookId": "6515cb025177b26f2e26a335"
   },
   "source": [
    "# 导入数值型样例数据\n",
    "train_x, test_x, train_y, test_y = data_utils.get_x_y_split(test_rate=0.2)"
   ],
   "outputs": [],
   "execution_count": 2
  },
  {
   "cell_type": "code",
   "metadata": {
    "trusted": true,
    "collapsed": false,
    "tags": [],
    "slideshow": {
     "slide_type": "slide"
    },
    "id": "16BEDEF83DF24B65ABB0E52615CECDCB",
    "scrolled": false,
    "notebookId": "6515cb025177b26f2e26a335"
   },
   "source": [
    "# woe特征处理\n",
    "encoder = WOEEncoder(cols=train_x.columns)\n",
    "train_x = encoder.fit_transform(train_x, train_y)\n",
    "test_x = encoder.transform(test_x)"
   ],
   "outputs": [],
   "execution_count": 3
  },
  {
   "cell_type": "code",
   "metadata": {
    "id": "18A4D41A665147CBBFB2B09830347EBB",
    "notebookId": "6515cb025177b26f2e26a335",
    "collapsed": false,
    "scrolled": false,
    "tags": [],
    "slideshow": {
     "slide_type": "slide"
    },
    "trusted": true
   },
   "source": [
    "# 线性SVM, Linear Support Vector Classification\n",
    "line_svm = LinearSVC(penalty='l2',\n",
    "                     loss='hinge',\n",
    "                     C=0.2,\n",
    "                     tol=0.001)\n",
    "clf = make_pipeline(StandardScaler(), line_svm)\n",
    "clf.fit(train_x, train_y)\n",
    "acc_score = accuracy_score(test_y, clf.predict(test_x))\n",
    "print(\"线性SVM模型 ACC: \", acc_score)"
   ],
   "outputs": [
    {
     "output_type": "stream",
     "name": "stdout",
     "text": "线性SVM模型 ACC:  0.73\n"
    },
    {
     "output_type": "stream",
     "name": "stderr",
     "text": "/opt/conda/lib/python3.8/site-packages/sklearn/svm/_base.py:976: ConvergenceWarning: Liblinear failed to converge, increase the number of iterations.\n  warnings.warn(\"Liblinear failed to converge, increase \"\n"
    }
   ],
   "execution_count": 4
  },
  {
   "cell_type": "code",
   "metadata": {
    "id": "F152D5879C064BCEA8814423BC751B67",
    "notebookId": "6515cb025177b26f2e26a335",
    "collapsed": false,
    "scrolled": false,
    "tags": [],
    "slideshow": {
     "slide_type": "slide"
    },
    "trusted": true
   },
   "source": [
    "# 支持核函数的SVM, C-Support Vector Classification\n",
    "svm = SVC(C=0.2,\n",
    "          kernel='rbf',\n",
    "          tol=0.001,\n",
    "          probability=True)\n",
    "clf = make_pipeline(StandardScaler(), svm)\n",
    "clf.fit(train_x, train_y)\n",
    "auc_score = roc_auc_score(test_y, clf.predict_proba(test_x)[:, 1])\n",
    "print(\"支持核函数SVM模型 AUC: \", auc_score)"
   ],
   "outputs": [
    {
     "output_type": "stream",
     "name": "stdout",
     "text": "支持核函数SVM模型 AUC:  0.7426835317460319\n"
    }
   ],
   "execution_count": 5
  }
 ],
 "metadata": {
  "kernelspec": {
   "language": "python",
   "display_name": "Python 3",
   "name": "python3"
  },
  "language_info": {
   "codemirror_mode": {
    "name": "ipython",
    "version": 3
   },
   "name": "python",
   "mimetype": "text/x-python",
   "nbconvert_exporter": "python",
   "file_extension": ".py",
   "version": "3.5.2",
   "pygments_lexer": "ipython3"
  }
 },
 "nbformat": 4,
 "nbformat_minor": 0
}
